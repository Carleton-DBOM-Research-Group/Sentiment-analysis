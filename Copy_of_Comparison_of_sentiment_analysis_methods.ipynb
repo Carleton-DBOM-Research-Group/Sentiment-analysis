{
  "nbformat": 4,
  "nbformat_minor": 0,
  "metadata": {
    "colab": {
      "name": "Copy of Comparison of sentiment analysis methods.ipynb",
      "version": "0.3.2",
      "provenance": [],
      "collapsed_sections": [],
      "toc_visible": true,
      "include_colab_link": true
    },
    "language_info": {
      "codemirror_mode": {
        "name": "ipython",
        "version": 3
      },
      "file_extension": ".py",
      "mimetype": "text/x-python",
      "name": "python",
      "nbconvert_exporter": "python",
      "pygments_lexer": "ipython3",
      "version": "3.7.3"
    },
    "kernelspec": {
      "name": "python3",
      "display_name": "Python 3"
    },
    "accelerator": "GPU"
  },
  "cells": [
    {
      "cell_type": "markdown",
      "metadata": {
        "id": "view-in-github",
        "colab_type": "text"
      },
      "source": [
        "<a href=\"https://colab.research.google.com/github/saptakdutta/Sentiment-analysis/blob/master/Copy_of_Comparison_of_sentiment_analysis_methods.ipynb\" target=\"_parent\"><img src=\"https://colab.research.google.com/assets/colab-badge.svg\" alt=\"Open In Colab\"/></a>"
      ]
    },
    {
      "cell_type": "markdown",
      "metadata": {
        "id": "nVukDxKAiu3L",
        "colab_type": "text"
      },
      "source": [
        "[Easier way to install on PC?](https://towardsdatascience.com/tensorflow-gpu-installation-made-easy-use-conda-instead-of-pip-52e5249374bc)"
      ]
    },
    {
      "cell_type": "markdown",
      "metadata": {
        "id": "gNDqzNp3eIrp",
        "colab_type": "text"
      },
      "source": [
        "##Check to see that the tensorflow can access the GPU"
      ]
    },
    {
      "cell_type": "code",
      "metadata": {
        "id": "TPX4T1l1d5rn",
        "colab_type": "code",
        "outputId": "ee4a7c51-3407-497e-fc2e-5c83374b24d8",
        "colab": {
          "base_uri": "https://localhost:8080/",
          "height": 34
        }
      },
      "source": [
        "import tensorflow as tf\n",
        "device_name = tf.test.gpu_device_name()\n",
        "if device_name != '/device:GPU:0':\n",
        "  raise SystemError('GPU device not found')\n",
        "print('Found GPU at: {}'.format(device_name))"
      ],
      "execution_count": 0,
      "outputs": [
        {
          "output_type": "stream",
          "text": [
            "Found GPU at: /device:GPU:0\n"
          ],
          "name": "stdout"
        }
      ]
    },
    {
      "cell_type": "markdown",
      "metadata": {
        "id": "yzakrRagfIrK",
        "colab_type": "text"
      },
      "source": [
        "##Import all the general libraries"
      ]
    },
    {
      "cell_type": "code",
      "metadata": {
        "id": "dm1hDDwKdVVu",
        "colab_type": "code",
        "colab": {}
      },
      "source": [
        "import logging\n",
        "import pandas as pd\n",
        "import numpy as np\n",
        "from numpy import random\n",
        "import gensim\n",
        "import nltk\n",
        "from sklearn.model_selection import train_test_split\n",
        "from sklearn.feature_extraction.text import CountVectorizer, TfidfVectorizer\n",
        "from sklearn.metrics import accuracy_score, confusion_matrix\n",
        "import matplotlib.pyplot as plt\n",
        "from nltk.corpus import stopwords\n",
        "import re\n",
        "from bs4 import BeautifulSoup\n",
        "%matplotlib inline"
      ],
      "execution_count": 0,
      "outputs": []
    },
    {
      "cell_type": "markdown",
      "metadata": {
        "id": "G7oON7PMkClp",
        "colab_type": "text"
      },
      "source": [
        "##Enter in the data"
      ]
    },
    {
      "cell_type": "code",
      "metadata": {
        "id": "N0EsFdujnkRt",
        "colab_type": "code",
        "outputId": "e2c761cc-6db6-4cf4-993d-4544ff6d4909",
        "colab": {
          "base_uri": "https://localhost:8080/",
          "height": 122
        }
      },
      "source": [
        "from google.colab import drive\n",
        "drive.mount('/content/drive')"
      ],
      "execution_count": 0,
      "outputs": [
        {
          "output_type": "stream",
          "text": [
            "Go to this URL in a browser: https://accounts.google.com/o/oauth2/auth?client_id=947318989803-6bn6qk8qdgf4n4g3pfee6491hc0brc4i.apps.googleusercontent.com&redirect_uri=urn%3Aietf%3Awg%3Aoauth%3A2.0%3Aoob&scope=email%20https%3A%2F%2Fwww.googleapis.com%2Fauth%2Fdocs.test%20https%3A%2F%2Fwww.googleapis.com%2Fauth%2Fdrive%20https%3A%2F%2Fwww.googleapis.com%2Fauth%2Fdrive.photos.readonly%20https%3A%2F%2Fwww.googleapis.com%2Fauth%2Fpeopleapi.readonly&response_type=code\n",
            "\n",
            "Enter your authorization code:\n",
            "··········\n",
            "Mounted at /content/drive\n"
          ],
          "name": "stdout"
        }
      ]
    },
    {
      "cell_type": "code",
      "metadata": {
        "id": "NkM883nKoqKM",
        "colab_type": "code",
        "outputId": "7795070f-79a0-4392-b8fb-9fe4fb70b2b9",
        "colab": {
          "base_uri": "https://localhost:8080/",
          "height": 68
        }
      },
      "source": [
        "!ls \"/content/drive/My Drive/Machine Learning\"\n",
        "!cp \"/content/drive/My Drive/Machine Learning/SLFC survey.xlsx\" \"SLFC survey.xlsx\"\n",
        "!ls"
      ],
      "execution_count": 0,
      "outputs": [
        {
          "output_type": "stream",
          "text": [
            " Comparison_of_sentiment_analysis_methods.ipynb  'SLFC survey.xlsx'\n",
            " Seattle_Hotels.csv\n",
            " drive\t sample_data  'SLFC survey.xlsx'\n"
          ],
          "name": "stdout"
        }
      ]
    },
    {
      "cell_type": "code",
      "metadata": {
        "id": "Hk5ot8dZgaVI",
        "colab_type": "code",
        "outputId": "b8e28150-ef7a-4649-b4ff-23f2ae097f8f",
        "colab": {
          "base_uri": "https://localhost:8080/",
          "height": 221
        }
      },
      "source": [
        "import io\n",
        "\n",
        "df = pd.read_excel('SLFC survey.xlsx')\n",
        "\n",
        "df = df[['Temperature', 'Sentiment']]\n",
        "df = df.replace('B1 Basement', 'B')\n",
        "print(df.head(10))\n",
        "print(df['Temperature'].apply(lambda x: len(x.split(' '))).sum())"
      ],
      "execution_count": 0,
      "outputs": [
        {
          "output_type": "stream",
          "text": [
            "                                         Temperature Sentiment\n",
            "0  A proper BAS system that can actually determin...  Negative\n",
            "1  I think probably that it's not adjusted to the...   Neutral\n",
            "2   The heat is not high enough so put on more heat.  Negative\n",
            "3  I completed this survey last year and also com...  Negative\n",
            "4  I'm thinking it's just the seasons changing.  ...  Negative\n",
            "5         There is a bit of a draft from the window.  Negative\n",
            "6  They should turn on the cooling system on Sund...  Negative\n",
            "7  I sit right under a vent and Mondays are alway...  Negative\n",
            "8                                         It's okay.   Neutral\n",
            "9  I don't think there is really much to do.  Whe...   Neutral\n",
            "5828\n"
          ],
          "name": "stdout"
        }
      ]
    },
    {
      "cell_type": "markdown",
      "metadata": {
        "id": "4obOtVdcdDBc",
        "colab_type": "text"
      },
      "source": [
        "# Sentiment Analysis"
      ]
    },
    {
      "cell_type": "markdown",
      "metadata": {
        "id": "FQZpyIuMkKCh",
        "colab_type": "text"
      },
      "source": [
        "##Look at the distribution of the classes"
      ]
    },
    {
      "cell_type": "code",
      "metadata": {
        "id": "6mlPXpF6dVV1",
        "colab_type": "code",
        "outputId": "165d3459-7bb3-4136-8beb-7fb6fdc1812f",
        "colab": {
          "base_uri": "https://localhost:8080/",
          "height": 304
        }
      },
      "source": [
        "my_tags = ['Negative', 'Neutral']\n",
        "plt.figure(figsize=(10,4))\n",
        "df.Sentiment.value_counts().plot(kind='bar');"
      ],
      "execution_count": 0,
      "outputs": [
        {
          "output_type": "display_data",
          "data": {
            "image/png": "[encoded data removed]",
            "text/plain": [
              "<Figure size 720x288 with 1 Axes>"
            ]
          },
          "metadata": {
            "tags": []
          }
        }
      ]
    },
    {
      "cell_type": "code",
      "metadata": {
        "id": "qn4l_c0YdVV5",
        "colab_type": "code",
        "colab": {}
      },
      "source": [
        "def print_plot(index):\n",
        "    example = df[df.index == index][['Temperature', 'Sentiment']].values[0]\n",
        "    if len(example) > 0:\n",
        "        print(example[0])\n",
        "        print('Tag:', example[1])"
      ],
      "execution_count": 0,
      "outputs": []
    },
    {
      "cell_type": "code",
      "metadata": {
        "id": "9J8bOsBNdVV7",
        "colab_type": "code",
        "outputId": "452f7cb6-bc06-446f-9bef-de6432abf386",
        "colab": {
          "base_uri": "https://localhost:8080/",
          "height": 105
        }
      },
      "source": [
        "print_plot(0)\n",
        "print_plot(1)"
      ],
      "execution_count": 0,
      "outputs": [
        {
          "output_type": "stream",
          "text": [
            "A proper BAS system that can actually determine the air temperature outside and be more reactive so that when it's -5 outside in May the air conditioning doesn't come on.  Also personal temperature, I should be allowed to have a personal heater at my desk if I'm freezing.\n",
            "Tag: Negative\n",
            "I think probably that it's not adjusted to the changes in temperatures with the season so it takes awhile to readjust.  I'm not sure how to solve that except maybe trying to keep one constant temperature.  Is it doable?\n",
            "Tag: Neutral\n"
          ],
          "name": "stdout"
        }
      ]
    },
    {
      "cell_type": "code",
      "metadata": {
        "id": "ZT_CJMJu4k--",
        "colab_type": "code",
        "colab": {}
      },
      "source": [
        ""
      ],
      "execution_count": 0,
      "outputs": []
    },
    {
      "cell_type": "markdown",
      "metadata": {
        "id": "VO4C1F5SkTl-",
        "colab_type": "text"
      },
      "source": [
        "## Clean up the text"
      ]
    },
    {
      "cell_type": "code",
      "metadata": {
        "id": "MaCWPoMhdVV-",
        "colab_type": "code",
        "outputId": "ba0ae1e4-50a2-44ea-e91c-24a20b1b49f7",
        "colab": {
          "base_uri": "https://localhost:8080/",
          "height": 68
        }
      },
      "source": [
        "nltk.download('stopwords')\n",
        "REPLACE_BY_SPACE_RE = re.compile('[/(){}\\[\\]\\|@,;]')\n",
        "BAD_SYMBOLS_RE = re.compile('[^0-9a-z #+_]')\n",
        "STOPWORDS = set(stopwords.words('english'))\n",
        "\n",
        "def clean_text(text):\n",
        "    \"\"\"\n",
        "        text: a string\n",
        "        \n",
        "        return: modified initial string\n",
        "    \"\"\"\n",
        "    text = BeautifulSoup(text, \"lxml\").text # HTML decoding\n",
        "    text = text.lower() # lowercase text\n",
        "    text = REPLACE_BY_SPACE_RE.sub(' ', text) # replace REPLACE_BY_SPACE_RE symbols by space in text\n",
        "    text = BAD_SYMBOLS_RE.sub('', text) # delete symbols which are in BAD_SYMBOLS_RE from text\n",
        "    text = ' '.join(word for word in text.split() if word not in STOPWORDS) # delete stopwors from text\n",
        "    return text\n",
        "    \n",
        "df['Temperature'] = df['Temperature'].apply(clean_text)\n",
        "df['Temperature'].apply(lambda x: len(x.split(' '))).sum()"
      ],
      "execution_count": 0,
      "outputs": [
        {
          "output_type": "stream",
          "text": [
            "[nltk_data] Downloading package stopwords to /root/nltk_data...\n",
            "[nltk_data]   Unzipping corpora/stopwords.zip.\n"
          ],
          "name": "stdout"
        },
        {
          "output_type": "execute_result",
          "data": {
            "text/plain": [
              "2488"
            ]
          },
          "metadata": {
            "tags": []
          },
          "execution_count": 9
        }
      ]
    },
    {
      "cell_type": "code",
      "metadata": {
        "id": "qVdeFv2ldVWB",
        "colab_type": "code",
        "outputId": "3854dd74-c290-4a33-ff94-0ecc16bd5d62",
        "colab": {
          "base_uri": "https://localhost:8080/",
          "height": 51
        }
      },
      "source": [
        "print_plot(0)"
      ],
      "execution_count": 0,
      "outputs": [
        {
          "output_type": "stream",
          "text": [
            "proper bas system actually determine air temperature outside reactive 5 outside may air conditioning doesnt come also personal temperature allowed personal heater desk im freezing\n",
            "Tag: Negative\n"
          ],
          "name": "stdout"
        }
      ]
    },
    {
      "cell_type": "code",
      "metadata": {
        "id": "Ffz2XxxonKAC",
        "colab_type": "code",
        "outputId": "f416826a-f7a4-42f8-dd2e-7af346ce4dff",
        "colab": {
          "base_uri": "https://localhost:8080/",
          "height": 204
        }
      },
      "source": [
        "df[0:5]"
      ],
      "execution_count": 0,
      "outputs": [
        {
          "output_type": "execute_result",
          "data": {
            "text/html": [
              "<div>\n",
              "<style scoped>\n",
              "    .dataframe tbody tr th:only-of-type {\n",
              "        vertical-align: middle;\n",
              "    }\n",
              "\n",
              "    .dataframe tbody tr th {\n",
              "        vertical-align: top;\n",
              "    }\n",
              "\n",
              "    .dataframe thead th {\n",
              "        text-align: right;\n",
              "    }\n",
              "</style>\n",
              "<table border=\"1\" class=\"dataframe\">\n",
              "  <thead>\n",
              "    <tr style=\"text-align: right;\">\n",
              "      <th></th>\n",
              "      <th>Temperature</th>\n",
              "      <th>Sentiment</th>\n",
              "    </tr>\n",
              "  </thead>\n",
              "  <tbody>\n",
              "    <tr>\n",
              "      <th>0</th>\n",
              "      <td>proper bas system actually determine air tempe...</td>\n",
              "      <td>Negative</td>\n",
              "    </tr>\n",
              "    <tr>\n",
              "      <th>1</th>\n",
              "      <td>think probably adjusted changes temperatures s...</td>\n",
              "      <td>Neutral</td>\n",
              "    </tr>\n",
              "    <tr>\n",
              "      <th>2</th>\n",
              "      <td>heat high enough put heat</td>\n",
              "      <td>Negative</td>\n",
              "    </tr>\n",
              "    <tr>\n",
              "      <th>3</th>\n",
              "      <td>completed survey last year also complained tem...</td>\n",
              "      <td>Negative</td>\n",
              "    </tr>\n",
              "    <tr>\n",
              "      <th>4</th>\n",
              "      <td>im thinking seasons changing cold cold hot hot...</td>\n",
              "      <td>Negative</td>\n",
              "    </tr>\n",
              "  </tbody>\n",
              "</table>\n",
              "</div>"
            ],
            "text/plain": [
              "                                         Temperature Sentiment\n",
              "0  proper bas system actually determine air tempe...  Negative\n",
              "1  think probably adjusted changes temperatures s...   Neutral\n",
              "2                          heat high enough put heat  Negative\n",
              "3  completed survey last year also complained tem...  Negative\n",
              "4  im thinking seasons changing cold cold hot hot...  Negative"
            ]
          },
          "metadata": {
            "tags": []
          },
          "execution_count": 11
        }
      ]
    },
    {
      "cell_type": "markdown",
      "metadata": {
        "id": "0aO6H8g6jtMk",
        "colab_type": "text"
      },
      "source": [
        "## Define the confusion matrix function"
      ]
    },
    {
      "cell_type": "code",
      "metadata": {
        "id": "QQd4AR3n-jID",
        "colab_type": "code",
        "colab": {}
      },
      "source": [
        "def plot_confusion_matrix(df_confusion, title='Confusion matrix', cmap=plt.cm.gray_r):\n",
        "    plt.matshow(df_confusion, cmap=cmap) # imshow\n",
        "    #plt.title(title)\n",
        "    plt.colorbar()\n",
        "    tick_marks = np.arange(len(df_confusion.columns))\n",
        "    plt.xticks(tick_marks, df_confusion.columns, rotation=45)\n",
        "    plt.yticks(tick_marks, df_confusion.index)\n",
        "    #plt.tight_layout()\n",
        "    plt.ylabel(df_confusion.index.name)\n",
        "    plt.xlabel(df_confusion.columns.name)"
      ],
      "execution_count": 0,
      "outputs": []
    },
    {
      "cell_type": "markdown",
      "metadata": {
        "id": "-DRsYEs4kl1_",
        "colab_type": "text"
      },
      "source": [
        "## Lexicon Based Sentiment Analysis"
      ]
    },
    {
      "cell_type": "markdown",
      "metadata": {
        "id": "XpjyyHZakqVy",
        "colab_type": "text"
      },
      "source": [
        "### Textblob"
      ]
    },
    {
      "cell_type": "code",
      "metadata": {
        "id": "8jujSvtXS-0E",
        "colab_type": "code",
        "colab": {}
      },
      "source": [
        "from textblob import TextBlob, Word\n",
        "from textblob.sentiments import NaiveBayesAnalyzer\n",
        "from textblob.classifiers import NaiveBayesClassifier"
      ],
      "execution_count": 0,
      "outputs": []
    },
    {
      "cell_type": "markdown",
      "metadata": {
        "id": "VvjoSy4njgxA",
        "colab_type": "text"
      },
      "source": [
        "#### Run the textblob lexicon model"
      ]
    },
    {
      "cell_type": "code",
      "metadata": {
        "id": "mOXdLORExIBz",
        "colab_type": "code",
        "outputId": "c1cd7ec2-b7d0-4699-85c8-c76ee34f6919",
        "colab": {
          "base_uri": "https://localhost:8080/",
          "height": 204
        }
      },
      "source": [
        "#%%Sentiment Analysis for Temperature (polarity, subjectivity) .sentiment[0] means we are only looking at polarity\n",
        "survey_resp_temp = df\n",
        "survey_resp_temp['Textblob'] = survey_resp_temp['Temperature'].apply(lambda x: TextBlob(x).sentiment[0] )\n",
        "survey_resp_temp[['Temperature','Sentiment', 'Textblob']].head()"
      ],
      "execution_count": 0,
      "outputs": [
        {
          "output_type": "execute_result",
          "data": {
            "text/html": [
              "<div>\n",
              "<style scoped>\n",
              "    .dataframe tbody tr th:only-of-type {\n",
              "        vertical-align: middle;\n",
              "    }\n",
              "\n",
              "    .dataframe tbody tr th {\n",
              "        vertical-align: top;\n",
              "    }\n",
              "\n",
              "    .dataframe thead th {\n",
              "        text-align: right;\n",
              "    }\n",
              "</style>\n",
              "<table border=\"1\" class=\"dataframe\">\n",
              "  <thead>\n",
              "    <tr style=\"text-align: right;\">\n",
              "      <th></th>\n",
              "      <th>Temperature</th>\n",
              "      <th>Sentiment</th>\n",
              "      <th>Textblob</th>\n",
              "    </tr>\n",
              "  </thead>\n",
              "  <tbody>\n",
              "    <tr>\n",
              "      <th>0</th>\n",
              "      <td>proper bas system actually determine air tempe...</td>\n",
              "      <td>Negative</td>\n",
              "      <td>0.000000</td>\n",
              "    </tr>\n",
              "    <tr>\n",
              "      <th>1</th>\n",
              "      <td>think probably adjusted changes temperatures s...</td>\n",
              "      <td>Neutral</td>\n",
              "      <td>0.250000</td>\n",
              "    </tr>\n",
              "    <tr>\n",
              "      <th>2</th>\n",
              "      <td>heat high enough put heat</td>\n",
              "      <td>Negative</td>\n",
              "      <td>0.080000</td>\n",
              "    </tr>\n",
              "    <tr>\n",
              "      <th>3</th>\n",
              "      <td>completed survey last year also complained tem...</td>\n",
              "      <td>Negative</td>\n",
              "      <td>-0.042857</td>\n",
              "    </tr>\n",
              "    <tr>\n",
              "      <th>4</th>\n",
              "      <td>im thinking seasons changing cold cold hot hot...</td>\n",
              "      <td>Negative</td>\n",
              "      <td>-0.200000</td>\n",
              "    </tr>\n",
              "  </tbody>\n",
              "</table>\n",
              "</div>"
            ],
            "text/plain": [
              "                                         Temperature Sentiment  Textblob\n",
              "0  proper bas system actually determine air tempe...  Negative  0.000000\n",
              "1  think probably adjusted changes temperatures s...   Neutral  0.250000\n",
              "2                          heat high enough put heat  Negative  0.080000\n",
              "3  completed survey last year also complained tem...  Negative -0.042857\n",
              "4  im thinking seasons changing cold cold hot hot...  Negative -0.200000"
            ]
          },
          "metadata": {
            "tags": []
          },
          "execution_count": 14
        }
      ]
    },
    {
      "cell_type": "markdown",
      "metadata": {
        "id": "R52YNMSjmNnF",
        "colab_type": "text"
      },
      "source": [
        "#### Build a histogram of distributions to show accuracy"
      ]
    },
    {
      "cell_type": "code",
      "metadata": {
        "id": "M-X9tMfUmMNs",
        "colab_type": "code",
        "outputId": "dbe86a66-7988-498b-9875-1d9b59261197",
        "colab": {
          "base_uri": "https://localhost:8080/",
          "height": 204
        }
      },
      "source": [
        "hist = survey_resp_temp\n",
        "hist[0:5]"
      ],
      "execution_count": 0,
      "outputs": [
        {
          "output_type": "execute_result",
          "data": {
            "text/html": [
              "<div>\n",
              "<style scoped>\n",
              "    .dataframe tbody tr th:only-of-type {\n",
              "        vertical-align: middle;\n",
              "    }\n",
              "\n",
              "    .dataframe tbody tr th {\n",
              "        vertical-align: top;\n",
              "    }\n",
              "\n",
              "    .dataframe thead th {\n",
              "        text-align: right;\n",
              "    }\n",
              "</style>\n",
              "<table border=\"1\" class=\"dataframe\">\n",
              "  <thead>\n",
              "    <tr style=\"text-align: right;\">\n",
              "      <th></th>\n",
              "      <th>Temperature</th>\n",
              "      <th>Sentiment</th>\n",
              "      <th>Textblob</th>\n",
              "    </tr>\n",
              "  </thead>\n",
              "  <tbody>\n",
              "    <tr>\n",
              "      <th>0</th>\n",
              "      <td>proper bas system actually determine air tempe...</td>\n",
              "      <td>Negative</td>\n",
              "      <td>0.000000</td>\n",
              "    </tr>\n",
              "    <tr>\n",
              "      <th>1</th>\n",
              "      <td>think probably adjusted changes temperatures s...</td>\n",
              "      <td>Neutral</td>\n",
              "      <td>0.250000</td>\n",
              "    </tr>\n",
              "    <tr>\n",
              "      <th>2</th>\n",
              "      <td>heat high enough put heat</td>\n",
              "      <td>Negative</td>\n",
              "      <td>0.080000</td>\n",
              "    </tr>\n",
              "    <tr>\n",
              "      <th>3</th>\n",
              "      <td>completed survey last year also complained tem...</td>\n",
              "      <td>Negative</td>\n",
              "      <td>-0.042857</td>\n",
              "    </tr>\n",
              "    <tr>\n",
              "      <th>4</th>\n",
              "      <td>im thinking seasons changing cold cold hot hot...</td>\n",
              "      <td>Negative</td>\n",
              "      <td>-0.200000</td>\n",
              "    </tr>\n",
              "  </tbody>\n",
              "</table>\n",
              "</div>"
            ],
            "text/plain": [
              "                                         Temperature Sentiment  Textblob\n",
              "0  proper bas system actually determine air tempe...  Negative  0.000000\n",
              "1  think probably adjusted changes temperatures s...   Neutral  0.250000\n",
              "2                          heat high enough put heat  Negative  0.080000\n",
              "3  completed survey last year also complained tem...  Negative -0.042857\n",
              "4  im thinking seasons changing cold cold hot hot...  Negative -0.200000"
            ]
          },
          "metadata": {
            "tags": []
          },
          "execution_count": 15
        }
      ]
    },
    {
      "cell_type": "code",
      "metadata": {
        "id": "wAPxSvPwmMLR",
        "colab_type": "code",
        "outputId": "cc580d78-68ae-4cc0-fb54-0609c9433c71",
        "colab": {
          "base_uri": "https://localhost:8080/",
          "height": 204
        }
      },
      "source": [
        "hist.Sentiment = hist.Sentiment.map(dict(Negative=-1, Neutral=0))\n",
        "hist = hist[['Temperature', 'Sentiment', 'Textblob']]\n",
        "hist[0:5]"
      ],
      "execution_count": 0,
      "outputs": [
        {
          "output_type": "execute_result",
          "data": {
            "text/html": [
              "<div>\n",
              "<style scoped>\n",
              "    .dataframe tbody tr th:only-of-type {\n",
              "        vertical-align: middle;\n",
              "    }\n",
              "\n",
              "    .dataframe tbody tr th {\n",
              "        vertical-align: top;\n",
              "    }\n",
              "\n",
              "    .dataframe thead th {\n",
              "        text-align: right;\n",
              "    }\n",
              "</style>\n",
              "<table border=\"1\" class=\"dataframe\">\n",
              "  <thead>\n",
              "    <tr style=\"text-align: right;\">\n",
              "      <th></th>\n",
              "      <th>Temperature</th>\n",
              "      <th>Sentiment</th>\n",
              "      <th>Textblob</th>\n",
              "    </tr>\n",
              "  </thead>\n",
              "  <tbody>\n",
              "    <tr>\n",
              "      <th>0</th>\n",
              "      <td>proper bas system actually determine air tempe...</td>\n",
              "      <td>-1</td>\n",
              "      <td>0.000000</td>\n",
              "    </tr>\n",
              "    <tr>\n",
              "      <th>1</th>\n",
              "      <td>think probably adjusted changes temperatures s...</td>\n",
              "      <td>0</td>\n",
              "      <td>0.250000</td>\n",
              "    </tr>\n",
              "    <tr>\n",
              "      <th>2</th>\n",
              "      <td>heat high enough put heat</td>\n",
              "      <td>-1</td>\n",
              "      <td>0.080000</td>\n",
              "    </tr>\n",
              "    <tr>\n",
              "      <th>3</th>\n",
              "      <td>completed survey last year also complained tem...</td>\n",
              "      <td>-1</td>\n",
              "      <td>-0.042857</td>\n",
              "    </tr>\n",
              "    <tr>\n",
              "      <th>4</th>\n",
              "      <td>im thinking seasons changing cold cold hot hot...</td>\n",
              "      <td>-1</td>\n",
              "      <td>-0.200000</td>\n",
              "    </tr>\n",
              "  </tbody>\n",
              "</table>\n",
              "</div>"
            ],
            "text/plain": [
              "                                         Temperature  Sentiment  Textblob\n",
              "0  proper bas system actually determine air tempe...         -1  0.000000\n",
              "1  think probably adjusted changes temperatures s...          0  0.250000\n",
              "2                          heat high enough put heat         -1  0.080000\n",
              "3  completed survey last year also complained tem...         -1 -0.042857\n",
              "4  im thinking seasons changing cold cold hot hot...         -1 -0.200000"
            ]
          },
          "metadata": {
            "tags": []
          },
          "execution_count": 16
        }
      ]
    },
    {
      "cell_type": "code",
      "metadata": {
        "id": "rZzjZdBlmMIw",
        "colab_type": "code",
        "outputId": "6848cb11-9ad7-4650-a7d4-66675ad8ec27",
        "colab": {
          "base_uri": "https://localhost:8080/",
          "height": 286
        }
      },
      "source": [
        "plt.hist(hist['Textblob'], bins=10)\n",
        "plt.ylabel('Frequency')"
      ],
      "execution_count": 0,
      "outputs": [
        {
          "output_type": "execute_result",
          "data": {
            "text/plain": [
              "Text(0, 0.5, 'Frequency')"
            ]
          },
          "metadata": {
            "tags": []
          },
          "execution_count": 17
        },
        {
          "output_type": "display_data",
          "data": {
            "image/png": "[encoded data removed]",
            "text/plain": [
              "<Figure size 432x288 with 1 Axes>"
            ]
          },
          "metadata": {
            "tags": []
          }
        }
      ]
    },
    {
      "cell_type": "code",
      "metadata": {
        "id": "1_v_PZOsmMGK",
        "colab_type": "code",
        "outputId": "c0675ead-6c86-43ca-9153-2635f376165e",
        "colab": {
          "base_uri": "https://localhost:8080/",
          "height": 286
        }
      },
      "source": [
        "plt.hist(hist['Sentiment'], bins=10)\n",
        "plt.ylabel('Frequency')\n",
        "plt.xlim(left=-1, right = 1)"
      ],
      "execution_count": 0,
      "outputs": [
        {
          "output_type": "execute_result",
          "data": {
            "text/plain": [
              "(-1, 1)"
            ]
          },
          "metadata": {
            "tags": []
          },
          "execution_count": 18
        },
        {
          "output_type": "display_data",
          "data": {
            "image/png": "[encoded data removed]",
            "text/plain": [
              "<Figure size 432x288 with 1 Axes>"
            ]
          },
          "metadata": {
            "tags": []
          }
        }
      ]
    },
    {
      "cell_type": "markdown",
      "metadata": {
        "id": "mkpqrk3j_tZ2",
        "colab_type": "text"
      },
      "source": [
        "Take a look at the sentiment score of the classified negatves"
      ]
    },
    {
      "cell_type": "code",
      "metadata": {
        "id": "CYnPizCXAeyq",
        "colab_type": "code",
        "outputId": "c8b305cf-12f8-4e9f-e089-e6f968f4ec17",
        "colab": {
          "base_uri": "https://localhost:8080/",
          "height": 337
        }
      },
      "source": [
        "plt.hist(hist.Textblob[hist.Sentiment == -1], bins = 10)\n",
        "plt.hist(hist.Textblob[hist.Sentiment == 0], bins = 10)"
      ],
      "execution_count": 0,
      "outputs": [
        {
          "output_type": "execute_result",
          "data": {
            "text/plain": [
              "(array([ 2.,  0.,  0.,  9., 26.,  8., 14.,  2.,  6.,  1.]),\n",
              " array([-0.6 , -0.47, -0.34, -0.21, -0.08,  0.05,  0.18,  0.31,  0.44,\n",
              "         0.57,  0.7 ]),\n",
              " <a list of 10 Patch objects>)"
            ]
          },
          "metadata": {
            "tags": []
          },
          "execution_count": 41
        },
        {
          "output_type": "display_data",
          "data": {
            "image/png": "[encoded data removed]",
            "text/plain": [
              "<Figure size 432x288 with 1 Axes>"
            ]
          },
          "metadata": {
            "tags": []
          }
        }
      ]
    },
    {
      "cell_type": "code",
      "metadata": {
        "id": "fP-ImlyKNUmQ",
        "colab_type": "code",
        "outputId": "778442ce-66b1-456f-cd63-23e5241b46d7",
        "colab": {
          "base_uri": "https://localhost:8080/",
          "height": 34
        }
      },
      "source": [
        "hist[hist.Sentiment == -1][0:20]\n",
        "print(hist.Temperature[15])"
      ],
      "execution_count": 0,
      "outputs": [
        {
          "output_type": "stream",
          "text": [
            "air conditioning notice mostly summer\n"
          ],
          "name": "stdout"
        }
      ]
    },
    {
      "cell_type": "markdown",
      "metadata": {
        "id": "j4cVC4agjbSU",
        "colab_type": "text"
      },
      "source": [
        "#### Test Accuracy"
      ]
    },
    {
      "cell_type": "code",
      "metadata": {
        "id": "KX92ZEjGun-L",
        "colab_type": "code",
        "outputId": "62b5713a-1f2d-4b1f-bab5-ca7b6ef5cac6",
        "colab": {
          "base_uri": "https://localhost:8080/",
          "height": 204
        }
      },
      "source": [
        "survey_resp_temp[0:5]"
      ],
      "execution_count": 0,
      "outputs": [
        {
          "output_type": "execute_result",
          "data": {
            "text/html": [
              "<div>\n",
              "<style scoped>\n",
              "    .dataframe tbody tr th:only-of-type {\n",
              "        vertical-align: middle;\n",
              "    }\n",
              "\n",
              "    .dataframe tbody tr th {\n",
              "        vertical-align: top;\n",
              "    }\n",
              "\n",
              "    .dataframe thead th {\n",
              "        text-align: right;\n",
              "    }\n",
              "</style>\n",
              "<table border=\"1\" class=\"dataframe\">\n",
              "  <thead>\n",
              "    <tr style=\"text-align: right;\">\n",
              "      <th></th>\n",
              "      <th>Temperature</th>\n",
              "      <th>Sentiment</th>\n",
              "      <th>Textblob</th>\n",
              "    </tr>\n",
              "  </thead>\n",
              "  <tbody>\n",
              "    <tr>\n",
              "      <th>0</th>\n",
              "      <td>proper bas system actually determine air tempe...</td>\n",
              "      <td>-1</td>\n",
              "      <td>0.000000</td>\n",
              "    </tr>\n",
              "    <tr>\n",
              "      <th>1</th>\n",
              "      <td>think probably adjusted changes temperatures s...</td>\n",
              "      <td>0</td>\n",
              "      <td>0.250000</td>\n",
              "    </tr>\n",
              "    <tr>\n",
              "      <th>2</th>\n",
              "      <td>heat high enough put heat</td>\n",
              "      <td>-1</td>\n",
              "      <td>0.080000</td>\n",
              "    </tr>\n",
              "    <tr>\n",
              "      <th>3</th>\n",
              "      <td>completed survey last year also complained tem...</td>\n",
              "      <td>-1</td>\n",
              "      <td>-0.042857</td>\n",
              "    </tr>\n",
              "    <tr>\n",
              "      <th>4</th>\n",
              "      <td>im thinking seasons changing cold cold hot hot...</td>\n",
              "      <td>-1</td>\n",
              "      <td>-0.200000</td>\n",
              "    </tr>\n",
              "  </tbody>\n",
              "</table>\n",
              "</div>"
            ],
            "text/plain": [
              "                                         Temperature  Sentiment  Textblob\n",
              "0  proper bas system actually determine air tempe...         -1  0.000000\n",
              "1  think probably adjusted changes temperatures s...          0  0.250000\n",
              "2                          heat high enough put heat         -1  0.080000\n",
              "3  completed survey last year also complained tem...         -1 -0.042857\n",
              "4  im thinking seasons changing cold cold hot hot...         -1 -0.200000"
            ]
          },
          "metadata": {
            "tags": []
          },
          "execution_count": 20
        }
      ]
    },
    {
      "cell_type": "code",
      "metadata": {
        "id": "jTMRCgkdtBs8",
        "colab_type": "code",
        "colab": {}
      },
      "source": [
        "survey_resp_temp['Tb'] = 1\n",
        "survey_resp_temp.fillna\n",
        "survey_resp_temp['Tb'][survey_resp_temp['Textblob'] < 0] = -1\n",
        "survey_resp_temp['Tb'][survey_resp_temp['Textblob'] == 0] = 0"
      ],
      "execution_count": 0,
      "outputs": []
    },
    {
      "cell_type": "code",
      "metadata": {
        "id": "RIexSWEiydWw",
        "colab_type": "code",
        "outputId": "dfbd4c19-9a29-4ec3-feee-3406e55d6c78",
        "colab": {
          "base_uri": "https://localhost:8080/",
          "height": 204
        }
      },
      "source": [
        "survey_resp_temp = survey_resp_temp.drop('Textblob', axis = 1)\n",
        "survey_resp_temp[0:5]"
      ],
      "execution_count": 0,
      "outputs": [
        {
          "output_type": "execute_result",
          "data": {
            "text/html": [
              "<div>\n",
              "<style scoped>\n",
              "    .dataframe tbody tr th:only-of-type {\n",
              "        vertical-align: middle;\n",
              "    }\n",
              "\n",
              "    .dataframe tbody tr th {\n",
              "        vertical-align: top;\n",
              "    }\n",
              "\n",
              "    .dataframe thead th {\n",
              "        text-align: right;\n",
              "    }\n",
              "</style>\n",
              "<table border=\"1\" class=\"dataframe\">\n",
              "  <thead>\n",
              "    <tr style=\"text-align: right;\">\n",
              "      <th></th>\n",
              "      <th>Temperature</th>\n",
              "      <th>Sentiment</th>\n",
              "      <th>Tb</th>\n",
              "    </tr>\n",
              "  </thead>\n",
              "  <tbody>\n",
              "    <tr>\n",
              "      <th>0</th>\n",
              "      <td>proper bas system actually determine air tempe...</td>\n",
              "      <td>-1</td>\n",
              "      <td>0</td>\n",
              "    </tr>\n",
              "    <tr>\n",
              "      <th>1</th>\n",
              "      <td>think probably adjusted changes temperatures s...</td>\n",
              "      <td>0</td>\n",
              "      <td>1</td>\n",
              "    </tr>\n",
              "    <tr>\n",
              "      <th>2</th>\n",
              "      <td>heat high enough put heat</td>\n",
              "      <td>-1</td>\n",
              "      <td>1</td>\n",
              "    </tr>\n",
              "    <tr>\n",
              "      <th>3</th>\n",
              "      <td>completed survey last year also complained tem...</td>\n",
              "      <td>-1</td>\n",
              "      <td>-1</td>\n",
              "    </tr>\n",
              "    <tr>\n",
              "      <th>4</th>\n",
              "      <td>im thinking seasons changing cold cold hot hot...</td>\n",
              "      <td>-1</td>\n",
              "      <td>-1</td>\n",
              "    </tr>\n",
              "  </tbody>\n",
              "</table>\n",
              "</div>"
            ],
            "text/plain": [
              "                                         Temperature  Sentiment  Tb\n",
              "0  proper bas system actually determine air tempe...         -1   0\n",
              "1  think probably adjusted changes temperatures s...          0   1\n",
              "2                          heat high enough put heat         -1   1\n",
              "3  completed survey last year also complained tem...         -1  -1\n",
              "4  im thinking seasons changing cold cold hot hot...         -1  -1"
            ]
          },
          "metadata": {
            "tags": []
          },
          "execution_count": 22
        }
      ]
    },
    {
      "cell_type": "code",
      "metadata": {
        "id": "60k-MXaHzSFg",
        "colab_type": "code",
        "outputId": "0c6c7307-c643-4740-e9bc-fd9b2785016a",
        "colab": {
          "base_uri": "https://localhost:8080/",
          "height": 34
        }
      },
      "source": [
        "y_pred = survey_resp_temp['Tb']\n",
        "y_test = survey_resp_temp['Sentiment']\n",
        "print('accuracy %s' % accuracy_score(y_pred, y_test))"
      ],
      "execution_count": 0,
      "outputs": [
        {
          "output_type": "stream",
          "text": [
            "accuracy 0.33653846153846156\n"
          ],
          "name": "stdout"
        }
      ]
    },
    {
      "cell_type": "markdown",
      "metadata": {
        "id": "cCYDFow2zw8K",
        "colab_type": "text"
      },
      "source": [
        "Not good at all"
      ]
    },
    {
      "cell_type": "markdown",
      "metadata": {
        "id": "HH7CPvRs9s1j",
        "colab_type": "text"
      },
      "source": [
        "#### Confusion matrix"
      ]
    },
    {
      "cell_type": "code",
      "metadata": {
        "id": "sWQuCfgV9ulQ",
        "colab_type": "code",
        "colab": {}
      },
      "source": [
        "y_actu = pd.Series(y_test, name='Actual')\n",
        "y_pred = pd.Series(y_pred, name='Predicted')\n",
        "df_confusion = pd.crosstab(y_actu, y_pred)"
      ],
      "execution_count": 0,
      "outputs": []
    },
    {
      "cell_type": "code",
      "metadata": {
        "id": "WmdWiDhJ9xxt",
        "colab_type": "code",
        "outputId": "7b7cc6ef-1873-45c1-93b6-aeebb4f4a41b",
        "colab": {
          "base_uri": "https://localhost:8080/",
          "height": 142
        }
      },
      "source": [
        "df_confusion"
      ],
      "execution_count": 0,
      "outputs": [
        {
          "output_type": "execute_result",
          "data": {
            "text/html": [
              "<div>\n",
              "<style scoped>\n",
              "    .dataframe tbody tr th:only-of-type {\n",
              "        vertical-align: middle;\n",
              "    }\n",
              "\n",
              "    .dataframe tbody tr th {\n",
              "        vertical-align: top;\n",
              "    }\n",
              "\n",
              "    .dataframe thead th {\n",
              "        text-align: right;\n",
              "    }\n",
              "</style>\n",
              "<table border=\"1\" class=\"dataframe\">\n",
              "  <thead>\n",
              "    <tr style=\"text-align: right;\">\n",
              "      <th>Predicted</th>\n",
              "      <th>Negative</th>\n",
              "      <th>Neutral</th>\n",
              "    </tr>\n",
              "    <tr>\n",
              "      <th>Actual</th>\n",
              "      <th></th>\n",
              "      <th></th>\n",
              "    </tr>\n",
              "  </thead>\n",
              "  <tbody>\n",
              "    <tr>\n",
              "      <th>Negative</th>\n",
              "      <td>46</td>\n",
              "      <td>94</td>\n",
              "    </tr>\n",
              "    <tr>\n",
              "      <th>Neutral</th>\n",
              "      <td>12</td>\n",
              "      <td>56</td>\n",
              "    </tr>\n",
              "  </tbody>\n",
              "</table>\n",
              "</div>"
            ],
            "text/plain": [
              "Predicted  Negative  Neutral\n",
              "Actual                      \n",
              "Negative         46       94\n",
              "Neutral          12       56"
            ]
          },
          "metadata": {
            "tags": []
          },
          "execution_count": 87
        }
      ]
    },
    {
      "cell_type": "code",
      "metadata": {
        "id": "XDsup6o1A-Dn",
        "colab_type": "code",
        "outputId": "bcc952d0-2333-4ccc-8b92-e1e4134ac49e",
        "colab": {
          "base_uri": "https://localhost:8080/",
          "height": 281
        }
      },
      "source": [
        "plot_confusion_matrix(df_confusion)"
      ],
      "execution_count": 0,
      "outputs": [
        {
          "output_type": "display_data",
          "data": {
            "image/png": "[encoded data removed]",
            "text/plain": [
              "<Figure size 288x288 with 2 Axes>"
            ]
          },
          "metadata": {
            "tags": []
          }
        }
      ]
    },
    {
      "cell_type": "markdown",
      "metadata": {
        "id": "Ijv21rxVksYq",
        "colab_type": "text"
      },
      "source": [
        "### Vader"
      ]
    },
    {
      "cell_type": "code",
      "metadata": {
        "id": "dSkKF07X0Eoo",
        "colab_type": "code",
        "colab": {}
      },
      "source": [
        "pip install vaderSentiment"
      ],
      "execution_count": 0,
      "outputs": []
    },
    {
      "cell_type": "code",
      "metadata": {
        "id": "2wdNrzgzS_ha",
        "colab_type": "code",
        "colab": {}
      },
      "source": [
        "from vaderSentiment.vaderSentiment import SentimentIntensityAnalyzer"
      ],
      "execution_count": 0,
      "outputs": []
    },
    {
      "cell_type": "markdown",
      "metadata": {
        "id": "M9UM_SLuvwQ4",
        "colab_type": "text"
      },
      "source": [
        "#### Run the model"
      ]
    },
    {
      "cell_type": "code",
      "metadata": {
        "id": "WOsLS5Smz2Gb",
        "colab_type": "code",
        "outputId": "bd1614a0-8946-4874-b8f6-c69d4c3e123f",
        "colab": {
          "base_uri": "https://localhost:8080/",
          "height": 204
        }
      },
      "source": [
        "survey_resp_temp2 = df\n",
        "analyzer = SentimentIntensityAnalyzer()\n",
        "scores = []\n",
        "\n",
        "for i in range(0,len(survey_resp_temp2['Temperature'])):\n",
        "    score = analyzer.polarity_scores(survey_resp_temp2['Temperature'][i])\n",
        "    scores.append(score)\n",
        "    \n",
        "df_scores= pd.DataFrame(scores)  \n",
        "\n",
        "#check the number of negative, neutral and positive\n",
        "len(df_scores[df_scores['compound'] > 0])\n",
        "len(df_scores[df_scores['compound'] == 0])\n",
        "len(df_scores[df_scores['compound'] < 0])\n",
        "\n",
        "df_scores['compound'][0:5]\n",
        "df['Vader'] = df_scores['compound']\n",
        "df[0:5]"
      ],
      "execution_count": 0,
      "outputs": [
        {
          "output_type": "execute_result",
          "data": {
            "text/html": [
              "<div>\n",
              "<style scoped>\n",
              "    .dataframe tbody tr th:only-of-type {\n",
              "        vertical-align: middle;\n",
              "    }\n",
              "\n",
              "    .dataframe tbody tr th {\n",
              "        vertical-align: top;\n",
              "    }\n",
              "\n",
              "    .dataframe thead th {\n",
              "        text-align: right;\n",
              "    }\n",
              "</style>\n",
              "<table border=\"1\" class=\"dataframe\">\n",
              "  <thead>\n",
              "    <tr style=\"text-align: right;\">\n",
              "      <th></th>\n",
              "      <th>Temperature</th>\n",
              "      <th>Sentiment</th>\n",
              "      <th>Textblob</th>\n",
              "      <th>Tb</th>\n",
              "      <th>Vader</th>\n",
              "    </tr>\n",
              "  </thead>\n",
              "  <tbody>\n",
              "    <tr>\n",
              "      <th>0</th>\n",
              "      <td>proper bas system actually determine air tempe...</td>\n",
              "      <td>-1</td>\n",
              "      <td>0.000000</td>\n",
              "      <td>0</td>\n",
              "      <td>-0.1027</td>\n",
              "    </tr>\n",
              "    <tr>\n",
              "      <th>1</th>\n",
              "      <td>think probably adjusted changes temperatures s...</td>\n",
              "      <td>0</td>\n",
              "      <td>0.250000</td>\n",
              "      <td>1</td>\n",
              "      <td>0.4767</td>\n",
              "    </tr>\n",
              "    <tr>\n",
              "      <th>2</th>\n",
              "      <td>heat high enough put heat</td>\n",
              "      <td>-1</td>\n",
              "      <td>0.080000</td>\n",
              "      <td>1</td>\n",
              "      <td>0.0000</td>\n",
              "    </tr>\n",
              "    <tr>\n",
              "      <th>3</th>\n",
              "      <td>completed survey last year also complained tem...</td>\n",
              "      <td>-1</td>\n",
              "      <td>-0.042857</td>\n",
              "      <td>-1</td>\n",
              "      <td>-0.5903</td>\n",
              "    </tr>\n",
              "    <tr>\n",
              "      <th>4</th>\n",
              "      <td>im thinking seasons changing cold cold hot hot...</td>\n",
              "      <td>-1</td>\n",
              "      <td>-0.200000</td>\n",
              "      <td>-1</td>\n",
              "      <td>-0.4767</td>\n",
              "    </tr>\n",
              "  </tbody>\n",
              "</table>\n",
              "</div>"
            ],
            "text/plain": [
              "                                         Temperature  Sentiment  ...  Tb   Vader\n",
              "0  proper bas system actually determine air tempe...         -1  ...   0 -0.1027\n",
              "1  think probably adjusted changes temperatures s...          0  ...   1  0.4767\n",
              "2                          heat high enough put heat         -1  ...   1  0.0000\n",
              "3  completed survey last year also complained tem...         -1  ...  -1 -0.5903\n",
              "4  im thinking seasons changing cold cold hot hot...         -1  ...  -1 -0.4767\n",
              "\n",
              "[5 rows x 5 columns]"
            ]
          },
          "metadata": {
            "tags": []
          },
          "execution_count": 26
        }
      ]
    },
    {
      "cell_type": "code",
      "metadata": {
        "id": "CIXHDy7xz2KA",
        "colab_type": "code",
        "colab": {}
      },
      "source": [
        "df['Vd'] = 'Neutral'\n",
        "df.fillna\n",
        "df['Vd'][df['Vader'] < 0] = 'Negative'"
      ],
      "execution_count": 0,
      "outputs": []
    },
    {
      "cell_type": "code",
      "metadata": {
        "id": "EW9Tz_viz2Nw",
        "colab_type": "code",
        "outputId": "6bbe7836-9d54-4d7b-9cf9-af9c09bcd23f",
        "colab": {
          "base_uri": "https://localhost:8080/",
          "height": 204
        }
      },
      "source": [
        "df[0:5]"
      ],
      "execution_count": 0,
      "outputs": [
        {
          "output_type": "execute_result",
          "data": {
            "text/html": [
              "<div>\n",
              "<style scoped>\n",
              "    .dataframe tbody tr th:only-of-type {\n",
              "        vertical-align: middle;\n",
              "    }\n",
              "\n",
              "    .dataframe tbody tr th {\n",
              "        vertical-align: top;\n",
              "    }\n",
              "\n",
              "    .dataframe thead th {\n",
              "        text-align: right;\n",
              "    }\n",
              "</style>\n",
              "<table border=\"1\" class=\"dataframe\">\n",
              "  <thead>\n",
              "    <tr style=\"text-align: right;\">\n",
              "      <th></th>\n",
              "      <th>Temperature</th>\n",
              "      <th>Sentiment</th>\n",
              "      <th>Textblob</th>\n",
              "      <th>Tb</th>\n",
              "      <th>Vader</th>\n",
              "      <th>Vd</th>\n",
              "    </tr>\n",
              "  </thead>\n",
              "  <tbody>\n",
              "    <tr>\n",
              "      <th>0</th>\n",
              "      <td>proper bas system actually determine air tempe...</td>\n",
              "      <td>-1</td>\n",
              "      <td>0.000000</td>\n",
              "      <td>0</td>\n",
              "      <td>-0.1027</td>\n",
              "      <td>Negative</td>\n",
              "    </tr>\n",
              "    <tr>\n",
              "      <th>1</th>\n",
              "      <td>think probably adjusted changes temperatures s...</td>\n",
              "      <td>0</td>\n",
              "      <td>0.250000</td>\n",
              "      <td>1</td>\n",
              "      <td>0.4767</td>\n",
              "      <td>Neutral</td>\n",
              "    </tr>\n",
              "    <tr>\n",
              "      <th>2</th>\n",
              "      <td>heat high enough put heat</td>\n",
              "      <td>-1</td>\n",
              "      <td>0.080000</td>\n",
              "      <td>1</td>\n",
              "      <td>0.0000</td>\n",
              "      <td>Neutral</td>\n",
              "    </tr>\n",
              "    <tr>\n",
              "      <th>3</th>\n",
              "      <td>completed survey last year also complained tem...</td>\n",
              "      <td>-1</td>\n",
              "      <td>-0.042857</td>\n",
              "      <td>-1</td>\n",
              "      <td>-0.5903</td>\n",
              "      <td>Negative</td>\n",
              "    </tr>\n",
              "    <tr>\n",
              "      <th>4</th>\n",
              "      <td>im thinking seasons changing cold cold hot hot...</td>\n",
              "      <td>-1</td>\n",
              "      <td>-0.200000</td>\n",
              "      <td>-1</td>\n",
              "      <td>-0.4767</td>\n",
              "      <td>Negative</td>\n",
              "    </tr>\n",
              "  </tbody>\n",
              "</table>\n",
              "</div>"
            ],
            "text/plain": [
              "                                         Temperature  ...        Vd\n",
              "0  proper bas system actually determine air tempe...  ...  Negative\n",
              "1  think probably adjusted changes temperatures s...  ...   Neutral\n",
              "2                          heat high enough put heat  ...   Neutral\n",
              "3  completed survey last year also complained tem...  ...  Negative\n",
              "4  im thinking seasons changing cold cold hot hot...  ...  Negative\n",
              "\n",
              "[5 rows x 6 columns]"
            ]
          },
          "metadata": {
            "tags": []
          },
          "execution_count": 28
        }
      ]
    },
    {
      "cell_type": "markdown",
      "metadata": {
        "id": "OnWTWxP8sMo4",
        "colab_type": "text"
      },
      "source": [
        "#### Histogram"
      ]
    },
    {
      "cell_type": "code",
      "metadata": {
        "id": "G_tolwC0vnip",
        "colab_type": "code",
        "outputId": "76bd445e-f6fa-48af-b5de-328f0c7c1fb9",
        "colab": {
          "base_uri": "https://localhost:8080/",
          "height": 286
        }
      },
      "source": [
        "plt.hist(hist['Sentiment'], bins=10)\n",
        "plt.ylabel('Frequency')\n",
        "plt.xlim(left=-1, right = 1)"
      ],
      "execution_count": 0,
      "outputs": [
        {
          "output_type": "execute_result",
          "data": {
            "text/plain": [
              "(-1, 1)"
            ]
          },
          "metadata": {
            "tags": []
          },
          "execution_count": 19
        },
        {
          "output_type": "display_data",
          "data": {
            "image/png": "[encoded data removed]",
            "text/plain": [
              "<Figure size 432x288 with 1 Axes>"
            ]
          },
          "metadata": {
            "tags": []
          }
        }
      ]
    },
    {
      "cell_type": "code",
      "metadata": {
        "id": "yQalogW1v56i",
        "colab_type": "code",
        "outputId": "cfc2b813-cc25-4eb8-8bf7-b500b43e5d26",
        "colab": {
          "base_uri": "https://localhost:8080/",
          "height": 286
        }
      },
      "source": [
        "plt.hist(df['Vader'], bins=10)\n",
        "plt.ylabel('Frequency')\n",
        "plt.xlim(left=-1, right = 1)"
      ],
      "execution_count": 0,
      "outputs": [
        {
          "output_type": "execute_result",
          "data": {
            "text/plain": [
              "(-1, 1)"
            ]
          },
          "metadata": {
            "tags": []
          },
          "execution_count": 29
        },
        {
          "output_type": "display_data",
          "data": {
            "image/png": "[encoded data removed]",
            "text/plain": [
              "<Figure size 432x288 with 1 Axes>"
            ]
          },
          "metadata": {
            "tags": []
          }
        }
      ]
    },
    {
      "cell_type": "markdown",
      "metadata": {
        "id": "51eejJ2Jvqt9",
        "colab_type": "text"
      },
      "source": [
        "#### Test Accuracy"
      ]
    },
    {
      "cell_type": "code",
      "metadata": {
        "id": "PMGdf3Axz2Qi",
        "colab_type": "code",
        "outputId": "66315cf3-4ec5-4dc0-b335-ab022ffa2f75",
        "colab": {
          "base_uri": "https://localhost:8080/",
          "height": 34
        }
      },
      "source": [
        "y_pred = df['Vd']\n",
        "y_test = df['Sentiment']\n",
        "print('accuracy %s' % accuracy_score(y_pred, y_test))"
      ],
      "execution_count": 0,
      "outputs": [
        {
          "output_type": "stream",
          "text": [
            "accuracy 0.39903846153846156\n"
          ],
          "name": "stdout"
        }
      ]
    },
    {
      "cell_type": "markdown",
      "metadata": {
        "id": "oqaQP5Z42h8r",
        "colab_type": "text"
      },
      "source": [
        "Even worse unfortunately"
      ]
    },
    {
      "cell_type": "markdown",
      "metadata": {
        "id": "N2_lUo66v2Z2",
        "colab_type": "text"
      },
      "source": [
        "#### Confusion matrix"
      ]
    },
    {
      "cell_type": "code",
      "metadata": {
        "id": "NCOGK0_xBJWx",
        "colab_type": "code",
        "colab": {}
      },
      "source": [
        "y_actu = pd.Series(y_test, name='Actual')\n",
        "y_pred = pd.Series(y_pred, name='Predicted')\n",
        "df_confusion = pd.crosstab(y_actu, y_pred)"
      ],
      "execution_count": 0,
      "outputs": []
    },
    {
      "cell_type": "code",
      "metadata": {
        "id": "KuW6jxvpBTVI",
        "colab_type": "code",
        "outputId": "cb267db3-1ea8-43ba-de0d-fab1844f19b5",
        "colab": {
          "base_uri": "https://localhost:8080/",
          "height": 142
        }
      },
      "source": [
        "df_confusion"
      ],
      "execution_count": 0,
      "outputs": [
        {
          "output_type": "execute_result",
          "data": {
            "text/html": [
              "<div>\n",
              "<style scoped>\n",
              "    .dataframe tbody tr th:only-of-type {\n",
              "        vertical-align: middle;\n",
              "    }\n",
              "\n",
              "    .dataframe tbody tr th {\n",
              "        vertical-align: top;\n",
              "    }\n",
              "\n",
              "    .dataframe thead th {\n",
              "        text-align: right;\n",
              "    }\n",
              "</style>\n",
              "<table border=\"1\" class=\"dataframe\">\n",
              "  <thead>\n",
              "    <tr style=\"text-align: right;\">\n",
              "      <th>Predicted</th>\n",
              "      <th>Negative</th>\n",
              "      <th>Neutral</th>\n",
              "    </tr>\n",
              "    <tr>\n",
              "      <th>Actual</th>\n",
              "      <th></th>\n",
              "      <th></th>\n",
              "    </tr>\n",
              "  </thead>\n",
              "  <tbody>\n",
              "    <tr>\n",
              "      <th>Negative</th>\n",
              "      <td>22</td>\n",
              "      <td>118</td>\n",
              "    </tr>\n",
              "    <tr>\n",
              "      <th>Neutral</th>\n",
              "      <td>7</td>\n",
              "      <td>61</td>\n",
              "    </tr>\n",
              "  </tbody>\n",
              "</table>\n",
              "</div>"
            ],
            "text/plain": [
              "Predicted  Negative  Neutral\n",
              "Actual                      \n",
              "Negative         22      118\n",
              "Neutral           7       61"
            ]
          },
          "metadata": {
            "tags": []
          },
          "execution_count": 96
        }
      ]
    },
    {
      "cell_type": "code",
      "metadata": {
        "id": "SFs64LXMBOg4",
        "colab_type": "code",
        "outputId": "e709df36-c029-4706-fcf2-3ac4776e0441",
        "colab": {
          "base_uri": "https://localhost:8080/",
          "height": 281
        }
      },
      "source": [
        "plot_confusion_matrix(df_confusion)"
      ],
      "execution_count": 0,
      "outputs": [
        {
          "output_type": "display_data",
          "data": {
            "image/png": "[encoded data removed]",
            "text/plain": [
              "<Figure size 288x288 with 2 Axes>"
            ]
          },
          "metadata": {
            "tags": []
          }
        }
      ]
    },
    {
      "cell_type": "markdown",
      "metadata": {
        "id": "CFS_aXmukYI8",
        "colab_type": "text"
      },
      "source": [
        "## Binomial Sentiment Classification (Neg/Neutral)"
      ]
    },
    {
      "cell_type": "markdown",
      "metadata": {
        "id": "AsKMgjfgffca",
        "colab_type": "text"
      },
      "source": [
        "### Randomly split up the data into test (30%) and training (70%) sets"
      ]
    },
    {
      "cell_type": "markdown",
      "metadata": {
        "id": "55VoDJN49aFB",
        "colab_type": "text"
      },
      "source": [
        "try 50-50 or 30-70"
      ]
    },
    {
      "cell_type": "code",
      "metadata": {
        "id": "8iBaI8A1dVWE",
        "colab_type": "code",
        "colab": {}
      },
      "source": [
        "X = df.Temperature\n",
        "y = df.Sentiment\n",
        "X_train, X_test, y_train, y_test = train_test_split(X, y, test_size=0.3, random_state = 0)"
      ],
      "execution_count": 0,
      "outputs": []
    },
    {
      "cell_type": "markdown",
      "metadata": {
        "id": "hLolnWhVdVWH",
        "colab_type": "text"
      },
      "source": [
        "### Naive Bayes"
      ]
    },
    {
      "cell_type": "code",
      "metadata": {
        "id": "cCg9z2DCdVWH",
        "colab_type": "code",
        "colab": {}
      },
      "source": [
        "from sklearn.naive_bayes import MultinomialNB\n",
        "from sklearn.pipeline import Pipeline\n",
        "from sklearn.feature_extraction.text import TfidfTransformer"
      ],
      "execution_count": 0,
      "outputs": []
    },
    {
      "cell_type": "markdown",
      "metadata": {
        "id": "3Go0Rkbkf_2b",
        "colab_type": "text"
      },
      "source": [
        "#### Create the classifier pipeline"
      ]
    },
    {
      "cell_type": "code",
      "metadata": {
        "id": "ZNIpRaRyf3YP",
        "colab_type": "code",
        "outputId": "4ff75be2-b4db-4147-a113-9ff6b72adc75",
        "colab": {
          "base_uri": "https://localhost:8080/",
          "height": 306
        }
      },
      "source": [
        "nb = Pipeline([('vect', CountVectorizer()),\n",
        "               ('tfidf', TfidfTransformer()),\n",
        "               ('clf', MultinomialNB()),\n",
        "              ])\n",
        "nb.fit(X_train, y_train)\n"
      ],
      "execution_count": 0,
      "outputs": [
        {
          "output_type": "execute_result",
          "data": {
            "text/plain": [
              "Pipeline(memory=None,\n",
              "         steps=[('vect',\n",
              "                 CountVectorizer(analyzer='word', binary=False,\n",
              "                                 decode_error='strict',\n",
              "                                 dtype=<class 'numpy.int64'>, encoding='utf-8',\n",
              "                                 input='content', lowercase=True, max_df=1.0,\n",
              "                                 max_features=None, min_df=1,\n",
              "                                 ngram_range=(1, 1), preprocessor=None,\n",
              "                                 stop_words=None, strip_accents=None,\n",
              "                                 token_pattern='(?u)\\\\b\\\\w\\\\w+\\\\b',\n",
              "                                 tokenizer=None, vocabulary=None)),\n",
              "                ('tfidf',\n",
              "                 TfidfTransformer(norm='l2', smooth_idf=True,\n",
              "                                  sublinear_tf=False, use_idf=True)),\n",
              "                ('clf',\n",
              "                 MultinomialNB(alpha=1.0, class_prior=None, fit_prior=True))],\n",
              "         verbose=False)"
            ]
          },
          "metadata": {
            "tags": []
          },
          "execution_count": 100
        }
      ]
    },
    {
      "cell_type": "markdown",
      "metadata": {
        "id": "mOIJneGzgAjX",
        "colab_type": "text"
      },
      "source": [
        "#### Predict the test variables"
      ]
    },
    {
      "cell_type": "code",
      "metadata": {
        "id": "abPSIKppdVWK",
        "colab_type": "code",
        "outputId": "f770c8dc-f341-4a23-a235-ce37cd6e4e14",
        "colab": {
          "base_uri": "https://localhost:8080/",
          "height": 51
        }
      },
      "source": [
        "%%time\n",
        "from sklearn.metrics import classification_report\n",
        "y_pred = nb.predict(X_test)"
      ],
      "execution_count": 0,
      "outputs": [
        {
          "output_type": "stream",
          "text": [
            "CPU times: user 3.59 ms, sys: 869 µs, total: 4.45 ms\n",
            "Wall time: 4.07 ms\n"
          ],
          "name": "stdout"
        }
      ]
    },
    {
      "cell_type": "markdown",
      "metadata": {
        "id": "04bX3e9kgCB4",
        "colab_type": "text"
      },
      "source": [
        "#### Verify the accuracy of the results"
      ]
    },
    {
      "cell_type": "code",
      "metadata": {
        "id": "kza_0lgCdVWO",
        "colab_type": "code",
        "outputId": "9c628a0a-e285-4019-adb0-7f6998904302",
        "colab": {
          "base_uri": "https://localhost:8080/",
          "height": 187
        }
      },
      "source": [
        "print('accuracy %s' % accuracy_score(y_pred, y_test))\n",
        "print(classification_report(y_test, y_pred,target_names=my_tags))"
      ],
      "execution_count": 0,
      "outputs": [
        {
          "output_type": "stream",
          "text": [
            "accuracy 0.6984126984126984\n",
            "              precision    recall  f1-score   support\n",
            "\n",
            "    Negative       0.70      0.95      0.81        42\n",
            "     Neutral       0.67      0.19      0.30        21\n",
            "\n",
            "    accuracy                           0.70        63\n",
            "   macro avg       0.68      0.57      0.55        63\n",
            "weighted avg       0.69      0.70      0.64        63\n",
            "\n"
          ],
          "name": "stdout"
        }
      ]
    },
    {
      "cell_type": "markdown",
      "metadata": {
        "id": "DH3CcZd4gDQ-",
        "colab_type": "text"
      },
      "source": [
        "#### Confusion matrix visualizing error distribution"
      ]
    },
    {
      "cell_type": "code",
      "metadata": {
        "id": "UgEUzWZaB8qF",
        "colab_type": "code",
        "outputId": "abe514b6-54c8-4f52-a04f-c9e040c7d032",
        "colab": {
          "base_uri": "https://localhost:8080/",
          "height": 281
        }
      },
      "source": [
        "y_actu = pd.Series(np.array(y_test, dtype = '<U8'), name='Actual')\n",
        "y_pred = pd.Series(y_pred, name='Predicted')\n",
        "df_confusion = pd.crosstab(y_actu, y_pred, dropna = False)\n",
        "plot_confusion_matrix(df_confusion)"
      ],
      "execution_count": 0,
      "outputs": [
        {
          "output_type": "display_data",
          "data": {
            "image/png": "[encoded data removed]",
            "text/plain": [
              "<Figure size 288x288 with 2 Axes>"
            ]
          },
          "metadata": {
            "tags": []
          }
        }
      ]
    },
    {
      "cell_type": "code",
      "metadata": {
        "id": "9U1PCJ3hiQTZ",
        "colab_type": "code",
        "outputId": "220eb85a-0edc-4cea-8278-b70d1505d021",
        "colab": {
          "base_uri": "https://localhost:8080/",
          "height": 142
        }
      },
      "source": [
        "df_confusion"
      ],
      "execution_count": 0,
      "outputs": [
        {
          "output_type": "execute_result",
          "data": {
            "text/html": [
              "<div>\n",
              "<style scoped>\n",
              "    .dataframe tbody tr th:only-of-type {\n",
              "        vertical-align: middle;\n",
              "    }\n",
              "\n",
              "    .dataframe tbody tr th {\n",
              "        vertical-align: top;\n",
              "    }\n",
              "\n",
              "    .dataframe thead th {\n",
              "        text-align: right;\n",
              "    }\n",
              "</style>\n",
              "<table border=\"1\" class=\"dataframe\">\n",
              "  <thead>\n",
              "    <tr style=\"text-align: right;\">\n",
              "      <th>Predicted</th>\n",
              "      <th>Negative</th>\n",
              "      <th>Neutral</th>\n",
              "    </tr>\n",
              "    <tr>\n",
              "      <th>Actual</th>\n",
              "      <th></th>\n",
              "      <th></th>\n",
              "    </tr>\n",
              "  </thead>\n",
              "  <tbody>\n",
              "    <tr>\n",
              "      <th>Negative</th>\n",
              "      <td>40</td>\n",
              "      <td>2</td>\n",
              "    </tr>\n",
              "    <tr>\n",
              "      <th>Neutral</th>\n",
              "      <td>17</td>\n",
              "      <td>4</td>\n",
              "    </tr>\n",
              "  </tbody>\n",
              "</table>\n",
              "</div>"
            ],
            "text/plain": [
              "Predicted  Negative  Neutral\n",
              "Actual                      \n",
              "Negative         40        2\n",
              "Neutral          17        4"
            ]
          },
          "metadata": {
            "tags": []
          },
          "execution_count": 123
        }
      ]
    },
    {
      "cell_type": "markdown",
      "metadata": {
        "id": "cOi0BtVKdVWR",
        "colab_type": "text"
      },
      "source": [
        "### Logistic Regression"
      ]
    },
    {
      "cell_type": "code",
      "metadata": {
        "id": "JKOBp_k6dVWS",
        "colab_type": "code",
        "colab": {}
      },
      "source": [
        "from sklearn.linear_model import LogisticRegression\n"
      ],
      "execution_count": 0,
      "outputs": []
    },
    {
      "cell_type": "markdown",
      "metadata": {
        "id": "RUcf85AwgGtU",
        "colab_type": "text"
      },
      "source": [
        "#### Create the classifier pipeline"
      ]
    },
    {
      "cell_type": "code",
      "metadata": {
        "id": "srBm-XIZgF6A",
        "colab_type": "code",
        "outputId": "75f18fad-8173-4447-862f-42f1dcdb6f51",
        "colab": {
          "base_uri": "https://localhost:8080/",
          "height": 391
        }
      },
      "source": [
        "logreg = Pipeline([('vect', CountVectorizer()),\n",
        "                ('tfidf', TfidfTransformer()),\n",
        "                ('clf', LogisticRegression(n_jobs=1, C=1e5, solver = 'lbfgs')),\n",
        "               ])\n",
        "logreg.fit(X_train, y_train)"
      ],
      "execution_count": 0,
      "outputs": [
        {
          "output_type": "execute_result",
          "data": {
            "text/plain": [
              "Pipeline(memory=None,\n",
              "         steps=[('vect',\n",
              "                 CountVectorizer(analyzer='word', binary=False,\n",
              "                                 decode_error='strict',\n",
              "                                 dtype=<class 'numpy.int64'>, encoding='utf-8',\n",
              "                                 input='content', lowercase=True, max_df=1.0,\n",
              "                                 max_features=None, min_df=1,\n",
              "                                 ngram_range=(1, 1), preprocessor=None,\n",
              "                                 stop_words=None, strip_accents=None,\n",
              "                                 token_pattern='(?u)\\\\b\\\\w\\\\w+\\\\b',\n",
              "                                 tokenizer=None, vocabulary=None)),\n",
              "                ('tfidf',\n",
              "                 TfidfTransformer(norm='l2', smooth_idf=True,\n",
              "                                  sublinear_tf=False, use_idf=True)),\n",
              "                ('clf',\n",
              "                 LogisticRegression(C=100000.0, class_weight=None, dual=False,\n",
              "                                    fit_intercept=True, intercept_scaling=1,\n",
              "                                    l1_ratio=None, max_iter=100,\n",
              "                                    multi_class='warn', n_jobs=1, penalty='l2',\n",
              "                                    random_state=None, solver='lbfgs',\n",
              "                                    tol=0.0001, verbose=0, warm_start=False))],\n",
              "         verbose=False)"
            ]
          },
          "metadata": {
            "tags": []
          },
          "execution_count": 125
        }
      ]
    },
    {
      "cell_type": "markdown",
      "metadata": {
        "id": "5GfL_hppgHYx",
        "colab_type": "text"
      },
      "source": [
        "#### Predict the test variables"
      ]
    },
    {
      "cell_type": "code",
      "metadata": {
        "id": "w1wjwC6qdVWV",
        "colab_type": "code",
        "outputId": "be8e00da-f02a-4a50-c5e8-e7891564aafa",
        "colab": {
          "base_uri": "https://localhost:8080/",
          "height": 51
        }
      },
      "source": [
        "%%time\n",
        "\n",
        "y_pred = logreg.predict(X_test)"
      ],
      "execution_count": 0,
      "outputs": [
        {
          "output_type": "stream",
          "text": [
            "CPU times: user 2.12 ms, sys: 47 µs, total: 2.17 ms\n",
            "Wall time: 2.2 ms\n"
          ],
          "name": "stdout"
        }
      ]
    },
    {
      "cell_type": "markdown",
      "metadata": {
        "id": "pvCqfwV8gIX3",
        "colab_type": "text"
      },
      "source": [
        "#### Verify the accuracy of the results"
      ]
    },
    {
      "cell_type": "markdown",
      "metadata": {
        "id": "XJras2JX6nDl",
        "colab_type": "text"
      },
      "source": [
        ""
      ]
    },
    {
      "cell_type": "code",
      "metadata": {
        "id": "eYpR63K6dVWY",
        "colab_type": "code",
        "outputId": "e303da47-3826-4b09-b098-5846b21897c2",
        "colab": {
          "base_uri": "https://localhost:8080/",
          "height": 187
        }
      },
      "source": [
        "print('accuracy %s' % accuracy_score(y_pred, y_test))\n",
        "print(classification_report(y_test, y_pred,target_names=my_tags))"
      ],
      "execution_count": 0,
      "outputs": [
        {
          "output_type": "stream",
          "text": [
            "accuracy 0.7936507936507936\n",
            "              precision    recall  f1-score   support\n",
            "\n",
            "    Negative       0.81      0.90      0.85        42\n",
            "     Neutral       0.75      0.57      0.65        21\n",
            "\n",
            "    accuracy                           0.79        63\n",
            "   macro avg       0.78      0.74      0.75        63\n",
            "weighted avg       0.79      0.79      0.79        63\n",
            "\n"
          ],
          "name": "stdout"
        }
      ]
    },
    {
      "cell_type": "markdown",
      "metadata": {
        "id": "I2qQLzjngJJg",
        "colab_type": "text"
      },
      "source": [
        "#### Confusion matrix visualizing error distribution"
      ]
    },
    {
      "cell_type": "code",
      "metadata": {
        "id": "ueyg15pACQJj",
        "colab_type": "code",
        "outputId": "2d6d12cd-35e1-4af9-a50a-3c6e203d4005",
        "colab": {
          "base_uri": "https://localhost:8080/",
          "height": 281
        }
      },
      "source": [
        "y_actu = pd.Series(np.array(y_test, dtype = '<U8'), name='Actual')\n",
        "y_pred = pd.Series(y_pred, name='Predicted')\n",
        "df_confusion = pd.crosstab(y_actu, y_pred, dropna = False)\n",
        "plot_confusion_matrix(df_confusion)"
      ],
      "execution_count": 0,
      "outputs": [
        {
          "output_type": "display_data",
          "data": {
            "image/png": "[encoded data removed]",
            "text/plain": [
              "<Figure size 288x288 with 2 Axes>"
            ]
          },
          "metadata": {
            "tags": []
          }
        }
      ]
    },
    {
      "cell_type": "code",
      "metadata": {
        "id": "kwrvxX9tiOvv",
        "colab_type": "code",
        "outputId": "d281ef04-a1c1-44d9-a879-adb16ccd1ec3",
        "colab": {
          "base_uri": "https://localhost:8080/",
          "height": 142
        }
      },
      "source": [
        "df_confusion"
      ],
      "execution_count": 0,
      "outputs": [
        {
          "output_type": "execute_result",
          "data": {
            "text/html": [
              "<div>\n",
              "<style scoped>\n",
              "    .dataframe tbody tr th:only-of-type {\n",
              "        vertical-align: middle;\n",
              "    }\n",
              "\n",
              "    .dataframe tbody tr th {\n",
              "        vertical-align: top;\n",
              "    }\n",
              "\n",
              "    .dataframe thead th {\n",
              "        text-align: right;\n",
              "    }\n",
              "</style>\n",
              "<table border=\"1\" class=\"dataframe\">\n",
              "  <thead>\n",
              "    <tr style=\"text-align: right;\">\n",
              "      <th>Predicted</th>\n",
              "      <th>Negative</th>\n",
              "      <th>Neutral</th>\n",
              "    </tr>\n",
              "    <tr>\n",
              "      <th>Actual</th>\n",
              "      <th></th>\n",
              "      <th></th>\n",
              "    </tr>\n",
              "  </thead>\n",
              "  <tbody>\n",
              "    <tr>\n",
              "      <th>Negative</th>\n",
              "      <td>38</td>\n",
              "      <td>4</td>\n",
              "    </tr>\n",
              "    <tr>\n",
              "      <th>Neutral</th>\n",
              "      <td>9</td>\n",
              "      <td>12</td>\n",
              "    </tr>\n",
              "  </tbody>\n",
              "</table>\n",
              "</div>"
            ],
            "text/plain": [
              "Predicted  Negative  Neutral\n",
              "Actual                      \n",
              "Negative         38        4\n",
              "Neutral           9       12"
            ]
          },
          "metadata": {
            "tags": []
          },
          "execution_count": 129
        }
      ]
    },
    {
      "cell_type": "markdown",
      "metadata": {
        "id": "ybvtbMXBdVWc",
        "colab_type": "text"
      },
      "source": [
        "### Support Vector Machine (SVM)"
      ]
    },
    {
      "cell_type": "code",
      "metadata": {
        "id": "36aAbLXxdVWd",
        "colab_type": "code",
        "colab": {}
      },
      "source": [
        "from sklearn.linear_model import SGDClassifier\n"
      ],
      "execution_count": 0,
      "outputs": []
    },
    {
      "cell_type": "markdown",
      "metadata": {
        "id": "Reev7WVrhNVz",
        "colab_type": "text"
      },
      "source": [
        "#### Create the classifier pipeline"
      ]
    },
    {
      "cell_type": "code",
      "metadata": {
        "id": "JjFmJ5hQhMXQ",
        "colab_type": "code",
        "outputId": "414bf63a-e9c4-4df4-ded0-bc4db89293ee",
        "colab": {
          "base_uri": "https://localhost:8080/",
          "height": 374
        }
      },
      "source": [
        "sgd = Pipeline([('vect', CountVectorizer()),\n",
        "                ('tfidf', TfidfTransformer()),\n",
        "                ('clf', SGDClassifier(loss='hinge', penalty='l2',alpha=1e-3, random_state=42, max_iter=5, tol=None)),\n",
        "               ])\n",
        "sgd.fit(X_train, y_train)"
      ],
      "execution_count": 0,
      "outputs": [
        {
          "output_type": "execute_result",
          "data": {
            "text/plain": [
              "Pipeline(memory=None,\n",
              "         steps=[('vect',\n",
              "                 CountVectorizer(analyzer='word', binary=False,\n",
              "                                 decode_error='strict',\n",
              "                                 dtype=<class 'numpy.int64'>, encoding='utf-8',\n",
              "                                 input='content', lowercase=True, max_df=1.0,\n",
              "                                 max_features=None, min_df=1,\n",
              "                                 ngram_range=(1, 1), preprocessor=None,\n",
              "                                 stop_words=None, strip_accents=None,\n",
              "                                 token_pattern='(?u)\\\\b\\\\w\\\\w+\\\\b',\n",
              "                                 tokenizer=None, vocabulary=Non...\n",
              "                ('clf',\n",
              "                 SGDClassifier(alpha=0.001, average=False, class_weight=None,\n",
              "                               early_stopping=False, epsilon=0.1, eta0=0.0,\n",
              "                               fit_intercept=True, l1_ratio=0.15,\n",
              "                               learning_rate='optimal', loss='hinge',\n",
              "                               max_iter=5, n_iter_no_change=5, n_jobs=None,\n",
              "                               penalty='l2', power_t=0.5, random_state=42,\n",
              "                               shuffle=True, tol=None, validation_fraction=0.1,\n",
              "                               verbose=0, warm_start=False))],\n",
              "         verbose=False)"
            ]
          },
          "metadata": {
            "tags": []
          },
          "execution_count": 131
        }
      ]
    },
    {
      "cell_type": "markdown",
      "metadata": {
        "id": "R8FsVjxbhN9y",
        "colab_type": "text"
      },
      "source": [
        "#### Predict the test variables"
      ]
    },
    {
      "cell_type": "code",
      "metadata": {
        "id": "56TpqCyMdVWh",
        "colab_type": "code",
        "outputId": "4d54ebdb-5e97-4d03-8275-a8238718d891",
        "colab": {
          "base_uri": "https://localhost:8080/",
          "height": 51
        }
      },
      "source": [
        "%%time\n",
        "\n",
        "y_pred = sgd.predict(X_test)"
      ],
      "execution_count": 0,
      "outputs": [
        {
          "output_type": "stream",
          "text": [
            "CPU times: user 3.07 ms, sys: 22 µs, total: 3.1 ms\n",
            "Wall time: 2.8 ms\n"
          ],
          "name": "stdout"
        }
      ]
    },
    {
      "cell_type": "markdown",
      "metadata": {
        "id": "eUekmGNKhOqP",
        "colab_type": "text"
      },
      "source": [
        "#### Verify the accuracy of the results"
      ]
    },
    {
      "cell_type": "code",
      "metadata": {
        "id": "NjA-NuVLdVWk",
        "colab_type": "code",
        "outputId": "13d6c109-de0e-42ff-8cf1-5ab3f571a4c2",
        "colab": {
          "base_uri": "https://localhost:8080/",
          "height": 187
        }
      },
      "source": [
        "print('accuracy %s' % accuracy_score(y_pred, y_test))\n",
        "print(classification_report(y_test, y_pred,target_names=my_tags))"
      ],
      "execution_count": 0,
      "outputs": [
        {
          "output_type": "stream",
          "text": [
            "accuracy 0.7301587301587301\n",
            "              precision    recall  f1-score   support\n",
            "\n",
            "    Negative       0.78      0.83      0.80        42\n",
            "     Neutral       0.61      0.52      0.56        21\n",
            "\n",
            "    accuracy                           0.73        63\n",
            "   macro avg       0.69      0.68      0.68        63\n",
            "weighted avg       0.72      0.73      0.72        63\n",
            "\n"
          ],
          "name": "stdout"
        }
      ]
    },
    {
      "cell_type": "markdown",
      "metadata": {
        "id": "SignUD-BhPXh",
        "colab_type": "text"
      },
      "source": [
        "#### Confusion matrix visualizing error distribution"
      ]
    },
    {
      "cell_type": "code",
      "metadata": {
        "id": "8hSJRD6jCVyp",
        "colab_type": "code",
        "outputId": "bbfedd19-0e39-4c2a-8896-4499639cfad2",
        "colab": {
          "base_uri": "https://localhost:8080/",
          "height": 281
        }
      },
      "source": [
        "y_actu = pd.Series(np.array(y_test, dtype = '<U8'), name='Actual')\n",
        "y_pred = pd.Series(y_pred, name='Predicted')\n",
        "df_confusion = pd.crosstab(y_actu, y_pred, dropna = False)\n",
        "plot_confusion_matrix(df_confusion)"
      ],
      "execution_count": 0,
      "outputs": [
        {
          "output_type": "display_data",
          "data": {
            "image/png": "[encoded data removed]",
            "text/plain": [
              "<Figure size 288x288 with 2 Axes>"
            ]
          },
          "metadata": {
            "tags": []
          }
        }
      ]
    },
    {
      "cell_type": "code",
      "metadata": {
        "id": "MTXL_KBAiLdb",
        "colab_type": "code",
        "outputId": "554257fe-2c97-4a7b-83cb-854db5af40f7",
        "colab": {
          "base_uri": "https://localhost:8080/",
          "height": 142
        }
      },
      "source": [
        "df_confusion"
      ],
      "execution_count": 0,
      "outputs": [
        {
          "output_type": "execute_result",
          "data": {
            "text/html": [
              "<div>\n",
              "<style scoped>\n",
              "    .dataframe tbody tr th:only-of-type {\n",
              "        vertical-align: middle;\n",
              "    }\n",
              "\n",
              "    .dataframe tbody tr th {\n",
              "        vertical-align: top;\n",
              "    }\n",
              "\n",
              "    .dataframe thead th {\n",
              "        text-align: right;\n",
              "    }\n",
              "</style>\n",
              "<table border=\"1\" class=\"dataframe\">\n",
              "  <thead>\n",
              "    <tr style=\"text-align: right;\">\n",
              "      <th>Predicted</th>\n",
              "      <th>Negative</th>\n",
              "      <th>Neutral</th>\n",
              "    </tr>\n",
              "    <tr>\n",
              "      <th>Actual</th>\n",
              "      <th></th>\n",
              "      <th></th>\n",
              "    </tr>\n",
              "  </thead>\n",
              "  <tbody>\n",
              "    <tr>\n",
              "      <th>Negative</th>\n",
              "      <td>35</td>\n",
              "      <td>7</td>\n",
              "    </tr>\n",
              "    <tr>\n",
              "      <th>Neutral</th>\n",
              "      <td>10</td>\n",
              "      <td>11</td>\n",
              "    </tr>\n",
              "  </tbody>\n",
              "</table>\n",
              "</div>"
            ],
            "text/plain": [
              "Predicted  Negative  Neutral\n",
              "Actual                      \n",
              "Negative         35        7\n",
              "Neutral          10       11"
            ]
          },
          "metadata": {
            "tags": []
          },
          "execution_count": 135
        }
      ]
    },
    {
      "cell_type": "markdown",
      "metadata": {
        "id": "19qScaRYdVWo",
        "colab_type": "text"
      },
      "source": [
        "### Document Embedding with Paragraph Vectors (Doc2Vec)"
      ]
    },
    {
      "cell_type": "code",
      "metadata": {
        "id": "h6W_crOAdVWp",
        "colab_type": "code",
        "colab": {}
      },
      "source": [
        "from tqdm import tqdm\n",
        "tqdm.pandas(desc=\"progress-bar\")\n",
        "from gensim.models import Doc2Vec\n",
        "from sklearn import utils\n",
        "import gensim\n",
        "from gensim.models.doc2vec import TaggedDocument\n",
        "import re"
      ],
      "execution_count": 0,
      "outputs": []
    },
    {
      "cell_type": "code",
      "metadata": {
        "id": "DHTAjjfGdVWr",
        "colab_type": "code",
        "colab": {}
      },
      "source": [
        "def label_sentences(corpus, label_type):\n",
        "    \"\"\"\n",
        "    Gensim's Doc2Vec implementation requires each document/paragraph to have a label associated with it.\n",
        "    We do this by using the TaggedDocument method. The format will be \"TRAIN_i\" or \"TEST_i\" where \"i\" is\n",
        "    a dummy index of the post.\n",
        "    \"\"\"\n",
        "    labeled = []\n",
        "    for i, v in enumerate(corpus):\n",
        "        label = label_type + '_' + str(i)\n",
        "        labeled.append(TaggedDocument(v.split(), [label]))\n",
        "    return labeled\n",
        "X_train, X_test, y_train, y_test = train_test_split(df.Temperature, df.Sentiment, random_state=0, test_size=0.3)\n",
        "X_train = label_sentences(X_train, 'Train')\n",
        "X_test = label_sentences(X_test, 'Test')\n",
        "all_data = X_train + X_test"
      ],
      "execution_count": 0,
      "outputs": []
    },
    {
      "cell_type": "code",
      "metadata": {
        "id": "nyy1Ge7jdVWt",
        "colab_type": "code",
        "outputId": "8f4ffb84-28e2-4404-97dd-a9c8494de80c",
        "colab": {
          "base_uri": "https://localhost:8080/",
          "height": 51
        }
      },
      "source": [
        "all_data[:2]"
      ],
      "execution_count": 0,
      "outputs": [
        {
          "output_type": "execute_result",
          "data": {
            "text/plain": [
              "[TaggedDocument(words=['summertime', 'make', 'cold', 'wintertime', 'dont', 'make', 'hot', 'always', 'cold'], tags=['Train_0']),\n",
              " TaggedDocument(words=['needs', 'better', 'air', 'flow', 'needs', 'air', 'exchanger', 'blow', 'stale', 'air'], tags=['Train_1'])]"
            ]
          },
          "metadata": {
            "tags": []
          },
          "execution_count": 138
        }
      ]
    },
    {
      "cell_type": "code",
      "metadata": {
        "id": "P42KyP1UdVWw",
        "colab_type": "code",
        "colab": {}
      },
      "source": [
        "model_dbow = Doc2Vec(dm=0, vector_size=300, negative=5, min_count=1, alpha=0.065, min_alpha=0.065)\n",
        "model_dbow.build_vocab([x for x in tqdm(all_data)])\n",
        "\n",
        "for epoch in range(40):\n",
        "    model_dbow.train(utils.shuffle([x for x in tqdm(all_data)]), total_examples=len(all_data), epochs=1)\n",
        "    model_dbow.alpha -= 0.002\n",
        "    model_dbow.min_alpha = model_dbow.alpha\n",
        ";"
      ],
      "execution_count": 0,
      "outputs": []
    },
    {
      "cell_type": "code",
      "metadata": {
        "id": "McaKYk1HdVW0",
        "colab_type": "code",
        "colab": {}
      },
      "source": [
        "def get_vectors(model, corpus_size, vectors_size, vectors_type):\n",
        "    \"\"\"\n",
        "    Get vectors from trained doc2vec model\n",
        "    :param doc2vec_model: Trained Doc2Vec model\n",
        "    :param corpus_size: Size of the data\n",
        "    :param vectors_size: Size of the embedding vectors\n",
        "    :param vectors_type: Training or Testing vectors\n",
        "    :return: list of vectors\n",
        "    \"\"\"\n",
        "    vectors = np.zeros((corpus_size, vectors_size))\n",
        "    for i in range(0, corpus_size):\n",
        "        prefix = vectors_type + '_' + str(i)\n",
        "        vectors[i] = model.docvecs[prefix]\n",
        "    return vectors"
      ],
      "execution_count": 0,
      "outputs": []
    },
    {
      "cell_type": "code",
      "metadata": {
        "id": "1Wz0N1eSdVW2",
        "colab_type": "code",
        "colab": {}
      },
      "source": [
        "train_vectors_dbow = get_vectors(model_dbow, len(X_train), 300, 'Train')\n",
        "test_vectors_dbow = get_vectors(model_dbow, len(X_test), 300, 'Test')"
      ],
      "execution_count": 0,
      "outputs": []
    },
    {
      "cell_type": "code",
      "metadata": {
        "id": "zE_GJFhCdVW4",
        "colab_type": "code",
        "outputId": "025e3965-b393-4dc6-c5b2-74c05dc7fe17",
        "colab": {
          "base_uri": "https://localhost:8080/",
          "height": 255
        }
      },
      "source": [
        "logreg = LogisticRegression(n_jobs=1, C=1e5, solver = 'lbfgs')\n",
        "logreg.fit(train_vectors_dbow, y_train)\n",
        "logreg = logreg.fit(train_vectors_dbow, y_train)\n",
        "y_pred = logreg.predict(test_vectors_dbow)\n",
        "print('accuracy %s' % accuracy_score(y_pred, y_test))\n",
        "print(classification_report(y_test, y_pred,target_names=my_tags))"
      ],
      "execution_count": 0,
      "outputs": [
        {
          "output_type": "stream",
          "text": [
            "accuracy 0.6666666666666666\n",
            "              precision    recall  f1-score   support\n",
            "\n",
            "    Negative       0.82      0.64      0.72        42\n",
            "     Neutral       0.50      0.71      0.59        21\n",
            "\n",
            "    accuracy                           0.67        63\n",
            "   macro avg       0.66      0.68      0.65        63\n",
            "weighted avg       0.71      0.67      0.68        63\n",
            "\n"
          ],
          "name": "stdout"
        },
        {
          "output_type": "stream",
          "text": [
            "/usr/local/lib/python3.6/dist-packages/sklearn/linear_model/logistic.py:947: ConvergenceWarning: lbfgs failed to converge. Increase the number of iterations.\n",
            "  \"of iterations.\", ConvergenceWarning)\n",
            "/usr/local/lib/python3.6/dist-packages/sklearn/linear_model/logistic.py:947: ConvergenceWarning: lbfgs failed to converge. Increase the number of iterations.\n",
            "  \"of iterations.\", ConvergenceWarning)\n"
          ],
          "name": "stderr"
        }
      ]
    },
    {
      "cell_type": "markdown",
      "metadata": {
        "id": "MDDU4oxuiCFT",
        "colab_type": "text"
      },
      "source": [
        "#### Confusion matrix"
      ]
    },
    {
      "cell_type": "code",
      "metadata": {
        "id": "z3qpCFPGCaPS",
        "colab_type": "code",
        "outputId": "51e25d78-47ee-4b52-ba08-29d383d6bfd0",
        "colab": {
          "base_uri": "https://localhost:8080/",
          "height": 281
        }
      },
      "source": [
        "y_actu = pd.Series(np.array(y_test, dtype = '<U8'), name='Actual')\n",
        "y_pred = pd.Series(y_pred, name='Predicted')\n",
        "df_confusion = pd.crosstab(y_actu, y_pred, dropna = False)\n",
        "plot_confusion_matrix(df_confusion)"
      ],
      "execution_count": 0,
      "outputs": [
        {
          "output_type": "display_data",
          "data": {
            "image/png": "[encoded data removed]",
            "text/plain": [
              "<Figure size 288x288 with 2 Axes>"
            ]
          },
          "metadata": {
            "tags": []
          }
        }
      ]
    },
    {
      "cell_type": "code",
      "metadata": {
        "id": "8RSfDhkiiIKa",
        "colab_type": "code",
        "outputId": "c37357cf-3e62-4074-eab0-18cb5df55942",
        "colab": {
          "base_uri": "https://localhost:8080/",
          "height": 142
        }
      },
      "source": [
        "df_confusion"
      ],
      "execution_count": 0,
      "outputs": [
        {
          "output_type": "execute_result",
          "data": {
            "text/html": [
              "<div>\n",
              "<style scoped>\n",
              "    .dataframe tbody tr th:only-of-type {\n",
              "        vertical-align: middle;\n",
              "    }\n",
              "\n",
              "    .dataframe tbody tr th {\n",
              "        vertical-align: top;\n",
              "    }\n",
              "\n",
              "    .dataframe thead th {\n",
              "        text-align: right;\n",
              "    }\n",
              "</style>\n",
              "<table border=\"1\" class=\"dataframe\">\n",
              "  <thead>\n",
              "    <tr style=\"text-align: right;\">\n",
              "      <th>Predicted</th>\n",
              "      <th>Negative</th>\n",
              "      <th>Neutral</th>\n",
              "    </tr>\n",
              "    <tr>\n",
              "      <th>Actual</th>\n",
              "      <th></th>\n",
              "      <th></th>\n",
              "    </tr>\n",
              "  </thead>\n",
              "  <tbody>\n",
              "    <tr>\n",
              "      <th>Negative</th>\n",
              "      <td>27</td>\n",
              "      <td>15</td>\n",
              "    </tr>\n",
              "    <tr>\n",
              "      <th>Neutral</th>\n",
              "      <td>6</td>\n",
              "      <td>15</td>\n",
              "    </tr>\n",
              "  </tbody>\n",
              "</table>\n",
              "</div>"
            ],
            "text/plain": [
              "Predicted  Negative  Neutral\n",
              "Actual                      \n",
              "Negative         27       15\n",
              "Neutral           6       15"
            ]
          },
          "metadata": {
            "tags": []
          },
          "execution_count": 146
        }
      ]
    },
    {
      "cell_type": "markdown",
      "metadata": {
        "id": "N_lTdrshdVW6",
        "colab_type": "text"
      },
      "source": [
        "### Bag of Words using Tensorflow"
      ]
    },
    {
      "cell_type": "code",
      "metadata": {
        "id": "jehKmOJ0dVW7",
        "colab_type": "code",
        "colab": {}
      },
      "source": [
        "from __future__ import absolute_import\n",
        "from __future__ import division\n",
        "from __future__ import print_function"
      ],
      "execution_count": 0,
      "outputs": []
    },
    {
      "cell_type": "code",
      "metadata": {
        "id": "7U8SvH9sdVW9",
        "colab_type": "code",
        "outputId": "f3447987-48a1-4a56-ef27-c66ca5e6f789",
        "colab": {
          "base_uri": "https://localhost:8080/",
          "height": 34
        }
      },
      "source": [
        "import itertools\n",
        "import os\n",
        "\n",
        "%matplotlib inline\n",
        "import matplotlib.pyplot as plt\n",
        "import numpy as np\n",
        "import pandas as pd\n",
        "import tensorflow as tf\n",
        "\n",
        "from sklearn.preprocessing import LabelBinarizer, LabelEncoder\n",
        "from sklearn.metrics import confusion_matrix\n",
        "\n",
        "from tensorflow import keras\n",
        "from keras.models import Sequential\n",
        "from keras.layers import Dense, Activation, Dropout\n",
        "from keras.preprocessing import text, sequence\n",
        "from keras import utils\n",
        "use_gpu = True"
      ],
      "execution_count": 0,
      "outputs": [
        {
          "output_type": "stream",
          "text": [
            "Using TensorFlow backend.\n"
          ],
          "name": "stderr"
        }
      ]
    },
    {
      "cell_type": "code",
      "metadata": {
        "id": "KCkmbXIHdVXB",
        "colab_type": "code",
        "colab": {}
      },
      "source": [
        "train_size = int(len(df) * .7)\n",
        "train_posts = df['Temperature'][:train_size]\n",
        "train_tags = df['Sentiment'][:train_size]\n",
        "\n",
        "test_posts = df['Temperature'][train_size:]\n",
        "test_tags = df['Sentiment'][train_size:]"
      ],
      "execution_count": 0,
      "outputs": []
    },
    {
      "cell_type": "code",
      "metadata": {
        "id": "xIpE6fuUdVXE",
        "colab_type": "code",
        "colab": {}
      },
      "source": [
        "max_words = 1000\n",
        "tokenize = text.Tokenizer(num_words=max_words, char_level=False)\n",
        "tokenize.fit_on_texts(train_posts) # only fit on train"
      ],
      "execution_count": 0,
      "outputs": []
    },
    {
      "cell_type": "code",
      "metadata": {
        "id": "g3SHY2SpdVXH",
        "colab_type": "code",
        "colab": {}
      },
      "source": [
        "x_train = tokenize.texts_to_matrix(train_posts)\n",
        "x_test = tokenize.texts_to_matrix(test_posts)"
      ],
      "execution_count": 0,
      "outputs": []
    },
    {
      "cell_type": "code",
      "metadata": {
        "id": "_bDGEe9ldVXJ",
        "colab_type": "code",
        "colab": {}
      },
      "source": [
        "encoder = LabelEncoder()\n",
        "encoder.fit(train_tags)\n",
        "y_train = encoder.transform(train_tags)\n",
        "y_test = encoder.transform(test_tags)"
      ],
      "execution_count": 0,
      "outputs": []
    },
    {
      "cell_type": "code",
      "metadata": {
        "id": "C-CToQMNdVXK",
        "colab_type": "code",
        "colab": {}
      },
      "source": [
        "num_classes = np.max(y_train) + 1\n",
        "y_train = utils.to_categorical(y_train, num_classes)\n",
        "y_test = utils.to_categorical(y_test, num_classes)"
      ],
      "execution_count": 0,
      "outputs": []
    },
    {
      "cell_type": "code",
      "metadata": {
        "id": "WiBmN3lpdVXM",
        "colab_type": "code",
        "colab": {}
      },
      "source": [
        "batch_size = 32\n",
        "epochs = 15"
      ],
      "execution_count": 0,
      "outputs": []
    },
    {
      "cell_type": "markdown",
      "metadata": {
        "id": "Hv-CtyV1dVXP",
        "colab_type": "text"
      },
      "source": [
        "#### Build the model"
      ]
    },
    {
      "cell_type": "code",
      "metadata": {
        "id": "lj-eqL40dVXQ",
        "colab_type": "code",
        "outputId": "0e67c340-c012-47bf-c5e4-cd3a9cd534bb",
        "colab": {
          "base_uri": "https://localhost:8080/",
          "height": 224
        }
      },
      "source": [
        "model = Sequential()\n",
        "model.add(Dense(512, input_shape=(max_words,)))\n",
        "model.add(Activation('relu'))\n",
        "model.add(Dropout(0.5))\n",
        "model.add(Dense(num_classes))\n",
        "model.add(Activation('softmax'))"
      ],
      "execution_count": 0,
      "outputs": [
        {
          "output_type": "stream",
          "text": [
            "W0709 12:23:40.209524 140316608890752 deprecation_wrapper.py:119] From /usr/local/lib/python3.6/dist-packages/keras/backend/tensorflow_backend.py:74: The name tf.get_default_graph is deprecated. Please use tf.compat.v1.get_default_graph instead.\n",
            "\n",
            "W0709 12:23:40.215265 140316608890752 deprecation_wrapper.py:119] From /usr/local/lib/python3.6/dist-packages/keras/backend/tensorflow_backend.py:517: The name tf.placeholder is deprecated. Please use tf.compat.v1.placeholder instead.\n",
            "\n",
            "W0709 12:23:40.227533 140316608890752 deprecation_wrapper.py:119] From /usr/local/lib/python3.6/dist-packages/keras/backend/tensorflow_backend.py:4138: The name tf.random_uniform is deprecated. Please use tf.random.uniform instead.\n",
            "\n",
            "W0709 12:23:40.243223 140316608890752 deprecation_wrapper.py:119] From /usr/local/lib/python3.6/dist-packages/keras/backend/tensorflow_backend.py:133: The name tf.placeholder_with_default is deprecated. Please use tf.compat.v1.placeholder_with_default instead.\n",
            "\n",
            "W0709 12:23:40.251497 140316608890752 deprecation.py:506] From /usr/local/lib/python3.6/dist-packages/keras/backend/tensorflow_backend.py:3445: calling dropout (from tensorflow.python.ops.nn_ops) with keep_prob is deprecated and will be removed in a future version.\n",
            "Instructions for updating:\n",
            "Please use `rate` instead of `keep_prob`. Rate should be set to `rate = 1 - keep_prob`.\n"
          ],
          "name": "stderr"
        }
      ]
    },
    {
      "cell_type": "markdown",
      "metadata": {
        "id": "mq4mTAox7rd5",
        "colab_type": "text"
      },
      "source": [
        "Test the sensitivity of the input layers. No free lunch- no one algorithm is the best."
      ]
    },
    {
      "cell_type": "markdown",
      "metadata": {
        "id": "0fQfNRz38cP8",
        "colab_type": "text"
      },
      "source": [
        "How are neural nets trimmed. How many nodes and layers are appropriate in text analysis Plot with # of layers vs percent accuracy 5 samples to start with"
      ]
    },
    {
      "cell_type": "code",
      "metadata": {
        "id": "-_WNTAamdVXT",
        "colab_type": "code",
        "colab": {}
      },
      "source": [
        "model.compile(loss='categorical_crossentropy',\n",
        "              optimizer='adam',\n",
        "              metrics=['accuracy'])"
      ],
      "execution_count": 0,
      "outputs": []
    },
    {
      "cell_type": "code",
      "metadata": {
        "id": "qqA6hIbIdVXV",
        "colab_type": "code",
        "outputId": "8f2a9b4e-5427-4c29-803a-31758f822d37",
        "colab": {
          "base_uri": "https://localhost:8080/",
          "height": 544
        }
      },
      "source": [
        "history = model.fit(x_train, y_train,\n",
        "                    batch_size=batch_size,\n",
        "                    epochs=epochs,\n",
        "                    verbose=1,\n",
        "                    validation_split=0.1)"
      ],
      "execution_count": 0,
      "outputs": [
        {
          "output_type": "stream",
          "text": [
            "Train on 130 samples, validate on 15 samples\n",
            "Epoch 1/15\n",
            "130/130 [==============================] - 0s 2ms/step - loss: 0.0863 - acc: 1.0000 - val_loss: 0.2020 - val_acc: 1.0000\n",
            "Epoch 2/15\n",
            "130/130 [==============================] - 0s 191us/step - loss: 0.0686 - acc: 0.9923 - val_loss: 0.1780 - val_acc: 1.0000\n",
            "Epoch 3/15\n",
            "130/130 [==============================] - 0s 160us/step - loss: 0.0553 - acc: 0.9923 - val_loss: 0.1585 - val_acc: 1.0000\n",
            "Epoch 4/15\n",
            "130/130 [==============================] - 0s 156us/step - loss: 0.0435 - acc: 1.0000 - val_loss: 0.1420 - val_acc: 1.0000\n",
            "Epoch 5/15\n",
            "130/130 [==============================] - 0s 155us/step - loss: 0.0334 - acc: 1.0000 - val_loss: 0.1287 - val_acc: 1.0000\n",
            "Epoch 6/15\n",
            "130/130 [==============================] - 0s 157us/step - loss: 0.0314 - acc: 0.9923 - val_loss: 0.1167 - val_acc: 1.0000\n",
            "Epoch 7/15\n",
            "130/130 [==============================] - 0s 163us/step - loss: 0.0244 - acc: 1.0000 - val_loss: 0.1060 - val_acc: 1.0000\n",
            "Epoch 8/15\n",
            "130/130 [==============================] - 0s 166us/step - loss: 0.0191 - acc: 1.0000 - val_loss: 0.0967 - val_acc: 1.0000\n",
            "Epoch 9/15\n",
            "130/130 [==============================] - 0s 169us/step - loss: 0.0200 - acc: 1.0000 - val_loss: 0.0890 - val_acc: 1.0000\n",
            "Epoch 10/15\n",
            "130/130 [==============================] - 0s 174us/step - loss: 0.0135 - acc: 1.0000 - val_loss: 0.0819 - val_acc: 1.0000\n",
            "Epoch 11/15\n",
            "130/130 [==============================] - 0s 192us/step - loss: 0.0132 - acc: 1.0000 - val_loss: 0.0762 - val_acc: 1.0000\n",
            "Epoch 12/15\n",
            "130/130 [==============================] - 0s 171us/step - loss: 0.0119 - acc: 1.0000 - val_loss: 0.0718 - val_acc: 1.0000\n",
            "Epoch 13/15\n",
            "130/130 [==============================] - 0s 157us/step - loss: 0.0105 - acc: 1.0000 - val_loss: 0.0681 - val_acc: 1.0000\n",
            "Epoch 14/15\n",
            "130/130 [==============================] - 0s 158us/step - loss: 0.0081 - acc: 1.0000 - val_loss: 0.0649 - val_acc: 1.0000\n",
            "Epoch 15/15\n",
            "130/130 [==============================] - 0s 159us/step - loss: 0.0084 - acc: 1.0000 - val_loss: 0.0623 - val_acc: 1.0000\n"
          ],
          "name": "stdout"
        }
      ]
    },
    {
      "cell_type": "markdown",
      "metadata": {
        "id": "GpxyxxOudVXY",
        "colab_type": "text"
      },
      "source": [
        "validate the accuracy "
      ]
    },
    {
      "cell_type": "code",
      "metadata": {
        "id": "-f4kjWoydVXY",
        "colab_type": "code",
        "outputId": "144fc21f-1df8-4af7-c341-9f4f46d79fe8",
        "colab": {
          "base_uri": "https://localhost:8080/",
          "height": 51
        }
      },
      "source": [
        "score = model.evaluate(x_test, y_test,\n",
        "                       batch_size=batch_size, verbose=1)\n",
        "score[1]"
      ],
      "execution_count": 0,
      "outputs": [
        {
          "output_type": "stream",
          "text": [
            "63/63 [==============================] - 0s 167us/step\n"
          ],
          "name": "stdout"
        },
        {
          "output_type": "execute_result",
          "data": {
            "text/plain": [
              "0.8571428457895914"
            ]
          },
          "metadata": {
            "tags": []
          },
          "execution_count": 168
        }
      ]
    },
    {
      "cell_type": "code",
      "metadata": {
        "id": "dQyWrrWwsXjQ",
        "colab_type": "code",
        "outputId": "e006388d-a7ab-41d6-be35-d91a3faa76b3",
        "colab": {
          "base_uri": "https://localhost:8080/",
          "height": 136
        }
      },
      "source": [
        "x_test"
      ],
      "execution_count": 0,
      "outputs": [
        {
          "output_type": "execute_result",
          "data": {
            "text/plain": [
              "array([[0., 0., 0., ..., 0., 0., 0.],\n",
              "       [0., 0., 0., ..., 0., 0., 0.],\n",
              "       [0., 0., 0., ..., 0., 0., 0.],\n",
              "       ...,\n",
              "       [0., 0., 1., ..., 0., 0., 0.],\n",
              "       [0., 0., 0., ..., 0., 0., 0.],\n",
              "       [0., 1., 0., ..., 0., 0., 0.]])"
            ]
          },
          "metadata": {
            "tags": []
          },
          "execution_count": 169
        }
      ]
    },
    {
      "cell_type": "code",
      "metadata": {
        "id": "ssOUnSk-dVXa",
        "colab_type": "code",
        "outputId": "93b60c92-b6f1-4162-ef36-d7370143694c",
        "colab": {
          "base_uri": "https://localhost:8080/",
          "height": 163
        }
      },
      "source": [
        "matrix = metrics.confusion_matrix(y_test.argmax(axis=1), y_pred.argmax(axis=1))"
      ],
      "execution_count": 0,
      "outputs": [
        {
          "output_type": "error",
          "ename": "NameError",
          "evalue": "ignored",
          "traceback": [
            "\u001b[0;31m---------------------------------------------------------------------------\u001b[0m",
            "\u001b[0;31mNameError\u001b[0m                                 Traceback (most recent call last)",
            "\u001b[0;32m<ipython-input-170-c92da3d4948b>\u001b[0m in \u001b[0;36m<module>\u001b[0;34m()\u001b[0m\n\u001b[0;32m----> 1\u001b[0;31m \u001b[0mmatrix\u001b[0m \u001b[0;34m=\u001b[0m \u001b[0mmetrics\u001b[0m\u001b[0;34m.\u001b[0m\u001b[0mconfusion_matrix\u001b[0m\u001b[0;34m(\u001b[0m\u001b[0my_test\u001b[0m\u001b[0;34m.\u001b[0m\u001b[0margmax\u001b[0m\u001b[0;34m(\u001b[0m\u001b[0maxis\u001b[0m\u001b[0;34m=\u001b[0m\u001b[0;36m1\u001b[0m\u001b[0;34m)\u001b[0m\u001b[0;34m,\u001b[0m \u001b[0my_pred\u001b[0m\u001b[0;34m.\u001b[0m\u001b[0margmax\u001b[0m\u001b[0;34m(\u001b[0m\u001b[0maxis\u001b[0m\u001b[0;34m=\u001b[0m\u001b[0;36m1\u001b[0m\u001b[0;34m)\u001b[0m\u001b[0;34m)\u001b[0m\u001b[0;34m\u001b[0m\u001b[0;34m\u001b[0m\u001b[0m\n\u001b[0m",
            "\u001b[0;31mNameError\u001b[0m: name 'metrics' is not defined"
          ]
        }
      ]
    },
    {
      "cell_type": "code",
      "metadata": {
        "id": "g52ApdnVdVXc",
        "colab_type": "code",
        "colab": {}
      },
      "source": [
        ""
      ],
      "execution_count": 0,
      "outputs": []
    },
    {
      "cell_type": "code",
      "metadata": {
        "id": "gLOCyRiTdVXf",
        "colab_type": "code",
        "colab": {}
      },
      "source": [
        ""
      ],
      "execution_count": 0,
      "outputs": []
    },
    {
      "cell_type": "markdown",
      "metadata": {
        "id": "JYWnjTvOdIk7",
        "colab_type": "text"
      },
      "source": [
        "# Sankey Diagrams"
      ]
    },
    {
      "cell_type": "markdown",
      "metadata": {
        "id": "OdjeuwKjgz6u",
        "colab_type": "text"
      },
      "source": [
        ""
      ]
    },
    {
      "cell_type": "code",
      "metadata": {
        "id": "P0ei1VcxhadF",
        "colab_type": "code",
        "colab": {}
      },
      "source": [
        ""
      ],
      "execution_count": 0,
      "outputs": []
    },
    {
      "cell_type": "code",
      "metadata": {
        "id": "-WeF0jcqhamC",
        "colab_type": "code",
        "colab": {}
      },
      "source": [
        ""
      ],
      "execution_count": 0,
      "outputs": []
    },
    {
      "cell_type": "code",
      "metadata": {
        "id": "E4QRaX5ohaol",
        "colab_type": "code",
        "colab": {}
      },
      "source": [
        ""
      ],
      "execution_count": 0,
      "outputs": []
    },
    {
      "cell_type": "code",
      "metadata": {
        "id": "8xyQxNSmharg",
        "colab_type": "code",
        "colab": {}
      },
      "source": [
        ""
      ],
      "execution_count": 0,
      "outputs": []
    },
    {
      "cell_type": "markdown",
      "metadata": {
        "id": "MZPYZymzdVFD",
        "colab_type": "text"
      },
      "source": [
        "# Association Node Networks using ARM"
      ]
    },
    {
      "cell_type": "markdown",
      "metadata": {
        "id": "55gdD3MRgq3W",
        "colab_type": "text"
      },
      "source": [
        "Python doesn't have the arulesviz library which makes it impossible to draw the Node Networks. But we can call R from within python here"
      ]
    },
    {
      "cell_type": "code",
      "metadata": {
        "id": "d8c3JryPiv1P",
        "colab_type": "code",
        "colab": {}
      },
      "source": [
        "%load_ext rpy2.ipython"
      ],
      "execution_count": 0,
      "outputs": []
    },
    {
      "cell_type": "code",
      "metadata": {
        "id": "LOo4MarMP1eM",
        "colab_type": "code",
        "colab": {}
      },
      "source": [
        "import rpy2.robjects.packages as rpackages\n",
        "utils = rpackages.importr('utils')\n",
        "\n",
        "utils.chooseCRANmirror(ind=1) # select the first mirror in the list\n",
        "utils.chooseBioCmirror(ind=1)\n",
        "\n",
        "packnames = ('tm', 'SnowballC', 'arules', 'devtools')\n",
        "from rpy2.robjects.vectors import StrVector\n",
        "utils.install_packages(StrVector(packnames))"
      ],
      "execution_count": 0,
      "outputs": []
    },
    {
      "cell_type": "code",
      "metadata": {
        "id": "KKFTydkMX76n",
        "colab_type": "code",
        "colab": {}
      },
      "source": [
        "%%R\n",
        "\n",
        "install.packages(\"arulesViz\", lib=\"/data/Rpackages/\")"
      ],
      "execution_count": 0,
      "outputs": []
    },
    {
      "cell_type": "code",
      "metadata": {
        "id": "FW_xlrSts8Qq",
        "colab_type": "code",
        "colab": {}
      },
      "source": [
        "%%R\n",
        "library(tidyverse)\n",
        "library(readxl)\n",
        "library(tm)\n",
        "library(SnowballC) \n",
        "library(arules)\n",
        "library(arulesViz)"
      ],
      "execution_count": 0,
      "outputs": []
    },
    {
      "cell_type": "code",
      "metadata": {
        "id": "NSjrSLjlvcbQ",
        "colab_type": "code",
        "outputId": "9b4dcc60-05b3-4bed-fef1-111304f663b3",
        "colab": {
          "base_uri": "https://localhost:8080/",
          "height": 255
        }
      },
      "source": [
        "%%R\n",
        "txt = read_excel('SLFC survey.xlsx')\n",
        "txt"
      ],
      "execution_count": 0,
      "outputs": [
        {
          "output_type": "display_data",
          "data": {
            "text/plain": [
              "# A tibble: 208 x 4\n",
              "   `Floor Work On` `Workspace Locati… Temperature                      Sentiment\n",
              "   <chr>           <chr>              <chr>                            <chr>    \n",
              " 1 3               99 Bank St.        A proper BAS system that can ac… Negative \n",
              " 2 4               50 O'Connor        I think probably that it's not … Neutral  \n",
              " 3 7               99 Bank St.        The heat is not high enough so … Negative \n",
              " 4 13              50 O'Connor        I completed this survey last ye… Negative \n",
              " 5 3               99 Bank St.        I'm thinking it's just the seas… Negative \n",
              " 6 9               50 O'Connor        There is a bit of a draft from … Negative \n",
              " 7 16              50 O'Connor        They should turn on the cooling… Negative \n",
              " 8 5               99 Bank St.        I sit right under a vent and Mo… Negative \n",
              " 9 5               50 O'Connor        It's okay.                       Neutral  \n",
              "10 17              50 O'Connor        I don't think there is really m… Neutral  \n",
              "# … with 198 more rows\n"
            ]
          },
          "metadata": {
            "tags": []
          }
        }
      ]
    },
    {
      "cell_type": "code",
      "metadata": {
        "id": "wD8f15D7yDlK",
        "colab_type": "code",
        "outputId": "b0aae7f0-b893-4616-9e3d-2c0d783715b1",
        "colab": {
          "base_uri": "https://localhost:8080/",
          "height": 122
        }
      },
      "source": [
        "%%R\n",
        "txt$`Temperature`[1:5]"
      ],
      "execution_count": 0,
      "outputs": [
        {
          "output_type": "display_data",
          "data": {
            "text/plain": [
              "[1] \"A proper BAS system that can actually determine the air temperature outside and be more reactive so that when it's -5 outside in May the air conditioning doesn't come on.  Also personal temperature, I should be allowed to have a personal heater at my desk if I'm freezing.\"                                                                                                                                                                                                                    \n",
              "[2] \"I think probably that it's not adjusted to the changes in temperatures with the season so it takes awhile to readjust.  I'm not sure how to solve that except maybe trying to keep one constant temperature.  Is it doable?\"                                                                                                                                                                                                                                                                         \n",
              "[3] \"The heat is not high enough so put on more heat.\"                                                                                                                                                                                                                                                                                                                                                                                                                                                    \n",
              "[4] \"I completed this survey last year and also complained about the temperature and I see nothing has been done so I'm hoping that I can get better results for next year.  I think the problem is that the offices that are far away from windows are too cold and they are in open spaces.  With the thermostat the building people come in and they move it up and down and nothing happens.  We are just told that is the way it is so I think more needs to be done or we need to be given heaters.\"\n",
              "[5] \"I'm thinking it's just the seasons changing.  It's been cold and we were cold and now it's hot and we are hot all the time.  I think it would have to be manually changed because of all the frustration lately.\"                                                                                                                                                                                                                                                                                    \n"
            ]
          },
          "metadata": {
            "tags": []
          }
        }
      ]
    },
    {
      "cell_type": "markdown",
      "metadata": {
        "id": "SSHDTUpAcPxW",
        "colab_type": "text"
      },
      "source": [
        "### Preprocessing text"
      ]
    },
    {
      "cell_type": "code",
      "metadata": {
        "id": "Hu4lLi5jh6c-",
        "colab_type": "code",
        "colab": {}
      },
      "source": [
        "%%R\n",
        "#-------------------------------------------------DETAILED TEXT MINING --------------------------------------------\n",
        "## Preprocessing to create a document term matrix\n",
        "mydata <- txt$`Temperature`\n",
        "documents <- VectorSource(t(mydata))\n",
        "jeopCorpus <- Corpus(documents)\n",
        "jeopCorpus <- tm_map(jeopCorpus, PlainTextDocument)\n",
        "jeopCorpus <- tm_map(jeopCorpus, content_transformer(tolower))\n",
        "jeopCorpus <- tm_map(jeopCorpus, removePunctuation)\n",
        "jeopCorpus <- tm_map(jeopCorpus, stripWhitespace)\n",
        "jeopCorpus <- tm_map(jeopCorpus, removeNumbers)\n",
        "jeopCorpus <- tm_map(jeopCorpus, removeWords, stopwords(\"english\"))\n",
        "jeopCorpus <- tm_map(jeopCorpus, stemDocument)\n",
        "# jeopCorpus <- tm_map(jeopCorpus, removeWords, c(\"per\",\"awocwo\",\"tke\",\"acceptgn\",\"cwomd\",\"jeansd\",\"mwr\",\"lwr\",\"ghazi\",\n",
        "#                                                 \"barryrw\",\"barrygn\",\"robert\",\"wbarri\",\"extend\",\"reason\",\"work\",\"jean\",\n",
        "#                                                 \"thank\",\"awomd\",\"order\",\"barri\",\"teeven\",\"cli\",\"close\",\"accept\",\"fulli\",\n",
        "#                                                 \"mbeaudri\",\"mike\",\"allison\",\"aschmidtk\",\"schmidtk\",\"verbal\",\"can\",\"now\",\n",
        "#                                                 \"pleas\",\"will\",\"made\",\"alt\",\"need\",\"new\",\"open\",\"due\",\"use\",\"complet\",\n",
        "#                                                 \"done\",\"went\",\"flr\", \"technician\", \"comment\", \"jpl\", \"awo\", \"cwo\", \"gill\",\n",
        "#                                                 \"sab\",\"ben\",\"message\",\"left\", \"rene\", \"lattfield\", \"tstatsk\"))\n",
        "# jeopCorpus <- tm_map(jeopCorpus, content_transformer(gsub), pattern = \"\\\\b(stat|tstat|statsk|tstatsk|statssk)\\\\b\", \n",
        "#                                                                       replacement = \"tstat\")"
      ],
      "execution_count": 0,
      "outputs": []
    },
    {
      "cell_type": "markdown",
      "metadata": {
        "id": "ZHVC5SmGdRGa",
        "colab_type": "text"
      },
      "source": [
        "### Turn into a tocument term matrix"
      ]
    },
    {
      "cell_type": "code",
      "metadata": {
        "id": "-9QrUsx_cYH-",
        "colab_type": "code",
        "colab": {}
      },
      "source": [
        "%%R\n",
        "df_experiment <- data.frame(text = get(\"content\", jeopCorpus))\n",
        "head(df_experiment)\n",
        "\n",
        "dtm <- DocumentTermMatrix(jeopCorpus)\n",
        "\n",
        "#-----------Create a bar plot of the most common terms ----------------------------\n",
        "#create a term document matrix instead of document term matrix\n",
        "tdm <- TermDocumentMatrix(jeopCorpus)\n",
        "m <- as.matrix(tdm)\n",
        "v <- sort(rowSums(m),decreasing=TRUE)\n",
        "d <- data.frame(word = names(v),freq=v)\n",
        "\n",
        "# Write the raw document text matrix to a CSV ----\n",
        "write.csv(as.matrix(dtm), file=\"dtm.csv\")\n",
        "\n",
        "#Word frequency matrix\n",
        "freq <- colSums(as.matrix(dtm))\n",
        "length(freq)\n",
        "ord <- order(freq)\n",
        "m <- as.matrix(freq)\n",
        "dim(m)\n",
        "\n",
        "#creating term matrix with TF-IDF weighting\n",
        "terms <-DocumentTermMatrix(jeopCorpus,control = list(weighting = function(x) weightTfIdf(x, normalize = FALSE)))\n",
        "write.csv(as.matrix(terms), file=\"tfidf.csv\")\n",
        "\n",
        "#Word frequency matrix after TF-IDF weighting\n",
        "freq <- colSums(as.matrix(dtm))\n",
        "length(freq)\n",
        "ord <- order(freq)\n",
        "m <- as.matrix(freq)\n",
        "dim(m)\n",
        "\n",
        "dtmss <- removeSparseTerms(dtm, 0.994) # This makes a matrix that is only 15% empty space, maximum.  0.9999 usual 0.98\n",
        "write.csv(as.matrix(dtmss), file=\"dtmss.csv\")\n",
        "\n",
        "## ---- Using non-sparse dtm conduct an association rule analysis\n",
        "\n",
        "mydata <- read.csv('dtmss.csv', stringsAsFactors = FALSE)\n",
        "mydata[1] <- NULL"
      ],
      "execution_count": 0,
      "outputs": []
    },
    {
      "cell_type": "markdown",
      "metadata": {
        "id": "lIOQXBGidZbF",
        "colab_type": "text"
      },
      "source": [
        "### Set up the support and confidence parameters"
      ]
    },
    {
      "cell_type": "code",
      "metadata": {
        "id": "b89DcUKHchaK",
        "colab_type": "code",
        "colab": {}
      },
      "source": [
        "%%R\n",
        "# Set support and confidence values\n",
        "Support_ARM = 0.01\n",
        "Confidence_ARM = 0.85\n",
        "Number_of_rules = 20\n",
        "\n",
        "## Support 0.005 and confidence 0.80 support sort\n",
        "mydata <- sapply(mydata,as.logical)\n",
        "rules <- apriori(mydata,parameter = list(sup = Support_ARM, conf = Confidence_ARM,target=\"rules\"))\n",
        "summary(rules)\n",
        "rules.sorted <- sort(rules, by=\"support\")\n",
        "\n",
        "subrules <- head(sort(rules, by=\"support\"),Number_of_rules)\n",
        "view(subrules) \n",
        "write(subrules, file = \"dataNoClusteringSup00005Conf_support.csv\", sep = \",\")\n",
        "\n",
        "set.seed(1)"
      ],
      "execution_count": 0,
      "outputs": []
    },
    {
      "cell_type": "markdown",
      "metadata": {
        "id": "uKkOYIuPdgZI",
        "colab_type": "text"
      },
      "source": [
        "### plot the graphs"
      ]
    },
    {
      "cell_type": "code",
      "metadata": {
        "id": "o7NHLZJvc3T4",
        "colab_type": "code",
        "outputId": "15af8642-505b-4d1f-ac68-34de6facac2c",
        "colab": {
          "base_uri": "https://localhost:8080/",
          "height": 840
        }
      },
      "source": [
        "%%R\n",
        "plot(subrules, method=\"graph\", control=list(type=\"items\"))"
      ],
      "execution_count": 0,
      "outputs": [
        {
          "output_type": "display_data",
          "data": {
            "text/plain": [
              "Available control parameters (with default values):\n",
              "main\t =  Graph for 20 rules\n",
              "nodeColors\t =  c(\"#66CC6680\", \"#9999CC80\")\n",
              "nodeCol\t =  c(\"#EE0000FF\", \"#EE0303FF\", \"#EE0606FF\", \"#EE0909FF\", \"#EE0C0CFF\", \"#EE0F0FFF\", \"#EE1212FF\", \"#EE1515FF\", \"#EE1818FF\", \"#EE1B1BFF\", \"#EE1E1EFF\", \"#EE2222FF\", \"#EE2525FF\", \"#EE2828FF\", \"#EE2B2BFF\", \"#EE2E2EFF\", \"#EE3131FF\", \"#EE3434FF\", \"#EE3737FF\", \"#EE3A3AFF\", \"#EE3D3DFF\", \"#EE4040FF\", \"#EE4444FF\", \"#EE4747FF\", \"#EE4A4AFF\", \"#EE4D4DFF\", \"#EE5050FF\", \"#EE5353FF\", \"#EE5656FF\", \"#EE5959FF\", \"#EE5C5CFF\", \"#EE5F5FFF\", \"#EE6262FF\", \"#EE6666FF\", \"#EE6969FF\", \"#EE6C6CFF\", \"#EE6F6FFF\", \"#EE7272FF\", \"#EE7575FF\",  \"#EE7878FF\", \"#EE7B7BFF\", \"#EE7E7EFF\", \"#EE8181FF\", \"#EE8484FF\", \"#EE8888FF\", \"#EE8B8BFF\", \"#EE8E8EFF\", \"#EE9191FF\", \"#EE9494FF\", \"#EE9797FF\", \"#EE9999FF\", \"#EE9B9BFF\", \"#EE9D9DFF\", \"#EE9F9FFF\", \"#EEA0A0FF\", \"#EEA2A2FF\", \"#EEA4A4FF\", \"#EEA5A5FF\", \"#EEA7A7FF\", \"#EEA9A9FF\", \"#EEABABFF\", \"#EEACACFF\", \"#EEAEAEFF\", \"#EEB0B0FF\", \"#EEB1B1FF\", \"#EEB3B3FF\", \"#EEB5B5FF\", \"#EEB7B7FF\", \"#EEB8B8FF\", \"#EEBABAFF\", \"#EEBCBCFF\", \"#EEBDBDFF\", \"#EEBFBFFF\", \"#EEC1C1FF\", \"#EEC3C3FF\", \"#EEC4C4FF\", \"#EEC6C6FF\", \"#EEC8C8FF\",  \"#EEC9C9FF\", \"#EECBCBFF\", \"#EECDCDFF\", \"#EECFCFFF\", \"#EED0D0FF\", \"#EED2D2FF\", \"#EED4D4FF\", \"#EED5D5FF\", \"#EED7D7FF\", \"#EED9D9FF\", \"#EEDBDBFF\", \"#EEDCDCFF\", \"#EEDEDEFF\", \"#EEE0E0FF\", \"#EEE1E1FF\", \"#EEE3E3FF\", \"#EEE5E5FF\", \"#EEE7E7FF\", \"#EEE8E8FF\", \"#EEEAEAFF\", \"#EEECECFF\", \"#EEEEEEFF\")\n",
              "edgeCol\t =  c(\"#474747FF\", \"#494949FF\", \"#4B4B4BFF\", \"#4D4D4DFF\", \"#4F4F4FFF\", \"#515151FF\", \"#535353FF\", \"#555555FF\", \"#575757FF\", \"#595959FF\", \"#5B5B5BFF\", \"#5E5E5EFF\", \"#606060FF\", \"#626262FF\", \"#646464FF\", \"#666666FF\", \"#686868FF\", \"#6A6A6AFF\", \"#6C6C6CFF\", \"#6E6E6EFF\", \"#707070FF\", \"#727272FF\", \"#747474FF\", \"#767676FF\", \"#787878FF\", \"#7A7A7AFF\", \"#7C7C7CFF\", \"#7E7E7EFF\", \"#808080FF\", \"#828282FF\", \"#848484FF\", \"#868686FF\", \"#888888FF\", \"#8A8A8AFF\", \"#8C8C8CFF\", \"#8D8D8DFF\", \"#8F8F8FFF\", \"#919191FF\", \"#939393FF\",  \"#959595FF\", \"#979797FF\", \"#999999FF\", \"#9A9A9AFF\", \"#9C9C9CFF\", \"#9E9E9EFF\", \"#A0A0A0FF\", \"#A2A2A2FF\", \"#A3A3A3FF\", \"#A5A5A5FF\", \"#A7A7A7FF\", \"#A9A9A9FF\", \"#AAAAAAFF\", \"#ACACACFF\", \"#AEAEAEFF\", \"#AFAFAFFF\", \"#B1B1B1FF\", \"#B3B3B3FF\", \"#B4B4B4FF\", \"#B6B6B6FF\", \"#B7B7B7FF\", \"#B9B9B9FF\", \"#BBBBBBFF\", \"#BCBCBCFF\", \"#BEBEBEFF\", \"#BFBFBFFF\", \"#C1C1C1FF\", \"#C2C2C2FF\", \"#C3C3C4FF\", \"#C5C5C5FF\", \"#C6C6C6FF\", \"#C8C8C8FF\", \"#C9C9C9FF\", \"#CACACAFF\", \"#CCCCCCFF\", \"#CDCDCDFF\", \"#CECECEFF\", \"#CFCFCFFF\", \"#D1D1D1FF\",  \"#D2D2D2FF\", \"#D3D3D3FF\", \"#D4D4D4FF\", \"#D5D5D5FF\", \"#D6D6D6FF\", \"#D7D7D7FF\", \"#D8D8D8FF\", \"#D9D9D9FF\", \"#DADADAFF\", \"#DBDBDBFF\", \"#DCDCDCFF\", \"#DDDDDDFF\", \"#DEDEDEFF\", \"#DEDEDEFF\", \"#DFDFDFFF\", \"#E0E0E0FF\", \"#E0E0E0FF\", \"#E1E1E1FF\", \"#E1E1E1FF\", \"#E2E2E2FF\", \"#E2E2E2FF\", \"#E2E2E2FF\")\n",
              "alpha\t =  0.5\n",
              "cex\t =  1\n",
              "itemLabels\t =  TRUE\n",
              "labelCol\t =  #000000B3\n",
              "measureLabels\t =  FALSE\n",
              "precision\t =  3\n",
              "layout\t =  NULL\n",
              "layoutParams\t =  list()\n",
              "arrowSize\t =  0.5\n",
              "engine\t =  igraph\n",
              "plot\t =  TRUE\n",
              "plot_options\t =  list()\n",
              "max\t =  100\n",
              "verbose\t =  FALSE\n"
            ]
          },
          "metadata": {
            "tags": []
          }
        },
        {
          "output_type": "display_data",
          "data": {
            "image/png": "[encoded data removed]"
          },
          "metadata": {
            "tags": []
          }
        }
      ]
    },
    {
      "cell_type": "code",
      "metadata": {
        "id": "0UUjD1G_cnj-",
        "colab_type": "code",
        "outputId": "7a1fe062-8a20-43ca-ed0a-41a92cc492b8",
        "colab": {
          "base_uri": "https://localhost:8080/",
          "height": 136
        }
      },
      "source": [
        "%%R\n",
        "## Support 0.005 and confidence 0.80 lift sort\n",
        "mydata <- sapply(mydata,as.logical)\n",
        "rules <- apriori(mydata,parameter = list(sup = Support_ARM, conf = Confidence_ARM,target=\"rules\"))\n",
        "summary(rules)\n",
        "rules.sorted <- sort(rules, by=\"lift\")\n",
        " \n",
        "subrules <- head(sort(rules, by=\"lift\"),Number_of_rules)\n",
        "view(subrules)\n",
        "write(subrules, file = \"dataNoClusteringSup00005Conf_lift.csv\", sep = \",\")\n",
        "\n",
        "set.seed(1)"
      ],
      "execution_count": 0,
      "outputs": [
        {
          "output_type": "stream",
          "text": [
            "\n",
            "Error in as(data, \"transactions\") : \n",
            "  no method or default for coercing “logical” to “transactions”\n"
          ],
          "name": "stdout"
        },
        {
          "output_type": "stream",
          "text": [
            "/usr/local/lib/python3.6/dist-packages/rpy2/rinterface/__init__.py:146: RRuntimeWarning: Error in as(data, \"transactions\") : \n",
            "  no method or default for coercing “logical” to “transactions”\n",
            "\n",
            "  warnings.warn(x, RRuntimeWarning)\n"
          ],
          "name": "stderr"
        }
      ]
    },
    {
      "cell_type": "code",
      "metadata": {
        "id": "LyIKcidJc9Jz",
        "colab_type": "code",
        "outputId": "f0215f0a-80db-42c7-e4ac-a7c37c818569",
        "colab": {
          "base_uri": "https://localhost:8080/",
          "height": 925
        }
      },
      "source": [
        "%%R\n",
        "plot(subrules, method=\"graph\", control=list(type=\"items\"))"
      ],
      "execution_count": 0,
      "outputs": [
        {
          "output_type": "stream",
          "text": [
            "/usr/local/lib/python3.6/dist-packages/rpy2/rinterface/__init__.py:146: RRuntimeWarning: Warning:\n",
            "  warnings.warn(x, RRuntimeWarning)\n",
            "/usr/local/lib/python3.6/dist-packages/rpy2/rinterface/__init__.py:146: RRuntimeWarning:  Unknown control parameters: type\n",
            "\n",
            "  warnings.warn(x, RRuntimeWarning)\n"
          ],
          "name": "stderr"
        },
        {
          "output_type": "display_data",
          "data": {
            "text/plain": [
              "Available control parameters (with default values):\n",
              "main\t =  Graph for 20 rules\n",
              "nodeColors\t =  c(\"#66CC6680\", \"#9999CC80\")\n",
              "nodeCol\t =  c(\"#EE0000FF\", \"#EE0303FF\", \"#EE0606FF\", \"#EE0909FF\", \"#EE0C0CFF\", \"#EE0F0FFF\", \"#EE1212FF\", \"#EE1515FF\", \"#EE1818FF\", \"#EE1B1BFF\", \"#EE1E1EFF\", \"#EE2222FF\", \"#EE2525FF\", \"#EE2828FF\", \"#EE2B2BFF\", \"#EE2E2EFF\", \"#EE3131FF\", \"#EE3434FF\", \"#EE3737FF\", \"#EE3A3AFF\", \"#EE3D3DFF\", \"#EE4040FF\", \"#EE4444FF\", \"#EE4747FF\", \"#EE4A4AFF\", \"#EE4D4DFF\", \"#EE5050FF\", \"#EE5353FF\", \"#EE5656FF\", \"#EE5959FF\", \"#EE5C5CFF\", \"#EE5F5FFF\", \"#EE6262FF\", \"#EE6666FF\", \"#EE6969FF\", \"#EE6C6CFF\", \"#EE6F6FFF\", \"#EE7272FF\", \"#EE7575FF\",  \"#EE7878FF\", \"#EE7B7BFF\", \"#EE7E7EFF\", \"#EE8181FF\", \"#EE8484FF\", \"#EE8888FF\", \"#EE8B8BFF\", \"#EE8E8EFF\", \"#EE9191FF\", \"#EE9494FF\", \"#EE9797FF\", \"#EE9999FF\", \"#EE9B9BFF\", \"#EE9D9DFF\", \"#EE9F9FFF\", \"#EEA0A0FF\", \"#EEA2A2FF\", \"#EEA4A4FF\", \"#EEA5A5FF\", \"#EEA7A7FF\", \"#EEA9A9FF\", \"#EEABABFF\", \"#EEACACFF\", \"#EEAEAEFF\", \"#EEB0B0FF\", \"#EEB1B1FF\", \"#EEB3B3FF\", \"#EEB5B5FF\", \"#EEB7B7FF\", \"#EEB8B8FF\", \"#EEBABAFF\", \"#EEBCBCFF\", \"#EEBDBDFF\", \"#EEBFBFFF\", \"#EEC1C1FF\", \"#EEC3C3FF\", \"#EEC4C4FF\", \"#EEC6C6FF\", \"#EEC8C8FF\",  \"#EEC9C9FF\", \"#EECBCBFF\", \"#EECDCDFF\", \"#EECFCFFF\", \"#EED0D0FF\", \"#EED2D2FF\", \"#EED4D4FF\", \"#EED5D5FF\", \"#EED7D7FF\", \"#EED9D9FF\", \"#EEDBDBFF\", \"#EEDCDCFF\", \"#EEDEDEFF\", \"#EEE0E0FF\", \"#EEE1E1FF\", \"#EEE3E3FF\", \"#EEE5E5FF\", \"#EEE7E7FF\", \"#EEE8E8FF\", \"#EEEAEAFF\", \"#EEECECFF\", \"#EEEEEEFF\")\n",
              "edgeCol\t =  c(\"#474747FF\", \"#494949FF\", \"#4B4B4BFF\", \"#4D4D4DFF\", \"#4F4F4FFF\", \"#515151FF\", \"#535353FF\", \"#555555FF\", \"#575757FF\", \"#595959FF\", \"#5B5B5BFF\", \"#5E5E5EFF\", \"#606060FF\", \"#626262FF\", \"#646464FF\", \"#666666FF\", \"#686868FF\", \"#6A6A6AFF\", \"#6C6C6CFF\", \"#6E6E6EFF\", \"#707070FF\", \"#727272FF\", \"#747474FF\", \"#767676FF\", \"#787878FF\", \"#7A7A7AFF\", \"#7C7C7CFF\", \"#7E7E7EFF\", \"#808080FF\", \"#828282FF\", \"#848484FF\", \"#868686FF\", \"#888888FF\", \"#8A8A8AFF\", \"#8C8C8CFF\", \"#8D8D8DFF\", \"#8F8F8FFF\", \"#919191FF\", \"#939393FF\",  \"#959595FF\", \"#979797FF\", \"#999999FF\", \"#9A9A9AFF\", \"#9C9C9CFF\", \"#9E9E9EFF\", \"#A0A0A0FF\", \"#A2A2A2FF\", \"#A3A3A3FF\", \"#A5A5A5FF\", \"#A7A7A7FF\", \"#A9A9A9FF\", \"#AAAAAAFF\", \"#ACACACFF\", \"#AEAEAEFF\", \"#AFAFAFFF\", \"#B1B1B1FF\", \"#B3B3B3FF\", \"#B4B4B4FF\", \"#B6B6B6FF\", \"#B7B7B7FF\", \"#B9B9B9FF\", \"#BBBBBBFF\", \"#BCBCBCFF\", \"#BEBEBEFF\", \"#BFBFBFFF\", \"#C1C1C1FF\", \"#C2C2C2FF\", \"#C3C3C4FF\", \"#C5C5C5FF\", \"#C6C6C6FF\", \"#C8C8C8FF\", \"#C9C9C9FF\", \"#CACACAFF\", \"#CCCCCCFF\", \"#CDCDCDFF\", \"#CECECEFF\", \"#CFCFCFFF\", \"#D1D1D1FF\",  \"#D2D2D2FF\", \"#D3D3D3FF\", \"#D4D4D4FF\", \"#D5D5D5FF\", \"#D6D6D6FF\", \"#D7D7D7FF\", \"#D8D8D8FF\", \"#D9D9D9FF\", \"#DADADAFF\", \"#DBDBDBFF\", \"#DCDCDCFF\", \"#DDDDDDFF\", \"#DEDEDEFF\", \"#DEDEDEFF\", \"#DFDFDFFF\", \"#E0E0E0FF\", \"#E0E0E0FF\", \"#E1E1E1FF\", \"#E1E1E1FF\", \"#E2E2E2FF\", \"#E2E2E2FF\", \"#E2E2E2FF\")\n",
              "alpha\t =  0.5\n",
              "cex\t =  1\n",
              "itemLabels\t =  TRUE\n",
              "labelCol\t =  #000000B3\n",
              "measureLabels\t =  FALSE\n",
              "precision\t =  3\n",
              "layout\t =  NULL\n",
              "layoutParams\t =  list()\n",
              "arrowSize\t =  0.5\n",
              "engine\t =  igraph\n",
              "plot\t =  TRUE\n",
              "plot_options\t =  list()\n",
              "max\t =  100\n",
              "verbose\t =  FALSE\n"
            ]
          },
          "metadata": {
            "tags": []
          }
        },
        {
          "output_type": "display_data",
          "data": {
            "image/png": "[encoded data removed]"
          },
          "metadata": {
            "tags": []
          }
        }
      ]
    },
    {
      "cell_type": "code",
      "metadata": {
        "id": "j-arOOwkctNV",
        "colab_type": "code",
        "outputId": "99c2bc98-a777-4514-e550-3f7b72e4dfe9",
        "colab": {
          "base_uri": "https://localhost:8080/",
          "height": 136
        }
      },
      "source": [
        "%%R\n",
        "## Support 0.0001 and confidence 0.75 confidence sort\n",
        "mydata <- sapply(mydata,as.logical)\n",
        "rules <- apriori(mydata,parameter = list(sup = Support_ARM, conf = Confidence_ARM,target=\"rules\"))\n",
        "summary(rules)\n",
        "rules.sorted <- sort(rules, by=\"confidence\")\n",
        "\n",
        "subrules <- head(sort(rules, by=\"confidence\"),Number_of_rules)\n",
        "view(subrules)\n",
        "write(subrules, file = \"dataNoClusteringSup00005Conf_confidence.csv\", sep = \",\")\n",
        "\n",
        "set.seed(1)"
      ],
      "execution_count": 0,
      "outputs": [
        {
          "output_type": "stream",
          "text": [
            "\n",
            "Error in as(data, \"transactions\") : \n",
            "  no method or default for coercing “logical” to “transactions”\n"
          ],
          "name": "stdout"
        },
        {
          "output_type": "stream",
          "text": [
            "/usr/local/lib/python3.6/dist-packages/rpy2/rinterface/__init__.py:146: RRuntimeWarning: Error in as(data, \"transactions\") : \n",
            "  no method or default for coercing “logical” to “transactions”\n",
            "\n",
            "  warnings.warn(x, RRuntimeWarning)\n"
          ],
          "name": "stderr"
        }
      ]
    },
    {
      "cell_type": "code",
      "metadata": {
        "id": "KLxmvFBAdGcP",
        "colab_type": "code",
        "outputId": "e69b9381-5cad-4471-8f5e-4951c8842dee",
        "colab": {
          "base_uri": "https://localhost:8080/",
          "height": 840
        }
      },
      "source": [
        "%%R\n",
        "plot(subrules, method=\"graph\", control=list(type=\"items\"))"
      ],
      "execution_count": 0,
      "outputs": [
        {
          "output_type": "display_data",
          "data": {
            "text/plain": [
              "Available control parameters (with default values):\n",
              "main\t =  Graph for 20 rules\n",
              "nodeColors\t =  c(\"#66CC6680\", \"#9999CC80\")\n",
              "nodeCol\t =  c(\"#EE0000FF\", \"#EE0303FF\", \"#EE0606FF\", \"#EE0909FF\", \"#EE0C0CFF\", \"#EE0F0FFF\", \"#EE1212FF\", \"#EE1515FF\", \"#EE1818FF\", \"#EE1B1BFF\", \"#EE1E1EFF\", \"#EE2222FF\", \"#EE2525FF\", \"#EE2828FF\", \"#EE2B2BFF\", \"#EE2E2EFF\", \"#EE3131FF\", \"#EE3434FF\", \"#EE3737FF\", \"#EE3A3AFF\", \"#EE3D3DFF\", \"#EE4040FF\", \"#EE4444FF\", \"#EE4747FF\", \"#EE4A4AFF\", \"#EE4D4DFF\", \"#EE5050FF\", \"#EE5353FF\", \"#EE5656FF\", \"#EE5959FF\", \"#EE5C5CFF\", \"#EE5F5FFF\", \"#EE6262FF\", \"#EE6666FF\", \"#EE6969FF\", \"#EE6C6CFF\", \"#EE6F6FFF\", \"#EE7272FF\", \"#EE7575FF\",  \"#EE7878FF\", \"#EE7B7BFF\", \"#EE7E7EFF\", \"#EE8181FF\", \"#EE8484FF\", \"#EE8888FF\", \"#EE8B8BFF\", \"#EE8E8EFF\", \"#EE9191FF\", \"#EE9494FF\", \"#EE9797FF\", \"#EE9999FF\", \"#EE9B9BFF\", \"#EE9D9DFF\", \"#EE9F9FFF\", \"#EEA0A0FF\", \"#EEA2A2FF\", \"#EEA4A4FF\", \"#EEA5A5FF\", \"#EEA7A7FF\", \"#EEA9A9FF\", \"#EEABABFF\", \"#EEACACFF\", \"#EEAEAEFF\", \"#EEB0B0FF\", \"#EEB1B1FF\", \"#EEB3B3FF\", \"#EEB5B5FF\", \"#EEB7B7FF\", \"#EEB8B8FF\", \"#EEBABAFF\", \"#EEBCBCFF\", \"#EEBDBDFF\", \"#EEBFBFFF\", \"#EEC1C1FF\", \"#EEC3C3FF\", \"#EEC4C4FF\", \"#EEC6C6FF\", \"#EEC8C8FF\",  \"#EEC9C9FF\", \"#EECBCBFF\", \"#EECDCDFF\", \"#EECFCFFF\", \"#EED0D0FF\", \"#EED2D2FF\", \"#EED4D4FF\", \"#EED5D5FF\", \"#EED7D7FF\", \"#EED9D9FF\", \"#EEDBDBFF\", \"#EEDCDCFF\", \"#EEDEDEFF\", \"#EEE0E0FF\", \"#EEE1E1FF\", \"#EEE3E3FF\", \"#EEE5E5FF\", \"#EEE7E7FF\", \"#EEE8E8FF\", \"#EEEAEAFF\", \"#EEECECFF\", \"#EEEEEEFF\")\n",
              "edgeCol\t =  c(\"#474747FF\", \"#494949FF\", \"#4B4B4BFF\", \"#4D4D4DFF\", \"#4F4F4FFF\", \"#515151FF\", \"#535353FF\", \"#555555FF\", \"#575757FF\", \"#595959FF\", \"#5B5B5BFF\", \"#5E5E5EFF\", \"#606060FF\", \"#626262FF\", \"#646464FF\", \"#666666FF\", \"#686868FF\", \"#6A6A6AFF\", \"#6C6C6CFF\", \"#6E6E6EFF\", \"#707070FF\", \"#727272FF\", \"#747474FF\", \"#767676FF\", \"#787878FF\", \"#7A7A7AFF\", \"#7C7C7CFF\", \"#7E7E7EFF\", \"#808080FF\", \"#828282FF\", \"#848484FF\", \"#868686FF\", \"#888888FF\", \"#8A8A8AFF\", \"#8C8C8CFF\", \"#8D8D8DFF\", \"#8F8F8FFF\", \"#919191FF\", \"#939393FF\",  \"#959595FF\", \"#979797FF\", \"#999999FF\", \"#9A9A9AFF\", \"#9C9C9CFF\", \"#9E9E9EFF\", \"#A0A0A0FF\", \"#A2A2A2FF\", \"#A3A3A3FF\", \"#A5A5A5FF\", \"#A7A7A7FF\", \"#A9A9A9FF\", \"#AAAAAAFF\", \"#ACACACFF\", \"#AEAEAEFF\", \"#AFAFAFFF\", \"#B1B1B1FF\", \"#B3B3B3FF\", \"#B4B4B4FF\", \"#B6B6B6FF\", \"#B7B7B7FF\", \"#B9B9B9FF\", \"#BBBBBBFF\", \"#BCBCBCFF\", \"#BEBEBEFF\", \"#BFBFBFFF\", \"#C1C1C1FF\", \"#C2C2C2FF\", \"#C3C3C4FF\", \"#C5C5C5FF\", \"#C6C6C6FF\", \"#C8C8C8FF\", \"#C9C9C9FF\", \"#CACACAFF\", \"#CCCCCCFF\", \"#CDCDCDFF\", \"#CECECEFF\", \"#CFCFCFFF\", \"#D1D1D1FF\",  \"#D2D2D2FF\", \"#D3D3D3FF\", \"#D4D4D4FF\", \"#D5D5D5FF\", \"#D6D6D6FF\", \"#D7D7D7FF\", \"#D8D8D8FF\", \"#D9D9D9FF\", \"#DADADAFF\", \"#DBDBDBFF\", \"#DCDCDCFF\", \"#DDDDDDFF\", \"#DEDEDEFF\", \"#DEDEDEFF\", \"#DFDFDFFF\", \"#E0E0E0FF\", \"#E0E0E0FF\", \"#E1E1E1FF\", \"#E1E1E1FF\", \"#E2E2E2FF\", \"#E2E2E2FF\", \"#E2E2E2FF\")\n",
              "alpha\t =  0.5\n",
              "cex\t =  1\n",
              "itemLabels\t =  TRUE\n",
              "labelCol\t =  #000000B3\n",
              "measureLabels\t =  FALSE\n",
              "precision\t =  3\n",
              "layout\t =  NULL\n",
              "layoutParams\t =  list()\n",
              "arrowSize\t =  0.5\n",
              "engine\t =  igraph\n",
              "plot\t =  TRUE\n",
              "plot_options\t =  list()\n",
              "max\t =  100\n",
              "verbose\t =  FALSE\n"
            ]
          },
          "metadata": {
            "tags": []
          }
        },
        {
          "output_type": "display_data",
          "data": {
            "image/png": "[encoded data removed]"
          },
          "metadata": {
            "tags": []
          }
        }
      ]
    },
    {
      "cell_type": "markdown",
      "metadata": {
        "id": "-rVkfsSJdcqM",
        "colab_type": "text"
      },
      "source": [
        "# Topic Modelling of Survey Responses"
      ]
    },
    {
      "cell_type": "markdown",
      "metadata": {
        "id": "6y025w4UgPuI",
        "colab_type": "text"
      },
      "source": [
        "## Read in the Data"
      ]
    },
    {
      "cell_type": "code",
      "metadata": {
        "id": "zaqJVIDGe971",
        "colab_type": "code",
        "colab": {}
      },
      "source": [
        "import pandas as pd\n",
        "import numpy as np\n",
        "import seaborn as sns\n",
        "import matplotlib.pyplot as plt\n",
        "\n",
        "from nltk.corpus import stopwords\n",
        "from textblob import TextBlob, Word\n",
        "from textblob.sentiments import NaiveBayesAnalyzer\n",
        "from textblob.classifiers import NaiveBayesClassifier\n",
        "from sklearn.feature_extraction.text import TfidfVectorizer, CountVectorizer\n",
        "from sklearn.decomposition import NMF, LatentDirichletAllocation, TruncatedSVD"
      ],
      "execution_count": 0,
      "outputs": []
    },
    {
      "cell_type": "code",
      "metadata": {
        "id": "jLXzaJTUgRl_",
        "colab_type": "code",
        "outputId": "df692726-fa05-4d25-dece-bbd944334688",
        "colab": {
          "base_uri": "https://localhost:8080/",
          "height": 204
        }
      },
      "source": [
        "survey_resp_temp = pd.read_excel('SLFC survey.xlsx', \n",
        "                            sheet_name = 'Temp')\n",
        "survey_resp_temp = survey_resp_temp[['Floor Work On','Temperature']]\n",
        "survey_resp_temp = survey_resp_temp.replace('B1 Basement', 'B')\n",
        "survey_resp_temp[0:5]"
      ],
      "execution_count": 0,
      "outputs": [
        {
          "output_type": "execute_result",
          "data": {
            "text/html": [
              "<div>\n",
              "<style scoped>\n",
              "    .dataframe tbody tr th:only-of-type {\n",
              "        vertical-align: middle;\n",
              "    }\n",
              "\n",
              "    .dataframe tbody tr th {\n",
              "        vertical-align: top;\n",
              "    }\n",
              "\n",
              "    .dataframe thead th {\n",
              "        text-align: right;\n",
              "    }\n",
              "</style>\n",
              "<table border=\"1\" class=\"dataframe\">\n",
              "  <thead>\n",
              "    <tr style=\"text-align: right;\">\n",
              "      <th></th>\n",
              "      <th>Floor Work On</th>\n",
              "      <th>Temperature</th>\n",
              "    </tr>\n",
              "  </thead>\n",
              "  <tbody>\n",
              "    <tr>\n",
              "      <th>0</th>\n",
              "      <td>3</td>\n",
              "      <td>A proper BAS system that can actually determin...</td>\n",
              "    </tr>\n",
              "    <tr>\n",
              "      <th>1</th>\n",
              "      <td>4</td>\n",
              "      <td>I think probably that it's not adjusted to the...</td>\n",
              "    </tr>\n",
              "    <tr>\n",
              "      <th>2</th>\n",
              "      <td>7</td>\n",
              "      <td>The heat is not high enough so put on more heat.</td>\n",
              "    </tr>\n",
              "    <tr>\n",
              "      <th>3</th>\n",
              "      <td>13</td>\n",
              "      <td>I completed this survey last year and also com...</td>\n",
              "    </tr>\n",
              "    <tr>\n",
              "      <th>4</th>\n",
              "      <td>3</td>\n",
              "      <td>I'm thinking it's just the seasons changing.  ...</td>\n",
              "    </tr>\n",
              "  </tbody>\n",
              "</table>\n",
              "</div>"
            ],
            "text/plain": [
              "  Floor Work On                                        Temperature\n",
              "0             3  A proper BAS system that can actually determin...\n",
              "1             4  I think probably that it's not adjusted to the...\n",
              "2             7   The heat is not high enough so put on more heat.\n",
              "3            13  I completed this survey last year and also com...\n",
              "4             3  I'm thinking it's just the seasons changing.  ..."
            ]
          },
          "metadata": {
            "tags": []
          },
          "execution_count": 26
        }
      ]
    },
    {
      "cell_type": "code",
      "metadata": {
        "id": "6xkzxvErgT3z",
        "colab_type": "code",
        "outputId": "6a281b9d-c189-4c16-9954-83785da0b8e6",
        "colab": {
          "base_uri": "https://localhost:8080/",
          "height": 204
        }
      },
      "source": [
        "survey_resp_maint = pd.read_excel('SLFC survey.xlsx', \n",
        "                            sheet_name = 'Maint')\n",
        "survey_resp_maint = survey_resp_maint[['Floor Work On','Maintenance']]\n",
        "survey_resp_maint = survey_resp_maint.replace('B1 Basement', 'B')\n",
        "survey_resp_maint[0:5]"
      ],
      "execution_count": 0,
      "outputs": [
        {
          "output_type": "execute_result",
          "data": {
            "text/html": [
              "<div>\n",
              "<style scoped>\n",
              "    .dataframe tbody tr th:only-of-type {\n",
              "        vertical-align: middle;\n",
              "    }\n",
              "\n",
              "    .dataframe tbody tr th {\n",
              "        vertical-align: top;\n",
              "    }\n",
              "\n",
              "    .dataframe thead th {\n",
              "        text-align: right;\n",
              "    }\n",
              "</style>\n",
              "<table border=\"1\" class=\"dataframe\">\n",
              "  <thead>\n",
              "    <tr style=\"text-align: right;\">\n",
              "      <th></th>\n",
              "      <th>Floor Work On</th>\n",
              "      <th>Maintenance</th>\n",
              "    </tr>\n",
              "  </thead>\n",
              "  <tbody>\n",
              "    <tr>\n",
              "      <th>0</th>\n",
              "      <td>3</td>\n",
              "      <td>Just because this building is energy efficient...</td>\n",
              "    </tr>\n",
              "    <tr>\n",
              "      <th>1</th>\n",
              "      <td>11</td>\n",
              "      <td>The bicycle locker room can always be better, ...</td>\n",
              "    </tr>\n",
              "    <tr>\n",
              "      <th>2</th>\n",
              "      <td>13</td>\n",
              "      <td>I think the biggest thing I notice is the ligh...</td>\n",
              "    </tr>\n",
              "    <tr>\n",
              "      <th>3</th>\n",
              "      <td>2</td>\n",
              "      <td>The washrooms on the 2nd floor, the womens was...</td>\n",
              "    </tr>\n",
              "    <tr>\n",
              "      <th>4</th>\n",
              "      <td>13</td>\n",
              "      <td>The mens bathroom on the 13th floor that have ...</td>\n",
              "    </tr>\n",
              "  </tbody>\n",
              "</table>\n",
              "</div>"
            ],
            "text/plain": [
              "  Floor Work On                                        Maintenance\n",
              "0             3  Just because this building is energy efficient...\n",
              "1            11  The bicycle locker room can always be better, ...\n",
              "2            13  I think the biggest thing I notice is the ligh...\n",
              "3             2  The washrooms on the 2nd floor, the womens was...\n",
              "4            13  The mens bathroom on the 13th floor that have ..."
            ]
          },
          "metadata": {
            "tags": []
          },
          "execution_count": 27
        }
      ]
    },
    {
      "cell_type": "markdown",
      "metadata": {
        "id": "xGTA4kH9fbpV",
        "colab_type": "text"
      },
      "source": [
        "## Create the vectorized arrays for the text"
      ]
    },
    {
      "cell_type": "code",
      "metadata": {
        "id": "rIIMU9vIdqok",
        "colab_type": "code",
        "colab": {}
      },
      "source": [
        "#Create a vectorizer (TF-idf and count) for temperature\n",
        "vectorizer = CountVectorizer()\n",
        "vectorizer_TFIDF = TfidfVectorizer()\n",
        "# apply transformation\n",
        "tf_temp = vectorizer.fit_transform(survey_resp_temp['Temperature']).toarray()\n",
        "tf_idf_temp = vectorizer_TFIDF.fit_transform(survey_resp_temp['Temperature']).toarray()\n",
        "# tf_feature_names tells us what word each column in the matric represents\n",
        "tf_feature_names_temp = vectorizer.get_feature_names()\n",
        "tf_idf_feature_names_temp = vectorizer_TFIDF.get_feature_names()"
      ],
      "execution_count": 0,
      "outputs": []
    },
    {
      "cell_type": "code",
      "metadata": {
        "id": "Uchgj2XbfR0M",
        "colab_type": "code",
        "colab": {}
      },
      "source": [
        "#Create a vectorizer (TF-idf and count) for maintenance\n",
        "tf_maint = vectorizer.fit_transform(survey_resp_maint['Maintenance']).toarray()\n",
        "tf_idf_maint = vectorizer_TFIDF.fit_transform(survey_resp_maint['Maintenance']).toarray()\n",
        "# tf_feature_names tells us what word each column in the matric represents\n",
        "tf_feature_names_maint = vectorizer.get_feature_names()\n",
        "tf_idf_feature_names_maint = vectorizer_TFIDF.get_feature_names()"
      ],
      "execution_count": 0,
      "outputs": []
    },
    {
      "cell_type": "markdown",
      "metadata": {
        "id": "ASnbE6nUfWMi",
        "colab_type": "text"
      },
      "source": [
        "## Create a function to turn the model object \"model\" into a dataframe that shows the created topics"
      ]
    },
    {
      "cell_type": "code",
      "metadata": {
        "id": "dRQECZgjfTs6",
        "colab_type": "code",
        "colab": {}
      },
      "source": [
        "def display_topics(model, feature_names, no_top_words):\n",
        "    topic_dict = {}\n",
        "    for topic_idx, topic in enumerate(model.components_):\n",
        "        topic_dict[\"Topic %d words\" % (topic_idx)]= ['{}'.format(feature_names[i])\n",
        "                        for i in topic.argsort()[:-no_top_words - 1:-1]]\n",
        "        topic_dict[\"Topic %d weights\" % (topic_idx)]= ['{:.1f}'.format(topic[i])\n",
        "                        for i in topic.argsort()[:-no_top_words - 1:-1]]\n",
        "    return pd.DataFrame(topic_dict)"
      ],
      "execution_count": 0,
      "outputs": []
    },
    {
      "cell_type": "markdown",
      "metadata": {
        "id": "UZAOpmb6fiXu",
        "colab_type": "text"
      },
      "source": [
        "## Topic modelling using the LDA (Latent Dirichlet Allocation) algorithm"
      ]
    },
    {
      "cell_type": "code",
      "metadata": {
        "id": "ccAFOu2gffS7",
        "colab_type": "code",
        "outputId": "94434be6-0b73-41fb-ccaa-96cc09e5945c",
        "colab": {
          "base_uri": "https://localhost:8080/",
          "height": 376
        }
      },
      "source": [
        "#%% Topic modelling using LDA (Latent Dirichlet Allocation) for Thermal complaints\n",
        "# Create the model object. Start by choosing 10 topics\n",
        "number_of_topics = 6\n",
        "# Create the LDA (Latent Dirichlet Allocation ) model \n",
        "model_LDA_temp = LatentDirichletAllocation(n_components=number_of_topics, random_state=0)\n",
        "model_LDA_temp.fit(tf_idf_temp)\n",
        "no_top_words = 10\n",
        "Topics_LDA_temp = display_topics(model_LDA_temp, tf_feature_names_temp, no_top_words)    \n",
        "Topics_LDA_temp"
      ],
      "execution_count": 0,
      "outputs": [
        {
          "output_type": "execute_result",
          "data": {
            "text/html": [
              "<div>\n",
              "<style scoped>\n",
              "    .dataframe tbody tr th:only-of-type {\n",
              "        vertical-align: middle;\n",
              "    }\n",
              "\n",
              "    .dataframe tbody tr th {\n",
              "        vertical-align: top;\n",
              "    }\n",
              "\n",
              "    .dataframe thead th {\n",
              "        text-align: right;\n",
              "    }\n",
              "</style>\n",
              "<table border=\"1\" class=\"dataframe\">\n",
              "  <thead>\n",
              "    <tr style=\"text-align: right;\">\n",
              "      <th></th>\n",
              "      <th>Topic 0 words</th>\n",
              "      <th>Topic 0 weights</th>\n",
              "      <th>Topic 1 words</th>\n",
              "      <th>Topic 1 weights</th>\n",
              "      <th>Topic 2 words</th>\n",
              "      <th>Topic 2 weights</th>\n",
              "      <th>Topic 3 words</th>\n",
              "      <th>Topic 3 weights</th>\n",
              "      <th>Topic 4 words</th>\n",
              "      <th>Topic 4 weights</th>\n",
              "      <th>Topic 5 words</th>\n",
              "      <th>Topic 5 weights</th>\n",
              "    </tr>\n",
              "  </thead>\n",
              "  <tbody>\n",
              "    <tr>\n",
              "      <th>0</th>\n",
              "      <td>the</td>\n",
              "      <td>8.0</td>\n",
              "      <td>the</td>\n",
              "      <td>14.3</td>\n",
              "      <td>not</td>\n",
              "      <td>2.3</td>\n",
              "      <td>the</td>\n",
              "      <td>1.4</td>\n",
              "      <td>my</td>\n",
              "      <td>1.8</td>\n",
              "      <td>any</td>\n",
              "      <td>1.5</td>\n",
              "    </tr>\n",
              "    <tr>\n",
              "      <th>1</th>\n",
              "      <td>it</td>\n",
              "      <td>4.9</td>\n",
              "      <td>it</td>\n",
              "      <td>12.7</td>\n",
              "      <td>circulation</td>\n",
              "      <td>2.2</td>\n",
              "      <td>offices</td>\n",
              "      <td>1.1</td>\n",
              "      <td>air</td>\n",
              "      <td>1.5</td>\n",
              "      <td>overall</td>\n",
              "      <td>0.8</td>\n",
              "    </tr>\n",
              "    <tr>\n",
              "      <th>2</th>\n",
              "      <td>too</td>\n",
              "      <td>4.2</td>\n",
              "      <td>don</td>\n",
              "      <td>9.9</td>\n",
              "      <td>sure</td>\n",
              "      <td>2.2</td>\n",
              "      <td>okay</td>\n",
              "      <td>1.1</td>\n",
              "      <td>to</td>\n",
              "      <td>1.4</td>\n",
              "      <td>anything</td>\n",
              "      <td>0.7</td>\n",
              "    </tr>\n",
              "    <tr>\n",
              "      <th>3</th>\n",
              "      <td>in</td>\n",
              "      <td>4.1</td>\n",
              "      <td>know</td>\n",
              "      <td>9.8</td>\n",
              "      <td>air</td>\n",
              "      <td>2.1</td>\n",
              "      <td>window</td>\n",
              "      <td>1.1</td>\n",
              "      <td>needs</td>\n",
              "      <td>1.4</td>\n",
              "      <td>suggestions</td>\n",
              "      <td>0.7</td>\n",
              "    </tr>\n",
              "    <tr>\n",
              "      <th>4</th>\n",
              "      <td>and</td>\n",
              "      <td>3.8</td>\n",
              "      <td>and</td>\n",
              "      <td>8.3</td>\n",
              "      <td>the</td>\n",
              "      <td>2.0</td>\n",
              "      <td>to</td>\n",
              "      <td>1.0</td>\n",
              "      <td>humidity</td>\n",
              "      <td>1.4</td>\n",
              "      <td>manage</td>\n",
              "      <td>0.6</td>\n",
              "    </tr>\n",
              "    <tr>\n",
              "      <th>5</th>\n",
              "      <td>to</td>\n",
              "      <td>3.5</td>\n",
              "      <td>to</td>\n",
              "      <td>7.2</td>\n",
              "      <td>good</td>\n",
              "      <td>1.8</td>\n",
              "      <td>my</td>\n",
              "      <td>0.9</td>\n",
              "      <td>it</td>\n",
              "      <td>1.3</td>\n",
              "      <td>couple</td>\n",
              "      <td>0.6</td>\n",
              "    </tr>\n",
              "    <tr>\n",
              "      <th>6</th>\n",
              "      <td>is</td>\n",
              "      <td>3.4</td>\n",
              "      <td>they</td>\n",
              "      <td>7.1</td>\n",
              "      <td>am</td>\n",
              "      <td>1.7</td>\n",
              "      <td>hard</td>\n",
              "      <td>0.9</td>\n",
              "      <td>office</td>\n",
              "      <td>1.2</td>\n",
              "      <td>end</td>\n",
              "      <td>0.6</td>\n",
              "    </tr>\n",
              "    <tr>\n",
              "      <th>7</th>\n",
              "      <td>air</td>\n",
              "      <td>3.1</td>\n",
              "      <td>is</td>\n",
              "      <td>6.8</td>\n",
              "      <td>in</td>\n",
              "      <td>1.3</td>\n",
              "      <td>strong</td>\n",
              "      <td>0.9</td>\n",
              "      <td>better</td>\n",
              "      <td>1.1</td>\n",
              "      <td>low</td>\n",
              "      <td>0.5</td>\n",
              "    </tr>\n",
              "    <tr>\n",
              "      <th>8</th>\n",
              "      <td>cold</td>\n",
              "      <td>3.0</td>\n",
              "      <td>have</td>\n",
              "      <td>6.4</td>\n",
              "      <td>office</td>\n",
              "      <td>1.3</td>\n",
              "      <td>controls</td>\n",
              "      <td>0.9</td>\n",
              "      <td>the</td>\n",
              "      <td>1.0</td>\n",
              "      <td>floors</td>\n",
              "      <td>0.5</td>\n",
              "    </tr>\n",
              "    <tr>\n",
              "      <th>9</th>\n",
              "      <td>of</td>\n",
              "      <td>2.9</td>\n",
              "      <td>think</td>\n",
              "      <td>6.0</td>\n",
              "      <td>conditioning</td>\n",
              "      <td>1.3</td>\n",
              "      <td>at</td>\n",
              "      <td>0.8</td>\n",
              "      <td>control</td>\n",
              "      <td>0.9</td>\n",
              "      <td>closed</td>\n",
              "      <td>0.5</td>\n",
              "    </tr>\n",
              "  </tbody>\n",
              "</table>\n",
              "</div>"
            ],
            "text/plain": [
              "  Topic 0 words Topic 0 weights  ... Topic 5 words Topic 5 weights\n",
              "0           the             8.0  ...           any             1.5\n",
              "1            it             4.9  ...       overall             0.8\n",
              "2           too             4.2  ...      anything             0.7\n",
              "3            in             4.1  ...   suggestions             0.7\n",
              "4           and             3.8  ...        manage             0.6\n",
              "5            to             3.5  ...        couple             0.6\n",
              "6            is             3.4  ...           end             0.6\n",
              "7           air             3.1  ...           low             0.5\n",
              "8          cold             3.0  ...        floors             0.5\n",
              "9            of             2.9  ...        closed             0.5\n",
              "\n",
              "[10 rows x 12 columns]"
            ]
          },
          "metadata": {
            "tags": []
          },
          "execution_count": 33
        }
      ]
    },
    {
      "cell_type": "code",
      "metadata": {
        "id": "4oWPeDkOffVI",
        "colab_type": "code",
        "outputId": "9e252a1e-c8ab-48d1-a497-49ce850c451f",
        "colab": {
          "base_uri": "https://localhost:8080/",
          "height": 204
        }
      },
      "source": [
        "#Find the topics for each temperature survey response\n",
        "Survey_Classification_LDA_temp = pd.DataFrame(model_LDA_temp.transform(tf_idf_temp))\n",
        "Survey_Classification_LDA_temp['Survey response no.'] = np.arange(1,len(survey_resp_temp)+1,1)\n",
        "Survey_Classification_LDA_temp = Survey_Classification_LDA_temp[['Survey response no.', 0, 1, 2, 3, 4, 5]]\n",
        "Survey_Classification_LDA_temp [0:5]"
      ],
      "execution_count": 0,
      "outputs": [
        {
          "output_type": "execute_result",
          "data": {
            "text/html": [
              "<div>\n",
              "<style scoped>\n",
              "    .dataframe tbody tr th:only-of-type {\n",
              "        vertical-align: middle;\n",
              "    }\n",
              "\n",
              "    .dataframe tbody tr th {\n",
              "        vertical-align: top;\n",
              "    }\n",
              "\n",
              "    .dataframe thead th {\n",
              "        text-align: right;\n",
              "    }\n",
              "</style>\n",
              "<table border=\"1\" class=\"dataframe\">\n",
              "  <thead>\n",
              "    <tr style=\"text-align: right;\">\n",
              "      <th></th>\n",
              "      <th>Survey response no.</th>\n",
              "      <th>0</th>\n",
              "      <th>1</th>\n",
              "      <th>2</th>\n",
              "      <th>3</th>\n",
              "      <th>4</th>\n",
              "      <th>5</th>\n",
              "    </tr>\n",
              "  </thead>\n",
              "  <tbody>\n",
              "    <tr>\n",
              "      <th>0</th>\n",
              "      <td>1</td>\n",
              "      <td>0.871700</td>\n",
              "      <td>0.025950</td>\n",
              "      <td>0.025588</td>\n",
              "      <td>0.025605</td>\n",
              "      <td>0.025665</td>\n",
              "      <td>0.025491</td>\n",
              "    </tr>\n",
              "    <tr>\n",
              "      <th>1</th>\n",
              "      <td>2</td>\n",
              "      <td>0.412319</td>\n",
              "      <td>0.479258</td>\n",
              "      <td>0.027237</td>\n",
              "      <td>0.027073</td>\n",
              "      <td>0.027074</td>\n",
              "      <td>0.027039</td>\n",
              "    </tr>\n",
              "    <tr>\n",
              "      <th>2</th>\n",
              "      <td>3</td>\n",
              "      <td>0.043190</td>\n",
              "      <td>0.787000</td>\n",
              "      <td>0.042506</td>\n",
              "      <td>0.042444</td>\n",
              "      <td>0.042434</td>\n",
              "      <td>0.042426</td>\n",
              "    </tr>\n",
              "    <tr>\n",
              "      <th>3</th>\n",
              "      <td>4</td>\n",
              "      <td>0.020258</td>\n",
              "      <td>0.624683</td>\n",
              "      <td>0.294222</td>\n",
              "      <td>0.020552</td>\n",
              "      <td>0.020194</td>\n",
              "      <td>0.020091</td>\n",
              "    </tr>\n",
              "    <tr>\n",
              "      <th>4</th>\n",
              "      <td>5</td>\n",
              "      <td>0.028496</td>\n",
              "      <td>0.858914</td>\n",
              "      <td>0.028145</td>\n",
              "      <td>0.028169</td>\n",
              "      <td>0.028143</td>\n",
              "      <td>0.028134</td>\n",
              "    </tr>\n",
              "  </tbody>\n",
              "</table>\n",
              "</div>"
            ],
            "text/plain": [
              "   Survey response no.         0         1  ...         3         4         5\n",
              "0                    1  0.871700  0.025950  ...  0.025605  0.025665  0.025491\n",
              "1                    2  0.412319  0.479258  ...  0.027073  0.027074  0.027039\n",
              "2                    3  0.043190  0.787000  ...  0.042444  0.042434  0.042426\n",
              "3                    4  0.020258  0.624683  ...  0.020552  0.020194  0.020091\n",
              "4                    5  0.028496  0.858914  ...  0.028169  0.028143  0.028134\n",
              "\n",
              "[5 rows x 7 columns]"
            ]
          },
          "metadata": {
            "tags": []
          },
          "execution_count": 34
        }
      ]
    },
    {
      "cell_type": "code",
      "metadata": {
        "id": "KjQJ-BSpffXp",
        "colab_type": "code",
        "outputId": "33227b4f-c2d3-4f2e-a335-68ca83b6f960",
        "colab": {
          "base_uri": "https://localhost:8080/",
          "height": 221
        }
      },
      "source": [
        "#%% Topic modelling using LDA (Latent Dirichlet Allocation) for Maintenance complaints\n",
        "# Create the model object. Start by choosing 10 topics\n",
        "number_of_topics = 6\n",
        "# Create the LDA (Latent Dirichlet Allocation ) model \n",
        "model_LDA_maint = LatentDirichletAllocation(n_components=number_of_topics, random_state=0)\n",
        "model_LDA_maint.fit(tf_idf_maint)\n",
        "no_top_words = 10\n",
        "Topics_LDA_maint = display_topics(model_LDA_maint, tf_feature_names_maint, no_top_words)    \n",
        "Topics_LDA_maint[0:5]"
      ],
      "execution_count": 0,
      "outputs": [
        {
          "output_type": "execute_result",
          "data": {
            "text/html": [
              "<div>\n",
              "<style scoped>\n",
              "    .dataframe tbody tr th:only-of-type {\n",
              "        vertical-align: middle;\n",
              "    }\n",
              "\n",
              "    .dataframe tbody tr th {\n",
              "        vertical-align: top;\n",
              "    }\n",
              "\n",
              "    .dataframe thead th {\n",
              "        text-align: right;\n",
              "    }\n",
              "</style>\n",
              "<table border=\"1\" class=\"dataframe\">\n",
              "  <thead>\n",
              "    <tr style=\"text-align: right;\">\n",
              "      <th></th>\n",
              "      <th>Topic 0 words</th>\n",
              "      <th>Topic 0 weights</th>\n",
              "      <th>Topic 1 words</th>\n",
              "      <th>Topic 1 weights</th>\n",
              "      <th>Topic 2 words</th>\n",
              "      <th>Topic 2 weights</th>\n",
              "      <th>Topic 3 words</th>\n",
              "      <th>Topic 3 weights</th>\n",
              "      <th>Topic 4 words</th>\n",
              "      <th>Topic 4 weights</th>\n",
              "      <th>Topic 5 words</th>\n",
              "      <th>Topic 5 weights</th>\n",
              "    </tr>\n",
              "  </thead>\n",
              "  <tbody>\n",
              "    <tr>\n",
              "      <th>0</th>\n",
              "      <td>the</td>\n",
              "      <td>2.4</td>\n",
              "      <td>the</td>\n",
              "      <td>24.0</td>\n",
              "      <td>comment</td>\n",
              "      <td>1.0</td>\n",
              "      <td>to</td>\n",
              "      <td>6.3</td>\n",
              "      <td>the</td>\n",
              "      <td>3.7</td>\n",
              "      <td>the</td>\n",
              "      <td>2.0</td>\n",
              "    </tr>\n",
              "    <tr>\n",
              "      <th>1</th>\n",
              "      <td>and</td>\n",
              "      <td>1.8</td>\n",
              "      <td>and</td>\n",
              "      <td>14.1</td>\n",
              "      <td>door</td>\n",
              "      <td>0.9</td>\n",
              "      <td>the</td>\n",
              "      <td>5.8</td>\n",
              "      <td>to</td>\n",
              "      <td>2.8</td>\n",
              "      <td>there</td>\n",
              "      <td>1.7</td>\n",
              "    </tr>\n",
              "    <tr>\n",
              "      <th>2</th>\n",
              "      <td>do</td>\n",
              "      <td>1.6</td>\n",
              "      <td>it</td>\n",
              "      <td>13.1</td>\n",
              "      <td>no</td>\n",
              "      <td>0.9</td>\n",
              "      <td>and</td>\n",
              "      <td>3.3</td>\n",
              "      <td>use</td>\n",
              "      <td>2.5</td>\n",
              "      <td>should</td>\n",
              "      <td>1.3</td>\n",
              "    </tr>\n",
              "    <tr>\n",
              "      <th>3</th>\n",
              "      <td>only</td>\n",
              "      <td>1.5</td>\n",
              "      <td>are</td>\n",
              "      <td>10.3</td>\n",
              "      <td>fixed</td>\n",
              "      <td>0.8</td>\n",
              "      <td>would</td>\n",
              "      <td>3.0</td>\n",
              "      <td>stairs</td>\n",
              "      <td>2.5</td>\n",
              "      <td>they</td>\n",
              "      <td>1.2</td>\n",
              "    </tr>\n",
              "    <tr>\n",
              "      <th>4</th>\n",
              "      <td>is</td>\n",
              "      <td>1.4</td>\n",
              "      <td>is</td>\n",
              "      <td>10.1</td>\n",
              "      <td>mind</td>\n",
              "      <td>0.8</td>\n",
              "      <td>they</td>\n",
              "      <td>2.9</td>\n",
              "      <td>can</td>\n",
              "      <td>2.3</td>\n",
              "      <td>bathrooms</td>\n",
              "      <td>1.2</td>\n",
              "    </tr>\n",
              "  </tbody>\n",
              "</table>\n",
              "</div>"
            ],
            "text/plain": [
              "  Topic 0 words Topic 0 weights  ... Topic 5 words Topic 5 weights\n",
              "0           the             2.4  ...           the             2.0\n",
              "1           and             1.8  ...         there             1.7\n",
              "2            do             1.6  ...        should             1.3\n",
              "3          only             1.5  ...          they             1.2\n",
              "4            is             1.4  ...     bathrooms             1.2\n",
              "\n",
              "[5 rows x 12 columns]"
            ]
          },
          "metadata": {
            "tags": []
          },
          "execution_count": 35
        }
      ]
    },
    {
      "cell_type": "markdown",
      "metadata": {
        "id": "W01Xl5JnfrPN",
        "colab_type": "text"
      },
      "source": [
        "QUICK NOTE Clearly the LDA algorithm doesn't work very well against short sentences less that 140 characters (aka tweets) For example, the word global warming comes up in almost every topic so maybe it should be added to the stopwords list Let's try an alternate model (NMF) in order to see if the outcome improves versus LDA"
      ]
    },
    {
      "cell_type": "markdown",
      "metadata": {
        "id": "jMyKdpR-f_MN",
        "colab_type": "text"
      },
      "source": [
        "## Topic modelling using the NMF (Non-negative Matrix Factorization) algorithm"
      ]
    },
    {
      "cell_type": "code",
      "metadata": {
        "id": "0NRsqqIYffZp",
        "colab_type": "code",
        "outputId": "a0520f28-8f88-4a9f-d6b0-aa59ef8f31e3",
        "colab": {
          "base_uri": "https://localhost:8080/",
          "height": 376
        }
      },
      "source": [
        "#%% Topic modelling using NMF (Non-negative Matrix Factorization) for thermal complaints\n",
        "number_of_topics = 6\n",
        "model_NMF_temp = NMF(n_components=number_of_topics, random_state=0, alpha=.01, l1_ratio=.9)\n",
        "model_NMF_temp.fit(tf_idf_temp)\n",
        "#apply this function to the model\n",
        "no_top_words = 10\n",
        "Topics_NMF_temp = display_topics(model_NMF_temp, tf_feature_names_temp, no_top_words)    \n",
        "Topics_NMF_temp"
      ],
      "execution_count": 0,
      "outputs": [
        {
          "output_type": "execute_result",
          "data": {
            "text/html": [
              "<div>\n",
              "<style scoped>\n",
              "    .dataframe tbody tr th:only-of-type {\n",
              "        vertical-align: middle;\n",
              "    }\n",
              "\n",
              "    .dataframe tbody tr th {\n",
              "        vertical-align: top;\n",
              "    }\n",
              "\n",
              "    .dataframe thead th {\n",
              "        text-align: right;\n",
              "    }\n",
              "</style>\n",
              "<table border=\"1\" class=\"dataframe\">\n",
              "  <thead>\n",
              "    <tr style=\"text-align: right;\">\n",
              "      <th></th>\n",
              "      <th>Topic 0 words</th>\n",
              "      <th>Topic 0 weights</th>\n",
              "      <th>Topic 1 words</th>\n",
              "      <th>Topic 1 weights</th>\n",
              "      <th>Topic 2 words</th>\n",
              "      <th>Topic 2 weights</th>\n",
              "      <th>Topic 3 words</th>\n",
              "      <th>Topic 3 weights</th>\n",
              "      <th>Topic 4 words</th>\n",
              "      <th>Topic 4 weights</th>\n",
              "      <th>Topic 5 words</th>\n",
              "      <th>Topic 5 weights</th>\n",
              "    </tr>\n",
              "  </thead>\n",
              "  <tbody>\n",
              "    <tr>\n",
              "      <th>0</th>\n",
              "      <td>the</td>\n",
              "      <td>0.7</td>\n",
              "      <td>know</td>\n",
              "      <td>1.6</td>\n",
              "      <td>turn</td>\n",
              "      <td>1.1</td>\n",
              "      <td>cold</td>\n",
              "      <td>1.0</td>\n",
              "      <td>air</td>\n",
              "      <td>0.8</td>\n",
              "      <td>not</td>\n",
              "      <td>0.9</td>\n",
              "    </tr>\n",
              "    <tr>\n",
              "      <th>1</th>\n",
              "      <td>to</td>\n",
              "      <td>0.5</td>\n",
              "      <td>don</td>\n",
              "      <td>1.4</td>\n",
              "      <td>heat</td>\n",
              "      <td>0.9</td>\n",
              "      <td>it</td>\n",
              "      <td>0.8</td>\n",
              "      <td>the</td>\n",
              "      <td>0.6</td>\n",
              "      <td>sure</td>\n",
              "      <td>0.9</td>\n",
              "    </tr>\n",
              "    <tr>\n",
              "      <th>2</th>\n",
              "      <td>it</td>\n",
              "      <td>0.5</td>\n",
              "      <td>really</td>\n",
              "      <td>0.4</td>\n",
              "      <td>up</td>\n",
              "      <td>0.7</td>\n",
              "      <td>too</td>\n",
              "      <td>0.7</td>\n",
              "      <td>in</td>\n",
              "      <td>0.6</td>\n",
              "      <td>am</td>\n",
              "      <td>0.4</td>\n",
              "    </tr>\n",
              "    <tr>\n",
              "      <th>3</th>\n",
              "      <td>have</td>\n",
              "      <td>0.4</td>\n",
              "      <td>what</td>\n",
              "      <td>0.3</td>\n",
              "      <td>the</td>\n",
              "      <td>0.5</td>\n",
              "      <td>and</td>\n",
              "      <td>0.4</td>\n",
              "      <td>conditioning</td>\n",
              "      <td>0.6</td>\n",
              "      <td>how</td>\n",
              "      <td>0.2</td>\n",
              "    </tr>\n",
              "    <tr>\n",
              "      <th>4</th>\n",
              "      <td>and</td>\n",
              "      <td>0.4</td>\n",
              "      <td>reason</td>\n",
              "      <td>0.2</td>\n",
              "      <td>on</td>\n",
              "      <td>0.4</td>\n",
              "      <td>so</td>\n",
              "      <td>0.3</td>\n",
              "      <td>is</td>\n",
              "      <td>0.4</td>\n",
              "      <td>circulation</td>\n",
              "      <td>0.2</td>\n",
              "    </tr>\n",
              "    <tr>\n",
              "      <th>5</th>\n",
              "      <td>we</td>\n",
              "      <td>0.4</td>\n",
              "      <td>why</td>\n",
              "      <td>0.1</td>\n",
              "      <td>ac</td>\n",
              "      <td>0.3</td>\n",
              "      <td>ac</td>\n",
              "      <td>0.3</td>\n",
              "      <td>summer</td>\n",
              "      <td>0.3</td>\n",
              "      <td>good</td>\n",
              "      <td>0.1</td>\n",
              "    </tr>\n",
              "    <tr>\n",
              "      <th>6</th>\n",
              "      <td>that</td>\n",
              "      <td>0.3</td>\n",
              "      <td>say</td>\n",
              "      <td>0.1</td>\n",
              "      <td>down</td>\n",
              "      <td>0.2</td>\n",
              "      <td>just</td>\n",
              "      <td>0.2</td>\n",
              "      <td>increase</td>\n",
              "      <td>0.3</td>\n",
              "      <td>it</td>\n",
              "      <td>0.1</td>\n",
              "    </tr>\n",
              "    <tr>\n",
              "      <th>7</th>\n",
              "      <td>temperature</td>\n",
              "      <td>0.3</td>\n",
              "      <td>is</td>\n",
              "      <td>0.1</td>\n",
              "      <td>bit</td>\n",
              "      <td>0.2</td>\n",
              "      <td>make</td>\n",
              "      <td>0.2</td>\n",
              "      <td>too</td>\n",
              "      <td>0.2</td>\n",
              "      <td>rectify</td>\n",
              "      <td>0.1</td>\n",
              "    </tr>\n",
              "    <tr>\n",
              "      <th>8</th>\n",
              "      <td>are</td>\n",
              "      <td>0.3</td>\n",
              "      <td>question</td>\n",
              "      <td>0.1</td>\n",
              "      <td>during</td>\n",
              "      <td>0.2</td>\n",
              "      <td>down</td>\n",
              "      <td>0.2</td>\n",
              "      <td>winter</td>\n",
              "      <td>0.2</td>\n",
              "      <td>difficult</td>\n",
              "      <td>0.1</td>\n",
              "    </tr>\n",
              "    <tr>\n",
              "      <th>9</th>\n",
              "      <td>they</td>\n",
              "      <td>0.3</td>\n",
              "      <td>but</td>\n",
              "      <td>0.1</td>\n",
              "      <td>sooner</td>\n",
              "      <td>0.1</td>\n",
              "      <td>hot</td>\n",
              "      <td>0.2</td>\n",
              "      <td>circulation</td>\n",
              "      <td>0.2</td>\n",
              "      <td>is</td>\n",
              "      <td>0.1</td>\n",
              "    </tr>\n",
              "  </tbody>\n",
              "</table>\n",
              "</div>"
            ],
            "text/plain": [
              "  Topic 0 words Topic 0 weights  ... Topic 5 words Topic 5 weights\n",
              "0           the             0.7  ...           not             0.9\n",
              "1            to             0.5  ...          sure             0.9\n",
              "2            it             0.5  ...            am             0.4\n",
              "3          have             0.4  ...           how             0.2\n",
              "4           and             0.4  ...   circulation             0.2\n",
              "5            we             0.4  ...          good             0.1\n",
              "6          that             0.3  ...            it             0.1\n",
              "7   temperature             0.3  ...       rectify             0.1\n",
              "8           are             0.3  ...     difficult             0.1\n",
              "9          they             0.3  ...            is             0.1\n",
              "\n",
              "[10 rows x 12 columns]"
            ]
          },
          "metadata": {
            "tags": []
          },
          "execution_count": 36
        }
      ]
    },
    {
      "cell_type": "code",
      "metadata": {
        "id": "xCt_M1Rdffdw",
        "colab_type": "code",
        "outputId": "3634a3a0-2959-4302-d1c7-b143f6b2b6ac",
        "colab": {
          "base_uri": "https://localhost:8080/",
          "height": 204
        }
      },
      "source": [
        "#Find the topics for each thermal survey response\n",
        "Survey_Classification_NMF_temp = pd.DataFrame(model_NMF_temp.transform(tf_idf_temp))\n",
        "Survey_Classification_NMF_temp['Survey response no.'] = np.arange(1,len(survey_resp_temp)+1,1)\n",
        "Survey_Classification_NMF_temp = Survey_Classification_NMF_temp[['Survey response no.', 0, 1, 2, 3, 4, 5]]\n",
        "Survey_Classification_NMF_temp[0:5]"
      ],
      "execution_count": 0,
      "outputs": [
        {
          "output_type": "execute_result",
          "data": {
            "text/html": [
              "<div>\n",
              "<style scoped>\n",
              "    .dataframe tbody tr th:only-of-type {\n",
              "        vertical-align: middle;\n",
              "    }\n",
              "\n",
              "    .dataframe tbody tr th {\n",
              "        vertical-align: top;\n",
              "    }\n",
              "\n",
              "    .dataframe thead th {\n",
              "        text-align: right;\n",
              "    }\n",
              "</style>\n",
              "<table border=\"1\" class=\"dataframe\">\n",
              "  <thead>\n",
              "    <tr style=\"text-align: right;\">\n",
              "      <th></th>\n",
              "      <th>Survey response no.</th>\n",
              "      <th>0</th>\n",
              "      <th>1</th>\n",
              "      <th>2</th>\n",
              "      <th>3</th>\n",
              "      <th>4</th>\n",
              "      <th>5</th>\n",
              "    </tr>\n",
              "  </thead>\n",
              "  <tbody>\n",
              "    <tr>\n",
              "      <th>0</th>\n",
              "      <td>1</td>\n",
              "      <td>0.159551</td>\n",
              "      <td>0.0</td>\n",
              "      <td>0.000000</td>\n",
              "      <td>0.000000</td>\n",
              "      <td>0.107197</td>\n",
              "      <td>0.000000</td>\n",
              "    </tr>\n",
              "    <tr>\n",
              "      <th>1</th>\n",
              "      <td>2</td>\n",
              "      <td>0.157835</td>\n",
              "      <td>0.0</td>\n",
              "      <td>0.000000</td>\n",
              "      <td>0.016032</td>\n",
              "      <td>0.005381</td>\n",
              "      <td>0.215378</td>\n",
              "    </tr>\n",
              "    <tr>\n",
              "      <th>2</th>\n",
              "      <td>3</td>\n",
              "      <td>0.000000</td>\n",
              "      <td>0.0</td>\n",
              "      <td>0.201124</td>\n",
              "      <td>0.012225</td>\n",
              "      <td>0.050999</td>\n",
              "      <td>0.127523</td>\n",
              "    </tr>\n",
              "    <tr>\n",
              "      <th>3</th>\n",
              "      <td>4</td>\n",
              "      <td>0.253896</td>\n",
              "      <td>0.0</td>\n",
              "      <td>0.003207</td>\n",
              "      <td>0.070374</td>\n",
              "      <td>0.020803</td>\n",
              "      <td>0.000000</td>\n",
              "    </tr>\n",
              "    <tr>\n",
              "      <th>4</th>\n",
              "      <td>5</td>\n",
              "      <td>0.177871</td>\n",
              "      <td>0.0</td>\n",
              "      <td>0.000000</td>\n",
              "      <td>0.166316</td>\n",
              "      <td>0.000000</td>\n",
              "      <td>0.000000</td>\n",
              "    </tr>\n",
              "  </tbody>\n",
              "</table>\n",
              "</div>"
            ],
            "text/plain": [
              "   Survey response no.         0    1         2         3         4         5\n",
              "0                    1  0.159551  0.0  0.000000  0.000000  0.107197  0.000000\n",
              "1                    2  0.157835  0.0  0.000000  0.016032  0.005381  0.215378\n",
              "2                    3  0.000000  0.0  0.201124  0.012225  0.050999  0.127523\n",
              "3                    4  0.253896  0.0  0.003207  0.070374  0.020803  0.000000\n",
              "4                    5  0.177871  0.0  0.000000  0.166316  0.000000  0.000000"
            ]
          },
          "metadata": {
            "tags": []
          },
          "execution_count": 37
        }
      ]
    },
    {
      "cell_type": "code",
      "metadata": {
        "id": "OTEL2gzwffhs",
        "colab_type": "code",
        "outputId": "f05fde95-8c5b-4960-9812-e246b96f5260",
        "colab": {
          "base_uri": "https://localhost:8080/",
          "height": 376
        }
      },
      "source": [
        "#%% Topic modelling using NMF (Non-negative Matrix Factorization) for maintenance complaints\n",
        "number_of_topics = 6\n",
        "model_NMF_maint = NMF(n_components=number_of_topics, random_state=0, alpha=.01, l1_ratio=.9)\n",
        "model_NMF_maint.fit(tf_idf_maint)\n",
        "#apply this function to the model\n",
        "no_top_words = 10\n",
        "Topics_NMF_maint = display_topics(model_NMF_maint, tf_feature_names_maint, no_top_words)    \n",
        "Topics_NMF_maint"
      ],
      "execution_count": 0,
      "outputs": [
        {
          "output_type": "execute_result",
          "data": {
            "text/html": [
              "<div>\n",
              "<style scoped>\n",
              "    .dataframe tbody tr th:only-of-type {\n",
              "        vertical-align: middle;\n",
              "    }\n",
              "\n",
              "    .dataframe tbody tr th {\n",
              "        vertical-align: top;\n",
              "    }\n",
              "\n",
              "    .dataframe thead th {\n",
              "        text-align: right;\n",
              "    }\n",
              "</style>\n",
              "<table border=\"1\" class=\"dataframe\">\n",
              "  <thead>\n",
              "    <tr style=\"text-align: right;\">\n",
              "      <th></th>\n",
              "      <th>Topic 0 words</th>\n",
              "      <th>Topic 0 weights</th>\n",
              "      <th>Topic 1 words</th>\n",
              "      <th>Topic 1 weights</th>\n",
              "      <th>Topic 2 words</th>\n",
              "      <th>Topic 2 weights</th>\n",
              "      <th>Topic 3 words</th>\n",
              "      <th>Topic 3 weights</th>\n",
              "      <th>Topic 4 words</th>\n",
              "      <th>Topic 4 weights</th>\n",
              "      <th>Topic 5 words</th>\n",
              "      <th>Topic 5 weights</th>\n",
              "    </tr>\n",
              "  </thead>\n",
              "  <tbody>\n",
              "    <tr>\n",
              "      <th>0</th>\n",
              "      <td>the</td>\n",
              "      <td>0.6</td>\n",
              "      <td>to</td>\n",
              "      <td>1.1</td>\n",
              "      <td>elevators</td>\n",
              "      <td>1.1</td>\n",
              "      <td>the</td>\n",
              "      <td>0.7</td>\n",
              "      <td>they</td>\n",
              "      <td>1.0</td>\n",
              "      <td>too</td>\n",
              "      <td>0.9</td>\n",
              "    </tr>\n",
              "    <tr>\n",
              "      <th>1</th>\n",
              "      <td>in</td>\n",
              "      <td>0.5</td>\n",
              "      <td>the</td>\n",
              "      <td>0.4</td>\n",
              "      <td>slow</td>\n",
              "      <td>0.8</td>\n",
              "      <td>on</td>\n",
              "      <td>0.7</td>\n",
              "      <td>are</td>\n",
              "      <td>0.3</td>\n",
              "      <td>cold</td>\n",
              "      <td>0.6</td>\n",
              "    </tr>\n",
              "    <tr>\n",
              "      <th>2</th>\n",
              "      <td>and</td>\n",
              "      <td>0.5</td>\n",
              "      <td>stairs</td>\n",
              "      <td>0.4</td>\n",
              "      <td>are</td>\n",
              "      <td>0.7</td>\n",
              "      <td>floor</td>\n",
              "      <td>0.6</td>\n",
              "      <td>and</td>\n",
              "      <td>0.3</td>\n",
              "      <td>it</td>\n",
              "      <td>0.4</td>\n",
              "    </tr>\n",
              "    <tr>\n",
              "      <th>3</th>\n",
              "      <td>of</td>\n",
              "      <td>0.5</td>\n",
              "      <td>be</td>\n",
              "      <td>0.4</td>\n",
              "      <td>the</td>\n",
              "      <td>0.4</td>\n",
              "      <td>soap</td>\n",
              "      <td>0.4</td>\n",
              "      <td>very</td>\n",
              "      <td>0.3</td>\n",
              "      <td>is</td>\n",
              "      <td>0.2</td>\n",
              "    </tr>\n",
              "    <tr>\n",
              "      <th>4</th>\n",
              "      <td>is</td>\n",
              "      <td>0.5</td>\n",
              "      <td>go</td>\n",
              "      <td>0.4</td>\n",
              "      <td>stuck</td>\n",
              "      <td>0.2</td>\n",
              "      <td>washrooms</td>\n",
              "      <td>0.3</td>\n",
              "      <td>nice</td>\n",
              "      <td>0.3</td>\n",
              "      <td>much</td>\n",
              "      <td>0.2</td>\n",
              "    </tr>\n",
              "    <tr>\n",
              "      <th>5</th>\n",
              "      <td>it</td>\n",
              "      <td>0.4</td>\n",
              "      <td>would</td>\n",
              "      <td>0.4</td>\n",
              "      <td>too</td>\n",
              "      <td>0.2</td>\n",
              "      <td>bathrooms</td>\n",
              "      <td>0.3</td>\n",
              "      <td>do</td>\n",
              "      <td>0.2</td>\n",
              "      <td>way</td>\n",
              "      <td>0.2</td>\n",
              "    </tr>\n",
              "    <tr>\n",
              "      <th>6</th>\n",
              "      <td>that</td>\n",
              "      <td>0.4</td>\n",
              "      <td>up</td>\n",
              "      <td>0.3</td>\n",
              "      <td>broken</td>\n",
              "      <td>0.2</td>\n",
              "      <td>often</td>\n",
              "      <td>0.3</td>\n",
              "      <td>it</td>\n",
              "      <td>0.2</td>\n",
              "      <td>hot</td>\n",
              "      <td>0.2</td>\n",
              "    </tr>\n",
              "    <tr>\n",
              "      <th>7</th>\n",
              "      <td>there</td>\n",
              "      <td>0.4</td>\n",
              "      <td>use</td>\n",
              "      <td>0.3</td>\n",
              "      <td>them</td>\n",
              "      <td>0.1</td>\n",
              "      <td>bathroom</td>\n",
              "      <td>0.3</td>\n",
              "      <td>the</td>\n",
              "      <td>0.2</td>\n",
              "      <td>summer</td>\n",
              "      <td>0.2</td>\n",
              "    </tr>\n",
              "    <tr>\n",
              "      <th>8</th>\n",
              "      <td>for</td>\n",
              "      <td>0.3</td>\n",
              "      <td>more</td>\n",
              "      <td>0.3</td>\n",
              "      <td>get</td>\n",
              "      <td>0.1</td>\n",
              "      <td>not</td>\n",
              "      <td>0.2</td>\n",
              "      <td>really</td>\n",
              "      <td>0.2</td>\n",
              "      <td>ac</td>\n",
              "      <td>0.1</td>\n",
              "    </tr>\n",
              "    <tr>\n",
              "      <th>9</th>\n",
              "      <td>people</td>\n",
              "      <td>0.3</td>\n",
              "      <td>can</td>\n",
              "      <td>0.2</td>\n",
              "      <td>always</td>\n",
              "      <td>0.1</td>\n",
              "      <td>are</td>\n",
              "      <td>0.2</td>\n",
              "      <td>don</td>\n",
              "      <td>0.2</td>\n",
              "      <td>sometimes</td>\n",
              "      <td>0.1</td>\n",
              "    </tr>\n",
              "  </tbody>\n",
              "</table>\n",
              "</div>"
            ],
            "text/plain": [
              "  Topic 0 words Topic 0 weights  ... Topic 5 words Topic 5 weights\n",
              "0           the             0.6  ...           too             0.9\n",
              "1            in             0.5  ...          cold             0.6\n",
              "2           and             0.5  ...            it             0.4\n",
              "3            of             0.5  ...            is             0.2\n",
              "4            is             0.5  ...          much             0.2\n",
              "5            it             0.4  ...           way             0.2\n",
              "6          that             0.4  ...           hot             0.2\n",
              "7         there             0.4  ...        summer             0.2\n",
              "8           for             0.3  ...            ac             0.1\n",
              "9        people             0.3  ...     sometimes             0.1\n",
              "\n",
              "[10 rows x 12 columns]"
            ]
          },
          "metadata": {
            "tags": []
          },
          "execution_count": 38
        }
      ]
    },
    {
      "cell_type": "code",
      "metadata": {
        "id": "hbyuOu8Lffl6",
        "colab_type": "code",
        "outputId": "f59e78c1-b7a8-4c2a-8cb6-d421f32c984b",
        "colab": {
          "base_uri": "https://localhost:8080/",
          "height": 204
        }
      },
      "source": [
        "#Find the topics for each survey response\n",
        "Survey_Classification_NMF_maint = pd.DataFrame(model_NMF_maint.transform(tf_idf_maint))\n",
        "Survey_Classification_NMF_maint['Survey response no.'] = np.arange(1,len(survey_resp_maint)+1,1)\n",
        "Survey_Classification_NMF_maint = Survey_Classification_NMF_maint[['Survey response no.', 0, 1, 2, 3, 4, 5]]\n",
        "Survey_Classification_NMF_maint[0:5]"
      ],
      "execution_count": 0,
      "outputs": [
        {
          "output_type": "execute_result",
          "data": {
            "text/html": [
              "<div>\n",
              "<style scoped>\n",
              "    .dataframe tbody tr th:only-of-type {\n",
              "        vertical-align: middle;\n",
              "    }\n",
              "\n",
              "    .dataframe tbody tr th {\n",
              "        vertical-align: top;\n",
              "    }\n",
              "\n",
              "    .dataframe thead th {\n",
              "        text-align: right;\n",
              "    }\n",
              "</style>\n",
              "<table border=\"1\" class=\"dataframe\">\n",
              "  <thead>\n",
              "    <tr style=\"text-align: right;\">\n",
              "      <th></th>\n",
              "      <th>Survey response no.</th>\n",
              "      <th>0</th>\n",
              "      <th>1</th>\n",
              "      <th>2</th>\n",
              "      <th>3</th>\n",
              "      <th>4</th>\n",
              "      <th>5</th>\n",
              "    </tr>\n",
              "  </thead>\n",
              "  <tbody>\n",
              "    <tr>\n",
              "      <th>0</th>\n",
              "      <td>1</td>\n",
              "      <td>0.237954</td>\n",
              "      <td>0.001964</td>\n",
              "      <td>0.010488</td>\n",
              "      <td>0.000000</td>\n",
              "      <td>0.010307</td>\n",
              "      <td>0.0</td>\n",
              "    </tr>\n",
              "    <tr>\n",
              "      <th>1</th>\n",
              "      <td>2</td>\n",
              "      <td>0.063898</td>\n",
              "      <td>0.060862</td>\n",
              "      <td>0.005244</td>\n",
              "      <td>0.037131</td>\n",
              "      <td>0.005707</td>\n",
              "      <td>0.0</td>\n",
              "    </tr>\n",
              "    <tr>\n",
              "      <th>2</th>\n",
              "      <td>3</td>\n",
              "      <td>0.182731</td>\n",
              "      <td>0.020132</td>\n",
              "      <td>0.010343</td>\n",
              "      <td>0.079264</td>\n",
              "      <td>0.021534</td>\n",
              "      <td>0.0</td>\n",
              "    </tr>\n",
              "    <tr>\n",
              "      <th>3</th>\n",
              "      <td>4</td>\n",
              "      <td>0.139534</td>\n",
              "      <td>0.000000</td>\n",
              "      <td>0.000000</td>\n",
              "      <td>0.205329</td>\n",
              "      <td>0.000000</td>\n",
              "      <td>0.0</td>\n",
              "    </tr>\n",
              "    <tr>\n",
              "      <th>4</th>\n",
              "      <td>5</td>\n",
              "      <td>0.012825</td>\n",
              "      <td>0.083374</td>\n",
              "      <td>0.005703</td>\n",
              "      <td>0.231952</td>\n",
              "      <td>0.040309</td>\n",
              "      <td>0.0</td>\n",
              "    </tr>\n",
              "  </tbody>\n",
              "</table>\n",
              "</div>"
            ],
            "text/plain": [
              "   Survey response no.         0         1         2         3         4    5\n",
              "0                    1  0.237954  0.001964  0.010488  0.000000  0.010307  0.0\n",
              "1                    2  0.063898  0.060862  0.005244  0.037131  0.005707  0.0\n",
              "2                    3  0.182731  0.020132  0.010343  0.079264  0.021534  0.0\n",
              "3                    4  0.139534  0.000000  0.000000  0.205329  0.000000  0.0\n",
              "4                    5  0.012825  0.083374  0.005703  0.231952  0.040309  0.0"
            ]
          },
          "metadata": {
            "tags": []
          },
          "execution_count": 39
        }
      ]
    }
  ]
}