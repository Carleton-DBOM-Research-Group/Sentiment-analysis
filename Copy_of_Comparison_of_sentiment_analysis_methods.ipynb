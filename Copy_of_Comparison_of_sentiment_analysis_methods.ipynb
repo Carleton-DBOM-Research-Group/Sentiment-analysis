{
  "nbformat": 4,
  "nbformat_minor": 0,
  "metadata": {
    "colab": {
      "name": "Copy of Comparison of sentiment analysis methods.ipynb",
      "provenance": [],
      "collapsed_sections": [
        "-DRsYEs4kl1_",
        "JYWnjTvOdIk7",
        "MZPYZymzdVFD"
      ],
      "toc_visible": true,
      "include_colab_link": true
    },
    "language_info": {
      "codemirror_mode": {
        "name": "ipython",
        "version": 3
      },
      "file_extension": ".py",
      "mimetype": "text/x-python",
      "name": "python",
      "nbconvert_exporter": "python",
      "pygments_lexer": "ipython3",
      "version": "3.7.3"
    },
    "kernelspec": {
      "name": "python3",
      "display_name": "Python 3"
    },
    "accelerator": "GPU"
  },
  "cells": [
    {
      "cell_type": "markdown",
      "metadata": {
        "id": "view-in-github",
        "colab_type": "text"
      },
      "source": [
        "<a href=\"https://colab.research.google.com/github/saptakdutta/Sentiment-analysis/blob/master/Copy_of_Comparison_of_sentiment_analysis_methods.ipynb\" target=\"_parent\"><img src=\"https://colab.research.google.com/assets/colab-badge.svg\" alt=\"Open In Colab\"/></a>"
      ]
    },
    {
      "cell_type": "markdown",
      "metadata": {
        "id": "nVukDxKAiu3L",
        "colab_type": "text"
      },
      "source": [
        "[Easier way to install on PC?](https://towardsdatascience.com/tensorflow-gpu-installation-made-easy-use-conda-instead-of-pip-52e5249374bc)"
      ]
    },
    {
      "cell_type": "markdown",
      "metadata": {
        "id": "gNDqzNp3eIrp",
        "colab_type": "text"
      },
      "source": [
        "##Check to see that the tensorflow can access the GPU"
      ]
    },
    {
      "cell_type": "code",
      "metadata": {
        "id": "TPX4T1l1d5rn",
        "colab_type": "code",
        "outputId": "fe639a95-ace9-471b-91d3-2f9eff94b53c",
        "colab": {
          "base_uri": "https://localhost:8080/",
          "height": 80
        }
      },
      "source": [
        "import tensorflow as tf\n",
        "device_name = tf.test.gpu_device_name()\n",
        "if device_name != '/device:GPU:0':\n",
        "  raise SystemError('GPU device not found')\n",
        "print('Found GPU at: {}'.format(device_name))"
      ],
      "execution_count": 1,
      "outputs": [
        {
          "output_type": "display_data",
          "data": {
            "text/html": [
              "<p style=\"color: red;\">\n",
              "The default version of TensorFlow in Colab will soon switch to TensorFlow 2.x.<br>\n",
              "We recommend you <a href=\"https://www.tensorflow.org/guide/migrate\" target=\"_blank\">upgrade</a> now \n",
              "or ensure your notebook will continue to use TensorFlow 1.x via the <code>%tensorflow_version 1.x</code> magic:\n",
              "<a href=\"https://colab.research.google.com/notebooks/tensorflow_version.ipynb\" target=\"_blank\">more info</a>.</p>\n"
            ],
            "text/plain": [
              "<IPython.core.display.HTML object>"
            ]
          },
          "metadata": {
            "tags": []
          }
        },
        {
          "output_type": "stream",
          "text": [
            "Found GPU at: /device:GPU:0\n"
          ],
          "name": "stdout"
        }
      ]
    },
    {
      "cell_type": "markdown",
      "metadata": {
        "id": "yzakrRagfIrK",
        "colab_type": "text"
      },
      "source": [
        "##Import all the general libraries"
      ]
    },
    {
      "cell_type": "code",
      "metadata": {
        "id": "dm1hDDwKdVVu",
        "colab_type": "code",
        "colab": {}
      },
      "source": [
        "import logging\n",
        "import pandas as pd\n",
        "import numpy as np\n",
        "from numpy import random\n",
        "import gensim\n",
        "import nltk\n",
        "from sklearn.model_selection import train_test_split\n",
        "from sklearn.feature_extraction.text import CountVectorizer, TfidfVectorizer\n",
        "from sklearn.metrics import accuracy_score, confusion_matrix\n",
        "import matplotlib.pyplot as plt\n",
        "from nltk.corpus import stopwords\n",
        "import re\n",
        "from bs4 import BeautifulSoup\n",
        "%matplotlib inline"
      ],
      "execution_count": 0,
      "outputs": []
    },
    {
      "cell_type": "markdown",
      "metadata": {
        "id": "G7oON7PMkClp",
        "colab_type": "text"
      },
      "source": [
        "##Enter in the data"
      ]
    },
    {
      "cell_type": "code",
      "metadata": {
        "id": "N0EsFdujnkRt",
        "colab_type": "code",
        "outputId": "15b21203-1bed-4ef6-9c5d-26d453cfc07a",
        "colab": {
          "base_uri": "https://localhost:8080/",
          "height": 122
        }
      },
      "source": [
        "from google.colab import drive\n",
        "drive.mount('/content/drive')"
      ],
      "execution_count": 3,
      "outputs": [
        {
          "output_type": "stream",
          "text": [
            "Go to this URL in a browser: https://accounts.google.com/o/oauth2/auth?client_id=947318989803-6bn6qk8qdgf4n4g3pfee6491hc0brc4i.apps.googleusercontent.com&redirect_uri=urn%3aietf%3awg%3aoauth%3a2.0%3aoob&response_type=code&scope=email%20https%3a%2f%2fwww.googleapis.com%2fauth%2fdocs.test%20https%3a%2f%2fwww.googleapis.com%2fauth%2fdrive%20https%3a%2f%2fwww.googleapis.com%2fauth%2fdrive.photos.readonly%20https%3a%2f%2fwww.googleapis.com%2fauth%2fpeopleapi.readonly\n",
            "\n",
            "Enter your authorization code:\n",
            "··········\n",
            "Mounted at /content/drive\n"
          ],
          "name": "stdout"
        }
      ]
    },
    {
      "cell_type": "code",
      "metadata": {
        "id": "NkM883nKoqKM",
        "colab_type": "code",
        "outputId": "5fb3b1f2-b199-44fa-a26a-294838223dbc",
        "colab": {
          "base_uri": "https://localhost:8080/",
          "height": 68
        }
      },
      "source": [
        "!ls \"/content/drive/My Drive/Machine Learning\"\n",
        "!cp \"/content/drive/My Drive/Machine Learning/SLFC survey.xlsx\" \"SLFC survey.xlsx\"\n",
        "!ls"
      ],
      "execution_count": 4,
      "outputs": [
        {
          "output_type": "stream",
          "text": [
            " Comparison_of_sentiment_analysis_methods.ipynb   Seattle_Hotels.csv\n",
            " RNN_Sent_0_1.h5\t\t\t\t 'SLFC survey.xlsx'\n",
            " drive\t sample_data  'SLFC survey.xlsx'\n"
          ],
          "name": "stdout"
        }
      ]
    },
    {
      "cell_type": "code",
      "metadata": {
        "id": "Hk5ot8dZgaVI",
        "colab_type": "code",
        "outputId": "e852a1ee-b13a-4c94-fd42-c15fcbd03a8e",
        "colab": {
          "base_uri": "https://localhost:8080/",
          "height": 221
        }
      },
      "source": [
        "import io\n",
        "\n",
        "df = pd.read_excel('SLFC survey.xlsx')\n",
        "\n",
        "df = df[['Temperature', 'Sentiment']]\n",
        "df = df.replace('B1 Basement', 'B')\n",
        "print(df.head(10))\n",
        "print(df['Temperature'].apply(lambda x: len(x.split(' '))).sum())"
      ],
      "execution_count": 5,
      "outputs": [
        {
          "output_type": "stream",
          "text": [
            "                                         Temperature Sentiment\n",
            "0  A proper BAS system that can actually determin...  Negative\n",
            "1  I think probably that it's not adjusted to the...   Neutral\n",
            "2   The heat is not high enough so put on more heat.  Negative\n",
            "3  I completed this survey last year and also com...  Negative\n",
            "4  I'm thinking it's just the seasons changing.  ...  Negative\n",
            "5         There is a bit of a draft from the window.  Negative\n",
            "6  They should turn on the cooling system on Sund...  Negative\n",
            "7  I sit right under a vent and Mondays are alway...  Negative\n",
            "8                                         It's okay.   Neutral\n",
            "9  I don't think there is really much to do.  Whe...   Neutral\n",
            "5828\n"
          ],
          "name": "stdout"
        }
      ]
    },
    {
      "cell_type": "markdown",
      "metadata": {
        "id": "4obOtVdcdDBc",
        "colab_type": "text"
      },
      "source": [
        "# Sentiment Analysis"
      ]
    },
    {
      "cell_type": "markdown",
      "metadata": {
        "id": "FQZpyIuMkKCh",
        "colab_type": "text"
      },
      "source": [
        "##Look at the distribution of the classes"
      ]
    },
    {
      "cell_type": "code",
      "metadata": {
        "id": "6mlPXpF6dVV1",
        "colab_type": "code",
        "outputId": "f99de7cf-2a9d-4ed0-f09d-41b24c2a637d",
        "colab": {
          "base_uri": "https://localhost:8080/",
          "height": 300
        }
      },
      "source": [
        "my_tags = ['Negative', 'Neutral']\n",
        "plt.figure(figsize=(10,4))\n",
        "df.Sentiment.value_counts().plot(kind='bar');"
      ],
      "execution_count": 6,
      "outputs": [
        {
          "output_type": "display_data",
          "data": {
            "image/png": "[encoded data removed]",
            "text/plain": [
              "<Figure size 720x288 with 1 Axes>"
            ]
          },
          "metadata": {
            "tags": []
          }
        }
      ]
    },
    {
      "cell_type": "code",
      "metadata": {
        "id": "qn4l_c0YdVV5",
        "colab_type": "code",
        "colab": {}
      },
      "source": [
        "def print_plot(index):\n",
        "    example = df[df.index == index][['Temperature', 'Sentiment']].values[0]\n",
        "    if len(example) > 0:\n",
        "        print(example[0])\n",
        "        print('Tag:', example[1])"
      ],
      "execution_count": 0,
      "outputs": []
    },
    {
      "cell_type": "code",
      "metadata": {
        "id": "9J8bOsBNdVV7",
        "colab_type": "code",
        "outputId": "ce8679a4-4c89-4cac-ca42-89328214b9c9",
        "colab": {
          "base_uri": "https://localhost:8080/",
          "height": 105
        }
      },
      "source": [
        "print_plot(0)\n",
        "print_plot(1)"
      ],
      "execution_count": 8,
      "outputs": [
        {
          "output_type": "stream",
          "text": [
            "A proper BAS system that can actually determine the air temperature outside and be more reactive so that when it's -5 outside in May the air conditioning doesn't come on.  Also personal temperature, I should be allowed to have a personal heater at my desk if I'm freezing.\n",
            "Tag: Negative\n",
            "I think probably that it's not adjusted to the changes in temperatures with the season so it takes awhile to readjust.  I'm not sure how to solve that except maybe trying to keep one constant temperature.  Is it doable?\n",
            "Tag: Neutral\n"
          ],
          "name": "stdout"
        }
      ]
    },
    {
      "cell_type": "code",
      "metadata": {
        "id": "ZT_CJMJu4k--",
        "colab_type": "code",
        "colab": {}
      },
      "source": [
        ""
      ],
      "execution_count": 0,
      "outputs": []
    },
    {
      "cell_type": "markdown",
      "metadata": {
        "id": "VO4C1F5SkTl-",
        "colab_type": "text"
      },
      "source": [
        "## Clean up the text"
      ]
    },
    {
      "cell_type": "code",
      "metadata": {
        "id": "MaCWPoMhdVV-",
        "colab_type": "code",
        "outputId": "0492841f-4688-40c8-a31f-b3793a91b728",
        "colab": {
          "base_uri": "https://localhost:8080/",
          "height": 51
        }
      },
      "source": [
        "nltk.download('stopwords')\n",
        "REPLACE_BY_SPACE_RE = re.compile('[/(){}\\[\\]\\|@,;]')\n",
        "BAD_SYMBOLS_RE = re.compile('[^0-9a-z #+_]')\n",
        "STOPWORDS = set(stopwords.words('english'))\n",
        "from nltk.stem import PorterStemmer \n",
        "\n",
        "ps = PorterStemmer() "
      ],
      "execution_count": 10,
      "outputs": [
        {
          "output_type": "stream",
          "text": [
            "[nltk_data] Downloading package stopwords to /root/nltk_data...\n",
            "[nltk_data]   Package stopwords is already up-to-date!\n"
          ],
          "name": "stdout"
        }
      ]
    },
    {
      "cell_type": "code",
      "metadata": {
        "id": "zQ3L55_uNbsa",
        "colab_type": "code",
        "colab": {
          "base_uri": "https://localhost:8080/",
          "height": 34
        },
        "outputId": "1886be69-c6a4-444c-cb71-103ef6d974c7"
      },
      "source": [
        "def clean_text(text):\n",
        "    \"\"\"\n",
        "        text: a string\n",
        "        \n",
        "        return: modified initial string\n",
        "    \"\"\"\n",
        "    text = BeautifulSoup(text, \"lxml\").text # HTML decoding\n",
        "    text = text.lower() # lowercase text\n",
        "    text = REPLACE_BY_SPACE_RE.sub(' ', text) # replace REPLACE_BY_SPACE_RE symbols by space in text\n",
        "    text = BAD_SYMBOLS_RE.sub('', text) # delete symbols which are in BAD_SYMBOLS_RE from text\n",
        "    text = ' '.join(word for word in text.split() if word not in STOPWORDS) # delete stopwors from text\n",
        "    text = ps.stem(text)\n",
        "    return text\n",
        "    \n",
        "df['Temperature'] = df['Temperature'].apply(clean_text)\n",
        "df['Temperature'].apply(lambda x: len(x.split(' '))).sum()"
      ],
      "execution_count": 14,
      "outputs": [
        {
          "output_type": "execute_result",
          "data": {
            "text/plain": [
              "2488"
            ]
          },
          "metadata": {
            "tags": []
          },
          "execution_count": 14
        }
      ]
    },
    {
      "cell_type": "code",
      "metadata": {
        "id": "qVdeFv2ldVWB",
        "colab_type": "code",
        "outputId": "7c23d30d-e1e8-4e91-8c55-2ea3ba561c1d",
        "colab": {
          "base_uri": "https://localhost:8080/",
          "height": 51
        }
      },
      "source": [
        "print_plot(0)"
      ],
      "execution_count": 15,
      "outputs": [
        {
          "output_type": "stream",
          "text": [
            "proper bas system actually determine air temperature outside reactive 5 outside may air conditioning doesnt come also personal temperature allowed personal heater desk im freez\n",
            "Tag: Negative\n"
          ],
          "name": "stdout"
        }
      ]
    },
    {
      "cell_type": "code",
      "metadata": {
        "id": "Ffz2XxxonKAC",
        "colab_type": "code",
        "outputId": "c0cb499d-dc05-481e-9f6d-8c98443f55ee",
        "colab": {
          "base_uri": "https://localhost:8080/",
          "height": 204
        }
      },
      "source": [
        "df[0:5]"
      ],
      "execution_count": 19,
      "outputs": [
        {
          "output_type": "execute_result",
          "data": {
            "text/html": [
              "<div>\n",
              "<style scoped>\n",
              "    .dataframe tbody tr th:only-of-type {\n",
              "        vertical-align: middle;\n",
              "    }\n",
              "\n",
              "    .dataframe tbody tr th {\n",
              "        vertical-align: top;\n",
              "    }\n",
              "\n",
              "    .dataframe thead th {\n",
              "        text-align: right;\n",
              "    }\n",
              "</style>\n",
              "<table border=\"1\" class=\"dataframe\">\n",
              "  <thead>\n",
              "    <tr style=\"text-align: right;\">\n",
              "      <th></th>\n",
              "      <th>Temperature</th>\n",
              "      <th>Sentiment</th>\n",
              "    </tr>\n",
              "  </thead>\n",
              "  <tbody>\n",
              "    <tr>\n",
              "      <th>0</th>\n",
              "      <td>proper bas system actually determine air tempe...</td>\n",
              "      <td>Negative</td>\n",
              "    </tr>\n",
              "    <tr>\n",
              "      <th>1</th>\n",
              "      <td>think probably adjusted changes temperatures s...</td>\n",
              "      <td>Neutral</td>\n",
              "    </tr>\n",
              "    <tr>\n",
              "      <th>2</th>\n",
              "      <td>heat high enough put heat</td>\n",
              "      <td>Negative</td>\n",
              "    </tr>\n",
              "    <tr>\n",
              "      <th>3</th>\n",
              "      <td>completed survey last year also complained tem...</td>\n",
              "      <td>Negative</td>\n",
              "    </tr>\n",
              "    <tr>\n",
              "      <th>4</th>\n",
              "      <td>im thinking seasons changing cold cold hot hot...</td>\n",
              "      <td>Negative</td>\n",
              "    </tr>\n",
              "  </tbody>\n",
              "</table>\n",
              "</div>"
            ],
            "text/plain": [
              "                                         Temperature Sentiment\n",
              "0  proper bas system actually determine air tempe...  Negative\n",
              "1  think probably adjusted changes temperatures s...   Neutral\n",
              "2                          heat high enough put heat  Negative\n",
              "3  completed survey last year also complained tem...  Negative\n",
              "4  im thinking seasons changing cold cold hot hot...  Negative"
            ]
          },
          "metadata": {
            "tags": []
          },
          "execution_count": 19
        }
      ]
    },
    {
      "cell_type": "code",
      "metadata": {
        "id": "OjfzY2nGqV85",
        "colab_type": "code",
        "outputId": "166d6dea-56b3-461b-941d-0bd2fbd56f49",
        "colab": {
          "base_uri": "https://localhost:8080/",
          "height": 34
        }
      },
      "source": [
        "list(df.columns)"
      ],
      "execution_count": 0,
      "outputs": [
        {
          "output_type": "execute_result",
          "data": {
            "text/plain": [
              "['Temperature', 'Sentiment']"
            ]
          },
          "metadata": {
            "tags": []
          },
          "execution_count": 13
        }
      ]
    },
    {
      "cell_type": "markdown",
      "metadata": {
        "id": "0aO6H8g6jtMk",
        "colab_type": "text"
      },
      "source": [
        "## Define the confusion matrix function"
      ]
    },
    {
      "cell_type": "code",
      "metadata": {
        "id": "QQd4AR3n-jID",
        "colab_type": "code",
        "colab": {}
      },
      "source": [
        "def plot_confusion_matrix(df_confusion, title='Confusion matrix', cmap=plt.cm.gray_r):\n",
        "    plt.matshow(df_confusion, cmap=cmap) # imshow\n",
        "    #plt.title(title)\n",
        "    plt.colorbar()\n",
        "    tick_marks = np.arange(len(df_confusion.columns))\n",
        "    plt.xticks(tick_marks, df_confusion.columns, rotation=45)\n",
        "    plt.yticks(tick_marks, df_confusion.index)\n",
        "    #plt.tight_layout()\n",
        "    plt.ylabel(df_confusion.index.name)\n",
        "    plt.xlabel(df_confusion.columns.name)"
      ],
      "execution_count": 0,
      "outputs": []
    },
    {
      "cell_type": "markdown",
      "metadata": {
        "id": "-DRsYEs4kl1_",
        "colab_type": "text"
      },
      "source": [
        "## Lexicon Based Sentiment Analysis"
      ]
    },
    {
      "cell_type": "markdown",
      "metadata": {
        "id": "XpjyyHZakqVy",
        "colab_type": "text"
      },
      "source": [
        "### Textblob"
      ]
    },
    {
      "cell_type": "code",
      "metadata": {
        "id": "8jujSvtXS-0E",
        "colab_type": "code",
        "colab": {}
      },
      "source": [
        "from textblob import TextBlob, Word\n",
        "from textblob.sentiments import NaiveBayesAnalyzer\n",
        "from textblob.classifiers import NaiveBayesClassifier"
      ],
      "execution_count": 0,
      "outputs": []
    },
    {
      "cell_type": "markdown",
      "metadata": {
        "id": "VvjoSy4njgxA",
        "colab_type": "text"
      },
      "source": [
        "#### Run the textblob lexicon model"
      ]
    },
    {
      "cell_type": "code",
      "metadata": {
        "id": "mOXdLORExIBz",
        "colab_type": "code",
        "outputId": "dcfcdaa2-9931-43b0-b5b1-651abfff4338",
        "colab": {
          "base_uri": "https://localhost:8080/",
          "height": 204
        }
      },
      "source": [
        "#%%Sentiment Analysis for Temperature (polarity, subjectivity) .sentiment[0] means we are only looking at polarity\n",
        "survey_resp_temp = df\n",
        "survey_resp_temp['Textblob'] = survey_resp_temp['Temperature'].apply(lambda x: TextBlob(x).sentiment[0] )\n",
        "survey_resp_temp[['Temperature','Sentiment', 'Textblob']].head()"
      ],
      "execution_count": 0,
      "outputs": [
        {
          "output_type": "execute_result",
          "data": {
            "text/html": [
              "<div>\n",
              "<style scoped>\n",
              "    .dataframe tbody tr th:only-of-type {\n",
              "        vertical-align: middle;\n",
              "    }\n",
              "\n",
              "    .dataframe tbody tr th {\n",
              "        vertical-align: top;\n",
              "    }\n",
              "\n",
              "    .dataframe thead th {\n",
              "        text-align: right;\n",
              "    }\n",
              "</style>\n",
              "<table border=\"1\" class=\"dataframe\">\n",
              "  <thead>\n",
              "    <tr style=\"text-align: right;\">\n",
              "      <th></th>\n",
              "      <th>Temperature</th>\n",
              "      <th>Sentiment</th>\n",
              "      <th>Textblob</th>\n",
              "    </tr>\n",
              "  </thead>\n",
              "  <tbody>\n",
              "    <tr>\n",
              "      <th>0</th>\n",
              "      <td>proper bas system actually determine air tempe...</td>\n",
              "      <td>Negative</td>\n",
              "      <td>0.000000</td>\n",
              "    </tr>\n",
              "    <tr>\n",
              "      <th>1</th>\n",
              "      <td>think probably adjusted changes temperatures s...</td>\n",
              "      <td>Neutral</td>\n",
              "      <td>0.250000</td>\n",
              "    </tr>\n",
              "    <tr>\n",
              "      <th>2</th>\n",
              "      <td>heat high enough put heat</td>\n",
              "      <td>Negative</td>\n",
              "      <td>0.080000</td>\n",
              "    </tr>\n",
              "    <tr>\n",
              "      <th>3</th>\n",
              "      <td>completed survey last year also complained tem...</td>\n",
              "      <td>Negative</td>\n",
              "      <td>-0.042857</td>\n",
              "    </tr>\n",
              "    <tr>\n",
              "      <th>4</th>\n",
              "      <td>im thinking seasons changing cold cold hot hot...</td>\n",
              "      <td>Negative</td>\n",
              "      <td>-0.200000</td>\n",
              "    </tr>\n",
              "  </tbody>\n",
              "</table>\n",
              "</div>"
            ],
            "text/plain": [
              "                                         Temperature Sentiment  Textblob\n",
              "0  proper bas system actually determine air tempe...  Negative  0.000000\n",
              "1  think probably adjusted changes temperatures s...   Neutral  0.250000\n",
              "2                          heat high enough put heat  Negative  0.080000\n",
              "3  completed survey last year also complained tem...  Negative -0.042857\n",
              "4  im thinking seasons changing cold cold hot hot...  Negative -0.200000"
            ]
          },
          "metadata": {
            "tags": []
          },
          "execution_count": 16
        }
      ]
    },
    {
      "cell_type": "markdown",
      "metadata": {
        "id": "R52YNMSjmNnF",
        "colab_type": "text"
      },
      "source": [
        "#### Build a histogram of distributions to show accuracy"
      ]
    },
    {
      "cell_type": "code",
      "metadata": {
        "id": "M-X9tMfUmMNs",
        "colab_type": "code",
        "outputId": "baccbdc1-56da-49ed-d26f-f766f9214467",
        "colab": {
          "base_uri": "https://localhost:8080/",
          "height": 204
        }
      },
      "source": [
        "hist = survey_resp_temp\n",
        "hist[0:5]"
      ],
      "execution_count": 0,
      "outputs": [
        {
          "output_type": "execute_result",
          "data": {
            "text/html": [
              "<div>\n",
              "<style scoped>\n",
              "    .dataframe tbody tr th:only-of-type {\n",
              "        vertical-align: middle;\n",
              "    }\n",
              "\n",
              "    .dataframe tbody tr th {\n",
              "        vertical-align: top;\n",
              "    }\n",
              "\n",
              "    .dataframe thead th {\n",
              "        text-align: right;\n",
              "    }\n",
              "</style>\n",
              "<table border=\"1\" class=\"dataframe\">\n",
              "  <thead>\n",
              "    <tr style=\"text-align: right;\">\n",
              "      <th></th>\n",
              "      <th>Temperature</th>\n",
              "      <th>Sentiment</th>\n",
              "      <th>Textblob</th>\n",
              "    </tr>\n",
              "  </thead>\n",
              "  <tbody>\n",
              "    <tr>\n",
              "      <th>0</th>\n",
              "      <td>proper bas system actually determine air tempe...</td>\n",
              "      <td>Negative</td>\n",
              "      <td>0.000000</td>\n",
              "    </tr>\n",
              "    <tr>\n",
              "      <th>1</th>\n",
              "      <td>think probably adjusted changes temperatures s...</td>\n",
              "      <td>Neutral</td>\n",
              "      <td>0.250000</td>\n",
              "    </tr>\n",
              "    <tr>\n",
              "      <th>2</th>\n",
              "      <td>heat high enough put heat</td>\n",
              "      <td>Negative</td>\n",
              "      <td>0.080000</td>\n",
              "    </tr>\n",
              "    <tr>\n",
              "      <th>3</th>\n",
              "      <td>completed survey last year also complained tem...</td>\n",
              "      <td>Negative</td>\n",
              "      <td>-0.042857</td>\n",
              "    </tr>\n",
              "    <tr>\n",
              "      <th>4</th>\n",
              "      <td>im thinking seasons changing cold cold hot hot...</td>\n",
              "      <td>Negative</td>\n",
              "      <td>-0.200000</td>\n",
              "    </tr>\n",
              "  </tbody>\n",
              "</table>\n",
              "</div>"
            ],
            "text/plain": [
              "                                         Temperature Sentiment  Textblob\n",
              "0  proper bas system actually determine air tempe...  Negative  0.000000\n",
              "1  think probably adjusted changes temperatures s...   Neutral  0.250000\n",
              "2                          heat high enough put heat  Negative  0.080000\n",
              "3  completed survey last year also complained tem...  Negative -0.042857\n",
              "4  im thinking seasons changing cold cold hot hot...  Negative -0.200000"
            ]
          },
          "metadata": {
            "tags": []
          },
          "execution_count": 17
        }
      ]
    },
    {
      "cell_type": "code",
      "metadata": {
        "id": "wAPxSvPwmMLR",
        "colab_type": "code",
        "outputId": "6d15f6c3-c718-472f-a2f3-e19264a002f4",
        "colab": {
          "base_uri": "https://localhost:8080/",
          "height": 204
        }
      },
      "source": [
        "hist.Sentiment = hist.Sentiment.map(dict(Negative=-1, Neutral=0))\n",
        "hist = hist[['Temperature', 'Sentiment', 'Textblob']]\n",
        "hist[0:5]"
      ],
      "execution_count": 0,
      "outputs": [
        {
          "output_type": "execute_result",
          "data": {
            "text/html": [
              "<div>\n",
              "<style scoped>\n",
              "    .dataframe tbody tr th:only-of-type {\n",
              "        vertical-align: middle;\n",
              "    }\n",
              "\n",
              "    .dataframe tbody tr th {\n",
              "        vertical-align: top;\n",
              "    }\n",
              "\n",
              "    .dataframe thead th {\n",
              "        text-align: right;\n",
              "    }\n",
              "</style>\n",
              "<table border=\"1\" class=\"dataframe\">\n",
              "  <thead>\n",
              "    <tr style=\"text-align: right;\">\n",
              "      <th></th>\n",
              "      <th>Temperature</th>\n",
              "      <th>Sentiment</th>\n",
              "      <th>Textblob</th>\n",
              "    </tr>\n",
              "  </thead>\n",
              "  <tbody>\n",
              "    <tr>\n",
              "      <th>0</th>\n",
              "      <td>proper bas system actually determine air tempe...</td>\n",
              "      <td>-1</td>\n",
              "      <td>0.000000</td>\n",
              "    </tr>\n",
              "    <tr>\n",
              "      <th>1</th>\n",
              "      <td>think probably adjusted changes temperatures s...</td>\n",
              "      <td>0</td>\n",
              "      <td>0.250000</td>\n",
              "    </tr>\n",
              "    <tr>\n",
              "      <th>2</th>\n",
              "      <td>heat high enough put heat</td>\n",
              "      <td>-1</td>\n",
              "      <td>0.080000</td>\n",
              "    </tr>\n",
              "    <tr>\n",
              "      <th>3</th>\n",
              "      <td>completed survey last year also complained tem...</td>\n",
              "      <td>-1</td>\n",
              "      <td>-0.042857</td>\n",
              "    </tr>\n",
              "    <tr>\n",
              "      <th>4</th>\n",
              "      <td>im thinking seasons changing cold cold hot hot...</td>\n",
              "      <td>-1</td>\n",
              "      <td>-0.200000</td>\n",
              "    </tr>\n",
              "  </tbody>\n",
              "</table>\n",
              "</div>"
            ],
            "text/plain": [
              "                                         Temperature  Sentiment  Textblob\n",
              "0  proper bas system actually determine air tempe...         -1  0.000000\n",
              "1  think probably adjusted changes temperatures s...          0  0.250000\n",
              "2                          heat high enough put heat         -1  0.080000\n",
              "3  completed survey last year also complained tem...         -1 -0.042857\n",
              "4  im thinking seasons changing cold cold hot hot...         -1 -0.200000"
            ]
          },
          "metadata": {
            "tags": []
          },
          "execution_count": 18
        }
      ]
    },
    {
      "cell_type": "code",
      "metadata": {
        "id": "rZzjZdBlmMIw",
        "colab_type": "code",
        "outputId": "7deea1ba-72f4-4d5d-e671-1e85264baea3",
        "colab": {
          "base_uri": "https://localhost:8080/",
          "height": 282
        }
      },
      "source": [
        "plt.hist(hist['Textblob'], bins=10)\n",
        "plt.ylabel('Frequency')"
      ],
      "execution_count": 0,
      "outputs": [
        {
          "output_type": "execute_result",
          "data": {
            "text/plain": [
              "Text(0, 0.5, 'Frequency')"
            ]
          },
          "metadata": {
            "tags": []
          },
          "execution_count": 19
        },
        {
          "output_type": "display_data",
          "data": {
            "image/png": "[encoded data removed]",
            "text/plain": [
              "<Figure size 432x288 with 1 Axes>"
            ]
          },
          "metadata": {
            "tags": []
          }
        }
      ]
    },
    {
      "cell_type": "code",
      "metadata": {
        "id": "1_v_PZOsmMGK",
        "colab_type": "code",
        "outputId": "33373862-905f-4ce4-ff28-dd4bd405c900",
        "colab": {
          "base_uri": "https://localhost:8080/",
          "height": 282
        }
      },
      "source": [
        "plt.hist(hist['Sentiment'], bins=10)\n",
        "plt.ylabel('Frequency')\n",
        "plt.xlim(left=-1, right = 1)"
      ],
      "execution_count": 0,
      "outputs": [
        {
          "output_type": "execute_result",
          "data": {
            "text/plain": [
              "(-1, 1)"
            ]
          },
          "metadata": {
            "tags": []
          },
          "execution_count": 20
        },
        {
          "output_type": "display_data",
          "data": {
            "image/png": "[encoded data removed]",
            "text/plain": [
              "<Figure size 432x288 with 1 Axes>"
            ]
          },
          "metadata": {
            "tags": []
          }
        }
      ]
    },
    {
      "cell_type": "markdown",
      "metadata": {
        "id": "mkpqrk3j_tZ2",
        "colab_type": "text"
      },
      "source": [
        "Take a look at the sentiment score of the classified negatves"
      ]
    },
    {
      "cell_type": "code",
      "metadata": {
        "id": "CYnPizCXAeyq",
        "colab_type": "code",
        "outputId": "ce6a331f-e7fe-4a58-c05f-fd53d4c5b22a",
        "colab": {
          "base_uri": "https://localhost:8080/",
          "height": 282
        }
      },
      "source": [
        "plt.hist(hist.Textblob[hist.Sentiment == -1], bins = 10)\n",
        "plt.hist(hist.Textblob[hist.Sentiment == 0], bins = 10)\n",
        "plt.ylabel('Frequency')\n",
        "plt.xlim(left=-1, right = 1)"
      ],
      "execution_count": 0,
      "outputs": [
        {
          "output_type": "execute_result",
          "data": {
            "text/plain": [
              "(-1, 1)"
            ]
          },
          "metadata": {
            "tags": []
          },
          "execution_count": 48
        },
        {
          "output_type": "display_data",
          "data": {
            "image/png": "[encoded data removed]",
            "text/plain": [
              "<Figure size 432x288 with 1 Axes>"
            ]
          },
          "metadata": {
            "tags": []
          }
        }
      ]
    },
    {
      "cell_type": "code",
      "metadata": {
        "id": "fP-ImlyKNUmQ",
        "colab_type": "code",
        "outputId": "f6174357-99c0-41a6-9c51-85b0bd1c3ca5",
        "colab": {
          "base_uri": "https://localhost:8080/",
          "height": 34
        }
      },
      "source": [
        "hist[hist.Sentiment == -1][0:20]\n",
        "print(hist.Temperature[15])"
      ],
      "execution_count": 0,
      "outputs": [
        {
          "output_type": "stream",
          "text": [
            "air conditioning notice mostly summer\n"
          ],
          "name": "stdout"
        }
      ]
    },
    {
      "cell_type": "markdown",
      "metadata": {
        "id": "j4cVC4agjbSU",
        "colab_type": "text"
      },
      "source": [
        "#### Test Accuracy"
      ]
    },
    {
      "cell_type": "code",
      "metadata": {
        "id": "KX92ZEjGun-L",
        "colab_type": "code",
        "outputId": "3437bf9a-5b37-48a5-857a-72ffd81d1752",
        "colab": {
          "base_uri": "https://localhost:8080/",
          "height": 204
        }
      },
      "source": [
        "survey_resp_temp[0:5]"
      ],
      "execution_count": 0,
      "outputs": [
        {
          "output_type": "execute_result",
          "data": {
            "text/html": [
              "<div>\n",
              "<style scoped>\n",
              "    .dataframe tbody tr th:only-of-type {\n",
              "        vertical-align: middle;\n",
              "    }\n",
              "\n",
              "    .dataframe tbody tr th {\n",
              "        vertical-align: top;\n",
              "    }\n",
              "\n",
              "    .dataframe thead th {\n",
              "        text-align: right;\n",
              "    }\n",
              "</style>\n",
              "<table border=\"1\" class=\"dataframe\">\n",
              "  <thead>\n",
              "    <tr style=\"text-align: right;\">\n",
              "      <th></th>\n",
              "      <th>Temperature</th>\n",
              "      <th>Sentiment</th>\n",
              "      <th>Textblob</th>\n",
              "    </tr>\n",
              "  </thead>\n",
              "  <tbody>\n",
              "    <tr>\n",
              "      <th>0</th>\n",
              "      <td>proper bas system actually determine air tempe...</td>\n",
              "      <td>-1</td>\n",
              "      <td>0.000000</td>\n",
              "    </tr>\n",
              "    <tr>\n",
              "      <th>1</th>\n",
              "      <td>think probably adjusted changes temperatures s...</td>\n",
              "      <td>0</td>\n",
              "      <td>0.250000</td>\n",
              "    </tr>\n",
              "    <tr>\n",
              "      <th>2</th>\n",
              "      <td>heat high enough put heat</td>\n",
              "      <td>-1</td>\n",
              "      <td>0.080000</td>\n",
              "    </tr>\n",
              "    <tr>\n",
              "      <th>3</th>\n",
              "      <td>completed survey last year also complained tem...</td>\n",
              "      <td>-1</td>\n",
              "      <td>-0.042857</td>\n",
              "    </tr>\n",
              "    <tr>\n",
              "      <th>4</th>\n",
              "      <td>im thinking seasons changing cold cold hot hot...</td>\n",
              "      <td>-1</td>\n",
              "      <td>-0.200000</td>\n",
              "    </tr>\n",
              "  </tbody>\n",
              "</table>\n",
              "</div>"
            ],
            "text/plain": [
              "                                         Temperature  Sentiment  Textblob\n",
              "0  proper bas system actually determine air tempe...         -1  0.000000\n",
              "1  think probably adjusted changes temperatures s...          0  0.250000\n",
              "2                          heat high enough put heat         -1  0.080000\n",
              "3  completed survey last year also complained tem...         -1 -0.042857\n",
              "4  im thinking seasons changing cold cold hot hot...         -1 -0.200000"
            ]
          },
          "metadata": {
            "tags": []
          },
          "execution_count": 23
        }
      ]
    },
    {
      "cell_type": "code",
      "metadata": {
        "id": "jTMRCgkdtBs8",
        "colab_type": "code",
        "outputId": "36b12fca-5ac0-4075-fab1-e6dd4af55562",
        "colab": {
          "base_uri": "https://localhost:8080/",
          "height": 187
        }
      },
      "source": [
        "survey_resp_temp['Tb'] = 1\n",
        "survey_resp_temp.fillna\n",
        "survey_resp_temp['Tb'][survey_resp_temp['Textblob'] < 0] = -1\n",
        "survey_resp_temp['Tb'][survey_resp_temp['Textblob'] == 0] = 0"
      ],
      "execution_count": 0,
      "outputs": [
        {
          "output_type": "stream",
          "text": [
            "/usr/local/lib/python3.6/dist-packages/ipykernel_launcher.py:3: SettingWithCopyWarning: \n",
            "A value is trying to be set on a copy of a slice from a DataFrame\n",
            "\n",
            "See the caveats in the documentation: http://pandas.pydata.org/pandas-docs/stable/user_guide/indexing.html#returning-a-view-versus-a-copy\n",
            "  This is separate from the ipykernel package so we can avoid doing imports until\n",
            "/usr/local/lib/python3.6/dist-packages/ipykernel_launcher.py:4: SettingWithCopyWarning: \n",
            "A value is trying to be set on a copy of a slice from a DataFrame\n",
            "\n",
            "See the caveats in the documentation: http://pandas.pydata.org/pandas-docs/stable/user_guide/indexing.html#returning-a-view-versus-a-copy\n",
            "  after removing the cwd from sys.path.\n"
          ],
          "name": "stderr"
        }
      ]
    },
    {
      "cell_type": "code",
      "metadata": {
        "id": "RIexSWEiydWw",
        "colab_type": "code",
        "outputId": "9e9705f9-31cb-43f2-9f7c-87e8dccd75c5",
        "colab": {
          "base_uri": "https://localhost:8080/",
          "height": 204
        }
      },
      "source": [
        "survey_resp_temp = survey_resp_temp.drop('Textblob', axis = 1)\n",
        "survey_resp_temp[0:5]"
      ],
      "execution_count": 0,
      "outputs": [
        {
          "output_type": "execute_result",
          "data": {
            "text/html": [
              "<div>\n",
              "<style scoped>\n",
              "    .dataframe tbody tr th:only-of-type {\n",
              "        vertical-align: middle;\n",
              "    }\n",
              "\n",
              "    .dataframe tbody tr th {\n",
              "        vertical-align: top;\n",
              "    }\n",
              "\n",
              "    .dataframe thead th {\n",
              "        text-align: right;\n",
              "    }\n",
              "</style>\n",
              "<table border=\"1\" class=\"dataframe\">\n",
              "  <thead>\n",
              "    <tr style=\"text-align: right;\">\n",
              "      <th></th>\n",
              "      <th>Temperature</th>\n",
              "      <th>Sentiment</th>\n",
              "      <th>Tb</th>\n",
              "    </tr>\n",
              "  </thead>\n",
              "  <tbody>\n",
              "    <tr>\n",
              "      <th>0</th>\n",
              "      <td>proper bas system actually determine air tempe...</td>\n",
              "      <td>-1</td>\n",
              "      <td>0</td>\n",
              "    </tr>\n",
              "    <tr>\n",
              "      <th>1</th>\n",
              "      <td>think probably adjusted changes temperatures s...</td>\n",
              "      <td>0</td>\n",
              "      <td>1</td>\n",
              "    </tr>\n",
              "    <tr>\n",
              "      <th>2</th>\n",
              "      <td>heat high enough put heat</td>\n",
              "      <td>-1</td>\n",
              "      <td>1</td>\n",
              "    </tr>\n",
              "    <tr>\n",
              "      <th>3</th>\n",
              "      <td>completed survey last year also complained tem...</td>\n",
              "      <td>-1</td>\n",
              "      <td>-1</td>\n",
              "    </tr>\n",
              "    <tr>\n",
              "      <th>4</th>\n",
              "      <td>im thinking seasons changing cold cold hot hot...</td>\n",
              "      <td>-1</td>\n",
              "      <td>-1</td>\n",
              "    </tr>\n",
              "  </tbody>\n",
              "</table>\n",
              "</div>"
            ],
            "text/plain": [
              "                                         Temperature  Sentiment  Tb\n",
              "0  proper bas system actually determine air tempe...         -1   0\n",
              "1  think probably adjusted changes temperatures s...          0   1\n",
              "2                          heat high enough put heat         -1   1\n",
              "3  completed survey last year also complained tem...         -1  -1\n",
              "4  im thinking seasons changing cold cold hot hot...         -1  -1"
            ]
          },
          "metadata": {
            "tags": []
          },
          "execution_count": 25
        }
      ]
    },
    {
      "cell_type": "code",
      "metadata": {
        "id": "60k-MXaHzSFg",
        "colab_type": "code",
        "outputId": "4192e55a-920a-4052-c09f-983fa207a784",
        "colab": {
          "base_uri": "https://localhost:8080/",
          "height": 34
        }
      },
      "source": [
        "y_pred = survey_resp_temp['Tb']\n",
        "y_test = survey_resp_temp['Sentiment']\n",
        "print('accuracy %s' % accuracy_score(y_pred, y_test))"
      ],
      "execution_count": 0,
      "outputs": [
        {
          "output_type": "stream",
          "text": [
            "accuracy 0.33653846153846156\n"
          ],
          "name": "stdout"
        }
      ]
    },
    {
      "cell_type": "markdown",
      "metadata": {
        "id": "cCYDFow2zw8K",
        "colab_type": "text"
      },
      "source": [
        "Not good at all"
      ]
    },
    {
      "cell_type": "markdown",
      "metadata": {
        "id": "HH7CPvRs9s1j",
        "colab_type": "text"
      },
      "source": [
        "#### Confusion matrix"
      ]
    },
    {
      "cell_type": "code",
      "metadata": {
        "id": "sWQuCfgV9ulQ",
        "colab_type": "code",
        "colab": {}
      },
      "source": [
        "y_actu = pd.Series(y_test, name='Actual')\n",
        "y_pred = pd.Series(y_pred, name='Predicted')\n",
        "df_confusion = pd.crosstab(y_actu, y_pred)"
      ],
      "execution_count": 0,
      "outputs": []
    },
    {
      "cell_type": "code",
      "metadata": {
        "id": "WmdWiDhJ9xxt",
        "colab_type": "code",
        "outputId": "05090e96-5e26-471e-dd6a-68e322244284",
        "colab": {
          "base_uri": "https://localhost:8080/",
          "height": 142
        }
      },
      "source": [
        "df_confusion"
      ],
      "execution_count": 0,
      "outputs": [
        {
          "output_type": "execute_result",
          "data": {
            "text/html": [
              "<div>\n",
              "<style scoped>\n",
              "    .dataframe tbody tr th:only-of-type {\n",
              "        vertical-align: middle;\n",
              "    }\n",
              "\n",
              "    .dataframe tbody tr th {\n",
              "        vertical-align: top;\n",
              "    }\n",
              "\n",
              "    .dataframe thead th {\n",
              "        text-align: right;\n",
              "    }\n",
              "</style>\n",
              "<table border=\"1\" class=\"dataframe\">\n",
              "  <thead>\n",
              "    <tr style=\"text-align: right;\">\n",
              "      <th>Predicted</th>\n",
              "      <th>-1</th>\n",
              "      <th>0</th>\n",
              "      <th>1</th>\n",
              "    </tr>\n",
              "    <tr>\n",
              "      <th>Actual</th>\n",
              "      <th></th>\n",
              "      <th></th>\n",
              "      <th></th>\n",
              "    </tr>\n",
              "  </thead>\n",
              "  <tbody>\n",
              "    <tr>\n",
              "      <th>-1</th>\n",
              "      <td>46</td>\n",
              "      <td>38</td>\n",
              "      <td>56</td>\n",
              "    </tr>\n",
              "    <tr>\n",
              "      <th>0</th>\n",
              "      <td>12</td>\n",
              "      <td>24</td>\n",
              "      <td>32</td>\n",
              "    </tr>\n",
              "  </tbody>\n",
              "</table>\n",
              "</div>"
            ],
            "text/plain": [
              "Predicted  -1   0   1\n",
              "Actual               \n",
              "-1         46  38  56\n",
              " 0         12  24  32"
            ]
          },
          "metadata": {
            "tags": []
          },
          "execution_count": 26
        }
      ]
    },
    {
      "cell_type": "code",
      "metadata": {
        "id": "XDsup6o1A-Dn",
        "colab_type": "code",
        "outputId": "6c3a3043-6f3a-43d9-ba95-ad5432b80cf2",
        "colab": {
          "base_uri": "https://localhost:8080/",
          "height": 289
        }
      },
      "source": [
        "plot_confusion_matrix(df_confusion)"
      ],
      "execution_count": 0,
      "outputs": [
        {
          "output_type": "display_data",
          "data": {
            "image/png": "[encoded data removed]",
            "text/plain": [
              "<Figure size 432x288 with 2 Axes>"
            ]
          },
          "metadata": {
            "tags": []
          }
        }
      ]
    },
    {
      "cell_type": "markdown",
      "metadata": {
        "id": "Ijv21rxVksYq",
        "colab_type": "text"
      },
      "source": [
        "### Vader"
      ]
    },
    {
      "cell_type": "code",
      "metadata": {
        "id": "dSkKF07X0Eoo",
        "colab_type": "code",
        "outputId": "95b9ab29-fa24-464e-9e8a-dc21f99717e4",
        "colab": {
          "base_uri": "https://localhost:8080/",
          "height": 102
        }
      },
      "source": [
        "pip install vaderSentiment"
      ],
      "execution_count": 0,
      "outputs": [
        {
          "output_type": "stream",
          "text": [
            "Collecting vaderSentiment\n",
            "\u001b[?25l  Downloading https://files.pythonhosted.org/packages/86/9e/c53e1fc61aac5ee490a6ac5e21b1ac04e55a7c2aba647bb8411c9aadf24e/vaderSentiment-3.2.1-py2.py3-none-any.whl (125kB)\n",
            "\r\u001b[K     |██▋                             | 10kB 28.4MB/s eta 0:00:01\r\u001b[K     |█████▏                          | 20kB 5.8MB/s eta 0:00:01\r\u001b[K     |███████▉                        | 30kB 8.3MB/s eta 0:00:01\r\u001b[K     |██████████▍                     | 40kB 5.4MB/s eta 0:00:01\r\u001b[K     |█████████████                   | 51kB 6.6MB/s eta 0:00:01\r\u001b[K     |███████████████▋                | 61kB 7.8MB/s eta 0:00:01\r\u001b[K     |██████████████████▎             | 71kB 8.8MB/s eta 0:00:01\r\u001b[K     |████████████████████▉           | 81kB 9.9MB/s eta 0:00:01\r\u001b[K     |███████████████████████▍        | 92kB 11.0MB/s eta 0:00:01\r\u001b[K     |██████████████████████████      | 102kB 8.9MB/s eta 0:00:01\r\u001b[K     |████████████████████████████▋   | 112kB 8.9MB/s eta 0:00:01\r\u001b[K     |███████████████████████████████▎| 122kB 8.9MB/s eta 0:00:01\r\u001b[K     |████████████████████████████████| 133kB 8.9MB/s \n",
            "\u001b[?25hInstalling collected packages: vaderSentiment\n",
            "Successfully installed vaderSentiment-3.2.1\n"
          ],
          "name": "stdout"
        }
      ]
    },
    {
      "cell_type": "code",
      "metadata": {
        "id": "2wdNrzgzS_ha",
        "colab_type": "code",
        "colab": {}
      },
      "source": [
        "from vaderSentiment.vaderSentiment import SentimentIntensityAnalyzer"
      ],
      "execution_count": 0,
      "outputs": []
    },
    {
      "cell_type": "markdown",
      "metadata": {
        "id": "M9UM_SLuvwQ4",
        "colab_type": "text"
      },
      "source": [
        "#### Run the model"
      ]
    },
    {
      "cell_type": "code",
      "metadata": {
        "id": "WOsLS5Smz2Gb",
        "colab_type": "code",
        "outputId": "041bd70c-9cf6-4204-81df-f83e5c2c5cd3",
        "colab": {
          "base_uri": "https://localhost:8080/",
          "height": 204
        }
      },
      "source": [
        "survey_resp_temp2 = df\n",
        "analyzer = SentimentIntensityAnalyzer()\n",
        "scores = []\n",
        "\n",
        "for i in range(0,len(survey_resp_temp2['Temperature'])):\n",
        "    score = analyzer.polarity_scores(survey_resp_temp2['Temperature'][i])\n",
        "    scores.append(score)\n",
        "    \n",
        "df_scores= pd.DataFrame(scores)  \n",
        "\n",
        "#check the number of negative, neutral and positive\n",
        "len(df_scores[df_scores['compound'] > 0])\n",
        "len(df_scores[df_scores['compound'] == 0])\n",
        "len(df_scores[df_scores['compound'] < 0])\n",
        "\n",
        "df_scores['compound'][0:5]\n",
        "df['Vader'] = df_scores['compound']\n",
        "df[0:5]"
      ],
      "execution_count": 0,
      "outputs": [
        {
          "output_type": "execute_result",
          "data": {
            "text/html": [
              "<div>\n",
              "<style scoped>\n",
              "    .dataframe tbody tr th:only-of-type {\n",
              "        vertical-align: middle;\n",
              "    }\n",
              "\n",
              "    .dataframe tbody tr th {\n",
              "        vertical-align: top;\n",
              "    }\n",
              "\n",
              "    .dataframe thead th {\n",
              "        text-align: right;\n",
              "    }\n",
              "</style>\n",
              "<table border=\"1\" class=\"dataframe\">\n",
              "  <thead>\n",
              "    <tr style=\"text-align: right;\">\n",
              "      <th></th>\n",
              "      <th>Temperature</th>\n",
              "      <th>Sentiment</th>\n",
              "      <th>Textblob</th>\n",
              "      <th>Tb</th>\n",
              "      <th>Vader</th>\n",
              "    </tr>\n",
              "  </thead>\n",
              "  <tbody>\n",
              "    <tr>\n",
              "      <th>0</th>\n",
              "      <td>proper bas system actually determine air tempe...</td>\n",
              "      <td>-1</td>\n",
              "      <td>0.000000</td>\n",
              "      <td>0</td>\n",
              "      <td>-0.1027</td>\n",
              "    </tr>\n",
              "    <tr>\n",
              "      <th>1</th>\n",
              "      <td>think probably adjusted changes temperatures s...</td>\n",
              "      <td>0</td>\n",
              "      <td>0.250000</td>\n",
              "      <td>1</td>\n",
              "      <td>0.4767</td>\n",
              "    </tr>\n",
              "    <tr>\n",
              "      <th>2</th>\n",
              "      <td>heat high enough put heat</td>\n",
              "      <td>-1</td>\n",
              "      <td>0.080000</td>\n",
              "      <td>1</td>\n",
              "      <td>0.0000</td>\n",
              "    </tr>\n",
              "    <tr>\n",
              "      <th>3</th>\n",
              "      <td>completed survey last year also complained tem...</td>\n",
              "      <td>-1</td>\n",
              "      <td>-0.042857</td>\n",
              "      <td>-1</td>\n",
              "      <td>-0.5903</td>\n",
              "    </tr>\n",
              "    <tr>\n",
              "      <th>4</th>\n",
              "      <td>im thinking seasons changing cold cold hot hot...</td>\n",
              "      <td>-1</td>\n",
              "      <td>-0.200000</td>\n",
              "      <td>-1</td>\n",
              "      <td>-0.4767</td>\n",
              "    </tr>\n",
              "  </tbody>\n",
              "</table>\n",
              "</div>"
            ],
            "text/plain": [
              "                                         Temperature  Sentiment  ...  Tb   Vader\n",
              "0  proper bas system actually determine air tempe...         -1  ...   0 -0.1027\n",
              "1  think probably adjusted changes temperatures s...          0  ...   1  0.4767\n",
              "2                          heat high enough put heat         -1  ...   1  0.0000\n",
              "3  completed survey last year also complained tem...         -1  ...  -1 -0.5903\n",
              "4  im thinking seasons changing cold cold hot hot...         -1  ...  -1 -0.4767\n",
              "\n",
              "[5 rows x 5 columns]"
            ]
          },
          "metadata": {
            "tags": []
          },
          "execution_count": 30
        }
      ]
    },
    {
      "cell_type": "code",
      "metadata": {
        "id": "CIXHDy7xz2KA",
        "colab_type": "code",
        "outputId": "d84160de-0c28-4350-fe1e-501b251c4358",
        "colab": {
          "base_uri": "https://localhost:8080/",
          "height": 102
        }
      },
      "source": [
        "df['Vd'] = 'Neutral'\n",
        "df.fillna\n",
        "df['Vd'][df['Vader'] < 0] = 'Negative'"
      ],
      "execution_count": 0,
      "outputs": [
        {
          "output_type": "stream",
          "text": [
            "/usr/local/lib/python3.6/dist-packages/ipykernel_launcher.py:3: SettingWithCopyWarning: \n",
            "A value is trying to be set on a copy of a slice from a DataFrame\n",
            "\n",
            "See the caveats in the documentation: http://pandas.pydata.org/pandas-docs/stable/user_guide/indexing.html#returning-a-view-versus-a-copy\n",
            "  This is separate from the ipykernel package so we can avoid doing imports until\n"
          ],
          "name": "stderr"
        }
      ]
    },
    {
      "cell_type": "code",
      "metadata": {
        "id": "EW9Tz_viz2Nw",
        "colab_type": "code",
        "outputId": "bb6f1b59-6dbf-40b2-b35d-be6e3d252789",
        "colab": {
          "base_uri": "https://localhost:8080/",
          "height": 204
        }
      },
      "source": [
        "df[0:5]"
      ],
      "execution_count": 0,
      "outputs": [
        {
          "output_type": "execute_result",
          "data": {
            "text/html": [
              "<div>\n",
              "<style scoped>\n",
              "    .dataframe tbody tr th:only-of-type {\n",
              "        vertical-align: middle;\n",
              "    }\n",
              "\n",
              "    .dataframe tbody tr th {\n",
              "        vertical-align: top;\n",
              "    }\n",
              "\n",
              "    .dataframe thead th {\n",
              "        text-align: right;\n",
              "    }\n",
              "</style>\n",
              "<table border=\"1\" class=\"dataframe\">\n",
              "  <thead>\n",
              "    <tr style=\"text-align: right;\">\n",
              "      <th></th>\n",
              "      <th>Temperature</th>\n",
              "      <th>Sentiment</th>\n",
              "      <th>Textblob</th>\n",
              "      <th>Tb</th>\n",
              "      <th>Vader</th>\n",
              "      <th>Vd</th>\n",
              "    </tr>\n",
              "  </thead>\n",
              "  <tbody>\n",
              "    <tr>\n",
              "      <th>0</th>\n",
              "      <td>proper bas system actually determine air tempe...</td>\n",
              "      <td>-1</td>\n",
              "      <td>0.000000</td>\n",
              "      <td>0</td>\n",
              "      <td>-0.1027</td>\n",
              "      <td>Negative</td>\n",
              "    </tr>\n",
              "    <tr>\n",
              "      <th>1</th>\n",
              "      <td>think probably adjusted changes temperatures s...</td>\n",
              "      <td>0</td>\n",
              "      <td>0.250000</td>\n",
              "      <td>1</td>\n",
              "      <td>0.4767</td>\n",
              "      <td>Neutral</td>\n",
              "    </tr>\n",
              "    <tr>\n",
              "      <th>2</th>\n",
              "      <td>heat high enough put heat</td>\n",
              "      <td>-1</td>\n",
              "      <td>0.080000</td>\n",
              "      <td>1</td>\n",
              "      <td>0.0000</td>\n",
              "      <td>Neutral</td>\n",
              "    </tr>\n",
              "    <tr>\n",
              "      <th>3</th>\n",
              "      <td>completed survey last year also complained tem...</td>\n",
              "      <td>-1</td>\n",
              "      <td>-0.042857</td>\n",
              "      <td>-1</td>\n",
              "      <td>-0.5903</td>\n",
              "      <td>Negative</td>\n",
              "    </tr>\n",
              "    <tr>\n",
              "      <th>4</th>\n",
              "      <td>im thinking seasons changing cold cold hot hot...</td>\n",
              "      <td>-1</td>\n",
              "      <td>-0.200000</td>\n",
              "      <td>-1</td>\n",
              "      <td>-0.4767</td>\n",
              "      <td>Negative</td>\n",
              "    </tr>\n",
              "  </tbody>\n",
              "</table>\n",
              "</div>"
            ],
            "text/plain": [
              "                                         Temperature  ...        Vd\n",
              "0  proper bas system actually determine air tempe...  ...  Negative\n",
              "1  think probably adjusted changes temperatures s...  ...   Neutral\n",
              "2                          heat high enough put heat  ...   Neutral\n",
              "3  completed survey last year also complained tem...  ...  Negative\n",
              "4  im thinking seasons changing cold cold hot hot...  ...  Negative\n",
              "\n",
              "[5 rows x 6 columns]"
            ]
          },
          "metadata": {
            "tags": []
          },
          "execution_count": 32
        }
      ]
    },
    {
      "cell_type": "markdown",
      "metadata": {
        "id": "OnWTWxP8sMo4",
        "colab_type": "text"
      },
      "source": [
        "#### Histogram"
      ]
    },
    {
      "cell_type": "code",
      "metadata": {
        "id": "G_tolwC0vnip",
        "colab_type": "code",
        "outputId": "79f6aef7-7b1f-439e-b827-9bb8a534b4c1",
        "colab": {
          "base_uri": "https://localhost:8080/",
          "height": 282
        }
      },
      "source": [
        "plt.hist(hist['Sentiment'], bins=10)\n",
        "plt.ylabel('Frequency')\n",
        "plt.xlim(left=-1, right = 1)"
      ],
      "execution_count": 0,
      "outputs": [
        {
          "output_type": "execute_result",
          "data": {
            "text/plain": [
              "(-1, 1)"
            ]
          },
          "metadata": {
            "tags": []
          },
          "execution_count": 33
        },
        {
          "output_type": "display_data",
          "data": {
            "image/png": "[encoded data removed]",
            "text/plain": [
              "<Figure size 432x288 with 1 Axes>"
            ]
          },
          "metadata": {
            "tags": []
          }
        }
      ]
    },
    {
      "cell_type": "code",
      "metadata": {
        "id": "yQalogW1v56i",
        "colab_type": "code",
        "outputId": "11540ff0-411e-40e7-cad2-9f675abbc627",
        "colab": {
          "base_uri": "https://localhost:8080/",
          "height": 282
        }
      },
      "source": [
        "plt.hist(df['Vader'], bins=10)\n",
        "plt.hist(df['Vader'].loc[df['Sentiment']== -1], bins=10)\n",
        "plt.ylabel('Frequency')\n",
        "plt.xlim(left=-1, right = 1)"
      ],
      "execution_count": 0,
      "outputs": [
        {
          "output_type": "execute_result",
          "data": {
            "text/plain": [
              "(-1, 1)"
            ]
          },
          "metadata": {
            "tags": []
          },
          "execution_count": 47
        },
        {
          "output_type": "display_data",
          "data": {
            "image/png": "[encoded data removed]",
            "text/plain": [
              "<Figure size 432x288 with 1 Axes>"
            ]
          },
          "metadata": {
            "tags": []
          }
        }
      ]
    },
    {
      "cell_type": "code",
      "metadata": {
        "id": "tSE1_an-44uM",
        "colab_type": "code",
        "outputId": "632e7812-257c-4183-ecc0-2d96d90f75f1",
        "colab": {
          "base_uri": "https://localhost:8080/",
          "height": 221
        }
      },
      "source": [
        "df['Vader'].loc[df['Sentiment']== 0]"
      ],
      "execution_count": 0,
      "outputs": [
        {
          "output_type": "execute_result",
          "data": {
            "text/plain": [
              "1      0.4767\n",
              "8      0.2263\n",
              "9     -0.3353\n",
              "12     0.0000\n",
              "13     0.2263\n",
              "        ...  \n",
              "193    0.7003\n",
              "196    0.3536\n",
              "205    0.0000\n",
              "206    0.0000\n",
              "207    0.6133\n",
              "Name: Vader, Length: 68, dtype: float64"
            ]
          },
          "metadata": {
            "tags": []
          },
          "execution_count": 45
        }
      ]
    },
    {
      "cell_type": "markdown",
      "metadata": {
        "id": "51eejJ2Jvqt9",
        "colab_type": "text"
      },
      "source": [
        "#### Test Accuracy"
      ]
    },
    {
      "cell_type": "code",
      "metadata": {
        "id": "PMGdf3Axz2Qi",
        "colab_type": "code",
        "outputId": "1f62678c-2582-4bfd-a9bd-0f026602914f",
        "colab": {
          "base_uri": "https://localhost:8080/",
          "height": 340
        }
      },
      "source": [
        "y_pred = df['Vd']\n",
        "y_test = df['Sentiment']\n",
        "print('accuracy %s' % accuracy_score(y_pred, y_test))"
      ],
      "execution_count": 0,
      "outputs": [
        {
          "output_type": "error",
          "ename": "TypeError",
          "evalue": "ignored",
          "traceback": [
            "\u001b[0;31m---------------------------------------------------------------------------\u001b[0m",
            "\u001b[0;31mTypeError\u001b[0m                                 Traceback (most recent call last)",
            "\u001b[0;32m<ipython-input-35-88ba91cb1e7f>\u001b[0m in \u001b[0;36m<module>\u001b[0;34m()\u001b[0m\n\u001b[1;32m      1\u001b[0m \u001b[0my_pred\u001b[0m \u001b[0;34m=\u001b[0m \u001b[0mdf\u001b[0m\u001b[0;34m[\u001b[0m\u001b[0;34m'Vd'\u001b[0m\u001b[0;34m]\u001b[0m\u001b[0;34m\u001b[0m\u001b[0;34m\u001b[0m\u001b[0m\n\u001b[1;32m      2\u001b[0m \u001b[0my_test\u001b[0m \u001b[0;34m=\u001b[0m \u001b[0mdf\u001b[0m\u001b[0;34m[\u001b[0m\u001b[0;34m'Sentiment'\u001b[0m\u001b[0;34m]\u001b[0m\u001b[0;34m\u001b[0m\u001b[0;34m\u001b[0m\u001b[0m\n\u001b[0;32m----> 3\u001b[0;31m \u001b[0mprint\u001b[0m\u001b[0;34m(\u001b[0m\u001b[0;34m'accuracy %s'\u001b[0m \u001b[0;34m%\u001b[0m \u001b[0maccuracy_score\u001b[0m\u001b[0;34m(\u001b[0m\u001b[0my_pred\u001b[0m\u001b[0;34m,\u001b[0m \u001b[0my_test\u001b[0m\u001b[0;34m)\u001b[0m\u001b[0;34m)\u001b[0m\u001b[0;34m\u001b[0m\u001b[0;34m\u001b[0m\u001b[0m\n\u001b[0m",
            "\u001b[0;32m/usr/local/lib/python3.6/dist-packages/sklearn/metrics/classification.py\u001b[0m in \u001b[0;36maccuracy_score\u001b[0;34m(y_true, y_pred, normalize, sample_weight)\u001b[0m\n\u001b[1;32m    174\u001b[0m \u001b[0;34m\u001b[0m\u001b[0m\n\u001b[1;32m    175\u001b[0m     \u001b[0;31m# Compute accuracy for each possible representation\u001b[0m\u001b[0;34m\u001b[0m\u001b[0;34m\u001b[0m\u001b[0;34m\u001b[0m\u001b[0m\n\u001b[0;32m--> 176\u001b[0;31m     \u001b[0my_type\u001b[0m\u001b[0;34m,\u001b[0m \u001b[0my_true\u001b[0m\u001b[0;34m,\u001b[0m \u001b[0my_pred\u001b[0m \u001b[0;34m=\u001b[0m \u001b[0m_check_targets\u001b[0m\u001b[0;34m(\u001b[0m\u001b[0my_true\u001b[0m\u001b[0;34m,\u001b[0m \u001b[0my_pred\u001b[0m\u001b[0;34m)\u001b[0m\u001b[0;34m\u001b[0m\u001b[0;34m\u001b[0m\u001b[0m\n\u001b[0m\u001b[1;32m    177\u001b[0m     \u001b[0mcheck_consistent_length\u001b[0m\u001b[0;34m(\u001b[0m\u001b[0my_true\u001b[0m\u001b[0;34m,\u001b[0m \u001b[0my_pred\u001b[0m\u001b[0;34m,\u001b[0m \u001b[0msample_weight\u001b[0m\u001b[0;34m)\u001b[0m\u001b[0;34m\u001b[0m\u001b[0;34m\u001b[0m\u001b[0m\n\u001b[1;32m    178\u001b[0m     \u001b[0;32mif\u001b[0m \u001b[0my_type\u001b[0m\u001b[0;34m.\u001b[0m\u001b[0mstartswith\u001b[0m\u001b[0;34m(\u001b[0m\u001b[0;34m'multilabel'\u001b[0m\u001b[0;34m)\u001b[0m\u001b[0;34m:\u001b[0m\u001b[0;34m\u001b[0m\u001b[0;34m\u001b[0m\u001b[0m\n",
            "\u001b[0;32m/usr/local/lib/python3.6/dist-packages/sklearn/metrics/classification.py\u001b[0m in \u001b[0;36m_check_targets\u001b[0;34m(y_true, y_pred)\u001b[0m\n\u001b[1;32m     92\u001b[0m         \u001b[0my_pred\u001b[0m \u001b[0;34m=\u001b[0m \u001b[0mcolumn_or_1d\u001b[0m\u001b[0;34m(\u001b[0m\u001b[0my_pred\u001b[0m\u001b[0;34m)\u001b[0m\u001b[0;34m\u001b[0m\u001b[0;34m\u001b[0m\u001b[0m\n\u001b[1;32m     93\u001b[0m         \u001b[0;32mif\u001b[0m \u001b[0my_type\u001b[0m \u001b[0;34m==\u001b[0m \u001b[0;34m\"binary\"\u001b[0m\u001b[0;34m:\u001b[0m\u001b[0;34m\u001b[0m\u001b[0;34m\u001b[0m\u001b[0m\n\u001b[0;32m---> 94\u001b[0;31m             \u001b[0munique_values\u001b[0m \u001b[0;34m=\u001b[0m \u001b[0mnp\u001b[0m\u001b[0;34m.\u001b[0m\u001b[0munion1d\u001b[0m\u001b[0;34m(\u001b[0m\u001b[0my_true\u001b[0m\u001b[0;34m,\u001b[0m \u001b[0my_pred\u001b[0m\u001b[0;34m)\u001b[0m\u001b[0;34m\u001b[0m\u001b[0;34m\u001b[0m\u001b[0m\n\u001b[0m\u001b[1;32m     95\u001b[0m             \u001b[0;32mif\u001b[0m \u001b[0mlen\u001b[0m\u001b[0;34m(\u001b[0m\u001b[0munique_values\u001b[0m\u001b[0;34m)\u001b[0m \u001b[0;34m>\u001b[0m \u001b[0;36m2\u001b[0m\u001b[0;34m:\u001b[0m\u001b[0;34m\u001b[0m\u001b[0;34m\u001b[0m\u001b[0m\n\u001b[1;32m     96\u001b[0m                 \u001b[0my_type\u001b[0m \u001b[0;34m=\u001b[0m \u001b[0;34m\"multiclass\"\u001b[0m\u001b[0;34m\u001b[0m\u001b[0;34m\u001b[0m\u001b[0m\n",
            "\u001b[0;32m/usr/local/lib/python3.6/dist-packages/numpy/lib/arraysetops.py\u001b[0m in \u001b[0;36munion1d\u001b[0;34m(ar1, ar2)\u001b[0m\n\u001b[1;32m    736\u001b[0m     \u001b[0marray\u001b[0m\u001b[0;34m(\u001b[0m\u001b[0;34m[\u001b[0m\u001b[0;36m1\u001b[0m\u001b[0;34m,\u001b[0m \u001b[0;36m2\u001b[0m\u001b[0;34m,\u001b[0m \u001b[0;36m3\u001b[0m\u001b[0;34m,\u001b[0m \u001b[0;36m4\u001b[0m\u001b[0;34m,\u001b[0m \u001b[0;36m6\u001b[0m\u001b[0;34m]\u001b[0m\u001b[0;34m)\u001b[0m\u001b[0;34m\u001b[0m\u001b[0;34m\u001b[0m\u001b[0m\n\u001b[1;32m    737\u001b[0m     \"\"\"\n\u001b[0;32m--> 738\u001b[0;31m     \u001b[0;32mreturn\u001b[0m \u001b[0munique\u001b[0m\u001b[0;34m(\u001b[0m\u001b[0mnp\u001b[0m\u001b[0;34m.\u001b[0m\u001b[0mconcatenate\u001b[0m\u001b[0;34m(\u001b[0m\u001b[0;34m(\u001b[0m\u001b[0mar1\u001b[0m\u001b[0;34m,\u001b[0m \u001b[0mar2\u001b[0m\u001b[0;34m)\u001b[0m\u001b[0;34m,\u001b[0m \u001b[0maxis\u001b[0m\u001b[0;34m=\u001b[0m\u001b[0;32mNone\u001b[0m\u001b[0;34m)\u001b[0m\u001b[0;34m)\u001b[0m\u001b[0;34m\u001b[0m\u001b[0;34m\u001b[0m\u001b[0m\n\u001b[0m\u001b[1;32m    739\u001b[0m \u001b[0;34m\u001b[0m\u001b[0m\n\u001b[1;32m    740\u001b[0m \u001b[0;34m\u001b[0m\u001b[0m\n",
            "\u001b[0;32m/usr/local/lib/python3.6/dist-packages/numpy/lib/arraysetops.py\u001b[0m in \u001b[0;36munique\u001b[0;34m(ar, return_index, return_inverse, return_counts, axis)\u001b[0m\n\u001b[1;32m    262\u001b[0m     \u001b[0mar\u001b[0m \u001b[0;34m=\u001b[0m \u001b[0mnp\u001b[0m\u001b[0;34m.\u001b[0m\u001b[0masanyarray\u001b[0m\u001b[0;34m(\u001b[0m\u001b[0mar\u001b[0m\u001b[0;34m)\u001b[0m\u001b[0;34m\u001b[0m\u001b[0;34m\u001b[0m\u001b[0m\n\u001b[1;32m    263\u001b[0m     \u001b[0;32mif\u001b[0m \u001b[0maxis\u001b[0m \u001b[0;32mis\u001b[0m \u001b[0;32mNone\u001b[0m\u001b[0;34m:\u001b[0m\u001b[0;34m\u001b[0m\u001b[0;34m\u001b[0m\u001b[0m\n\u001b[0;32m--> 264\u001b[0;31m         \u001b[0mret\u001b[0m \u001b[0;34m=\u001b[0m \u001b[0m_unique1d\u001b[0m\u001b[0;34m(\u001b[0m\u001b[0mar\u001b[0m\u001b[0;34m,\u001b[0m \u001b[0mreturn_index\u001b[0m\u001b[0;34m,\u001b[0m \u001b[0mreturn_inverse\u001b[0m\u001b[0;34m,\u001b[0m \u001b[0mreturn_counts\u001b[0m\u001b[0;34m)\u001b[0m\u001b[0;34m\u001b[0m\u001b[0;34m\u001b[0m\u001b[0m\n\u001b[0m\u001b[1;32m    265\u001b[0m         \u001b[0;32mreturn\u001b[0m \u001b[0m_unpack_tuple\u001b[0m\u001b[0;34m(\u001b[0m\u001b[0mret\u001b[0m\u001b[0;34m)\u001b[0m\u001b[0;34m\u001b[0m\u001b[0;34m\u001b[0m\u001b[0m\n\u001b[1;32m    266\u001b[0m \u001b[0;34m\u001b[0m\u001b[0m\n",
            "\u001b[0;32m/usr/local/lib/python3.6/dist-packages/numpy/lib/arraysetops.py\u001b[0m in \u001b[0;36m_unique1d\u001b[0;34m(ar, return_index, return_inverse, return_counts)\u001b[0m\n\u001b[1;32m    310\u001b[0m         \u001b[0maux\u001b[0m \u001b[0;34m=\u001b[0m \u001b[0mar\u001b[0m\u001b[0;34m[\u001b[0m\u001b[0mperm\u001b[0m\u001b[0;34m]\u001b[0m\u001b[0;34m\u001b[0m\u001b[0;34m\u001b[0m\u001b[0m\n\u001b[1;32m    311\u001b[0m     \u001b[0;32melse\u001b[0m\u001b[0;34m:\u001b[0m\u001b[0;34m\u001b[0m\u001b[0;34m\u001b[0m\u001b[0m\n\u001b[0;32m--> 312\u001b[0;31m         \u001b[0mar\u001b[0m\u001b[0;34m.\u001b[0m\u001b[0msort\u001b[0m\u001b[0;34m(\u001b[0m\u001b[0;34m)\u001b[0m\u001b[0;34m\u001b[0m\u001b[0;34m\u001b[0m\u001b[0m\n\u001b[0m\u001b[1;32m    313\u001b[0m         \u001b[0maux\u001b[0m \u001b[0;34m=\u001b[0m \u001b[0mar\u001b[0m\u001b[0;34m\u001b[0m\u001b[0;34m\u001b[0m\u001b[0m\n\u001b[1;32m    314\u001b[0m     \u001b[0mmask\u001b[0m \u001b[0;34m=\u001b[0m \u001b[0mnp\u001b[0m\u001b[0;34m.\u001b[0m\u001b[0mempty\u001b[0m\u001b[0;34m(\u001b[0m\u001b[0maux\u001b[0m\u001b[0;34m.\u001b[0m\u001b[0mshape\u001b[0m\u001b[0;34m,\u001b[0m \u001b[0mdtype\u001b[0m\u001b[0;34m=\u001b[0m\u001b[0mnp\u001b[0m\u001b[0;34m.\u001b[0m\u001b[0mbool_\u001b[0m\u001b[0;34m)\u001b[0m\u001b[0;34m\u001b[0m\u001b[0;34m\u001b[0m\u001b[0m\n",
            "\u001b[0;31mTypeError\u001b[0m: '<' not supported between instances of 'int' and 'str'"
          ]
        }
      ]
    },
    {
      "cell_type": "markdown",
      "metadata": {
        "id": "oqaQP5Z42h8r",
        "colab_type": "text"
      },
      "source": [
        "Even worse unfortunately"
      ]
    },
    {
      "cell_type": "markdown",
      "metadata": {
        "id": "N2_lUo66v2Z2",
        "colab_type": "text"
      },
      "source": [
        "#### Confusion matrix"
      ]
    },
    {
      "cell_type": "code",
      "metadata": {
        "id": "NCOGK0_xBJWx",
        "colab_type": "code",
        "colab": {}
      },
      "source": [
        "y_actu = pd.Series(y_test, name='Actual')\n",
        "y_pred = pd.Series(y_pred, name='Predicted')\n",
        "df_confusion = pd.crosstab(y_actu, y_pred)"
      ],
      "execution_count": 0,
      "outputs": []
    },
    {
      "cell_type": "code",
      "metadata": {
        "id": "KuW6jxvpBTVI",
        "colab_type": "code",
        "outputId": "8dae162a-f5e3-43e9-9d04-c814edce3a02",
        "colab": {
          "base_uri": "https://localhost:8080/",
          "height": 142
        }
      },
      "source": [
        "df_confusion"
      ],
      "execution_count": 0,
      "outputs": [
        {
          "output_type": "execute_result",
          "data": {
            "text/html": [
              "<div>\n",
              "<style scoped>\n",
              "    .dataframe tbody tr th:only-of-type {\n",
              "        vertical-align: middle;\n",
              "    }\n",
              "\n",
              "    .dataframe tbody tr th {\n",
              "        vertical-align: top;\n",
              "    }\n",
              "\n",
              "    .dataframe thead th {\n",
              "        text-align: right;\n",
              "    }\n",
              "</style>\n",
              "<table border=\"1\" class=\"dataframe\">\n",
              "  <thead>\n",
              "    <tr style=\"text-align: right;\">\n",
              "      <th>Predicted</th>\n",
              "      <th>Negative</th>\n",
              "      <th>Neutral</th>\n",
              "    </tr>\n",
              "    <tr>\n",
              "      <th>Actual</th>\n",
              "      <th></th>\n",
              "      <th></th>\n",
              "    </tr>\n",
              "  </thead>\n",
              "  <tbody>\n",
              "    <tr>\n",
              "      <th>-1</th>\n",
              "      <td>22</td>\n",
              "      <td>118</td>\n",
              "    </tr>\n",
              "    <tr>\n",
              "      <th>0</th>\n",
              "      <td>7</td>\n",
              "      <td>61</td>\n",
              "    </tr>\n",
              "  </tbody>\n",
              "</table>\n",
              "</div>"
            ],
            "text/plain": [
              "Predicted  Negative  Neutral\n",
              "Actual                      \n",
              "-1               22      118\n",
              " 0                7       61"
            ]
          },
          "metadata": {
            "tags": []
          },
          "execution_count": 37
        }
      ]
    },
    {
      "cell_type": "code",
      "metadata": {
        "id": "SFs64LXMBOg4",
        "colab_type": "code",
        "outputId": "c9f448b3-8447-49ec-f1ad-e740b24e2ac9",
        "colab": {
          "base_uri": "https://localhost:8080/",
          "height": 281
        }
      },
      "source": [
        "plot_confusion_matrix(df_confusion)"
      ],
      "execution_count": 0,
      "outputs": [
        {
          "output_type": "display_data",
          "data": {
            "image/png": "[encoded data removed]",
            "text/plain": [
              "<Figure size 288x288 with 2 Axes>"
            ]
          },
          "metadata": {
            "tags": []
          }
        }
      ]
    },
    {
      "cell_type": "markdown",
      "metadata": {
        "id": "CFS_aXmukYI8",
        "colab_type": "text"
      },
      "source": [
        "## Binomial Sentiment Classification (Neg/Neutral)"
      ]
    },
    {
      "cell_type": "markdown",
      "metadata": {
        "id": "AsKMgjfgffca",
        "colab_type": "text"
      },
      "source": [
        "### Randomly split up the data into test (30%) and training (70%) sets"
      ]
    },
    {
      "cell_type": "markdown",
      "metadata": {
        "id": "55VoDJN49aFB",
        "colab_type": "text"
      },
      "source": [
        "try 50-50 or 30-70"
      ]
    },
    {
      "cell_type": "code",
      "metadata": {
        "id": "8iBaI8A1dVWE",
        "colab_type": "code",
        "colab": {}
      },
      "source": [
        "X = df.Temperature\n",
        "y = df.Sentiment\n",
        "X_train, X_test, y_train, y_test = train_test_split(X, y, test_size=0.3, random_state = 0)"
      ],
      "execution_count": 0,
      "outputs": []
    },
    {
      "cell_type": "markdown",
      "metadata": {
        "id": "hLolnWhVdVWH",
        "colab_type": "text"
      },
      "source": [
        "### Naive Bayes"
      ]
    },
    {
      "cell_type": "code",
      "metadata": {
        "id": "cCg9z2DCdVWH",
        "colab_type": "code",
        "colab": {}
      },
      "source": [
        "from sklearn.naive_bayes import MultinomialNB\n",
        "from sklearn.pipeline import Pipeline\n",
        "from sklearn.feature_extraction.text import TfidfTransformer"
      ],
      "execution_count": 0,
      "outputs": []
    },
    {
      "cell_type": "markdown",
      "metadata": {
        "id": "3Go0Rkbkf_2b",
        "colab_type": "text"
      },
      "source": [
        "#### Create the classifier pipeline"
      ]
    },
    {
      "cell_type": "code",
      "metadata": {
        "id": "ZNIpRaRyf3YP",
        "colab_type": "code",
        "outputId": "5c593437-3a30-4eb8-ee00-239209602ee2",
        "colab": {
          "base_uri": "https://localhost:8080/",
          "height": 306
        }
      },
      "source": [
        "nb = Pipeline([('vect', CountVectorizer()),\n",
        "               ('tfidf', TfidfTransformer()),\n",
        "               ('clf', MultinomialNB()),\n",
        "              ])\n",
        "nb.fit(X_train, y_train)\n"
      ],
      "execution_count": 0,
      "outputs": [
        {
          "output_type": "execute_result",
          "data": {
            "text/plain": [
              "Pipeline(memory=None,\n",
              "         steps=[('vect',\n",
              "                 CountVectorizer(analyzer='word', binary=False,\n",
              "                                 decode_error='strict',\n",
              "                                 dtype=<class 'numpy.int64'>, encoding='utf-8',\n",
              "                                 input='content', lowercase=True, max_df=1.0,\n",
              "                                 max_features=None, min_df=1,\n",
              "                                 ngram_range=(1, 1), preprocessor=None,\n",
              "                                 stop_words=None, strip_accents=None,\n",
              "                                 token_pattern='(?u)\\\\b\\\\w\\\\w+\\\\b',\n",
              "                                 tokenizer=None, vocabulary=None)),\n",
              "                ('tfidf',\n",
              "                 TfidfTransformer(norm='l2', smooth_idf=True,\n",
              "                                  sublinear_tf=False, use_idf=True)),\n",
              "                ('clf',\n",
              "                 MultinomialNB(alpha=1.0, class_prior=None, fit_prior=True))],\n",
              "         verbose=False)"
            ]
          },
          "metadata": {
            "tags": []
          },
          "execution_count": 27
        }
      ]
    },
    {
      "cell_type": "markdown",
      "metadata": {
        "id": "mOIJneGzgAjX",
        "colab_type": "text"
      },
      "source": [
        "#### Predict the test variables"
      ]
    },
    {
      "cell_type": "code",
      "metadata": {
        "id": "abPSIKppdVWK",
        "colab_type": "code",
        "outputId": "45d59b76-e6b1-4a55-8e51-60206de7d152",
        "colab": {
          "base_uri": "https://localhost:8080/",
          "height": 51
        }
      },
      "source": [
        "%%time\n",
        "from sklearn.metrics import classification_report\n",
        "y_pred = nb.predict(X_test)"
      ],
      "execution_count": 0,
      "outputs": [
        {
          "output_type": "stream",
          "text": [
            "CPU times: user 4.24 ms, sys: 0 ns, total: 4.24 ms\n",
            "Wall time: 4.53 ms\n"
          ],
          "name": "stdout"
        }
      ]
    },
    {
      "cell_type": "markdown",
      "metadata": {
        "id": "04bX3e9kgCB4",
        "colab_type": "text"
      },
      "source": [
        "#### Verify the accuracy of the results"
      ]
    },
    {
      "cell_type": "code",
      "metadata": {
        "id": "kza_0lgCdVWO",
        "colab_type": "code",
        "outputId": "076cb9b7-90ea-4d6f-d298-e5f5149eaea6",
        "colab": {
          "base_uri": "https://localhost:8080/",
          "height": 187
        }
      },
      "source": [
        "print('accuracy %s' % accuracy_score(y_pred, y_test))\n",
        "print(classification_report(y_test, y_pred,target_names=my_tags))"
      ],
      "execution_count": 0,
      "outputs": [
        {
          "output_type": "stream",
          "text": [
            "accuracy 0.6984126984126984\n",
            "              precision    recall  f1-score   support\n",
            "\n",
            "    Negative       0.70      0.95      0.81        42\n",
            "     Neutral       0.67      0.19      0.30        21\n",
            "\n",
            "    accuracy                           0.70        63\n",
            "   macro avg       0.68      0.57      0.55        63\n",
            "weighted avg       0.69      0.70      0.64        63\n",
            "\n"
          ],
          "name": "stdout"
        }
      ]
    },
    {
      "cell_type": "markdown",
      "metadata": {
        "id": "DH3CcZd4gDQ-",
        "colab_type": "text"
      },
      "source": [
        "#### Confusion matrix visualizing error distribution"
      ]
    },
    {
      "cell_type": "code",
      "metadata": {
        "id": "UgEUzWZaB8qF",
        "colab_type": "code",
        "outputId": "100b3fa5-c8fe-4b3d-a3b5-1a6163c2c583",
        "colab": {
          "base_uri": "https://localhost:8080/",
          "height": 258
        }
      },
      "source": [
        "y_actu = pd.Series(np.array(y_test, dtype = '<U8'), name='Actual')\n",
        "y_pred = pd.Series(y_pred, name='Predicted')\n",
        "df_confusion = pd.crosstab(y_actu, y_pred, dropna = False)\n",
        "plot_confusion_matrix(df_confusion)"
      ],
      "execution_count": 0,
      "outputs": [
        {
          "output_type": "display_data",
          "data": {
            "image/png": "[encoded data removed]",
            "text/plain": [
              "<Figure size 288x288 with 2 Axes>"
            ]
          },
          "metadata": {
            "tags": []
          }
        }
      ]
    },
    {
      "cell_type": "code",
      "metadata": {
        "id": "9U1PCJ3hiQTZ",
        "colab_type": "code",
        "outputId": "92af7934-2537-4bcd-fa40-d0fecfddd36a",
        "colab": {
          "base_uri": "https://localhost:8080/",
          "height": 142
        }
      },
      "source": [
        "df_confusion"
      ],
      "execution_count": 0,
      "outputs": [
        {
          "output_type": "execute_result",
          "data": {
            "text/html": [
              "<div>\n",
              "<style scoped>\n",
              "    .dataframe tbody tr th:only-of-type {\n",
              "        vertical-align: middle;\n",
              "    }\n",
              "\n",
              "    .dataframe tbody tr th {\n",
              "        vertical-align: top;\n",
              "    }\n",
              "\n",
              "    .dataframe thead th {\n",
              "        text-align: right;\n",
              "    }\n",
              "</style>\n",
              "<table border=\"1\" class=\"dataframe\">\n",
              "  <thead>\n",
              "    <tr style=\"text-align: right;\">\n",
              "      <th>Predicted</th>\n",
              "      <th>-1</th>\n",
              "      <th>0</th>\n",
              "    </tr>\n",
              "    <tr>\n",
              "      <th>Actual</th>\n",
              "      <th></th>\n",
              "      <th></th>\n",
              "    </tr>\n",
              "  </thead>\n",
              "  <tbody>\n",
              "    <tr>\n",
              "      <th>-1</th>\n",
              "      <td>40</td>\n",
              "      <td>2</td>\n",
              "    </tr>\n",
              "    <tr>\n",
              "      <th>0</th>\n",
              "      <td>17</td>\n",
              "      <td>4</td>\n",
              "    </tr>\n",
              "  </tbody>\n",
              "</table>\n",
              "</div>"
            ],
            "text/plain": [
              "Predicted  -1   0\n",
              "Actual           \n",
              "-1         40   2\n",
              "0          17   4"
            ]
          },
          "metadata": {
            "tags": []
          },
          "execution_count": 31
        }
      ]
    },
    {
      "cell_type": "markdown",
      "metadata": {
        "id": "cOi0BtVKdVWR",
        "colab_type": "text"
      },
      "source": [
        "### Logistic Regression"
      ]
    },
    {
      "cell_type": "code",
      "metadata": {
        "id": "JKOBp_k6dVWS",
        "colab_type": "code",
        "colab": {}
      },
      "source": [
        "from sklearn.linear_model import LogisticRegression\n"
      ],
      "execution_count": 0,
      "outputs": []
    },
    {
      "cell_type": "markdown",
      "metadata": {
        "id": "RUcf85AwgGtU",
        "colab_type": "text"
      },
      "source": [
        "#### Create the classifier pipeline"
      ]
    },
    {
      "cell_type": "code",
      "metadata": {
        "id": "srBm-XIZgF6A",
        "colab_type": "code",
        "outputId": "18774dc7-4729-4b61-c36e-7c8e6fef94ff",
        "colab": {
          "base_uri": "https://localhost:8080/",
          "height": 391
        }
      },
      "source": [
        "logreg = Pipeline([('vect', CountVectorizer()),\n",
        "                ('tfidf', TfidfTransformer()),\n",
        "                ('clf', LogisticRegression(n_jobs=1, C=1e5, solver = 'lbfgs')),\n",
        "               ])\n",
        "logreg.fit(X_train, y_train)"
      ],
      "execution_count": 0,
      "outputs": [
        {
          "output_type": "execute_result",
          "data": {
            "text/plain": [
              "Pipeline(memory=None,\n",
              "         steps=[('vect',\n",
              "                 CountVectorizer(analyzer='word', binary=False,\n",
              "                                 decode_error='strict',\n",
              "                                 dtype=<class 'numpy.int64'>, encoding='utf-8',\n",
              "                                 input='content', lowercase=True, max_df=1.0,\n",
              "                                 max_features=None, min_df=1,\n",
              "                                 ngram_range=(1, 1), preprocessor=None,\n",
              "                                 stop_words=None, strip_accents=None,\n",
              "                                 token_pattern='(?u)\\\\b\\\\w\\\\w+\\\\b',\n",
              "                                 tokenizer=None, vocabulary=None)),\n",
              "                ('tfidf',\n",
              "                 TfidfTransformer(norm='l2', smooth_idf=True,\n",
              "                                  sublinear_tf=False, use_idf=True)),\n",
              "                ('clf',\n",
              "                 LogisticRegression(C=100000.0, class_weight=None, dual=False,\n",
              "                                    fit_intercept=True, intercept_scaling=1,\n",
              "                                    l1_ratio=None, max_iter=100,\n",
              "                                    multi_class='warn', n_jobs=1, penalty='l2',\n",
              "                                    random_state=None, solver='lbfgs',\n",
              "                                    tol=0.0001, verbose=0, warm_start=False))],\n",
              "         verbose=False)"
            ]
          },
          "metadata": {
            "tags": []
          },
          "execution_count": 33
        }
      ]
    },
    {
      "cell_type": "markdown",
      "metadata": {
        "id": "5GfL_hppgHYx",
        "colab_type": "text"
      },
      "source": [
        "#### Predict the test variables"
      ]
    },
    {
      "cell_type": "code",
      "metadata": {
        "id": "w1wjwC6qdVWV",
        "colab_type": "code",
        "outputId": "03b70aca-f290-4ad5-eac7-46cfd97ec8b6",
        "colab": {
          "base_uri": "https://localhost:8080/",
          "height": 51
        }
      },
      "source": [
        "%%time\n",
        "\n",
        "y_pred = logreg.predict(X_test)"
      ],
      "execution_count": 0,
      "outputs": [
        {
          "output_type": "stream",
          "text": [
            "CPU times: user 4.2 ms, sys: 11 µs, total: 4.22 ms\n",
            "Wall time: 5.53 ms\n"
          ],
          "name": "stdout"
        }
      ]
    },
    {
      "cell_type": "markdown",
      "metadata": {
        "id": "pvCqfwV8gIX3",
        "colab_type": "text"
      },
      "source": [
        "#### Verify the accuracy of the results"
      ]
    },
    {
      "cell_type": "markdown",
      "metadata": {
        "id": "XJras2JX6nDl",
        "colab_type": "text"
      },
      "source": [
        ""
      ]
    },
    {
      "cell_type": "code",
      "metadata": {
        "id": "eYpR63K6dVWY",
        "colab_type": "code",
        "outputId": "73d37905-f374-4057-abf6-01fcfba3c6c0",
        "colab": {
          "base_uri": "https://localhost:8080/",
          "height": 187
        }
      },
      "source": [
        "print('accuracy %s' % accuracy_score(y_pred, y_test))\n",
        "print(classification_report(y_test, y_pred,target_names=my_tags))"
      ],
      "execution_count": 0,
      "outputs": [
        {
          "output_type": "stream",
          "text": [
            "accuracy 0.7936507936507936\n",
            "              precision    recall  f1-score   support\n",
            "\n",
            "    Negative       0.81      0.90      0.85        42\n",
            "     Neutral       0.75      0.57      0.65        21\n",
            "\n",
            "    accuracy                           0.79        63\n",
            "   macro avg       0.78      0.74      0.75        63\n",
            "weighted avg       0.79      0.79      0.79        63\n",
            "\n"
          ],
          "name": "stdout"
        }
      ]
    },
    {
      "cell_type": "markdown",
      "metadata": {
        "id": "I2qQLzjngJJg",
        "colab_type": "text"
      },
      "source": [
        "#### Confusion matrix visualizing error distribution"
      ]
    },
    {
      "cell_type": "code",
      "metadata": {
        "id": "ueyg15pACQJj",
        "colab_type": "code",
        "outputId": "bbc5095a-50ee-4398-e58e-02c48b175c57",
        "colab": {
          "base_uri": "https://localhost:8080/",
          "height": 254
        }
      },
      "source": [
        "y_actu = pd.Series(np.array(y_test, dtype = '<U8'), name='Actual')\n",
        "y_pred = pd.Series(y_pred, name='Predicted')\n",
        "df_confusion = pd.crosstab(y_actu, y_pred, dropna = False)\n",
        "plot_confusion_matrix(df_confusion)"
      ],
      "execution_count": 0,
      "outputs": [
        {
          "output_type": "display_data",
          "data": {
            "image/png": "[encoded data removed]",
            "text/plain": [
              "<Figure size 288x288 with 2 Axes>"
            ]
          },
          "metadata": {
            "tags": []
          }
        }
      ]
    },
    {
      "cell_type": "code",
      "metadata": {
        "id": "kwrvxX9tiOvv",
        "colab_type": "code",
        "outputId": "614054e1-0f9d-416d-d37a-07c6971864d1",
        "colab": {
          "base_uri": "https://localhost:8080/",
          "height": 142
        }
      },
      "source": [
        "df_confusion"
      ],
      "execution_count": 0,
      "outputs": [
        {
          "output_type": "execute_result",
          "data": {
            "text/html": [
              "<div>\n",
              "<style scoped>\n",
              "    .dataframe tbody tr th:only-of-type {\n",
              "        vertical-align: middle;\n",
              "    }\n",
              "\n",
              "    .dataframe tbody tr th {\n",
              "        vertical-align: top;\n",
              "    }\n",
              "\n",
              "    .dataframe thead th {\n",
              "        text-align: right;\n",
              "    }\n",
              "</style>\n",
              "<table border=\"1\" class=\"dataframe\">\n",
              "  <thead>\n",
              "    <tr style=\"text-align: right;\">\n",
              "      <th>Predicted</th>\n",
              "      <th>-1</th>\n",
              "      <th>0</th>\n",
              "    </tr>\n",
              "    <tr>\n",
              "      <th>Actual</th>\n",
              "      <th></th>\n",
              "      <th></th>\n",
              "    </tr>\n",
              "  </thead>\n",
              "  <tbody>\n",
              "    <tr>\n",
              "      <th>-1</th>\n",
              "      <td>38</td>\n",
              "      <td>4</td>\n",
              "    </tr>\n",
              "    <tr>\n",
              "      <th>0</th>\n",
              "      <td>9</td>\n",
              "      <td>12</td>\n",
              "    </tr>\n",
              "  </tbody>\n",
              "</table>\n",
              "</div>"
            ],
            "text/plain": [
              "Predicted  -1   0\n",
              "Actual           \n",
              "-1         38   4\n",
              "0           9  12"
            ]
          },
          "metadata": {
            "tags": []
          },
          "execution_count": 37
        }
      ]
    },
    {
      "cell_type": "markdown",
      "metadata": {
        "id": "ybvtbMXBdVWc",
        "colab_type": "text"
      },
      "source": [
        "### Support Vector Machine (SVM)"
      ]
    },
    {
      "cell_type": "code",
      "metadata": {
        "id": "36aAbLXxdVWd",
        "colab_type": "code",
        "colab": {}
      },
      "source": [
        "from sklearn.linear_model import SGDClassifier\n"
      ],
      "execution_count": 0,
      "outputs": []
    },
    {
      "cell_type": "markdown",
      "metadata": {
        "id": "Reev7WVrhNVz",
        "colab_type": "text"
      },
      "source": [
        "#### Create the classifier pipeline"
      ]
    },
    {
      "cell_type": "code",
      "metadata": {
        "id": "JjFmJ5hQhMXQ",
        "colab_type": "code",
        "outputId": "19470ac5-2ec8-482b-99b0-6762ccd712c1",
        "colab": {
          "base_uri": "https://localhost:8080/",
          "height": 374
        }
      },
      "source": [
        "sgd = Pipeline([('vect', CountVectorizer()),\n",
        "                ('tfidf', TfidfTransformer()),\n",
        "                ('clf', SGDClassifier(loss='hinge', penalty='l2',alpha=1e-3, random_state=42, max_iter=5, tol=None)),\n",
        "               ])\n",
        "sgd.fit(X_train, y_train)"
      ],
      "execution_count": 0,
      "outputs": [
        {
          "output_type": "execute_result",
          "data": {
            "text/plain": [
              "Pipeline(memory=None,\n",
              "         steps=[('vect',\n",
              "                 CountVectorizer(analyzer='word', binary=False,\n",
              "                                 decode_error='strict',\n",
              "                                 dtype=<class 'numpy.int64'>, encoding='utf-8',\n",
              "                                 input='content', lowercase=True, max_df=1.0,\n",
              "                                 max_features=None, min_df=1,\n",
              "                                 ngram_range=(1, 1), preprocessor=None,\n",
              "                                 stop_words=None, strip_accents=None,\n",
              "                                 token_pattern='(?u)\\\\b\\\\w\\\\w+\\\\b',\n",
              "                                 tokenizer=None, vocabulary=Non...\n",
              "                ('clf',\n",
              "                 SGDClassifier(alpha=0.001, average=False, class_weight=None,\n",
              "                               early_stopping=False, epsilon=0.1, eta0=0.0,\n",
              "                               fit_intercept=True, l1_ratio=0.15,\n",
              "                               learning_rate='optimal', loss='hinge',\n",
              "                               max_iter=5, n_iter_no_change=5, n_jobs=None,\n",
              "                               penalty='l2', power_t=0.5, random_state=42,\n",
              "                               shuffle=True, tol=None, validation_fraction=0.1,\n",
              "                               verbose=0, warm_start=False))],\n",
              "         verbose=False)"
            ]
          },
          "metadata": {
            "tags": []
          },
          "execution_count": 39
        }
      ]
    },
    {
      "cell_type": "markdown",
      "metadata": {
        "id": "R8FsVjxbhN9y",
        "colab_type": "text"
      },
      "source": [
        "#### Predict the test variables"
      ]
    },
    {
      "cell_type": "code",
      "metadata": {
        "id": "56TpqCyMdVWh",
        "colab_type": "code",
        "outputId": "57b6f90e-37bf-4519-e377-8fa6f6ce7655",
        "colab": {
          "base_uri": "https://localhost:8080/",
          "height": 51
        }
      },
      "source": [
        "%%time\n",
        "\n",
        "y_pred = sgd.predict(X_test)"
      ],
      "execution_count": 0,
      "outputs": [
        {
          "output_type": "stream",
          "text": [
            "CPU times: user 4.04 ms, sys: 1.02 ms, total: 5.06 ms\n",
            "Wall time: 7.27 ms\n"
          ],
          "name": "stdout"
        }
      ]
    },
    {
      "cell_type": "markdown",
      "metadata": {
        "id": "eUekmGNKhOqP",
        "colab_type": "text"
      },
      "source": [
        "#### Verify the accuracy of the results"
      ]
    },
    {
      "cell_type": "code",
      "metadata": {
        "id": "NjA-NuVLdVWk",
        "colab_type": "code",
        "outputId": "667c991e-adb0-4842-f214-cf5bd39e1af7",
        "colab": {
          "base_uri": "https://localhost:8080/",
          "height": 187
        }
      },
      "source": [
        "print('accuracy %s' % accuracy_score(y_pred, y_test))\n",
        "print(classification_report(y_test, y_pred,target_names=my_tags))"
      ],
      "execution_count": 0,
      "outputs": [
        {
          "output_type": "stream",
          "text": [
            "accuracy 0.7301587301587301\n",
            "              precision    recall  f1-score   support\n",
            "\n",
            "    Negative       0.78      0.83      0.80        42\n",
            "     Neutral       0.61      0.52      0.56        21\n",
            "\n",
            "    accuracy                           0.73        63\n",
            "   macro avg       0.69      0.68      0.68        63\n",
            "weighted avg       0.72      0.73      0.72        63\n",
            "\n"
          ],
          "name": "stdout"
        }
      ]
    },
    {
      "cell_type": "markdown",
      "metadata": {
        "id": "SignUD-BhPXh",
        "colab_type": "text"
      },
      "source": [
        "#### Confusion matrix visualizing error distribution"
      ]
    },
    {
      "cell_type": "code",
      "metadata": {
        "id": "8hSJRD6jCVyp",
        "colab_type": "code",
        "outputId": "81ac6160-2b59-4216-d71a-600796cd80af",
        "colab": {
          "base_uri": "https://localhost:8080/",
          "height": 258
        }
      },
      "source": [
        "y_actu = pd.Series(np.array(y_test, dtype = '<U8'), name='Actual')\n",
        "y_pred = pd.Series(y_pred, name='Predicted')\n",
        "df_confusion = pd.crosstab(y_actu, y_pred, dropna = False)\n",
        "plot_confusion_matrix(df_confusion)"
      ],
      "execution_count": 0,
      "outputs": [
        {
          "output_type": "display_data",
          "data": {
            "image/png": "[encoded data removed]",
            "text/plain": [
              "<Figure size 288x288 with 2 Axes>"
            ]
          },
          "metadata": {
            "tags": []
          }
        }
      ]
    },
    {
      "cell_type": "code",
      "metadata": {
        "id": "MTXL_KBAiLdb",
        "colab_type": "code",
        "outputId": "cd6367e2-1062-4653-95b3-7822fba67040",
        "colab": {
          "base_uri": "https://localhost:8080/",
          "height": 142
        }
      },
      "source": [
        "df_confusion"
      ],
      "execution_count": 0,
      "outputs": [
        {
          "output_type": "execute_result",
          "data": {
            "text/html": [
              "<div>\n",
              "<style scoped>\n",
              "    .dataframe tbody tr th:only-of-type {\n",
              "        vertical-align: middle;\n",
              "    }\n",
              "\n",
              "    .dataframe tbody tr th {\n",
              "        vertical-align: top;\n",
              "    }\n",
              "\n",
              "    .dataframe thead th {\n",
              "        text-align: right;\n",
              "    }\n",
              "</style>\n",
              "<table border=\"1\" class=\"dataframe\">\n",
              "  <thead>\n",
              "    <tr style=\"text-align: right;\">\n",
              "      <th>Predicted</th>\n",
              "      <th>-1</th>\n",
              "      <th>0</th>\n",
              "    </tr>\n",
              "    <tr>\n",
              "      <th>Actual</th>\n",
              "      <th></th>\n",
              "      <th></th>\n",
              "    </tr>\n",
              "  </thead>\n",
              "  <tbody>\n",
              "    <tr>\n",
              "      <th>-1</th>\n",
              "      <td>35</td>\n",
              "      <td>7</td>\n",
              "    </tr>\n",
              "    <tr>\n",
              "      <th>0</th>\n",
              "      <td>10</td>\n",
              "      <td>11</td>\n",
              "    </tr>\n",
              "  </tbody>\n",
              "</table>\n",
              "</div>"
            ],
            "text/plain": [
              "Predicted  -1   0\n",
              "Actual           \n",
              "-1         35   7\n",
              "0          10  11"
            ]
          },
          "metadata": {
            "tags": []
          },
          "execution_count": 43
        }
      ]
    },
    {
      "cell_type": "markdown",
      "metadata": {
        "id": "FYSH4Jbt8FG7",
        "colab_type": "text"
      },
      "source": [
        "### Decision tree classifier"
      ]
    },
    {
      "cell_type": "code",
      "metadata": {
        "id": "nChCeL758aSX",
        "colab_type": "code",
        "colab": {}
      },
      "source": [
        "from sklearn import tree"
      ],
      "execution_count": 0,
      "outputs": []
    },
    {
      "cell_type": "markdown",
      "metadata": {
        "id": "uM0mrsEV8H-A",
        "colab_type": "text"
      },
      "source": [
        "#### Create the pipeline"
      ]
    },
    {
      "cell_type": "code",
      "metadata": {
        "id": "Yrvry6KV8fCd",
        "colab_type": "code",
        "outputId": "e8fe2c2c-d841-48fb-e8af-4071756f7b91",
        "colab": {
          "base_uri": "https://localhost:8080/",
          "height": 425
        }
      },
      "source": [
        "sgd = Pipeline([('vect', CountVectorizer()),\n",
        "                ('tfidf', TfidfTransformer()),\n",
        "                ('clf', tree.DecisionTreeClassifier(random_state = 0, max_depth=2)),\n",
        "               ])\n",
        "sgd.fit(X_train, y_train)\n"
      ],
      "execution_count": 0,
      "outputs": [
        {
          "output_type": "execute_result",
          "data": {
            "text/plain": [
              "Pipeline(memory=None,\n",
              "         steps=[('vect',\n",
              "                 CountVectorizer(analyzer='word', binary=False,\n",
              "                                 decode_error='strict',\n",
              "                                 dtype=<class 'numpy.int64'>, encoding='utf-8',\n",
              "                                 input='content', lowercase=True, max_df=1.0,\n",
              "                                 max_features=None, min_df=1,\n",
              "                                 ngram_range=(1, 1), preprocessor=None,\n",
              "                                 stop_words=None, strip_accents=None,\n",
              "                                 token_pattern='(?u)\\\\b\\\\w\\\\w+\\\\b',\n",
              "                                 tokenizer=None, vocabulary=Non...\n",
              "                 TfidfTransformer(norm='l2', smooth_idf=True,\n",
              "                                  sublinear_tf=False, use_idf=True)),\n",
              "                ('clf',\n",
              "                 DecisionTreeClassifier(class_weight=None, criterion='gini',\n",
              "                                        max_depth=2, max_features=None,\n",
              "                                        max_leaf_nodes=None,\n",
              "                                        min_impurity_decrease=0.0,\n",
              "                                        min_impurity_split=None,\n",
              "                                        min_samples_leaf=1, min_samples_split=2,\n",
              "                                        min_weight_fraction_leaf=0.0,\n",
              "                                        presort=False, random_state=0,\n",
              "                                        splitter='best'))],\n",
              "         verbose=False)"
            ]
          },
          "metadata": {
            "tags": []
          },
          "execution_count": 138
        }
      ]
    },
    {
      "cell_type": "markdown",
      "metadata": {
        "id": "l8yKYX298NSd",
        "colab_type": "text"
      },
      "source": [
        "#### Predict the test variables"
      ]
    },
    {
      "cell_type": "code",
      "metadata": {
        "id": "0tQ7L2IP8toL",
        "colab_type": "code",
        "outputId": "caff1dd2-5fa2-4494-be5f-1acf6294f553",
        "colab": {
          "base_uri": "https://localhost:8080/",
          "height": 51
        }
      },
      "source": [
        "%%time\n",
        "\n",
        "y_pred = sgd.predict(X_test)"
      ],
      "execution_count": 0,
      "outputs": [
        {
          "output_type": "stream",
          "text": [
            "CPU times: user 4.32 ms, sys: 74 µs, total: 4.4 ms\n",
            "Wall time: 4.12 ms\n"
          ],
          "name": "stdout"
        }
      ]
    },
    {
      "cell_type": "markdown",
      "metadata": {
        "id": "YN_KEJhR8QEy",
        "colab_type": "text"
      },
      "source": [
        "#### Verify result acuracy"
      ]
    },
    {
      "cell_type": "code",
      "metadata": {
        "id": "murD4Znw8wfc",
        "colab_type": "code",
        "outputId": "55a5c191-7fe6-4829-e7e8-1c15bd9827fb",
        "colab": {
          "base_uri": "https://localhost:8080/",
          "height": 187
        }
      },
      "source": [
        "print('accuracy %s' % accuracy_score(y_pred, y_test))\n",
        "print(classification_report(y_test, y_pred,target_names=my_tags))"
      ],
      "execution_count": 0,
      "outputs": [
        {
          "output_type": "stream",
          "text": [
            "accuracy 0.7619047619047619\n",
            "              precision    recall  f1-score   support\n",
            "\n",
            "    Negative       0.76      0.93      0.84        42\n",
            "     Neutral       0.75      0.43      0.55        21\n",
            "\n",
            "    accuracy                           0.76        63\n",
            "   macro avg       0.76      0.68      0.69        63\n",
            "weighted avg       0.76      0.76      0.74        63\n",
            "\n"
          ],
          "name": "stdout"
        }
      ]
    },
    {
      "cell_type": "markdown",
      "metadata": {
        "id": "Kgb8Yrr88TsM",
        "colab_type": "text"
      },
      "source": [
        "#### Confusion matrix"
      ]
    },
    {
      "cell_type": "code",
      "metadata": {
        "id": "fhIWXPX88y06",
        "colab_type": "code",
        "outputId": "f6b7b95f-1f04-498c-8d26-7e2a2766afec",
        "colab": {
          "base_uri": "https://localhost:8080/",
          "height": 254
        }
      },
      "source": [
        "y_actu = pd.Series(np.array(y_test, dtype = '<U8'), name='Actual')\n",
        "y_pred = pd.Series(y_pred, name='Predicted')\n",
        "df_confusion = pd.crosstab(y_actu, y_pred, dropna = False)\n",
        "plot_confusion_matrix(df_confusion)"
      ],
      "execution_count": 0,
      "outputs": [
        {
          "output_type": "display_data",
          "data": {
            "image/png": "[encoded data removed]",
            "text/plain": [
              "<Figure size 288x288 with 2 Axes>"
            ]
          },
          "metadata": {
            "tags": []
          }
        }
      ]
    },
    {
      "cell_type": "code",
      "metadata": {
        "id": "DUhukzhY8yyi",
        "colab_type": "code",
        "outputId": "239cb46f-6040-4ccf-b21d-f88436bf6d0d",
        "colab": {
          "base_uri": "https://localhost:8080/",
          "height": 142
        }
      },
      "source": [
        "df_confusion"
      ],
      "execution_count": 0,
      "outputs": [
        {
          "output_type": "execute_result",
          "data": {
            "text/html": [
              "<div>\n",
              "<style scoped>\n",
              "    .dataframe tbody tr th:only-of-type {\n",
              "        vertical-align: middle;\n",
              "    }\n",
              "\n",
              "    .dataframe tbody tr th {\n",
              "        vertical-align: top;\n",
              "    }\n",
              "\n",
              "    .dataframe thead th {\n",
              "        text-align: right;\n",
              "    }\n",
              "</style>\n",
              "<table border=\"1\" class=\"dataframe\">\n",
              "  <thead>\n",
              "    <tr style=\"text-align: right;\">\n",
              "      <th>Predicted</th>\n",
              "      <th>-1</th>\n",
              "      <th>0</th>\n",
              "    </tr>\n",
              "    <tr>\n",
              "      <th>Actual</th>\n",
              "      <th></th>\n",
              "      <th></th>\n",
              "    </tr>\n",
              "  </thead>\n",
              "  <tbody>\n",
              "    <tr>\n",
              "      <th>-1</th>\n",
              "      <td>39</td>\n",
              "      <td>3</td>\n",
              "    </tr>\n",
              "    <tr>\n",
              "      <th>0</th>\n",
              "      <td>12</td>\n",
              "      <td>9</td>\n",
              "    </tr>\n",
              "  </tbody>\n",
              "</table>\n",
              "</div>"
            ],
            "text/plain": [
              "Predicted  -1   0\n",
              "Actual           \n",
              "-1         39   3\n",
              "0          12   9"
            ]
          },
          "metadata": {
            "tags": []
          },
          "execution_count": 142
        }
      ]
    },
    {
      "cell_type": "markdown",
      "metadata": {
        "id": "YbGMSly4SHpR",
        "colab_type": "text"
      },
      "source": [
        "### Random forest classifier"
      ]
    },
    {
      "cell_type": "code",
      "metadata": {
        "id": "0ZbYt7J7R-d1",
        "colab_type": "code",
        "colab": {}
      },
      "source": [
        "from sklearn.ensemble import RandomForestClassifier"
      ],
      "execution_count": 0,
      "outputs": []
    },
    {
      "cell_type": "markdown",
      "metadata": {
        "id": "2-hrxx7VSP1a",
        "colab_type": "text"
      },
      "source": [
        "#### Create the classifier pipeline"
      ]
    },
    {
      "cell_type": "code",
      "metadata": {
        "id": "1VT_fcdDTKjK",
        "colab_type": "code",
        "colab": {}
      },
      "source": [
        "sgd = Pipeline([('vect', CountVectorizer()),\n",
        "                ('tfidf', TfidfTransformer()),\n",
        "                ('clf', RandomForestClassifier(n_estimators=10000, max_depth=30, random_state=0, min_samples_leaf=1)),\n",
        "               ])\n",
        "sgd.fit(X_train, y_train)"
      ],
      "execution_count": 0,
      "outputs": []
    },
    {
      "cell_type": "markdown",
      "metadata": {
        "id": "E6JVBoiBSRzN",
        "colab_type": "text"
      },
      "source": [
        "#### Predict the test variables"
      ]
    },
    {
      "cell_type": "code",
      "metadata": {
        "id": "F4kemaJXTc3A",
        "colab_type": "code",
        "outputId": "381d544f-0d09-4555-cf85-5c45cd3bc709",
        "colab": {
          "base_uri": "https://localhost:8080/",
          "height": 51
        }
      },
      "source": [
        "%%time\n",
        "\n",
        "y_pred = sgd.predict(X_test)"
      ],
      "execution_count": 0,
      "outputs": [
        {
          "output_type": "stream",
          "text": [
            "CPU times: user 1.19 s, sys: 3.44 ms, total: 1.19 s\n",
            "Wall time: 1.2 s\n"
          ],
          "name": "stdout"
        }
      ]
    },
    {
      "cell_type": "markdown",
      "metadata": {
        "id": "RarNR7c9SV64",
        "colab_type": "text"
      },
      "source": [
        "#### Verify the accuracy of the results"
      ]
    },
    {
      "cell_type": "code",
      "metadata": {
        "id": "eLAkq4tjTvp1",
        "colab_type": "code",
        "outputId": "f13ff1f7-64ee-4e35-fab0-3a8c4cf47525",
        "colab": {
          "base_uri": "https://localhost:8080/",
          "height": 187
        }
      },
      "source": [
        "print('accuracy %s' % accuracy_score(y_pred, y_test))\n",
        "print(classification_report(y_test, y_pred,target_names=my_tags))"
      ],
      "execution_count": 0,
      "outputs": [
        {
          "output_type": "stream",
          "text": [
            "accuracy 0.7936507936507936\n",
            "              precision    recall  f1-score   support\n",
            "\n",
            "    Negative       0.78      0.95      0.86        42\n",
            "     Neutral       0.83      0.48      0.61        21\n",
            "\n",
            "    accuracy                           0.79        63\n",
            "   macro avg       0.81      0.71      0.73        63\n",
            "weighted avg       0.80      0.79      0.78        63\n",
            "\n"
          ],
          "name": "stdout"
        }
      ]
    },
    {
      "cell_type": "markdown",
      "metadata": {
        "id": "Zo-MFDVvSdJ1",
        "colab_type": "text"
      },
      "source": [
        "#### Confusion matrix visualizing error distribution"
      ]
    },
    {
      "cell_type": "code",
      "metadata": {
        "id": "tACBnkGlUYJo",
        "colab_type": "code",
        "outputId": "01c01fd2-5302-4101-d291-427e38b5ecb3",
        "colab": {
          "base_uri": "https://localhost:8080/",
          "height": 258
        }
      },
      "source": [
        "y_actu = pd.Series(np.array(y_test, dtype = '<U8'), name='Actual')\n",
        "y_pred = pd.Series(y_pred, name='Predicted')\n",
        "df_confusion = pd.crosstab(y_actu, y_pred, dropna = False)\n",
        "plot_confusion_matrix(df_confusion)"
      ],
      "execution_count": 0,
      "outputs": [
        {
          "output_type": "display_data",
          "data": {
            "image/png": "[encoded data removed]",
            "text/plain": [
              "<Figure size 288x288 with 2 Axes>"
            ]
          },
          "metadata": {
            "tags": []
          }
        }
      ]
    },
    {
      "cell_type": "code",
      "metadata": {
        "id": "5QtmCd7CUYbV",
        "colab_type": "code",
        "outputId": "910ac2fd-6a8f-42bb-934d-f07bca77c65b",
        "colab": {
          "base_uri": "https://localhost:8080/",
          "height": 142
        }
      },
      "source": [
        "df_confusion"
      ],
      "execution_count": 0,
      "outputs": [
        {
          "output_type": "execute_result",
          "data": {
            "text/html": [
              "<div>\n",
              "<style scoped>\n",
              "    .dataframe tbody tr th:only-of-type {\n",
              "        vertical-align: middle;\n",
              "    }\n",
              "\n",
              "    .dataframe tbody tr th {\n",
              "        vertical-align: top;\n",
              "    }\n",
              "\n",
              "    .dataframe thead th {\n",
              "        text-align: right;\n",
              "    }\n",
              "</style>\n",
              "<table border=\"1\" class=\"dataframe\">\n",
              "  <thead>\n",
              "    <tr style=\"text-align: right;\">\n",
              "      <th>Predicted</th>\n",
              "      <th>-1</th>\n",
              "      <th>0</th>\n",
              "    </tr>\n",
              "    <tr>\n",
              "      <th>Actual</th>\n",
              "      <th></th>\n",
              "      <th></th>\n",
              "    </tr>\n",
              "  </thead>\n",
              "  <tbody>\n",
              "    <tr>\n",
              "      <th>-1</th>\n",
              "      <td>40</td>\n",
              "      <td>2</td>\n",
              "    </tr>\n",
              "    <tr>\n",
              "      <th>0</th>\n",
              "      <td>11</td>\n",
              "      <td>10</td>\n",
              "    </tr>\n",
              "  </tbody>\n",
              "</table>\n",
              "</div>"
            ],
            "text/plain": [
              "Predicted  -1   0\n",
              "Actual           \n",
              "-1         40   2\n",
              "0          11  10"
            ]
          },
          "metadata": {
            "tags": []
          },
          "execution_count": 106
        }
      ]
    },
    {
      "cell_type": "code",
      "metadata": {
        "id": "EbkxhenYaMRY",
        "colab_type": "code",
        "outputId": "6a30d7a2-8a19-443c-cf19-90b4ed1d0a5d",
        "colab": {
          "base_uri": "https://localhost:8080/",
          "height": 163
        }
      },
      "source": [
        "sgd.n_outputs"
      ],
      "execution_count": 0,
      "outputs": [
        {
          "output_type": "error",
          "ename": "AttributeError",
          "evalue": "ignored",
          "traceback": [
            "\u001b[0;31m---------------------------------------------------------------------------\u001b[0m",
            "\u001b[0;31mAttributeError\u001b[0m                            Traceback (most recent call last)",
            "\u001b[0;32m<ipython-input-112-aab13938c0bb>\u001b[0m in \u001b[0;36m<module>\u001b[0;34m()\u001b[0m\n\u001b[0;32m----> 1\u001b[0;31m \u001b[0msgd\u001b[0m\u001b[0;34m.\u001b[0m\u001b[0mn_outputs\u001b[0m\u001b[0;34m\u001b[0m\u001b[0;34m\u001b[0m\u001b[0m\n\u001b[0m",
            "\u001b[0;31mAttributeError\u001b[0m: 'Pipeline' object has no attribute 'n_outputs'"
          ]
        }
      ]
    },
    {
      "cell_type": "markdown",
      "metadata": {
        "id": "19qScaRYdVWo",
        "colab_type": "text"
      },
      "source": [
        "### [Document Embedding with Paragraph Vectors (Doc2Vec)](https://github.com/susanli2016/NLP-with-Python/blob/master/Doc2Vec%20Consumer%20Complaint.ipynb)"
      ]
    },
    {
      "cell_type": "code",
      "metadata": {
        "id": "h6W_crOAdVWp",
        "colab_type": "code",
        "colab": {}
      },
      "source": [
        "from tqdm import tqdm\n",
        "tqdm.pandas(desc=\"progress-bar\")\n",
        "from gensim.models import Doc2Vec\n",
        "from sklearn import utils\n",
        "import gensim\n",
        "from gensim.models.doc2vec import TaggedDocument\n",
        "import re"
      ],
      "execution_count": 0,
      "outputs": []
    },
    {
      "cell_type": "code",
      "metadata": {
        "id": "DHTAjjfGdVWr",
        "colab_type": "code",
        "colab": {}
      },
      "source": [
        "def label_sentences(corpus, label_type):\n",
        "    \"\"\"\n",
        "    Gensim's Doc2Vec implementation requires each document/paragraph to have a label associated with it.\n",
        "    We do this by using the TaggedDocument method. The format will be \"TRAIN_i\" or \"TEST_i\" where \"i\" is\n",
        "    a dummy index of the post.\n",
        "    \"\"\"\n",
        "    labeled = []\n",
        "    for i, v in enumerate(corpus):\n",
        "        label = label_type + '_' + str(i)\n",
        "        labeled.append(TaggedDocument(v.split(), [label]))\n",
        "    return labeled\n",
        "X_train, X_test, y_train, y_test = train_test_split(df.Temperature, df.Sentiment, random_state=0, test_size=0.3)\n",
        "X_train = label_sentences(X_train, 'Train')\n",
        "X_test = label_sentences(X_test, 'Test')\n",
        "all_data = X_train + X_test"
      ],
      "execution_count": 0,
      "outputs": []
    },
    {
      "cell_type": "code",
      "metadata": {
        "id": "nyy1Ge7jdVWt",
        "colab_type": "code",
        "outputId": "65bd5584-4213-4222-fdfe-1af2710a3896",
        "colab": {
          "base_uri": "https://localhost:8080/",
          "height": 51
        }
      },
      "source": [
        "all_data[:2]"
      ],
      "execution_count": 0,
      "outputs": [
        {
          "output_type": "execute_result",
          "data": {
            "text/plain": [
              "[TaggedDocument(words=['summertime', 'make', 'cold', 'wintertime', 'dont', 'make', 'hot', 'always', 'cold'], tags=['Train_0']),\n",
              " TaggedDocument(words=['needs', 'better', 'air', 'flow', 'needs', 'air', 'exchanger', 'blow', 'stale', 'air'], tags=['Train_1'])]"
            ]
          },
          "metadata": {
            "tags": []
          },
          "execution_count": 60
        }
      ]
    },
    {
      "cell_type": "code",
      "metadata": {
        "id": "P42KyP1UdVWw",
        "colab_type": "code",
        "outputId": "55827d60-db01-43b0-d3a7-02a16d145925",
        "colab": {
          "base_uri": "https://localhost:8080/",
          "height": 561
        }
      },
      "source": [
        "model_dbow = Doc2Vec(dm=0, vector_size=300, negative=5, min_count=1, alpha=0.065, min_alpha=0.065)\n",
        "model_dbow.build_vocab([x for x in tqdm(all_data)])\n",
        "\n",
        "for epoch in range(30):\n",
        "    model_dbow.train(utils.shuffle([x for x in tqdm(all_data)]), total_examples=len(all_data), epochs=10)\n",
        "    model_dbow.alpha -= 0.002\n",
        "    model_dbow.min_alpha = model_dbow.alpha\n",
        ";"
      ],
      "execution_count": 0,
      "outputs": [
        {
          "output_type": "stream",
          "text": [
            "100%|██████████| 208/208 [00:00<00:00, 325892.88it/s]\n",
            "100%|██████████| 208/208 [00:00<00:00, 177428.36it/s]\n",
            "100%|██████████| 208/208 [00:00<00:00, 577758.43it/s]\n",
            "100%|██████████| 208/208 [00:00<00:00, 242877.29it/s]\n",
            "100%|██████████| 208/208 [00:00<00:00, 98422.30it/s]\n",
            "100%|██████████| 208/208 [00:00<00:00, 72792.26it/s]\n",
            "100%|██████████| 208/208 [00:00<00:00, 76286.75it/s]\n",
            "100%|██████████| 208/208 [00:00<00:00, 70543.80it/s]\n",
            "100%|██████████| 208/208 [00:00<00:00, 69200.86it/s]\n",
            "100%|██████████| 208/208 [00:00<00:00, 531636.34it/s]\n",
            "100%|██████████| 208/208 [00:00<00:00, 83604.72it/s]\n",
            "100%|██████████| 208/208 [00:00<00:00, 337883.51it/s]\n",
            "100%|██████████| 208/208 [00:00<00:00, 96848.94it/s]\n",
            "100%|██████████| 208/208 [00:00<00:00, 77109.35it/s]\n",
            "100%|██████████| 208/208 [00:00<00:00, 330335.19it/s]\n",
            "100%|██████████| 208/208 [00:00<00:00, 321331.58it/s]\n",
            "100%|██████████| 208/208 [00:00<00:00, 354784.56it/s]\n",
            "100%|██████████| 208/208 [00:00<00:00, 342123.62it/s]\n",
            "100%|██████████| 208/208 [00:00<00:00, 774791.50it/s]\n",
            "100%|██████████| 208/208 [00:00<00:00, 635871.16it/s]\n",
            "100%|██████████| 208/208 [00:00<00:00, 83869.95it/s]\n",
            "100%|██████████| 208/208 [00:00<00:00, 359314.35it/s]\n",
            "100%|██████████| 208/208 [00:00<00:00, 84659.41it/s]\n",
            "100%|██████████| 208/208 [00:00<00:00, 405774.53it/s]\n",
            "100%|██████████| 208/208 [00:00<00:00, 412489.47it/s]\n",
            "100%|██████████| 208/208 [00:00<00:00, 82303.32it/s]\n",
            "100%|██████████| 208/208 [00:00<00:00, 489296.26it/s]\n",
            "100%|██████████| 208/208 [00:00<00:00, 100485.51it/s]\n",
            "100%|██████████| 208/208 [00:00<00:00, 348130.58it/s]\n",
            "100%|██████████| 208/208 [00:00<00:00, 60588.60it/s]\n",
            "100%|██████████| 208/208 [00:00<00:00, 74610.04it/s]\n"
          ],
          "name": "stderr"
        },
        {
          "output_type": "execute_result",
          "data": {
            "text/plain": [
              "''"
            ]
          },
          "metadata": {
            "tags": []
          },
          "execution_count": 89
        }
      ]
    },
    {
      "cell_type": "code",
      "metadata": {
        "id": "McaKYk1HdVW0",
        "colab_type": "code",
        "colab": {}
      },
      "source": [
        "def get_vectors(model, corpus_size, vectors_size, vectors_type):\n",
        "    \"\"\"\n",
        "    Get vectors from trained doc2vec model\n",
        "    :param doc2vec_model: Trained Doc2Vec model\n",
        "    :param corpus_size: Size of the data\n",
        "    :param vectors_size: Size of the embedding vectors\n",
        "    :param vectors_type: Training or Testing vectors\n",
        "    :return: list of vectors\n",
        "    \"\"\"\n",
        "    vectors = np.zeros((corpus_size, vectors_size))\n",
        "    for i in range(0, corpus_size):\n",
        "        prefix = vectors_type + '_' + str(i)\n",
        "        vectors[i] = model.docvecs[prefix]\n",
        "    return vectors"
      ],
      "execution_count": 0,
      "outputs": []
    },
    {
      "cell_type": "code",
      "metadata": {
        "id": "1Wz0N1eSdVW2",
        "colab_type": "code",
        "colab": {}
      },
      "source": [
        "train_vectors_dbow = get_vectors(model_dbow, len(X_train), 300, 'Train')\n",
        "test_vectors_dbow = get_vectors(model_dbow, len(X_test), 300, 'Test')"
      ],
      "execution_count": 0,
      "outputs": []
    },
    {
      "cell_type": "code",
      "metadata": {
        "id": "zE_GJFhCdVW4",
        "colab_type": "code",
        "outputId": "b62d93be-1d7f-4833-c7a1-ff6383716594",
        "colab": {
          "base_uri": "https://localhost:8080/",
          "height": 255
        }
      },
      "source": [
        "logreg = LogisticRegression(n_jobs=1, C=1e5, solver = 'lbfgs')\n",
        "logreg.fit(train_vectors_dbow, y_train)\n",
        "logreg = logreg.fit(train_vectors_dbow, y_train)\n",
        "y_pred = logreg.predict(test_vectors_dbow)\n",
        "print('accuracy %s' % accuracy_score(y_pred, y_test))\n",
        "print(classification_report(y_test, y_pred,target_names=my_tags))"
      ],
      "execution_count": 0,
      "outputs": [
        {
          "output_type": "stream",
          "text": [
            "accuracy 0.6507936507936508\n",
            "              precision    recall  f1-score   support\n",
            "\n",
            "    Negative       0.81      0.62      0.70        42\n",
            "     Neutral       0.48      0.71      0.58        21\n",
            "\n",
            "    accuracy                           0.65        63\n",
            "   macro avg       0.65      0.67      0.64        63\n",
            "weighted avg       0.70      0.65      0.66        63\n",
            "\n"
          ],
          "name": "stdout"
        },
        {
          "output_type": "stream",
          "text": [
            "/usr/local/lib/python3.6/dist-packages/sklearn/linear_model/logistic.py:947: ConvergenceWarning: lbfgs failed to converge. Increase the number of iterations.\n",
            "  \"of iterations.\", ConvergenceWarning)\n",
            "/usr/local/lib/python3.6/dist-packages/sklearn/linear_model/logistic.py:947: ConvergenceWarning: lbfgs failed to converge. Increase the number of iterations.\n",
            "  \"of iterations.\", ConvergenceWarning)\n"
          ],
          "name": "stderr"
        }
      ]
    },
    {
      "cell_type": "markdown",
      "metadata": {
        "id": "MDDU4oxuiCFT",
        "colab_type": "text"
      },
      "source": [
        "#### Confusion matrix"
      ]
    },
    {
      "cell_type": "code",
      "metadata": {
        "id": "z3qpCFPGCaPS",
        "colab_type": "code",
        "outputId": "efbf33ea-bcab-4262-c9f7-8f69cff2f58d",
        "colab": {
          "base_uri": "https://localhost:8080/",
          "height": 261
        }
      },
      "source": [
        "y_actu = pd.Series(np.array(y_test, dtype = '<U8'), name='Actual')\n",
        "y_pred = pd.Series(y_pred, name='Predicted')\n",
        "df_confusion = pd.crosstab(y_actu, y_pred, dropna = False)\n",
        "plot_confusion_matrix(df_confusion)"
      ],
      "execution_count": 0,
      "outputs": [
        {
          "output_type": "display_data",
          "data": {
            "image/png": "[encoded data removed]",
            "text/plain": [
              "<Figure size 288x288 with 2 Axes>"
            ]
          },
          "metadata": {
            "tags": []
          }
        }
      ]
    },
    {
      "cell_type": "code",
      "metadata": {
        "id": "8RSfDhkiiIKa",
        "colab_type": "code",
        "outputId": "0b8b0de1-4b3f-4ee1-89d3-0ccef5b765f8",
        "colab": {
          "base_uri": "https://localhost:8080/",
          "height": 142
        }
      },
      "source": [
        "df_confusion"
      ],
      "execution_count": 0,
      "outputs": [
        {
          "output_type": "execute_result",
          "data": {
            "text/html": [
              "<div>\n",
              "<style scoped>\n",
              "    .dataframe tbody tr th:only-of-type {\n",
              "        vertical-align: middle;\n",
              "    }\n",
              "\n",
              "    .dataframe tbody tr th {\n",
              "        vertical-align: top;\n",
              "    }\n",
              "\n",
              "    .dataframe thead th {\n",
              "        text-align: right;\n",
              "    }\n",
              "</style>\n",
              "<table border=\"1\" class=\"dataframe\">\n",
              "  <thead>\n",
              "    <tr style=\"text-align: right;\">\n",
              "      <th>Predicted</th>\n",
              "      <th>-1</th>\n",
              "      <th>0</th>\n",
              "    </tr>\n",
              "    <tr>\n",
              "      <th>Actual</th>\n",
              "      <th></th>\n",
              "      <th></th>\n",
              "    </tr>\n",
              "  </thead>\n",
              "  <tbody>\n",
              "    <tr>\n",
              "      <th>-1</th>\n",
              "      <td>26</td>\n",
              "      <td>16</td>\n",
              "    </tr>\n",
              "    <tr>\n",
              "      <th>0</th>\n",
              "      <td>6</td>\n",
              "      <td>15</td>\n",
              "    </tr>\n",
              "  </tbody>\n",
              "</table>\n",
              "</div>"
            ],
            "text/plain": [
              "Predicted  -1   0\n",
              "Actual           \n",
              "-1         26  16\n",
              "0           6  15"
            ]
          },
          "metadata": {
            "tags": []
          },
          "execution_count": 94
        }
      ]
    },
    {
      "cell_type": "markdown",
      "metadata": {
        "id": "N_lTdrshdVW6",
        "colab_type": "text"
      },
      "source": [
        "### Bag of Words using Tensorflow"
      ]
    },
    {
      "cell_type": "code",
      "metadata": {
        "id": "jehKmOJ0dVW7",
        "colab_type": "code",
        "colab": {}
      },
      "source": [
        "from __future__ import absolute_import\n",
        "from __future__ import division\n",
        "from __future__ import print_function"
      ],
      "execution_count": 0,
      "outputs": []
    },
    {
      "cell_type": "code",
      "metadata": {
        "id": "7U8SvH9sdVW9",
        "colab_type": "code",
        "outputId": "a561653f-a53f-4825-ae39-e1665bbe0b61",
        "colab": {
          "base_uri": "https://localhost:8080/",
          "height": 34
        }
      },
      "source": [
        "import itertools\n",
        "import os\n",
        "\n",
        "%matplotlib inline\n",
        "import matplotlib.pyplot as plt\n",
        "import numpy as np\n",
        "import pandas as pd\n",
        "import tensorflow as tf\n",
        "\n",
        "from sklearn.preprocessing import LabelBinarizer, LabelEncoder\n",
        "from sklearn.metrics import confusion_matrix\n",
        "\n",
        "from tensorflow import keras\n",
        "from keras.models import Sequential\n",
        "from keras.layers import Dense, Activation, Dropout\n",
        "from keras.preprocessing import text, sequence\n",
        "from keras import utils\n",
        "use_gpu = True"
      ],
      "execution_count": 0,
      "outputs": [
        {
          "output_type": "stream",
          "text": [
            "Using TensorFlow backend.\n"
          ],
          "name": "stderr"
        }
      ]
    },
    {
      "cell_type": "code",
      "metadata": {
        "id": "KCkmbXIHdVXB",
        "colab_type": "code",
        "colab": {}
      },
      "source": [
        "train_size = int(len(df) * .7)\n",
        "train_posts = df['Temperature'][:train_size]\n",
        "train_tags = df['Sentiment'][:train_size]\n",
        "\n",
        "test_posts = df['Temperature'][train_size:]\n",
        "test_tags = df['Sentiment'][train_size:]"
      ],
      "execution_count": 0,
      "outputs": []
    },
    {
      "cell_type": "code",
      "metadata": {
        "id": "xIpE6fuUdVXE",
        "colab_type": "code",
        "colab": {}
      },
      "source": [
        "max_words = 1000\n",
        "tokenize = text.Tokenizer(num_words=max_words, char_level=False)\n",
        "tokenize.fit_on_texts(train_posts) # only fit on train"
      ],
      "execution_count": 0,
      "outputs": []
    },
    {
      "cell_type": "code",
      "metadata": {
        "id": "g3SHY2SpdVXH",
        "colab_type": "code",
        "colab": {}
      },
      "source": [
        "x_train = tokenize.texts_to_matrix(train_posts)\n",
        "x_test = tokenize.texts_to_matrix(test_posts)"
      ],
      "execution_count": 0,
      "outputs": []
    },
    {
      "cell_type": "code",
      "metadata": {
        "id": "_bDGEe9ldVXJ",
        "colab_type": "code",
        "colab": {}
      },
      "source": [
        "encoder = LabelEncoder()\n",
        "encoder.fit(train_tags)\n",
        "y_train = encoder.transform(train_tags)\n",
        "y_test = encoder.transform(test_tags)"
      ],
      "execution_count": 0,
      "outputs": []
    },
    {
      "cell_type": "code",
      "metadata": {
        "id": "C-CToQMNdVXK",
        "colab_type": "code",
        "colab": {}
      },
      "source": [
        "num_classes = np.max(y_train) + 1\n",
        "y_train = utils.to_categorical(y_train, num_classes)\n",
        "y_test = utils.to_categorical(y_test, num_classes)"
      ],
      "execution_count": 0,
      "outputs": []
    },
    {
      "cell_type": "code",
      "metadata": {
        "id": "WiBmN3lpdVXM",
        "colab_type": "code",
        "colab": {}
      },
      "source": [
        "batch_size = 24\n",
        "epochs = 50"
      ],
      "execution_count": 0,
      "outputs": []
    },
    {
      "cell_type": "markdown",
      "metadata": {
        "id": "Hv-CtyV1dVXP",
        "colab_type": "text"
      },
      "source": [
        "#### Build the model"
      ]
    },
    {
      "cell_type": "code",
      "metadata": {
        "id": "lj-eqL40dVXQ",
        "colab_type": "code",
        "colab": {}
      },
      "source": [
        "model = Sequential()\n",
        "model.add(Dense(512, input_shape=(max_words,)))\n",
        "model.add(Activation('relu'))\n",
        "model.add(Dropout(0.5))\n",
        "model.add(Dense(num_classes))\n",
        "model.add(Activation('softmax'))"
      ],
      "execution_count": 0,
      "outputs": []
    },
    {
      "cell_type": "markdown",
      "metadata": {
        "id": "mq4mTAox7rd5",
        "colab_type": "text"
      },
      "source": [
        "Test the sensitivity of the input layers. No free lunch- no one algorithm is the best."
      ]
    },
    {
      "cell_type": "markdown",
      "metadata": {
        "id": "0fQfNRz38cP8",
        "colab_type": "text"
      },
      "source": [
        "How are neural nets trimmed. How many nodes and layers are appropriate in text analysis Plot with # of layers vs percent accuracy 5 samples to start with"
      ]
    },
    {
      "cell_type": "code",
      "metadata": {
        "id": "-_WNTAamdVXT",
        "colab_type": "code",
        "colab": {}
      },
      "source": [
        "model.compile(loss='categorical_crossentropy',\n",
        "              optimizer='adam',\n",
        "              metrics=['accuracy'])"
      ],
      "execution_count": 0,
      "outputs": []
    },
    {
      "cell_type": "code",
      "metadata": {
        "id": "qqA6hIbIdVXV",
        "colab_type": "code",
        "outputId": "009321d1-de6b-4c56-cc38-7bfb0a317b44",
        "colab": {
          "base_uri": "https://localhost:8080/",
          "height": 1000
        }
      },
      "source": [
        "history = model.fit(x_train, y_train,\n",
        "                    batch_size=batch_size,\n",
        "                    epochs=epochs,\n",
        "                    verbose=1,\n",
        "                    validation_split=0.1)"
      ],
      "execution_count": 0,
      "outputs": [
        {
          "output_type": "stream",
          "text": [
            "Train on 130 samples, validate on 15 samples\n",
            "Epoch 1/50\n",
            "130/130 [==============================] - 1s 4ms/step - loss: 0.6796 - acc: 0.5846 - val_loss: 0.5820 - val_acc: 0.8667\n",
            "Epoch 2/50\n",
            "130/130 [==============================] - 0s 349us/step - loss: 0.5665 - acc: 0.6923 - val_loss: 0.4901 - val_acc: 0.7333\n",
            "Epoch 3/50\n",
            "130/130 [==============================] - 0s 313us/step - loss: 0.4727 - acc: 0.7000 - val_loss: 0.4385 - val_acc: 0.7333\n",
            "Epoch 4/50\n",
            "130/130 [==============================] - 0s 290us/step - loss: 0.4136 - acc: 0.7769 - val_loss: 0.4085 - val_acc: 0.8000\n",
            "Epoch 5/50\n",
            "130/130 [==============================] - 0s 343us/step - loss: 0.3506 - acc: 0.8615 - val_loss: 0.3812 - val_acc: 0.8000\n",
            "Epoch 6/50\n",
            "130/130 [==============================] - 0s 303us/step - loss: 0.3038 - acc: 0.9154 - val_loss: 0.3615 - val_acc: 0.9333\n",
            "Epoch 7/50\n",
            "130/130 [==============================] - 0s 278us/step - loss: 0.2590 - acc: 0.9615 - val_loss: 0.3411 - val_acc: 1.0000\n",
            "Epoch 8/50\n",
            "130/130 [==============================] - 0s 262us/step - loss: 0.2170 - acc: 0.9846 - val_loss: 0.3182 - val_acc: 1.0000\n",
            "Epoch 9/50\n",
            "130/130 [==============================] - 0s 331us/step - loss: 0.1841 - acc: 0.9846 - val_loss: 0.2942 - val_acc: 1.0000\n",
            "Epoch 10/50\n",
            "130/130 [==============================] - 0s 319us/step - loss: 0.1529 - acc: 0.9923 - val_loss: 0.2711 - val_acc: 1.0000\n",
            "Epoch 11/50\n",
            "130/130 [==============================] - 0s 324us/step - loss: 0.1313 - acc: 0.9923 - val_loss: 0.2497 - val_acc: 1.0000\n",
            "Epoch 12/50\n",
            "130/130 [==============================] - 0s 315us/step - loss: 0.1101 - acc: 0.9923 - val_loss: 0.2286 - val_acc: 1.0000\n",
            "Epoch 13/50\n",
            "130/130 [==============================] - 0s 352us/step - loss: 0.0906 - acc: 0.9923 - val_loss: 0.2115 - val_acc: 1.0000\n",
            "Epoch 14/50\n",
            "130/130 [==============================] - 0s 296us/step - loss: 0.0800 - acc: 0.9923 - val_loss: 0.1959 - val_acc: 1.0000\n",
            "Epoch 15/50\n",
            "130/130 [==============================] - 0s 271us/step - loss: 0.0671 - acc: 0.9923 - val_loss: 0.1833 - val_acc: 1.0000\n",
            "Epoch 16/50\n",
            "130/130 [==============================] - 0s 325us/step - loss: 0.0553 - acc: 1.0000 - val_loss: 0.1706 - val_acc: 1.0000\n",
            "Epoch 17/50\n",
            "130/130 [==============================] - 0s 318us/step - loss: 0.0470 - acc: 1.0000 - val_loss: 0.1598 - val_acc: 1.0000\n",
            "Epoch 18/50\n",
            "130/130 [==============================] - 0s 309us/step - loss: 0.0448 - acc: 1.0000 - val_loss: 0.1500 - val_acc: 1.0000\n",
            "Epoch 19/50\n",
            "130/130 [==============================] - 0s 298us/step - loss: 0.0365 - acc: 1.0000 - val_loss: 0.1413 - val_acc: 1.0000\n",
            "Epoch 20/50\n",
            "130/130 [==============================] - 0s 303us/step - loss: 0.0339 - acc: 1.0000 - val_loss: 0.1342 - val_acc: 1.0000\n",
            "Epoch 21/50\n",
            "130/130 [==============================] - 0s 305us/step - loss: 0.0293 - acc: 1.0000 - val_loss: 0.1273 - val_acc: 1.0000\n",
            "Epoch 22/50\n",
            "130/130 [==============================] - 0s 316us/step - loss: 0.0269 - acc: 1.0000 - val_loss: 0.1214 - val_acc: 1.0000\n",
            "Epoch 23/50\n",
            "130/130 [==============================] - 0s 343us/step - loss: 0.0232 - acc: 1.0000 - val_loss: 0.1155 - val_acc: 1.0000\n",
            "Epoch 24/50\n",
            "130/130 [==============================] - 0s 281us/step - loss: 0.0226 - acc: 1.0000 - val_loss: 0.1107 - val_acc: 1.0000\n",
            "Epoch 25/50\n",
            "130/130 [==============================] - 0s 288us/step - loss: 0.0190 - acc: 1.0000 - val_loss: 0.1070 - val_acc: 1.0000\n",
            "Epoch 26/50\n",
            "130/130 [==============================] - 0s 292us/step - loss: 0.0177 - acc: 1.0000 - val_loss: 0.1041 - val_acc: 1.0000\n",
            "Epoch 27/50\n",
            "130/130 [==============================] - 0s 279us/step - loss: 0.0171 - acc: 1.0000 - val_loss: 0.0999 - val_acc: 1.0000\n",
            "Epoch 28/50\n",
            "130/130 [==============================] - 0s 287us/step - loss: 0.0146 - acc: 1.0000 - val_loss: 0.0965 - val_acc: 1.0000\n",
            "Epoch 29/50\n",
            "130/130 [==============================] - 0s 275us/step - loss: 0.0140 - acc: 1.0000 - val_loss: 0.0936 - val_acc: 1.0000\n",
            "Epoch 30/50\n",
            "130/130 [==============================] - 0s 315us/step - loss: 0.0122 - acc: 1.0000 - val_loss: 0.0914 - val_acc: 1.0000\n",
            "Epoch 31/50\n",
            "130/130 [==============================] - 0s 296us/step - loss: 0.0109 - acc: 1.0000 - val_loss: 0.0889 - val_acc: 1.0000\n",
            "Epoch 32/50\n",
            "130/130 [==============================] - 0s 287us/step - loss: 0.0107 - acc: 1.0000 - val_loss: 0.0864 - val_acc: 1.0000\n",
            "Epoch 33/50\n",
            "130/130 [==============================] - 0s 293us/step - loss: 0.0101 - acc: 1.0000 - val_loss: 0.0843 - val_acc: 1.0000\n",
            "Epoch 34/50\n",
            "130/130 [==============================] - 0s 302us/step - loss: 0.0095 - acc: 1.0000 - val_loss: 0.0827 - val_acc: 1.0000\n",
            "Epoch 35/50\n",
            "130/130 [==============================] - 0s 321us/step - loss: 0.0077 - acc: 1.0000 - val_loss: 0.0811 - val_acc: 1.0000\n",
            "Epoch 36/50\n",
            "130/130 [==============================] - 0s 297us/step - loss: 0.0081 - acc: 1.0000 - val_loss: 0.0795 - val_acc: 1.0000\n",
            "Epoch 37/50\n",
            "130/130 [==============================] - 0s 291us/step - loss: 0.0075 - acc: 1.0000 - val_loss: 0.0776 - val_acc: 1.0000\n",
            "Epoch 38/50\n",
            "130/130 [==============================] - 0s 378us/step - loss: 0.0066 - acc: 1.0000 - val_loss: 0.0764 - val_acc: 1.0000\n",
            "Epoch 39/50\n",
            "130/130 [==============================] - 0s 266us/step - loss: 0.0070 - acc: 1.0000 - val_loss: 0.0754 - val_acc: 1.0000\n",
            "Epoch 40/50\n",
            "130/130 [==============================] - 0s 293us/step - loss: 0.0069 - acc: 1.0000 - val_loss: 0.0740 - val_acc: 1.0000\n",
            "Epoch 41/50\n",
            "130/130 [==============================] - 0s 281us/step - loss: 0.0054 - acc: 1.0000 - val_loss: 0.0725 - val_acc: 1.0000\n",
            "Epoch 42/50\n",
            "130/130 [==============================] - 0s 312us/step - loss: 0.0061 - acc: 1.0000 - val_loss: 0.0715 - val_acc: 1.0000\n",
            "Epoch 43/50\n",
            "130/130 [==============================] - 0s 272us/step - loss: 0.0054 - acc: 1.0000 - val_loss: 0.0709 - val_acc: 1.0000\n",
            "Epoch 44/50\n",
            "130/130 [==============================] - 0s 263us/step - loss: 0.0048 - acc: 1.0000 - val_loss: 0.0708 - val_acc: 1.0000\n",
            "Epoch 45/50\n",
            "130/130 [==============================] - 0s 257us/step - loss: 0.0046 - acc: 1.0000 - val_loss: 0.0707 - val_acc: 1.0000\n",
            "Epoch 46/50\n",
            "130/130 [==============================] - 0s 297us/step - loss: 0.0044 - acc: 1.0000 - val_loss: 0.0702 - val_acc: 1.0000\n",
            "Epoch 47/50\n",
            "130/130 [==============================] - 0s 258us/step - loss: 0.0044 - acc: 1.0000 - val_loss: 0.0687 - val_acc: 1.0000\n",
            "Epoch 48/50\n",
            "130/130 [==============================] - 0s 284us/step - loss: 0.0047 - acc: 1.0000 - val_loss: 0.0674 - val_acc: 1.0000\n",
            "Epoch 49/50\n",
            "130/130 [==============================] - 0s 286us/step - loss: 0.0039 - acc: 1.0000 - val_loss: 0.0662 - val_acc: 1.0000\n",
            "Epoch 50/50\n",
            "130/130 [==============================] - 0s 289us/step - loss: 0.0035 - acc: 1.0000 - val_loss: 0.0654 - val_acc: 1.0000\n"
          ],
          "name": "stdout"
        }
      ]
    },
    {
      "cell_type": "markdown",
      "metadata": {
        "id": "GpxyxxOudVXY",
        "colab_type": "text"
      },
      "source": [
        "#### validate the accuracy "
      ]
    },
    {
      "cell_type": "code",
      "metadata": {
        "id": "-f4kjWoydVXY",
        "colab_type": "code",
        "outputId": "e42ba25b-1337-4000-b73d-d25fa56071d1",
        "colab": {
          "base_uri": "https://localhost:8080/",
          "height": 51
        }
      },
      "source": [
        "score = model.evaluate(x_test, y_test,\n",
        "                       batch_size=batch_size, verbose=1)\n",
        "score"
      ],
      "execution_count": 0,
      "outputs": [
        {
          "output_type": "stream",
          "text": [
            "63/63 [==============================] - 0s 136us/step\n"
          ],
          "name": "stdout"
        },
        {
          "output_type": "execute_result",
          "data": {
            "text/plain": [
              "[0.41508504038765315, 0.8412698393776303]"
            ]
          },
          "metadata": {
            "tags": []
          },
          "execution_count": 154
        }
      ]
    },
    {
      "cell_type": "code",
      "metadata": {
        "id": "dQyWrrWwsXjQ",
        "colab_type": "code",
        "outputId": "2233b264-0137-4593-d6e5-7ec63b91aa08",
        "colab": {
          "base_uri": "https://localhost:8080/",
          "height": 51
        }
      },
      "source": [
        "model.evaluate(x_test, y_test)"
      ],
      "execution_count": 0,
      "outputs": [
        {
          "output_type": "stream",
          "text": [
            "63/63 [==============================] - 0s 202us/step\n"
          ],
          "name": "stdout"
        },
        {
          "output_type": "execute_result",
          "data": {
            "text/plain": [
              "[0.43400152240480694, 0.8571428457895914]"
            ]
          },
          "metadata": {
            "tags": []
          },
          "execution_count": 162
        }
      ]
    },
    {
      "cell_type": "code",
      "metadata": {
        "id": "eeFFpdKBVNEF",
        "colab_type": "code",
        "outputId": "3c947203-e0e5-4f3a-9136-fcf7a0d3a23a",
        "colab": {
          "base_uri": "https://localhost:8080/",
          "height": 306
        }
      },
      "source": [
        "pd.concat([x_test, y_test], axis = 1)"
      ],
      "execution_count": 0,
      "outputs": [
        {
          "output_type": "error",
          "ename": "TypeError",
          "evalue": "ignored",
          "traceback": [
            "\u001b[0;31m---------------------------------------------------------------------------\u001b[0m",
            "\u001b[0;31mTypeError\u001b[0m                                 Traceback (most recent call last)",
            "\u001b[0;32m<ipython-input-163-9f8b6fa9d3bc>\u001b[0m in \u001b[0;36m<module>\u001b[0;34m()\u001b[0m\n\u001b[0;32m----> 1\u001b[0;31m \u001b[0mpd\u001b[0m\u001b[0;34m.\u001b[0m\u001b[0mconcat\u001b[0m\u001b[0;34m(\u001b[0m\u001b[0;34m[\u001b[0m\u001b[0mx_test\u001b[0m\u001b[0;34m,\u001b[0m \u001b[0my_test\u001b[0m\u001b[0;34m]\u001b[0m\u001b[0;34m,\u001b[0m \u001b[0maxis\u001b[0m \u001b[0;34m=\u001b[0m \u001b[0;36m1\u001b[0m\u001b[0;34m)\u001b[0m\u001b[0;34m\u001b[0m\u001b[0;34m\u001b[0m\u001b[0m\n\u001b[0m",
            "\u001b[0;32m/usr/local/lib/python3.6/dist-packages/pandas/core/reshape/concat.py\u001b[0m in \u001b[0;36mconcat\u001b[0;34m(objs, axis, join, join_axes, ignore_index, keys, levels, names, verify_integrity, sort, copy)\u001b[0m\n\u001b[1;32m    253\u001b[0m         \u001b[0mverify_integrity\u001b[0m\u001b[0;34m=\u001b[0m\u001b[0mverify_integrity\u001b[0m\u001b[0;34m,\u001b[0m\u001b[0;34m\u001b[0m\u001b[0;34m\u001b[0m\u001b[0m\n\u001b[1;32m    254\u001b[0m         \u001b[0mcopy\u001b[0m\u001b[0;34m=\u001b[0m\u001b[0mcopy\u001b[0m\u001b[0;34m,\u001b[0m\u001b[0;34m\u001b[0m\u001b[0;34m\u001b[0m\u001b[0m\n\u001b[0;32m--> 255\u001b[0;31m         \u001b[0msort\u001b[0m\u001b[0;34m=\u001b[0m\u001b[0msort\u001b[0m\u001b[0;34m,\u001b[0m\u001b[0;34m\u001b[0m\u001b[0;34m\u001b[0m\u001b[0m\n\u001b[0m\u001b[1;32m    256\u001b[0m     )\n\u001b[1;32m    257\u001b[0m \u001b[0;34m\u001b[0m\u001b[0m\n",
            "\u001b[0;32m/usr/local/lib/python3.6/dist-packages/pandas/core/reshape/concat.py\u001b[0m in \u001b[0;36m__init__\u001b[0;34m(self, objs, axis, join, join_axes, keys, levels, names, ignore_index, verify_integrity, copy, sort)\u001b[0m\n\u001b[1;32m    330\u001b[0m                     \u001b[0;34m\" only Series and DataFrame objs are valid\"\u001b[0m\u001b[0;34m.\u001b[0m\u001b[0mformat\u001b[0m\u001b[0;34m(\u001b[0m\u001b[0mtype\u001b[0m\u001b[0;34m(\u001b[0m\u001b[0mobj\u001b[0m\u001b[0;34m)\u001b[0m\u001b[0;34m)\u001b[0m\u001b[0;34m\u001b[0m\u001b[0;34m\u001b[0m\u001b[0m\n\u001b[1;32m    331\u001b[0m                 )\n\u001b[0;32m--> 332\u001b[0;31m                 \u001b[0;32mraise\u001b[0m \u001b[0mTypeError\u001b[0m\u001b[0;34m(\u001b[0m\u001b[0mmsg\u001b[0m\u001b[0;34m)\u001b[0m\u001b[0;34m\u001b[0m\u001b[0;34m\u001b[0m\u001b[0m\n\u001b[0m\u001b[1;32m    333\u001b[0m \u001b[0;34m\u001b[0m\u001b[0m\n\u001b[1;32m    334\u001b[0m             \u001b[0;31m# consolidate\u001b[0m\u001b[0;34m\u001b[0m\u001b[0;34m\u001b[0m\u001b[0;34m\u001b[0m\u001b[0m\n",
            "\u001b[0;31mTypeError\u001b[0m: cannot concatenate object of type '<class 'numpy.ndarray'>'; only Series and DataFrame objs are valid"
          ]
        }
      ]
    },
    {
      "cell_type": "code",
      "metadata": {
        "id": "L-a9A2L4X907",
        "colab_type": "code",
        "outputId": "089c69de-0dab-4f9c-e437-e7138e423868",
        "colab": {
          "base_uri": "https://localhost:8080/",
          "height": 254
        }
      },
      "source": [
        "df_confusion = pd.crosstab(y_actu, y_pred, dropna = False)\n",
        "plot_confusion_matrix(df_confusion)"
      ],
      "execution_count": 0,
      "outputs": [
        {
          "output_type": "display_data",
          "data": {
            "image/png": "[encoded data removed]",
            "text/plain": [
              "<Figure size 288x288 with 2 Axes>"
            ]
          },
          "metadata": {
            "tags": []
          }
        }
      ]
    },
    {
      "cell_type": "code",
      "metadata": {
        "id": "FEdsYfsOYF_h",
        "colab_type": "code",
        "outputId": "0ecece5a-e3ff-442e-ffaf-ca68713e80a9",
        "colab": {
          "base_uri": "https://localhost:8080/",
          "height": 142
        }
      },
      "source": [
        "df_confusion"
      ],
      "execution_count": 0,
      "outputs": [
        {
          "output_type": "execute_result",
          "data": {
            "text/html": [
              "<div>\n",
              "<style scoped>\n",
              "    .dataframe tbody tr th:only-of-type {\n",
              "        vertical-align: middle;\n",
              "    }\n",
              "\n",
              "    .dataframe tbody tr th {\n",
              "        vertical-align: top;\n",
              "    }\n",
              "\n",
              "    .dataframe thead th {\n",
              "        text-align: right;\n",
              "    }\n",
              "</style>\n",
              "<table border=\"1\" class=\"dataframe\">\n",
              "  <thead>\n",
              "    <tr style=\"text-align: right;\">\n",
              "      <th>Predicted</th>\n",
              "      <th>-1</th>\n",
              "      <th>0</th>\n",
              "    </tr>\n",
              "    <tr>\n",
              "      <th>Actual</th>\n",
              "      <th></th>\n",
              "      <th></th>\n",
              "    </tr>\n",
              "  </thead>\n",
              "  <tbody>\n",
              "    <tr>\n",
              "      <th>-1</th>\n",
              "      <td>39</td>\n",
              "      <td>3</td>\n",
              "    </tr>\n",
              "    <tr>\n",
              "      <th>0</th>\n",
              "      <td>12</td>\n",
              "      <td>9</td>\n",
              "    </tr>\n",
              "  </tbody>\n",
              "</table>\n",
              "</div>"
            ],
            "text/plain": [
              "Predicted  -1   0\n",
              "Actual           \n",
              "-1         39   3\n",
              "0          12   9"
            ]
          },
          "metadata": {
            "tags": []
          },
          "execution_count": 157
        }
      ]
    },
    {
      "cell_type": "code",
      "metadata": {
        "id": "R_5YXKdaUHdy",
        "colab_type": "code",
        "colab": {}
      },
      "source": [
        "con_mat = tf.math.confusion_matrix(labels=y_actu, predictions=y_pred).numpy()"
      ],
      "execution_count": 0,
      "outputs": []
    },
    {
      "cell_type": "code",
      "metadata": {
        "id": "ssOUnSk-dVXa",
        "colab_type": "code",
        "colab": {}
      },
      "source": [
        "from keras import metrics"
      ],
      "execution_count": 0,
      "outputs": []
    },
    {
      "cell_type": "code",
      "metadata": {
        "id": "g52ApdnVdVXc",
        "colab_type": "code",
        "colab": {}
      },
      "source": [
        "print(confusion_matrix(x_test, y_pred))"
      ],
      "execution_count": 0,
      "outputs": []
    },
    {
      "cell_type": "code",
      "metadata": {
        "id": "gLOCyRiTdVXf",
        "colab_type": "code",
        "colab": {}
      },
      "source": [
        ""
      ],
      "execution_count": 0,
      "outputs": []
    },
    {
      "cell_type": "markdown",
      "metadata": {
        "id": "JYWnjTvOdIk7",
        "colab_type": "text"
      },
      "source": [
        "# Sankey Diagrams"
      ]
    },
    {
      "cell_type": "markdown",
      "metadata": {
        "id": "OdjeuwKjgz6u",
        "colab_type": "text"
      },
      "source": [
        ""
      ]
    },
    {
      "cell_type": "code",
      "metadata": {
        "id": "P0ei1VcxhadF",
        "colab_type": "code",
        "colab": {}
      },
      "source": [
        ""
      ],
      "execution_count": 0,
      "outputs": []
    },
    {
      "cell_type": "code",
      "metadata": {
        "id": "-WeF0jcqhamC",
        "colab_type": "code",
        "colab": {}
      },
      "source": [
        ""
      ],
      "execution_count": 0,
      "outputs": []
    },
    {
      "cell_type": "code",
      "metadata": {
        "id": "E4QRaX5ohaol",
        "colab_type": "code",
        "colab": {}
      },
      "source": [
        ""
      ],
      "execution_count": 0,
      "outputs": []
    },
    {
      "cell_type": "code",
      "metadata": {
        "id": "8xyQxNSmharg",
        "colab_type": "code",
        "colab": {}
      },
      "source": [
        ""
      ],
      "execution_count": 0,
      "outputs": []
    },
    {
      "cell_type": "markdown",
      "metadata": {
        "id": "MZPYZymzdVFD",
        "colab_type": "text"
      },
      "source": [
        "# Association Node Networks using ARM"
      ]
    },
    {
      "cell_type": "markdown",
      "metadata": {
        "id": "55gdD3MRgq3W",
        "colab_type": "text"
      },
      "source": [
        "Python doesn't have the arulesviz library which makes it impossible to draw the Node Networks. But we can call R from within python here"
      ]
    },
    {
      "cell_type": "code",
      "metadata": {
        "id": "d8c3JryPiv1P",
        "colab_type": "code",
        "colab": {}
      },
      "source": [
        "%load_ext rpy2.ipython"
      ],
      "execution_count": 0,
      "outputs": []
    },
    {
      "cell_type": "code",
      "metadata": {
        "id": "LOo4MarMP1eM",
        "colab_type": "code",
        "colab": {}
      },
      "source": [
        "import rpy2.robjects.packages as rpackages\n",
        "utils = rpackages.importr('utils')\n",
        "\n",
        "utils.chooseCRANmirror(ind=1) # select the first mirror in the list\n",
        "utils.chooseBioCmirror(ind=1)\n",
        "\n",
        "packnames = ('tm', 'SnowballC', 'arules', 'devtools')\n",
        "from rpy2.robjects.vectors import StrVector\n",
        "utils.install_packages(StrVector(packnames))"
      ],
      "execution_count": 0,
      "outputs": []
    },
    {
      "cell_type": "code",
      "metadata": {
        "id": "KKFTydkMX76n",
        "colab_type": "code",
        "colab": {}
      },
      "source": [
        "%%R\n",
        "\n",
        "install.packages(\"arulesViz\", lib=\"/data/Rpackages/\")"
      ],
      "execution_count": 0,
      "outputs": []
    },
    {
      "cell_type": "code",
      "metadata": {
        "id": "FW_xlrSts8Qq",
        "colab_type": "code",
        "colab": {}
      },
      "source": [
        "%%R\n",
        "library(tidyverse)\n",
        "library(readxl)\n",
        "library(tm)\n",
        "library(SnowballC) \n",
        "library(arules)\n",
        "library(arulesViz)"
      ],
      "execution_count": 0,
      "outputs": []
    },
    {
      "cell_type": "code",
      "metadata": {
        "id": "NSjrSLjlvcbQ",
        "colab_type": "code",
        "outputId": "9b4dcc60-05b3-4bed-fef1-111304f663b3",
        "colab": {
          "base_uri": "https://localhost:8080/",
          "height": 255
        }
      },
      "source": [
        "%%R\n",
        "txt = read_excel('SLFC survey.xlsx')\n",
        "txt"
      ],
      "execution_count": 0,
      "outputs": [
        {
          "output_type": "display_data",
          "data": {
            "text/plain": [
              "# A tibble: 208 x 4\n",
              "   `Floor Work On` `Workspace Locati… Temperature                      Sentiment\n",
              "   <chr>           <chr>              <chr>                            <chr>    \n",
              " 1 3               99 Bank St.        A proper BAS system that can ac… Negative \n",
              " 2 4               50 O'Connor        I think probably that it's not … Neutral  \n",
              " 3 7               99 Bank St.        The heat is not high enough so … Negative \n",
              " 4 13              50 O'Connor        I completed this survey last ye… Negative \n",
              " 5 3               99 Bank St.        I'm thinking it's just the seas… Negative \n",
              " 6 9               50 O'Connor        There is a bit of a draft from … Negative \n",
              " 7 16              50 O'Connor        They should turn on the cooling… Negative \n",
              " 8 5               99 Bank St.        I sit right under a vent and Mo… Negative \n",
              " 9 5               50 O'Connor        It's okay.                       Neutral  \n",
              "10 17              50 O'Connor        I don't think there is really m… Neutral  \n",
              "# … with 198 more rows\n"
            ]
          },
          "metadata": {
            "tags": []
          }
        }
      ]
    },
    {
      "cell_type": "code",
      "metadata": {
        "id": "wD8f15D7yDlK",
        "colab_type": "code",
        "outputId": "b0aae7f0-b893-4616-9e3d-2c0d783715b1",
        "colab": {
          "base_uri": "https://localhost:8080/",
          "height": 122
        }
      },
      "source": [
        "%%R\n",
        "txt$`Temperature`[1:5]"
      ],
      "execution_count": 0,
      "outputs": [
        {
          "output_type": "display_data",
          "data": {
            "text/plain": [
              "[1] \"A proper BAS system that can actually determine the air temperature outside and be more reactive so that when it's -5 outside in May the air conditioning doesn't come on.  Also personal temperature, I should be allowed to have a personal heater at my desk if I'm freezing.\"                                                                                                                                                                                                                    \n",
              "[2] \"I think probably that it's not adjusted to the changes in temperatures with the season so it takes awhile to readjust.  I'm not sure how to solve that except maybe trying to keep one constant temperature.  Is it doable?\"                                                                                                                                                                                                                                                                         \n",
              "[3] \"The heat is not high enough so put on more heat.\"                                                                                                                                                                                                                                                                                                                                                                                                                                                    \n",
              "[4] \"I completed this survey last year and also complained about the temperature and I see nothing has been done so I'm hoping that I can get better results for next year.  I think the problem is that the offices that are far away from windows are too cold and they are in open spaces.  With the thermostat the building people come in and they move it up and down and nothing happens.  We are just told that is the way it is so I think more needs to be done or we need to be given heaters.\"\n",
              "[5] \"I'm thinking it's just the seasons changing.  It's been cold and we were cold and now it's hot and we are hot all the time.  I think it would have to be manually changed because of all the frustration lately.\"                                                                                                                                                                                                                                                                                    \n"
            ]
          },
          "metadata": {
            "tags": []
          }
        }
      ]
    },
    {
      "cell_type": "markdown",
      "metadata": {
        "id": "SSHDTUpAcPxW",
        "colab_type": "text"
      },
      "source": [
        "### Preprocessing text"
      ]
    },
    {
      "cell_type": "code",
      "metadata": {
        "id": "Hu4lLi5jh6c-",
        "colab_type": "code",
        "colab": {}
      },
      "source": [
        "%%R\n",
        "#-------------------------------------------------DETAILED TEXT MINING --------------------------------------------\n",
        "## Preprocessing to create a document term matrix\n",
        "mydata <- txt$`Temperature`\n",
        "documents <- VectorSource(t(mydata))\n",
        "jeopCorpus <- Corpus(documents)\n",
        "jeopCorpus <- tm_map(jeopCorpus, PlainTextDocument)\n",
        "jeopCorpus <- tm_map(jeopCorpus, content_transformer(tolower))\n",
        "jeopCorpus <- tm_map(jeopCorpus, removePunctuation)\n",
        "jeopCorpus <- tm_map(jeopCorpus, stripWhitespace)\n",
        "jeopCorpus <- tm_map(jeopCorpus, removeNumbers)\n",
        "jeopCorpus <- tm_map(jeopCorpus, removeWords, stopwords(\"english\"))\n",
        "jeopCorpus <- tm_map(jeopCorpus, stemDocument)\n",
        "# jeopCorpus <- tm_map(jeopCorpus, removeWords, c(\"per\",\"awocwo\",\"tke\",\"acceptgn\",\"cwomd\",\"jeansd\",\"mwr\",\"lwr\",\"ghazi\",\n",
        "#                                                 \"barryrw\",\"barrygn\",\"robert\",\"wbarri\",\"extend\",\"reason\",\"work\",\"jean\",\n",
        "#                                                 \"thank\",\"awomd\",\"order\",\"barri\",\"teeven\",\"cli\",\"close\",\"accept\",\"fulli\",\n",
        "#                                                 \"mbeaudri\",\"mike\",\"allison\",\"aschmidtk\",\"schmidtk\",\"verbal\",\"can\",\"now\",\n",
        "#                                                 \"pleas\",\"will\",\"made\",\"alt\",\"need\",\"new\",\"open\",\"due\",\"use\",\"complet\",\n",
        "#                                                 \"done\",\"went\",\"flr\", \"technician\", \"comment\", \"jpl\", \"awo\", \"cwo\", \"gill\",\n",
        "#                                                 \"sab\",\"ben\",\"message\",\"left\", \"rene\", \"lattfield\", \"tstatsk\"))\n",
        "# jeopCorpus <- tm_map(jeopCorpus, content_transformer(gsub), pattern = \"\\\\b(stat|tstat|statsk|tstatsk|statssk)\\\\b\", \n",
        "#                                                                       replacement = \"tstat\")"
      ],
      "execution_count": 0,
      "outputs": []
    },
    {
      "cell_type": "markdown",
      "metadata": {
        "id": "ZHVC5SmGdRGa",
        "colab_type": "text"
      },
      "source": [
        "### Turn into a tocument term matrix"
      ]
    },
    {
      "cell_type": "code",
      "metadata": {
        "id": "-9QrUsx_cYH-",
        "colab_type": "code",
        "colab": {}
      },
      "source": [
        "%%R\n",
        "df_experiment <- data.frame(text = get(\"content\", jeopCorpus))\n",
        "head(df_experiment)\n",
        "\n",
        "dtm <- DocumentTermMatrix(jeopCorpus)\n",
        "\n",
        "#-----------Create a bar plot of the most common terms ----------------------------\n",
        "#create a term document matrix instead of document term matrix\n",
        "tdm <- TermDocumentMatrix(jeopCorpus)\n",
        "m <- as.matrix(tdm)\n",
        "v <- sort(rowSums(m),decreasing=TRUE)\n",
        "d <- data.frame(word = names(v),freq=v)\n",
        "\n",
        "# Write the raw document text matrix to a CSV ----\n",
        "write.csv(as.matrix(dtm), file=\"dtm.csv\")\n",
        "\n",
        "#Word frequency matrix\n",
        "freq <- colSums(as.matrix(dtm))\n",
        "length(freq)\n",
        "ord <- order(freq)\n",
        "m <- as.matrix(freq)\n",
        "dim(m)\n",
        "\n",
        "#creating term matrix with TF-IDF weighting\n",
        "terms <-DocumentTermMatrix(jeopCorpus,control = list(weighting = function(x) weightTfIdf(x, normalize = FALSE)))\n",
        "write.csv(as.matrix(terms), file=\"tfidf.csv\")\n",
        "\n",
        "#Word frequency matrix after TF-IDF weighting\n",
        "freq <- colSums(as.matrix(dtm))\n",
        "length(freq)\n",
        "ord <- order(freq)\n",
        "m <- as.matrix(freq)\n",
        "dim(m)\n",
        "\n",
        "dtmss <- removeSparseTerms(dtm, 0.994) # This makes a matrix that is only 15% empty space, maximum.  0.9999 usual 0.98\n",
        "write.csv(as.matrix(dtmss), file=\"dtmss.csv\")\n",
        "\n",
        "## ---- Using non-sparse dtm conduct an association rule analysis\n",
        "\n",
        "mydata <- read.csv('dtmss.csv', stringsAsFactors = FALSE)\n",
        "mydata[1] <- NULL"
      ],
      "execution_count": 0,
      "outputs": []
    },
    {
      "cell_type": "markdown",
      "metadata": {
        "id": "lIOQXBGidZbF",
        "colab_type": "text"
      },
      "source": [
        "### Set up the support and confidence parameters"
      ]
    },
    {
      "cell_type": "code",
      "metadata": {
        "id": "b89DcUKHchaK",
        "colab_type": "code",
        "colab": {}
      },
      "source": [
        "%%R\n",
        "# Set support and confidence values\n",
        "Support_ARM = 0.01\n",
        "Confidence_ARM = 0.85\n",
        "Number_of_rules = 20\n",
        "\n",
        "## Support 0.005 and confidence 0.80 support sort\n",
        "mydata <- sapply(mydata,as.logical)\n",
        "rules <- apriori(mydata,parameter = list(sup = Support_ARM, conf = Confidence_ARM,target=\"rules\"))\n",
        "summary(rules)\n",
        "rules.sorted <- sort(rules, by=\"support\")\n",
        "\n",
        "subrules <- head(sort(rules, by=\"support\"),Number_of_rules)\n",
        "view(subrules) \n",
        "write(subrules, file = \"dataNoClusteringSup00005Conf_support.csv\", sep = \",\")\n",
        "\n",
        "set.seed(1)"
      ],
      "execution_count": 0,
      "outputs": []
    },
    {
      "cell_type": "markdown",
      "metadata": {
        "id": "uKkOYIuPdgZI",
        "colab_type": "text"
      },
      "source": [
        "### plot the graphs"
      ]
    },
    {
      "cell_type": "code",
      "metadata": {
        "id": "o7NHLZJvc3T4",
        "colab_type": "code",
        "outputId": "15af8642-505b-4d1f-ac68-34de6facac2c",
        "colab": {
          "base_uri": "https://localhost:8080/",
          "height": 840
        }
      },
      "source": [
        "%%R\n",
        "plot(subrules, method=\"graph\", control=list(type=\"items\"))"
      ],
      "execution_count": 0,
      "outputs": [
        {
          "output_type": "display_data",
          "data": {
            "text/plain": [
              "Available control parameters (with default values):\n",
              "main\t =  Graph for 20 rules\n",
              "nodeColors\t =  c(\"#66CC6680\", \"#9999CC80\")\n",
              "nodeCol\t =  c(\"#EE0000FF\", \"#EE0303FF\", \"#EE0606FF\", \"#EE0909FF\", \"#EE0C0CFF\", \"#EE0F0FFF\", \"#EE1212FF\", \"#EE1515FF\", \"#EE1818FF\", \"#EE1B1BFF\", \"#EE1E1EFF\", \"#EE2222FF\", \"#EE2525FF\", \"#EE2828FF\", \"#EE2B2BFF\", \"#EE2E2EFF\", \"#EE3131FF\", \"#EE3434FF\", \"#EE3737FF\", \"#EE3A3AFF\", \"#EE3D3DFF\", \"#EE4040FF\", \"#EE4444FF\", \"#EE4747FF\", \"#EE4A4AFF\", \"#EE4D4DFF\", \"#EE5050FF\", \"#EE5353FF\", \"#EE5656FF\", \"#EE5959FF\", \"#EE5C5CFF\", \"#EE5F5FFF\", \"#EE6262FF\", \"#EE6666FF\", \"#EE6969FF\", \"#EE6C6CFF\", \"#EE6F6FFF\", \"#EE7272FF\", \"#EE7575FF\",  \"#EE7878FF\", \"#EE7B7BFF\", \"#EE7E7EFF\", \"#EE8181FF\", \"#EE8484FF\", \"#EE8888FF\", \"#EE8B8BFF\", \"#EE8E8EFF\", \"#EE9191FF\", \"#EE9494FF\", \"#EE9797FF\", \"#EE9999FF\", \"#EE9B9BFF\", \"#EE9D9DFF\", \"#EE9F9FFF\", \"#EEA0A0FF\", \"#EEA2A2FF\", \"#EEA4A4FF\", \"#EEA5A5FF\", \"#EEA7A7FF\", \"#EEA9A9FF\", \"#EEABABFF\", \"#EEACACFF\", \"#EEAEAEFF\", \"#EEB0B0FF\", \"#EEB1B1FF\", \"#EEB3B3FF\", \"#EEB5B5FF\", \"#EEB7B7FF\", \"#EEB8B8FF\", \"#EEBABAFF\", \"#EEBCBCFF\", \"#EEBDBDFF\", \"#EEBFBFFF\", \"#EEC1C1FF\", \"#EEC3C3FF\", \"#EEC4C4FF\", \"#EEC6C6FF\", \"#EEC8C8FF\",  \"#EEC9C9FF\", \"#EECBCBFF\", \"#EECDCDFF\", \"#EECFCFFF\", \"#EED0D0FF\", \"#EED2D2FF\", \"#EED4D4FF\", \"#EED5D5FF\", \"#EED7D7FF\", \"#EED9D9FF\", \"#EEDBDBFF\", \"#EEDCDCFF\", \"#EEDEDEFF\", \"#EEE0E0FF\", \"#EEE1E1FF\", \"#EEE3E3FF\", \"#EEE5E5FF\", \"#EEE7E7FF\", \"#EEE8E8FF\", \"#EEEAEAFF\", \"#EEECECFF\", \"#EEEEEEFF\")\n",
              "edgeCol\t =  c(\"#474747FF\", \"#494949FF\", \"#4B4B4BFF\", \"#4D4D4DFF\", \"#4F4F4FFF\", \"#515151FF\", \"#535353FF\", \"#555555FF\", \"#575757FF\", \"#595959FF\", \"#5B5B5BFF\", \"#5E5E5EFF\", \"#606060FF\", \"#626262FF\", \"#646464FF\", \"#666666FF\", \"#686868FF\", \"#6A6A6AFF\", \"#6C6C6CFF\", \"#6E6E6EFF\", \"#707070FF\", \"#727272FF\", \"#747474FF\", \"#767676FF\", \"#787878FF\", \"#7A7A7AFF\", \"#7C7C7CFF\", \"#7E7E7EFF\", \"#808080FF\", \"#828282FF\", \"#848484FF\", \"#868686FF\", \"#888888FF\", \"#8A8A8AFF\", \"#8C8C8CFF\", \"#8D8D8DFF\", \"#8F8F8FFF\", \"#919191FF\", \"#939393FF\",  \"#959595FF\", \"#979797FF\", \"#999999FF\", \"#9A9A9AFF\", \"#9C9C9CFF\", \"#9E9E9EFF\", \"#A0A0A0FF\", \"#A2A2A2FF\", \"#A3A3A3FF\", \"#A5A5A5FF\", \"#A7A7A7FF\", \"#A9A9A9FF\", \"#AAAAAAFF\", \"#ACACACFF\", \"#AEAEAEFF\", \"#AFAFAFFF\", \"#B1B1B1FF\", \"#B3B3B3FF\", \"#B4B4B4FF\", \"#B6B6B6FF\", \"#B7B7B7FF\", \"#B9B9B9FF\", \"#BBBBBBFF\", \"#BCBCBCFF\", \"#BEBEBEFF\", \"#BFBFBFFF\", \"#C1C1C1FF\", \"#C2C2C2FF\", \"#C3C3C4FF\", \"#C5C5C5FF\", \"#C6C6C6FF\", \"#C8C8C8FF\", \"#C9C9C9FF\", \"#CACACAFF\", \"#CCCCCCFF\", \"#CDCDCDFF\", \"#CECECEFF\", \"#CFCFCFFF\", \"#D1D1D1FF\",  \"#D2D2D2FF\", \"#D3D3D3FF\", \"#D4D4D4FF\", \"#D5D5D5FF\", \"#D6D6D6FF\", \"#D7D7D7FF\", \"#D8D8D8FF\", \"#D9D9D9FF\", \"#DADADAFF\", \"#DBDBDBFF\", \"#DCDCDCFF\", \"#DDDDDDFF\", \"#DEDEDEFF\", \"#DEDEDEFF\", \"#DFDFDFFF\", \"#E0E0E0FF\", \"#E0E0E0FF\", \"#E1E1E1FF\", \"#E1E1E1FF\", \"#E2E2E2FF\", \"#E2E2E2FF\", \"#E2E2E2FF\")\n",
              "alpha\t =  0.5\n",
              "cex\t =  1\n",
              "itemLabels\t =  TRUE\n",
              "labelCol\t =  #000000B3\n",
              "measureLabels\t =  FALSE\n",
              "precision\t =  3\n",
              "layout\t =  NULL\n",
              "layoutParams\t =  list()\n",
              "arrowSize\t =  0.5\n",
              "engine\t =  igraph\n",
              "plot\t =  TRUE\n",
              "plot_options\t =  list()\n",
              "max\t =  100\n",
              "verbose\t =  FALSE\n"
            ]
          },
          "metadata": {
            "tags": []
          }
        },
        {
          "output_type": "display_data",
          "data": {
            "image/png": "[encoded data removed]"
          },
          "metadata": {
            "tags": []
          }
        }
      ]
    },
    {
      "cell_type": "code",
      "metadata": {
        "id": "0UUjD1G_cnj-",
        "colab_type": "code",
        "outputId": "7a1fe062-8a20-43ca-ed0a-41a92cc492b8",
        "colab": {
          "base_uri": "https://localhost:8080/",
          "height": 136
        }
      },
      "source": [
        "%%R\n",
        "## Support 0.005 and confidence 0.80 lift sort\n",
        "mydata <- sapply(mydata,as.logical)\n",
        "rules <- apriori(mydata,parameter = list(sup = Support_ARM, conf = Confidence_ARM,target=\"rules\"))\n",
        "summary(rules)\n",
        "rules.sorted <- sort(rules, by=\"lift\")\n",
        " \n",
        "subrules <- head(sort(rules, by=\"lift\"),Number_of_rules)\n",
        "view(subrules)\n",
        "write(subrules, file = \"dataNoClusteringSup00005Conf_lift.csv\", sep = \",\")\n",
        "\n",
        "set.seed(1)"
      ],
      "execution_count": 0,
      "outputs": [
        {
          "output_type": "stream",
          "text": [
            "\n",
            "Error in as(data, \"transactions\") : \n",
            "  no method or default for coercing “logical” to “transactions”\n"
          ],
          "name": "stdout"
        },
        {
          "output_type": "stream",
          "text": [
            "/usr/local/lib/python3.6/dist-packages/rpy2/rinterface/__init__.py:146: RRuntimeWarning: Error in as(data, \"transactions\") : \n",
            "  no method or default for coercing “logical” to “transactions”\n",
            "\n",
            "  warnings.warn(x, RRuntimeWarning)\n"
          ],
          "name": "stderr"
        }
      ]
    },
    {
      "cell_type": "code",
      "metadata": {
        "id": "LyIKcidJc9Jz",
        "colab_type": "code",
        "outputId": "f0215f0a-80db-42c7-e4ac-a7c37c818569",
        "colab": {
          "base_uri": "https://localhost:8080/",
          "height": 925
        }
      },
      "source": [
        "%%R\n",
        "plot(subrules, method=\"graph\", control=list(type=\"items\"))"
      ],
      "execution_count": 0,
      "outputs": [
        {
          "output_type": "stream",
          "text": [
            "/usr/local/lib/python3.6/dist-packages/rpy2/rinterface/__init__.py:146: RRuntimeWarning: Warning:\n",
            "  warnings.warn(x, RRuntimeWarning)\n",
            "/usr/local/lib/python3.6/dist-packages/rpy2/rinterface/__init__.py:146: RRuntimeWarning:  Unknown control parameters: type\n",
            "\n",
            "  warnings.warn(x, RRuntimeWarning)\n"
          ],
          "name": "stderr"
        },
        {
          "output_type": "display_data",
          "data": {
            "text/plain": [
              "Available control parameters (with default values):\n",
              "main\t =  Graph for 20 rules\n",
              "nodeColors\t =  c(\"#66CC6680\", \"#9999CC80\")\n",
              "nodeCol\t =  c(\"#EE0000FF\", \"#EE0303FF\", \"#EE0606FF\", \"#EE0909FF\", \"#EE0C0CFF\", \"#EE0F0FFF\", \"#EE1212FF\", \"#EE1515FF\", \"#EE1818FF\", \"#EE1B1BFF\", \"#EE1E1EFF\", \"#EE2222FF\", \"#EE2525FF\", \"#EE2828FF\", \"#EE2B2BFF\", \"#EE2E2EFF\", \"#EE3131FF\", \"#EE3434FF\", \"#EE3737FF\", \"#EE3A3AFF\", \"#EE3D3DFF\", \"#EE4040FF\", \"#EE4444FF\", \"#EE4747FF\", \"#EE4A4AFF\", \"#EE4D4DFF\", \"#EE5050FF\", \"#EE5353FF\", \"#EE5656FF\", \"#EE5959FF\", \"#EE5C5CFF\", \"#EE5F5FFF\", \"#EE6262FF\", \"#EE6666FF\", \"#EE6969FF\", \"#EE6C6CFF\", \"#EE6F6FFF\", \"#EE7272FF\", \"#EE7575FF\",  \"#EE7878FF\", \"#EE7B7BFF\", \"#EE7E7EFF\", \"#EE8181FF\", \"#EE8484FF\", \"#EE8888FF\", \"#EE8B8BFF\", \"#EE8E8EFF\", \"#EE9191FF\", \"#EE9494FF\", \"#EE9797FF\", \"#EE9999FF\", \"#EE9B9BFF\", \"#EE9D9DFF\", \"#EE9F9FFF\", \"#EEA0A0FF\", \"#EEA2A2FF\", \"#EEA4A4FF\", \"#EEA5A5FF\", \"#EEA7A7FF\", \"#EEA9A9FF\", \"#EEABABFF\", \"#EEACACFF\", \"#EEAEAEFF\", \"#EEB0B0FF\", \"#EEB1B1FF\", \"#EEB3B3FF\", \"#EEB5B5FF\", \"#EEB7B7FF\", \"#EEB8B8FF\", \"#EEBABAFF\", \"#EEBCBCFF\", \"#EEBDBDFF\", \"#EEBFBFFF\", \"#EEC1C1FF\", \"#EEC3C3FF\", \"#EEC4C4FF\", \"#EEC6C6FF\", \"#EEC8C8FF\",  \"#EEC9C9FF\", \"#EECBCBFF\", \"#EECDCDFF\", \"#EECFCFFF\", \"#EED0D0FF\", \"#EED2D2FF\", \"#EED4D4FF\", \"#EED5D5FF\", \"#EED7D7FF\", \"#EED9D9FF\", \"#EEDBDBFF\", \"#EEDCDCFF\", \"#EEDEDEFF\", \"#EEE0E0FF\", \"#EEE1E1FF\", \"#EEE3E3FF\", \"#EEE5E5FF\", \"#EEE7E7FF\", \"#EEE8E8FF\", \"#EEEAEAFF\", \"#EEECECFF\", \"#EEEEEEFF\")\n",
              "edgeCol\t =  c(\"#474747FF\", \"#494949FF\", \"#4B4B4BFF\", \"#4D4D4DFF\", \"#4F4F4FFF\", \"#515151FF\", \"#535353FF\", \"#555555FF\", \"#575757FF\", \"#595959FF\", \"#5B5B5BFF\", \"#5E5E5EFF\", \"#606060FF\", \"#626262FF\", \"#646464FF\", \"#666666FF\", \"#686868FF\", \"#6A6A6AFF\", \"#6C6C6CFF\", \"#6E6E6EFF\", \"#707070FF\", \"#727272FF\", \"#747474FF\", \"#767676FF\", \"#787878FF\", \"#7A7A7AFF\", \"#7C7C7CFF\", \"#7E7E7EFF\", \"#808080FF\", \"#828282FF\", \"#848484FF\", \"#868686FF\", \"#888888FF\", \"#8A8A8AFF\", \"#8C8C8CFF\", \"#8D8D8DFF\", \"#8F8F8FFF\", \"#919191FF\", \"#939393FF\",  \"#959595FF\", \"#979797FF\", \"#999999FF\", \"#9A9A9AFF\", \"#9C9C9CFF\", \"#9E9E9EFF\", \"#A0A0A0FF\", \"#A2A2A2FF\", \"#A3A3A3FF\", \"#A5A5A5FF\", \"#A7A7A7FF\", \"#A9A9A9FF\", \"#AAAAAAFF\", \"#ACACACFF\", \"#AEAEAEFF\", \"#AFAFAFFF\", \"#B1B1B1FF\", \"#B3B3B3FF\", \"#B4B4B4FF\", \"#B6B6B6FF\", \"#B7B7B7FF\", \"#B9B9B9FF\", \"#BBBBBBFF\", \"#BCBCBCFF\", \"#BEBEBEFF\", \"#BFBFBFFF\", \"#C1C1C1FF\", \"#C2C2C2FF\", \"#C3C3C4FF\", \"#C5C5C5FF\", \"#C6C6C6FF\", \"#C8C8C8FF\", \"#C9C9C9FF\", \"#CACACAFF\", \"#CCCCCCFF\", \"#CDCDCDFF\", \"#CECECEFF\", \"#CFCFCFFF\", \"#D1D1D1FF\",  \"#D2D2D2FF\", \"#D3D3D3FF\", \"#D4D4D4FF\", \"#D5D5D5FF\", \"#D6D6D6FF\", \"#D7D7D7FF\", \"#D8D8D8FF\", \"#D9D9D9FF\", \"#DADADAFF\", \"#DBDBDBFF\", \"#DCDCDCFF\", \"#DDDDDDFF\", \"#DEDEDEFF\", \"#DEDEDEFF\", \"#DFDFDFFF\", \"#E0E0E0FF\", \"#E0E0E0FF\", \"#E1E1E1FF\", \"#E1E1E1FF\", \"#E2E2E2FF\", \"#E2E2E2FF\", \"#E2E2E2FF\")\n",
              "alpha\t =  0.5\n",
              "cex\t =  1\n",
              "itemLabels\t =  TRUE\n",
              "labelCol\t =  #000000B3\n",
              "measureLabels\t =  FALSE\n",
              "precision\t =  3\n",
              "layout\t =  NULL\n",
              "layoutParams\t =  list()\n",
              "arrowSize\t =  0.5\n",
              "engine\t =  igraph\n",
              "plot\t =  TRUE\n",
              "plot_options\t =  list()\n",
              "max\t =  100\n",
              "verbose\t =  FALSE\n"
            ]
          },
          "metadata": {
            "tags": []
          }
        },
        {
          "output_type": "display_data",
          "data": {
            "image/png": "[encoded data removed]"
          },
          "metadata": {
            "tags": []
          }
        }
      ]
    },
    {
      "cell_type": "code",
      "metadata": {
        "id": "j-arOOwkctNV",
        "colab_type": "code",
        "outputId": "99c2bc98-a777-4514-e550-3f7b72e4dfe9",
        "colab": {
          "base_uri": "https://localhost:8080/",
          "height": 136
        }
      },
      "source": [
        "%%R\n",
        "## Support 0.0001 and confidence 0.75 confidence sort\n",
        "mydata <- sapply(mydata,as.logical)\n",
        "rules <- apriori(mydata,parameter = list(sup = Support_ARM, conf = Confidence_ARM,target=\"rules\"))\n",
        "summary(rules)\n",
        "rules.sorted <- sort(rules, by=\"confidence\")\n",
        "\n",
        "subrules <- head(sort(rules, by=\"confidence\"),Number_of_rules)\n",
        "view(subrules)\n",
        "write(subrules, file = \"dataNoClusteringSup00005Conf_confidence.csv\", sep = \",\")\n",
        "\n",
        "set.seed(1)"
      ],
      "execution_count": 0,
      "outputs": [
        {
          "output_type": "stream",
          "text": [
            "\n",
            "Error in as(data, \"transactions\") : \n",
            "  no method or default for coercing “logical” to “transactions”\n"
          ],
          "name": "stdout"
        },
        {
          "output_type": "stream",
          "text": [
            "/usr/local/lib/python3.6/dist-packages/rpy2/rinterface/__init__.py:146: RRuntimeWarning: Error in as(data, \"transactions\") : \n",
            "  no method or default for coercing “logical” to “transactions”\n",
            "\n",
            "  warnings.warn(x, RRuntimeWarning)\n"
          ],
          "name": "stderr"
        }
      ]
    },
    {
      "cell_type": "code",
      "metadata": {
        "id": "KLxmvFBAdGcP",
        "colab_type": "code",
        "outputId": "e69b9381-5cad-4471-8f5e-4951c8842dee",
        "colab": {
          "base_uri": "https://localhost:8080/",
          "height": 840
        }
      },
      "source": [
        "%%R\n",
        "plot(subrules, method=\"graph\", control=list(type=\"items\"))"
      ],
      "execution_count": 0,
      "outputs": [
        {
          "output_type": "display_data",
          "data": {
            "text/plain": [
              "Available control parameters (with default values):\n",
              "main\t =  Graph for 20 rules\n",
              "nodeColors\t =  c(\"#66CC6680\", \"#9999CC80\")\n",
              "nodeCol\t =  c(\"#EE0000FF\", \"#EE0303FF\", \"#EE0606FF\", \"#EE0909FF\", \"#EE0C0CFF\", \"#EE0F0FFF\", \"#EE1212FF\", \"#EE1515FF\", \"#EE1818FF\", \"#EE1B1BFF\", \"#EE1E1EFF\", \"#EE2222FF\", \"#EE2525FF\", \"#EE2828FF\", \"#EE2B2BFF\", \"#EE2E2EFF\", \"#EE3131FF\", \"#EE3434FF\", \"#EE3737FF\", \"#EE3A3AFF\", \"#EE3D3DFF\", \"#EE4040FF\", \"#EE4444FF\", \"#EE4747FF\", \"#EE4A4AFF\", \"#EE4D4DFF\", \"#EE5050FF\", \"#EE5353FF\", \"#EE5656FF\", \"#EE5959FF\", \"#EE5C5CFF\", \"#EE5F5FFF\", \"#EE6262FF\", \"#EE6666FF\", \"#EE6969FF\", \"#EE6C6CFF\", \"#EE6F6FFF\", \"#EE7272FF\", \"#EE7575FF\",  \"#EE7878FF\", \"#EE7B7BFF\", \"#EE7E7EFF\", \"#EE8181FF\", \"#EE8484FF\", \"#EE8888FF\", \"#EE8B8BFF\", \"#EE8E8EFF\", \"#EE9191FF\", \"#EE9494FF\", \"#EE9797FF\", \"#EE9999FF\", \"#EE9B9BFF\", \"#EE9D9DFF\", \"#EE9F9FFF\", \"#EEA0A0FF\", \"#EEA2A2FF\", \"#EEA4A4FF\", \"#EEA5A5FF\", \"#EEA7A7FF\", \"#EEA9A9FF\", \"#EEABABFF\", \"#EEACACFF\", \"#EEAEAEFF\", \"#EEB0B0FF\", \"#EEB1B1FF\", \"#EEB3B3FF\", \"#EEB5B5FF\", \"#EEB7B7FF\", \"#EEB8B8FF\", \"#EEBABAFF\", \"#EEBCBCFF\", \"#EEBDBDFF\", \"#EEBFBFFF\", \"#EEC1C1FF\", \"#EEC3C3FF\", \"#EEC4C4FF\", \"#EEC6C6FF\", \"#EEC8C8FF\",  \"#EEC9C9FF\", \"#EECBCBFF\", \"#EECDCDFF\", \"#EECFCFFF\", \"#EED0D0FF\", \"#EED2D2FF\", \"#EED4D4FF\", \"#EED5D5FF\", \"#EED7D7FF\", \"#EED9D9FF\", \"#EEDBDBFF\", \"#EEDCDCFF\", \"#EEDEDEFF\", \"#EEE0E0FF\", \"#EEE1E1FF\", \"#EEE3E3FF\", \"#EEE5E5FF\", \"#EEE7E7FF\", \"#EEE8E8FF\", \"#EEEAEAFF\", \"#EEECECFF\", \"#EEEEEEFF\")\n",
              "edgeCol\t =  c(\"#474747FF\", \"#494949FF\", \"#4B4B4BFF\", \"#4D4D4DFF\", \"#4F4F4FFF\", \"#515151FF\", \"#535353FF\", \"#555555FF\", \"#575757FF\", \"#595959FF\", \"#5B5B5BFF\", \"#5E5E5EFF\", \"#606060FF\", \"#626262FF\", \"#646464FF\", \"#666666FF\", \"#686868FF\", \"#6A6A6AFF\", \"#6C6C6CFF\", \"#6E6E6EFF\", \"#707070FF\", \"#727272FF\", \"#747474FF\", \"#767676FF\", \"#787878FF\", \"#7A7A7AFF\", \"#7C7C7CFF\", \"#7E7E7EFF\", \"#808080FF\", \"#828282FF\", \"#848484FF\", \"#868686FF\", \"#888888FF\", \"#8A8A8AFF\", \"#8C8C8CFF\", \"#8D8D8DFF\", \"#8F8F8FFF\", \"#919191FF\", \"#939393FF\",  \"#959595FF\", \"#979797FF\", \"#999999FF\", \"#9A9A9AFF\", \"#9C9C9CFF\", \"#9E9E9EFF\", \"#A0A0A0FF\", \"#A2A2A2FF\", \"#A3A3A3FF\", \"#A5A5A5FF\", \"#A7A7A7FF\", \"#A9A9A9FF\", \"#AAAAAAFF\", \"#ACACACFF\", \"#AEAEAEFF\", \"#AFAFAFFF\", \"#B1B1B1FF\", \"#B3B3B3FF\", \"#B4B4B4FF\", \"#B6B6B6FF\", \"#B7B7B7FF\", \"#B9B9B9FF\", \"#BBBBBBFF\", \"#BCBCBCFF\", \"#BEBEBEFF\", \"#BFBFBFFF\", \"#C1C1C1FF\", \"#C2C2C2FF\", \"#C3C3C4FF\", \"#C5C5C5FF\", \"#C6C6C6FF\", \"#C8C8C8FF\", \"#C9C9C9FF\", \"#CACACAFF\", \"#CCCCCCFF\", \"#CDCDCDFF\", \"#CECECEFF\", \"#CFCFCFFF\", \"#D1D1D1FF\",  \"#D2D2D2FF\", \"#D3D3D3FF\", \"#D4D4D4FF\", \"#D5D5D5FF\", \"#D6D6D6FF\", \"#D7D7D7FF\", \"#D8D8D8FF\", \"#D9D9D9FF\", \"#DADADAFF\", \"#DBDBDBFF\", \"#DCDCDCFF\", \"#DDDDDDFF\", \"#DEDEDEFF\", \"#DEDEDEFF\", \"#DFDFDFFF\", \"#E0E0E0FF\", \"#E0E0E0FF\", \"#E1E1E1FF\", \"#E1E1E1FF\", \"#E2E2E2FF\", \"#E2E2E2FF\", \"#E2E2E2FF\")\n",
              "alpha\t =  0.5\n",
              "cex\t =  1\n",
              "itemLabels\t =  TRUE\n",
              "labelCol\t =  #000000B3\n",
              "measureLabels\t =  FALSE\n",
              "precision\t =  3\n",
              "layout\t =  NULL\n",
              "layoutParams\t =  list()\n",
              "arrowSize\t =  0.5\n",
              "engine\t =  igraph\n",
              "plot\t =  TRUE\n",
              "plot_options\t =  list()\n",
              "max\t =  100\n",
              "verbose\t =  FALSE\n"
            ]
          },
          "metadata": {
            "tags": []
          }
        },
        {
          "output_type": "display_data",
          "data": {
            "image/png": "[encoded data removed]"
          },
          "metadata": {
            "tags": []
          }
        }
      ]
    },
    {
      "cell_type": "markdown",
      "metadata": {
        "id": "-rVkfsSJdcqM",
        "colab_type": "text"
      },
      "source": [
        "# Topic Modelling of Survey Responses"
      ]
    },
    {
      "cell_type": "markdown",
      "metadata": {
        "id": "6y025w4UgPuI",
        "colab_type": "text"
      },
      "source": [
        "## Read in the Data"
      ]
    },
    {
      "cell_type": "code",
      "metadata": {
        "id": "zaqJVIDGe971",
        "colab_type": "code",
        "colab": {}
      },
      "source": [
        "import pandas as pd\n",
        "import numpy as np\n",
        "import seaborn as sns\n",
        "import matplotlib.pyplot as plt\n",
        "\n",
        "from nltk.corpus import stopwords\n",
        "from textblob import TextBlob, Word\n",
        "from textblob.sentiments import NaiveBayesAnalyzer\n",
        "from textblob.classifiers import NaiveBayesClassifier\n",
        "from sklearn.feature_extraction.text import TfidfVectorizer, CountVectorizer\n",
        "from sklearn.decomposition import NMF, LatentDirichletAllocation, TruncatedSVD"
      ],
      "execution_count": 0,
      "outputs": []
    },
    {
      "cell_type": "code",
      "metadata": {
        "id": "jLXzaJTUgRl_",
        "colab_type": "code",
        "outputId": "a9bca6cf-dd38-481e-e524-90c4d0e396d2",
        "colab": {
          "base_uri": "https://localhost:8080/",
          "height": 202
        }
      },
      "source": [
        "survey_resp_temp = pd.read_excel('SLFC survey.xlsx', \n",
        "                            sheet_name = 'Temp')\n",
        "survey_resp_temp = survey_resp_temp[['Floor Work On','Temperature']]\n",
        "survey_resp_temp = survey_resp_temp.replace('B1 Basement', 'B')\n",
        "survey_resp_temp[0:5]"
      ],
      "execution_count": 0,
      "outputs": [
        {
          "output_type": "execute_result",
          "data": {
            "text/html": [
              "<div>\n",
              "<style scoped>\n",
              "    .dataframe tbody tr th:only-of-type {\n",
              "        vertical-align: middle;\n",
              "    }\n",
              "\n",
              "    .dataframe tbody tr th {\n",
              "        vertical-align: top;\n",
              "    }\n",
              "\n",
              "    .dataframe thead th {\n",
              "        text-align: right;\n",
              "    }\n",
              "</style>\n",
              "<table border=\"1\" class=\"dataframe\">\n",
              "  <thead>\n",
              "    <tr style=\"text-align: right;\">\n",
              "      <th></th>\n",
              "      <th>Floor Work On</th>\n",
              "      <th>Temperature</th>\n",
              "    </tr>\n",
              "  </thead>\n",
              "  <tbody>\n",
              "    <tr>\n",
              "      <th>0</th>\n",
              "      <td>3</td>\n",
              "      <td>A proper BAS system that can actually determin...</td>\n",
              "    </tr>\n",
              "    <tr>\n",
              "      <th>1</th>\n",
              "      <td>4</td>\n",
              "      <td>I think probably that it's not adjusted to the...</td>\n",
              "    </tr>\n",
              "    <tr>\n",
              "      <th>2</th>\n",
              "      <td>7</td>\n",
              "      <td>The heat is not high enough so put on more heat.</td>\n",
              "    </tr>\n",
              "    <tr>\n",
              "      <th>3</th>\n",
              "      <td>13</td>\n",
              "      <td>I completed this survey last year and also com...</td>\n",
              "    </tr>\n",
              "    <tr>\n",
              "      <th>4</th>\n",
              "      <td>3</td>\n",
              "      <td>I'm thinking it's just the seasons changing.  ...</td>\n",
              "    </tr>\n",
              "  </tbody>\n",
              "</table>\n",
              "</div>"
            ],
            "text/plain": [
              "  Floor Work On                                        Temperature\n",
              "0             3  A proper BAS system that can actually determin...\n",
              "1             4  I think probably that it's not adjusted to the...\n",
              "2             7   The heat is not high enough so put on more heat.\n",
              "3            13  I completed this survey last year and also com...\n",
              "4             3  I'm thinking it's just the seasons changing.  ..."
            ]
          },
          "metadata": {
            "tags": []
          },
          "execution_count": 18
        }
      ]
    },
    {
      "cell_type": "code",
      "metadata": {
        "id": "6xkzxvErgT3z",
        "colab_type": "code",
        "outputId": "83c886d9-91ed-4434-c064-6b5df8f3cddc",
        "colab": {
          "base_uri": "https://localhost:8080/",
          "height": 202
        }
      },
      "source": [
        "survey_resp_maint = pd.read_excel('SLFC survey.xlsx', \n",
        "                            sheet_name = 'Maint')\n",
        "survey_resp_maint = survey_resp_maint[['Floor Work On','Maintenance']]\n",
        "survey_resp_maint = survey_resp_maint.replace('B1 Basement', 'B')\n",
        "survey_resp_maint[0:5]"
      ],
      "execution_count": 0,
      "outputs": [
        {
          "output_type": "execute_result",
          "data": {
            "text/html": [
              "<div>\n",
              "<style scoped>\n",
              "    .dataframe tbody tr th:only-of-type {\n",
              "        vertical-align: middle;\n",
              "    }\n",
              "\n",
              "    .dataframe tbody tr th {\n",
              "        vertical-align: top;\n",
              "    }\n",
              "\n",
              "    .dataframe thead th {\n",
              "        text-align: right;\n",
              "    }\n",
              "</style>\n",
              "<table border=\"1\" class=\"dataframe\">\n",
              "  <thead>\n",
              "    <tr style=\"text-align: right;\">\n",
              "      <th></th>\n",
              "      <th>Floor Work On</th>\n",
              "      <th>Maintenance</th>\n",
              "    </tr>\n",
              "  </thead>\n",
              "  <tbody>\n",
              "    <tr>\n",
              "      <th>0</th>\n",
              "      <td>3</td>\n",
              "      <td>Just because this building is energy efficient...</td>\n",
              "    </tr>\n",
              "    <tr>\n",
              "      <th>1</th>\n",
              "      <td>11</td>\n",
              "      <td>The bicycle locker room can always be better, ...</td>\n",
              "    </tr>\n",
              "    <tr>\n",
              "      <th>2</th>\n",
              "      <td>13</td>\n",
              "      <td>I think the biggest thing I notice is the ligh...</td>\n",
              "    </tr>\n",
              "    <tr>\n",
              "      <th>3</th>\n",
              "      <td>2</td>\n",
              "      <td>The washrooms on the 2nd floor, the womens was...</td>\n",
              "    </tr>\n",
              "    <tr>\n",
              "      <th>4</th>\n",
              "      <td>13</td>\n",
              "      <td>The mens bathroom on the 13th floor that have ...</td>\n",
              "    </tr>\n",
              "  </tbody>\n",
              "</table>\n",
              "</div>"
            ],
            "text/plain": [
              "  Floor Work On                                        Maintenance\n",
              "0             3  Just because this building is energy efficient...\n",
              "1            11  The bicycle locker room can always be better, ...\n",
              "2            13  I think the biggest thing I notice is the ligh...\n",
              "3             2  The washrooms on the 2nd floor, the womens was...\n",
              "4            13  The mens bathroom on the 13th floor that have ..."
            ]
          },
          "metadata": {
            "tags": []
          },
          "execution_count": 19
        }
      ]
    },
    {
      "cell_type": "markdown",
      "metadata": {
        "id": "CP8n4NmZzSUQ",
        "colab_type": "text"
      },
      "source": [
        "Clean up the text (i.e. remove stopwords and make lowercase)"
      ]
    },
    {
      "cell_type": "code",
      "metadata": {
        "id": "FXPWA0lly3hS",
        "colab_type": "code",
        "outputId": "63458a31-af46-430e-d3fd-cf8b7d794deb",
        "colab": {
          "base_uri": "https://localhost:8080/",
          "height": 202
        }
      },
      "source": [
        "survey_resp_temp['Temperature'] = survey_resp_temp['Temperature'].apply(clean_text)\n",
        "survey_resp_temp['Temperature'].apply(lambda x: len(x.split(' '))).sum()\n",
        "survey_resp_temp[0:5]"
      ],
      "execution_count": 0,
      "outputs": [
        {
          "output_type": "execute_result",
          "data": {
            "text/html": [
              "<div>\n",
              "<style scoped>\n",
              "    .dataframe tbody tr th:only-of-type {\n",
              "        vertical-align: middle;\n",
              "    }\n",
              "\n",
              "    .dataframe tbody tr th {\n",
              "        vertical-align: top;\n",
              "    }\n",
              "\n",
              "    .dataframe thead th {\n",
              "        text-align: right;\n",
              "    }\n",
              "</style>\n",
              "<table border=\"1\" class=\"dataframe\">\n",
              "  <thead>\n",
              "    <tr style=\"text-align: right;\">\n",
              "      <th></th>\n",
              "      <th>Floor Work On</th>\n",
              "      <th>Temperature</th>\n",
              "    </tr>\n",
              "  </thead>\n",
              "  <tbody>\n",
              "    <tr>\n",
              "      <th>0</th>\n",
              "      <td>3</td>\n",
              "      <td>proper bas system actually determine air tempe...</td>\n",
              "    </tr>\n",
              "    <tr>\n",
              "      <th>1</th>\n",
              "      <td>4</td>\n",
              "      <td>think probably adjusted changes temperatures s...</td>\n",
              "    </tr>\n",
              "    <tr>\n",
              "      <th>2</th>\n",
              "      <td>7</td>\n",
              "      <td>heat high enough put heat</td>\n",
              "    </tr>\n",
              "    <tr>\n",
              "      <th>3</th>\n",
              "      <td>13</td>\n",
              "      <td>completed survey last year also complained tem...</td>\n",
              "    </tr>\n",
              "    <tr>\n",
              "      <th>4</th>\n",
              "      <td>3</td>\n",
              "      <td>im thinking seasons changing cold cold hot hot...</td>\n",
              "    </tr>\n",
              "  </tbody>\n",
              "</table>\n",
              "</div>"
            ],
            "text/plain": [
              "  Floor Work On                                        Temperature\n",
              "0             3  proper bas system actually determine air tempe...\n",
              "1             4  think probably adjusted changes temperatures s...\n",
              "2             7                          heat high enough put heat\n",
              "3            13  completed survey last year also complained tem...\n",
              "4             3  im thinking seasons changing cold cold hot hot..."
            ]
          },
          "metadata": {
            "tags": []
          },
          "execution_count": 21
        }
      ]
    },
    {
      "cell_type": "code",
      "metadata": {
        "id": "Xf0GjUJZy_ci",
        "colab_type": "code",
        "outputId": "28752276-2893-47a3-b494-cd59fb1bb7ad",
        "colab": {
          "base_uri": "https://localhost:8080/",
          "height": 202
        }
      },
      "source": [
        "survey_resp_maint['Maintenance'] = survey_resp_maint['Maintenance'].apply(clean_text)\n",
        "survey_resp_maint['Maintenance'].apply(lambda x: len(x.split(' '))).sum()\n",
        "survey_resp_maint[0:5]"
      ],
      "execution_count": 0,
      "outputs": [
        {
          "output_type": "execute_result",
          "data": {
            "text/html": [
              "<div>\n",
              "<style scoped>\n",
              "    .dataframe tbody tr th:only-of-type {\n",
              "        vertical-align: middle;\n",
              "    }\n",
              "\n",
              "    .dataframe tbody tr th {\n",
              "        vertical-align: top;\n",
              "    }\n",
              "\n",
              "    .dataframe thead th {\n",
              "        text-align: right;\n",
              "    }\n",
              "</style>\n",
              "<table border=\"1\" class=\"dataframe\">\n",
              "  <thead>\n",
              "    <tr style=\"text-align: right;\">\n",
              "      <th></th>\n",
              "      <th>Floor Work On</th>\n",
              "      <th>Maintenance</th>\n",
              "    </tr>\n",
              "  </thead>\n",
              "  <tbody>\n",
              "    <tr>\n",
              "      <th>0</th>\n",
              "      <td>3</td>\n",
              "      <td>building energy efficient doesnt mean type sus...</td>\n",
              "    </tr>\n",
              "    <tr>\n",
              "      <th>1</th>\n",
              "      <td>11</td>\n",
              "      <td>bicycle locker room always better bit space se...</td>\n",
              "    </tr>\n",
              "    <tr>\n",
              "      <th>2</th>\n",
              "      <td>13</td>\n",
              "      <td>think biggest thing notice lights cant believe...</td>\n",
              "    </tr>\n",
              "    <tr>\n",
              "      <th>3</th>\n",
              "      <td>2</td>\n",
              "      <td>washrooms 2nd floor womens washroom especially...</td>\n",
              "    </tr>\n",
              "    <tr>\n",
              "      <th>4</th>\n",
              "      <td>13</td>\n",
              "      <td>mens bathroom 13th floor malfunctioning taps s...</td>\n",
              "    </tr>\n",
              "  </tbody>\n",
              "</table>\n",
              "</div>"
            ],
            "text/plain": [
              "  Floor Work On                                        Maintenance\n",
              "0             3  building energy efficient doesnt mean type sus...\n",
              "1            11  bicycle locker room always better bit space se...\n",
              "2            13  think biggest thing notice lights cant believe...\n",
              "3             2  washrooms 2nd floor womens washroom especially...\n",
              "4            13  mens bathroom 13th floor malfunctioning taps s..."
            ]
          },
          "metadata": {
            "tags": []
          },
          "execution_count": 22
        }
      ]
    },
    {
      "cell_type": "markdown",
      "metadata": {
        "id": "xGTA4kH9fbpV",
        "colab_type": "text"
      },
      "source": [
        "## Create the vectorized arrays for the text"
      ]
    },
    {
      "cell_type": "code",
      "metadata": {
        "id": "rIIMU9vIdqok",
        "colab_type": "code",
        "colab": {}
      },
      "source": [
        "#Create a vectorizer (TF-idf and count) for temperature\n",
        "vectorizer = CountVectorizer()\n",
        "vectorizer_TFIDF = TfidfVectorizer()\n",
        "# apply transformation\n",
        "tf_temp = vectorizer.fit_transform(survey_resp_temp['Temperature']).toarray()\n",
        "tf_idf_temp = vectorizer_TFIDF.fit_transform(survey_resp_temp['Temperature']).toarray()\n",
        "# tf_feature_names tells us what word each column in the matric represents\n",
        "tf_feature_names_temp = vectorizer.get_feature_names()\n",
        "tf_idf_feature_names_temp = vectorizer_TFIDF.get_feature_names()"
      ],
      "execution_count": 0,
      "outputs": []
    },
    {
      "cell_type": "code",
      "metadata": {
        "id": "Uchgj2XbfR0M",
        "colab_type": "code",
        "colab": {}
      },
      "source": [
        "#Create a vectorizer (TF-idf and count) for maintenance\n",
        "tf_maint = vectorizer.fit_transform(survey_resp_maint['Maintenance']).toarray()\n",
        "tf_idf_maint = vectorizer_TFIDF.fit_transform(survey_resp_maint['Maintenance']).toarray()\n",
        "# tf_feature_names tells us what word each column in the matric represents\n",
        "tf_feature_names_maint = vectorizer.get_feature_names()\n",
        "tf_idf_feature_names_maint = vectorizer_TFIDF.get_feature_names()"
      ],
      "execution_count": 0,
      "outputs": []
    },
    {
      "cell_type": "markdown",
      "metadata": {
        "id": "ASnbE6nUfWMi",
        "colab_type": "text"
      },
      "source": [
        "## Create a function to turn the model object \"model\" into a dataframe that shows the created topics"
      ]
    },
    {
      "cell_type": "code",
      "metadata": {
        "id": "dRQECZgjfTs6",
        "colab_type": "code",
        "colab": {}
      },
      "source": [
        "def display_topics(model, feature_names, no_top_words):\n",
        "    topic_dict = {}\n",
        "    for topic_idx, topic in enumerate(model.components_):\n",
        "        topic_dict[\"Topic %d words\" % (topic_idx)]= ['{}'.format(feature_names[i])\n",
        "                        for i in topic.argsort()[:-no_top_words - 1:-1]]\n",
        "        topic_dict[\"Topic %d weights\" % (topic_idx)]= ['{:.1f}'.format(topic[i])\n",
        "                        for i in topic.argsort()[:-no_top_words - 1:-1]]\n",
        "    return pd.DataFrame(topic_dict)"
      ],
      "execution_count": 0,
      "outputs": []
    },
    {
      "cell_type": "markdown",
      "metadata": {
        "id": "UZAOpmb6fiXu",
        "colab_type": "text"
      },
      "source": [
        "## Topic modelling using the LDA (Latent Dirichlet Allocation) algorithm"
      ]
    },
    {
      "cell_type": "code",
      "metadata": {
        "id": "ccAFOu2gffS7",
        "colab_type": "code",
        "outputId": "718f19d9-1504-44e4-92a4-7566acb563ed",
        "colab": {
          "base_uri": "https://localhost:8080/",
          "height": 410
        }
      },
      "source": [
        "#%% Topic modelling using LDA (Latent Dirichlet Allocation) for Thermal complaints\n",
        "# Create the model object. Start by choosing 10 topics\n",
        "number_of_topics = 6\n",
        "# Create the LDA (Latent Dirichlet Allocation ) model \n",
        "model_LDA_temp = LatentDirichletAllocation(n_components=number_of_topics, random_state=0)\n",
        "model_LDA_temp.fit(tf_idf_temp)\n",
        "no_top_words = 10\n",
        "Topics_LDA_temp = display_topics(model_LDA_temp, tf_feature_names_temp, no_top_words)    \n",
        "Topics_LDA_temp"
      ],
      "execution_count": 0,
      "outputs": [
        {
          "output_type": "execute_result",
          "data": {
            "text/html": [
              "<div>\n",
              "<style scoped>\n",
              "    .dataframe tbody tr th:only-of-type {\n",
              "        vertical-align: middle;\n",
              "    }\n",
              "\n",
              "    .dataframe tbody tr th {\n",
              "        vertical-align: top;\n",
              "    }\n",
              "\n",
              "    .dataframe thead th {\n",
              "        text-align: right;\n",
              "    }\n",
              "</style>\n",
              "<table border=\"1\" class=\"dataframe\">\n",
              "  <thead>\n",
              "    <tr style=\"text-align: right;\">\n",
              "      <th></th>\n",
              "      <th>Topic 0 words</th>\n",
              "      <th>Topic 0 weights</th>\n",
              "      <th>Topic 1 words</th>\n",
              "      <th>Topic 1 weights</th>\n",
              "      <th>Topic 2 words</th>\n",
              "      <th>Topic 2 weights</th>\n",
              "      <th>Topic 3 words</th>\n",
              "      <th>Topic 3 weights</th>\n",
              "      <th>Topic 4 words</th>\n",
              "      <th>Topic 4 weights</th>\n",
              "      <th>Topic 5 words</th>\n",
              "      <th>Topic 5 weights</th>\n",
              "    </tr>\n",
              "  </thead>\n",
              "  <tbody>\n",
              "    <tr>\n",
              "      <th>0</th>\n",
              "      <td>think</td>\n",
              "      <td>2.0</td>\n",
              "      <td>know</td>\n",
              "      <td>6.5</td>\n",
              "      <td>sure</td>\n",
              "      <td>3.7</td>\n",
              "      <td>think</td>\n",
              "      <td>1.6</td>\n",
              "      <td>turn</td>\n",
              "      <td>5.4</td>\n",
              "      <td>control</td>\n",
              "      <td>3.6</td>\n",
              "    </tr>\n",
              "    <tr>\n",
              "      <th>1</th>\n",
              "      <td>air</td>\n",
              "      <td>1.5</td>\n",
              "      <td>dont</td>\n",
              "      <td>6.0</td>\n",
              "      <td>im</td>\n",
              "      <td>3.3</td>\n",
              "      <td>office</td>\n",
              "      <td>1.6</td>\n",
              "      <td>heat</td>\n",
              "      <td>4.7</td>\n",
              "      <td>air</td>\n",
              "      <td>3.2</td>\n",
              "    </tr>\n",
              "    <tr>\n",
              "      <th>2</th>\n",
              "      <td>probably</td>\n",
              "      <td>1.5</td>\n",
              "      <td>air</td>\n",
              "      <td>2.6</td>\n",
              "      <td>really</td>\n",
              "      <td>3.0</td>\n",
              "      <td>yet</td>\n",
              "      <td>1.5</td>\n",
              "      <td>cold</td>\n",
              "      <td>4.0</td>\n",
              "      <td>temperature</td>\n",
              "      <td>2.9</td>\n",
              "    </tr>\n",
              "    <tr>\n",
              "      <th>3</th>\n",
              "      <td>circulation</td>\n",
              "      <td>1.5</td>\n",
              "      <td>heating</td>\n",
              "      <td>2.3</td>\n",
              "      <td>dont</td>\n",
              "      <td>2.8</td>\n",
              "      <td>window</td>\n",
              "      <td>1.4</td>\n",
              "      <td>idea</td>\n",
              "      <td>4.0</td>\n",
              "      <td>floor</td>\n",
              "      <td>2.8</td>\n",
              "    </tr>\n",
              "    <tr>\n",
              "      <th>4</th>\n",
              "      <td>better</td>\n",
              "      <td>1.1</td>\n",
              "      <td>conditioning</td>\n",
              "      <td>2.2</td>\n",
              "      <td>know</td>\n",
              "      <td>2.8</td>\n",
              "      <td>sure</td>\n",
              "      <td>1.3</td>\n",
              "      <td>think</td>\n",
              "      <td>3.9</td>\n",
              "      <td>would</td>\n",
              "      <td>2.7</td>\n",
              "    </tr>\n",
              "    <tr>\n",
              "      <th>5</th>\n",
              "      <td>consideration</td>\n",
              "      <td>1.1</td>\n",
              "      <td>say</td>\n",
              "      <td>1.9</td>\n",
              "      <td>cold</td>\n",
              "      <td>2.4</td>\n",
              "      <td>really</td>\n",
              "      <td>1.3</td>\n",
              "      <td>ac</td>\n",
              "      <td>3.4</td>\n",
              "      <td>dont</td>\n",
              "      <td>2.7</td>\n",
              "    </tr>\n",
              "    <tr>\n",
              "      <th>6</th>\n",
              "      <td>cold</td>\n",
              "      <td>1.0</td>\n",
              "      <td>thermostat</td>\n",
              "      <td>1.9</td>\n",
              "      <td>temperature</td>\n",
              "      <td>2.4</td>\n",
              "      <td>freezing</td>\n",
              "      <td>1.2</td>\n",
              "      <td>day</td>\n",
              "      <td>1.8</td>\n",
              "      <td>know</td>\n",
              "      <td>2.6</td>\n",
              "    </tr>\n",
              "    <tr>\n",
              "      <th>7</th>\n",
              "      <td>ac</td>\n",
              "      <td>1.0</td>\n",
              "      <td>get</td>\n",
              "      <td>1.9</td>\n",
              "      <td>building</td>\n",
              "      <td>1.7</td>\n",
              "      <td>okay</td>\n",
              "      <td>1.2</td>\n",
              "      <td>fix</td>\n",
              "      <td>1.7</td>\n",
              "      <td>turn</td>\n",
              "      <td>2.3</td>\n",
              "    </tr>\n",
              "    <tr>\n",
              "      <th>8</th>\n",
              "      <td>colder</td>\n",
              "      <td>1.0</td>\n",
              "      <td>good</td>\n",
              "      <td>1.8</td>\n",
              "      <td>control</td>\n",
              "      <td>1.5</td>\n",
              "      <td>system</td>\n",
              "      <td>1.2</td>\n",
              "      <td>temperature</td>\n",
              "      <td>1.7</td>\n",
              "      <td>better</td>\n",
              "      <td>2.3</td>\n",
              "    </tr>\n",
              "    <tr>\n",
              "      <th>9</th>\n",
              "      <td>change</td>\n",
              "      <td>0.9</td>\n",
              "      <td>temperature</td>\n",
              "      <td>1.8</td>\n",
              "      <td>make</td>\n",
              "      <td>1.4</td>\n",
              "      <td>earlier</td>\n",
              "      <td>1.1</td>\n",
              "      <td>time</td>\n",
              "      <td>1.7</td>\n",
              "      <td>reason</td>\n",
              "      <td>2.3</td>\n",
              "    </tr>\n",
              "  </tbody>\n",
              "</table>\n",
              "</div>"
            ],
            "text/plain": [
              "   Topic 0 words Topic 0 weights  ... Topic 5 words Topic 5 weights\n",
              "0          think             2.0  ...       control             3.6\n",
              "1            air             1.5  ...           air             3.2\n",
              "2       probably             1.5  ...   temperature             2.9\n",
              "3    circulation             1.5  ...         floor             2.8\n",
              "4         better             1.1  ...         would             2.7\n",
              "5  consideration             1.1  ...          dont             2.7\n",
              "6           cold             1.0  ...          know             2.6\n",
              "7             ac             1.0  ...          turn             2.3\n",
              "8         colder             1.0  ...        better             2.3\n",
              "9         change             0.9  ...        reason             2.3\n",
              "\n",
              "[10 rows x 12 columns]"
            ]
          },
          "metadata": {
            "tags": []
          },
          "execution_count": 48
        }
      ]
    },
    {
      "cell_type": "code",
      "metadata": {
        "id": "sRU0_D8SLaZe",
        "colab_type": "code",
        "colab": {}
      },
      "source": [
        "#export_csv = Topics_LDA_temp.to_csv ('LDA_Temp.csv', index = None, header=True)"
      ],
      "execution_count": 0,
      "outputs": []
    },
    {
      "cell_type": "code",
      "metadata": {
        "id": "4oWPeDkOffVI",
        "colab_type": "code",
        "outputId": "daea18b1-2c4b-475e-8e05-962b08682b27",
        "colab": {
          "base_uri": "https://localhost:8080/",
          "height": 202
        }
      },
      "source": [
        "#Find the topics for each temperature survey response\n",
        "Survey_Classification_LDA_temp = pd.DataFrame(model_LDA_temp.transform(tf_idf_temp))\n",
        "Survey_Classification_LDA_temp['Survey response no.'] = np.arange(1,len(survey_resp_temp)+1,1)\n",
        "Survey_Classification_LDA_temp = Survey_Classification_LDA_temp[['Survey response no.', 0, 1, 2, 3, 4, 5]]\n",
        "Survey_Classification_LDA_temp [0:5]"
      ],
      "execution_count": 0,
      "outputs": [
        {
          "output_type": "execute_result",
          "data": {
            "text/html": [
              "<div>\n",
              "<style scoped>\n",
              "    .dataframe tbody tr th:only-of-type {\n",
              "        vertical-align: middle;\n",
              "    }\n",
              "\n",
              "    .dataframe tbody tr th {\n",
              "        vertical-align: top;\n",
              "    }\n",
              "\n",
              "    .dataframe thead th {\n",
              "        text-align: right;\n",
              "    }\n",
              "</style>\n",
              "<table border=\"1\" class=\"dataframe\">\n",
              "  <thead>\n",
              "    <tr style=\"text-align: right;\">\n",
              "      <th></th>\n",
              "      <th>Survey response no.</th>\n",
              "      <th>0</th>\n",
              "      <th>1</th>\n",
              "      <th>2</th>\n",
              "      <th>3</th>\n",
              "      <th>4</th>\n",
              "      <th>5</th>\n",
              "    </tr>\n",
              "  </thead>\n",
              "  <tbody>\n",
              "    <tr>\n",
              "      <th>0</th>\n",
              "      <td>1</td>\n",
              "      <td>0.031568</td>\n",
              "      <td>0.031679</td>\n",
              "      <td>0.031755</td>\n",
              "      <td>0.031700</td>\n",
              "      <td>0.031535</td>\n",
              "      <td>0.841762</td>\n",
              "    </tr>\n",
              "    <tr>\n",
              "      <th>1</th>\n",
              "      <td>2</td>\n",
              "      <td>0.031353</td>\n",
              "      <td>0.031649</td>\n",
              "      <td>0.033209</td>\n",
              "      <td>0.031586</td>\n",
              "      <td>0.840630</td>\n",
              "      <td>0.031574</td>\n",
              "    </tr>\n",
              "    <tr>\n",
              "      <th>2</th>\n",
              "      <td>3</td>\n",
              "      <td>0.056092</td>\n",
              "      <td>0.056434</td>\n",
              "      <td>0.056671</td>\n",
              "      <td>0.056115</td>\n",
              "      <td>0.718145</td>\n",
              "      <td>0.056542</td>\n",
              "    </tr>\n",
              "    <tr>\n",
              "      <th>3</th>\n",
              "      <td>4</td>\n",
              "      <td>0.024940</td>\n",
              "      <td>0.874559</td>\n",
              "      <td>0.025273</td>\n",
              "      <td>0.025081</td>\n",
              "      <td>0.025026</td>\n",
              "      <td>0.025121</td>\n",
              "    </tr>\n",
              "    <tr>\n",
              "      <th>4</th>\n",
              "      <td>5</td>\n",
              "      <td>0.037249</td>\n",
              "      <td>0.037550</td>\n",
              "      <td>0.037841</td>\n",
              "      <td>0.037236</td>\n",
              "      <td>0.812348</td>\n",
              "      <td>0.037775</td>\n",
              "    </tr>\n",
              "  </tbody>\n",
              "</table>\n",
              "</div>"
            ],
            "text/plain": [
              "   Survey response no.         0         1  ...         3         4         5\n",
              "0                    1  0.031568  0.031679  ...  0.031700  0.031535  0.841762\n",
              "1                    2  0.031353  0.031649  ...  0.031586  0.840630  0.031574\n",
              "2                    3  0.056092  0.056434  ...  0.056115  0.718145  0.056542\n",
              "3                    4  0.024940  0.874559  ...  0.025081  0.025026  0.025121\n",
              "4                    5  0.037249  0.037550  ...  0.037236  0.812348  0.037775\n",
              "\n",
              "[5 rows x 7 columns]"
            ]
          },
          "metadata": {
            "tags": []
          },
          "execution_count": 47
        }
      ]
    },
    {
      "cell_type": "code",
      "metadata": {
        "id": "KjQJ-BSpffXp",
        "colab_type": "code",
        "outputId": "cd264dd0-4394-408f-c878-333f7b962a17",
        "colab": {
          "base_uri": "https://localhost:8080/",
          "height": 257
        }
      },
      "source": [
        "#%% Topic modelling using LDA (Latent Dirichlet Allocation) for Maintenance complaints\n",
        "# Create the model object. Start by choosing 10 topics\n",
        "number_of_topics = 6\n",
        "# Create the LDA (Latent Dirichlet Allocation ) model \n",
        "model_LDA_maint = LatentDirichletAllocation(n_components=number_of_topics, random_state=0)\n",
        "model_LDA_maint.fit(tf_idf_maint)\n",
        "no_top_words = 5\n",
        "Topics_LDA_maint = display_topics(model_LDA_maint, tf_feature_names_maint, no_top_words)    \n",
        "export_csv = Topics_LDA_maint.to_csv ('LDA_Maint.csv', index = None, header=True)\n",
        "Topics_LDA_maint"
      ],
      "execution_count": 0,
      "outputs": [
        {
          "output_type": "execute_result",
          "data": {
            "text/html": [
              "<div>\n",
              "<style scoped>\n",
              "    .dataframe tbody tr th:only-of-type {\n",
              "        vertical-align: middle;\n",
              "    }\n",
              "\n",
              "    .dataframe tbody tr th {\n",
              "        vertical-align: top;\n",
              "    }\n",
              "\n",
              "    .dataframe thead th {\n",
              "        text-align: right;\n",
              "    }\n",
              "</style>\n",
              "<table border=\"1\" class=\"dataframe\">\n",
              "  <thead>\n",
              "    <tr style=\"text-align: right;\">\n",
              "      <th></th>\n",
              "      <th>Topic 0 words</th>\n",
              "      <th>Topic 0 weights</th>\n",
              "      <th>Topic 1 words</th>\n",
              "      <th>Topic 1 weights</th>\n",
              "      <th>Topic 2 words</th>\n",
              "      <th>Topic 2 weights</th>\n",
              "      <th>Topic 3 words</th>\n",
              "      <th>Topic 3 weights</th>\n",
              "      <th>Topic 4 words</th>\n",
              "      <th>Topic 4 weights</th>\n",
              "      <th>Topic 5 words</th>\n",
              "      <th>Topic 5 weights</th>\n",
              "    </tr>\n",
              "  </thead>\n",
              "  <tbody>\n",
              "    <tr>\n",
              "      <th>0</th>\n",
              "      <td>elevators</td>\n",
              "      <td>4.1</td>\n",
              "      <td>people</td>\n",
              "      <td>2.3</td>\n",
              "      <td>building</td>\n",
              "      <td>2.7</td>\n",
              "      <td>paper</td>\n",
              "      <td>2.2</td>\n",
              "      <td>soap</td>\n",
              "      <td>3.3</td>\n",
              "      <td>often</td>\n",
              "      <td>1.7</td>\n",
              "    </tr>\n",
              "    <tr>\n",
              "      <th>1</th>\n",
              "      <td>floor</td>\n",
              "      <td>3.2</td>\n",
              "      <td>stuck</td>\n",
              "      <td>1.6</td>\n",
              "      <td>could</td>\n",
              "      <td>2.5</td>\n",
              "      <td>cant</td>\n",
              "      <td>2.1</td>\n",
              "      <td>would</td>\n",
              "      <td>3.0</td>\n",
              "      <td>would</td>\n",
              "      <td>1.7</td>\n",
              "    </tr>\n",
              "    <tr>\n",
              "      <th>2</th>\n",
              "      <td>slow</td>\n",
              "      <td>2.9</td>\n",
              "      <td>cleaners</td>\n",
              "      <td>1.6</td>\n",
              "      <td>cold</td>\n",
              "      <td>2.3</td>\n",
              "      <td>washrooms</td>\n",
              "      <td>1.9</td>\n",
              "      <td>like</td>\n",
              "      <td>2.9</td>\n",
              "      <td>floor</td>\n",
              "      <td>1.7</td>\n",
              "    </tr>\n",
              "    <tr>\n",
              "      <th>3</th>\n",
              "      <td>need</td>\n",
              "      <td>2.3</td>\n",
              "      <td>clean</td>\n",
              "      <td>1.5</td>\n",
              "      <td>would</td>\n",
              "      <td>2.3</td>\n",
              "      <td>people</td>\n",
              "      <td>1.8</td>\n",
              "      <td>floor</td>\n",
              "      <td>2.9</td>\n",
              "      <td>work</td>\n",
              "      <td>1.5</td>\n",
              "    </tr>\n",
              "    <tr>\n",
              "      <th>4</th>\n",
              "      <td>one</td>\n",
              "      <td>2.2</td>\n",
              "      <td>elevators</td>\n",
              "      <td>1.4</td>\n",
              "      <td>revolving</td>\n",
              "      <td>2.1</td>\n",
              "      <td>floors</td>\n",
              "      <td>1.5</td>\n",
              "      <td>elevators</td>\n",
              "      <td>2.5</td>\n",
              "      <td>time</td>\n",
              "      <td>1.4</td>\n",
              "    </tr>\n",
              "  </tbody>\n",
              "</table>\n",
              "</div>"
            ],
            "text/plain": [
              "  Topic 0 words Topic 0 weights  ... Topic 5 words Topic 5 weights\n",
              "0     elevators             4.1  ...         often             1.7\n",
              "1         floor             3.2  ...         would             1.7\n",
              "2          slow             2.9  ...         floor             1.7\n",
              "3          need             2.3  ...          work             1.5\n",
              "4           one             2.2  ...          time             1.4\n",
              "\n",
              "[5 rows x 12 columns]"
            ]
          },
          "metadata": {
            "tags": []
          },
          "execution_count": 39
        }
      ]
    },
    {
      "cell_type": "markdown",
      "metadata": {
        "id": "W01Xl5JnfrPN",
        "colab_type": "text"
      },
      "source": [
        "QUICK NOTE Clearly the LDA algorithm doesn't work very well against short sentences less that 140 characters (aka tweets) For example, the word global warming comes up in almost every topic so maybe it should be added to the stopwords list Let's try an alternate model (NMF) in order to see if the outcome improves versus LDA"
      ]
    },
    {
      "cell_type": "markdown",
      "metadata": {
        "id": "jMyKdpR-f_MN",
        "colab_type": "text"
      },
      "source": [
        "## Topic modelling using the NMF (Non-negative Matrix Factorization) algorithm"
      ]
    },
    {
      "cell_type": "code",
      "metadata": {
        "id": "0NRsqqIYffZp",
        "colab_type": "code",
        "outputId": "12ec82e2-31c2-4763-8939-b0dc8ba12646",
        "colab": {
          "base_uri": "https://localhost:8080/",
          "height": 410
        }
      },
      "source": [
        "#%% Topic modelling using NMF (Non-negative Matrix Factorization) for thermal complaints\n",
        "number_of_topics = 6\n",
        "model_NMF_temp = NMF(n_components=number_of_topics, random_state=0, alpha=.01, l1_ratio=.9)\n",
        "model_NMF_temp.fit(tf_idf_temp)\n",
        "#apply this function to the model\n",
        "no_top_words = 10\n",
        "Topics_NMF_temp = display_topics(model_NMF_temp, tf_feature_names_temp, no_top_words) \n",
        "export_csv = Topics_NMF_temp.to_csv ('NMF_Temp.csv', index = None, header=True)   \n",
        "Topics_NMF_temp"
      ],
      "execution_count": 0,
      "outputs": [
        {
          "output_type": "execute_result",
          "data": {
            "text/html": [
              "<div>\n",
              "<style scoped>\n",
              "    .dataframe tbody tr th:only-of-type {\n",
              "        vertical-align: middle;\n",
              "    }\n",
              "\n",
              "    .dataframe tbody tr th {\n",
              "        vertical-align: top;\n",
              "    }\n",
              "\n",
              "    .dataframe thead th {\n",
              "        text-align: right;\n",
              "    }\n",
              "</style>\n",
              "<table border=\"1\" class=\"dataframe\">\n",
              "  <thead>\n",
              "    <tr style=\"text-align: right;\">\n",
              "      <th></th>\n",
              "      <th>Topic 0 words</th>\n",
              "      <th>Topic 0 weights</th>\n",
              "      <th>Topic 1 words</th>\n",
              "      <th>Topic 1 weights</th>\n",
              "      <th>Topic 2 words</th>\n",
              "      <th>Topic 2 weights</th>\n",
              "      <th>Topic 3 words</th>\n",
              "      <th>Topic 3 weights</th>\n",
              "      <th>Topic 4 words</th>\n",
              "      <th>Topic 4 weights</th>\n",
              "      <th>Topic 5 words</th>\n",
              "      <th>Topic 5 weights</th>\n",
              "    </tr>\n",
              "  </thead>\n",
              "  <tbody>\n",
              "    <tr>\n",
              "      <th>0</th>\n",
              "      <td>know</td>\n",
              "      <td>1.7</td>\n",
              "      <td>turn</td>\n",
              "      <td>1.5</td>\n",
              "      <td>cold</td>\n",
              "      <td>1.3</td>\n",
              "      <td>think</td>\n",
              "      <td>0.6</td>\n",
              "      <td>air</td>\n",
              "      <td>1.1</td>\n",
              "      <td>sure</td>\n",
              "      <td>1.1</td>\n",
              "    </tr>\n",
              "    <tr>\n",
              "      <th>1</th>\n",
              "      <td>dont</td>\n",
              "      <td>1.5</td>\n",
              "      <td>heat</td>\n",
              "      <td>1.2</td>\n",
              "      <td>ac</td>\n",
              "      <td>0.3</td>\n",
              "      <td>temperature</td>\n",
              "      <td>0.6</td>\n",
              "      <td>conditioning</td>\n",
              "      <td>0.8</td>\n",
              "      <td>im</td>\n",
              "      <td>0.8</td>\n",
              "    </tr>\n",
              "    <tr>\n",
              "      <th>2</th>\n",
              "      <td>really</td>\n",
              "      <td>0.4</td>\n",
              "      <td>ac</td>\n",
              "      <td>0.5</td>\n",
              "      <td>make</td>\n",
              "      <td>0.2</td>\n",
              "      <td>control</td>\n",
              "      <td>0.5</td>\n",
              "      <td>circulation</td>\n",
              "      <td>0.4</td>\n",
              "      <td>rectify</td>\n",
              "      <td>0.1</td>\n",
              "    </tr>\n",
              "    <tr>\n",
              "      <th>3</th>\n",
              "      <td>reason</td>\n",
              "      <td>0.2</td>\n",
              "      <td>sooner</td>\n",
              "      <td>0.2</td>\n",
              "      <td>warm</td>\n",
              "      <td>0.2</td>\n",
              "      <td>building</td>\n",
              "      <td>0.4</td>\n",
              "      <td>needs</td>\n",
              "      <td>0.3</td>\n",
              "      <td>difficult</td>\n",
              "      <td>0.1</td>\n",
              "    </tr>\n",
              "    <tr>\n",
              "      <th>4</th>\n",
              "      <td>idea</td>\n",
              "      <td>0.2</td>\n",
              "      <td>fall</td>\n",
              "      <td>0.2</td>\n",
              "      <td>really</td>\n",
              "      <td>0.2</td>\n",
              "      <td>would</td>\n",
              "      <td>0.3</td>\n",
              "      <td>summer</td>\n",
              "      <td>0.2</td>\n",
              "      <td>reason</td>\n",
              "      <td>0.1</td>\n",
              "    </tr>\n",
              "    <tr>\n",
              "      <th>5</th>\n",
              "      <td>say</td>\n",
              "      <td>0.1</td>\n",
              "      <td>think</td>\n",
              "      <td>0.1</td>\n",
              "      <td>get</td>\n",
              "      <td>0.2</td>\n",
              "      <td>office</td>\n",
              "      <td>0.3</td>\n",
              "      <td>increase</td>\n",
              "      <td>0.2</td>\n",
              "      <td>honest</td>\n",
              "      <td>0.1</td>\n",
              "    </tr>\n",
              "    <tr>\n",
              "      <th>6</th>\n",
              "      <td>problem</td>\n",
              "      <td>0.1</td>\n",
              "      <td>allow</td>\n",
              "      <td>0.1</td>\n",
              "      <td>hot</td>\n",
              "      <td>0.2</td>\n",
              "      <td>floor</td>\n",
              "      <td>0.2</td>\n",
              "      <td>better</td>\n",
              "      <td>0.2</td>\n",
              "      <td>operates</td>\n",
              "      <td>0.1</td>\n",
              "    </tr>\n",
              "    <tr>\n",
              "      <th>7</th>\n",
              "      <td>question</td>\n",
              "      <td>0.1</td>\n",
              "      <td>yet</td>\n",
              "      <td>0.1</td>\n",
              "      <td>winter</td>\n",
              "      <td>0.2</td>\n",
              "      <td>thermostats</td>\n",
              "      <td>0.2</td>\n",
              "      <td>good</td>\n",
              "      <td>0.2</td>\n",
              "      <td>maybe</td>\n",
              "      <td>0.1</td>\n",
              "    </tr>\n",
              "    <tr>\n",
              "      <th>8</th>\n",
              "      <td>anything</td>\n",
              "      <td>0.1</td>\n",
              "      <td>turned</td>\n",
              "      <td>0.1</td>\n",
              "      <td>sometimes</td>\n",
              "      <td>0.2</td>\n",
              "      <td>outside</td>\n",
              "      <td>0.2</td>\n",
              "      <td>turned</td>\n",
              "      <td>0.1</td>\n",
              "      <td>check</td>\n",
              "      <td>0.1</td>\n",
              "    </tr>\n",
              "    <tr>\n",
              "      <th>9</th>\n",
              "      <td>good</td>\n",
              "      <td>0.1</td>\n",
              "      <td>bit</td>\n",
              "      <td>0.1</td>\n",
              "      <td>warmer</td>\n",
              "      <td>0.1</td>\n",
              "      <td>could</td>\n",
              "      <td>0.2</td>\n",
              "      <td>less</td>\n",
              "      <td>0.1</td>\n",
              "      <td>regularly</td>\n",
              "      <td>0.1</td>\n",
              "    </tr>\n",
              "  </tbody>\n",
              "</table>\n",
              "</div>"
            ],
            "text/plain": [
              "  Topic 0 words Topic 0 weights  ... Topic 5 words Topic 5 weights\n",
              "0          know             1.7  ...          sure             1.1\n",
              "1          dont             1.5  ...            im             0.8\n",
              "2        really             0.4  ...       rectify             0.1\n",
              "3        reason             0.2  ...     difficult             0.1\n",
              "4          idea             0.2  ...        reason             0.1\n",
              "5           say             0.1  ...        honest             0.1\n",
              "6       problem             0.1  ...      operates             0.1\n",
              "7      question             0.1  ...         maybe             0.1\n",
              "8      anything             0.1  ...         check             0.1\n",
              "9          good             0.1  ...     regularly             0.1\n",
              "\n",
              "[10 rows x 12 columns]"
            ]
          },
          "metadata": {
            "tags": []
          },
          "execution_count": 43
        }
      ]
    },
    {
      "cell_type": "code",
      "metadata": {
        "id": "xCt_M1Rdffdw",
        "colab_type": "code",
        "outputId": "53e5ce5a-86a8-434e-ce15-afa726c28717",
        "colab": {
          "base_uri": "https://localhost:8080/",
          "height": 202
        }
      },
      "source": [
        "#Find the topics for each thermal survey response\n",
        "Survey_Classification_NMF_temp = pd.DataFrame(model_NMF_temp.transform(tf_idf_temp))\n",
        "Survey_Classification_NMF_temp['Survey response no.'] = np.arange(1,len(survey_resp_temp)+1,1)\n",
        "Survey_Classification_NMF_temp = Survey_Classification_NMF_temp[['Survey response no.', 0, 1, 2, 3, 4, 5]]\n",
        "Survey_Classification_NMF_temp[0:5]"
      ],
      "execution_count": 0,
      "outputs": [
        {
          "output_type": "execute_result",
          "data": {
            "text/html": [
              "<div>\n",
              "<style scoped>\n",
              "    .dataframe tbody tr th:only-of-type {\n",
              "        vertical-align: middle;\n",
              "    }\n",
              "\n",
              "    .dataframe tbody tr th {\n",
              "        vertical-align: top;\n",
              "    }\n",
              "\n",
              "    .dataframe thead th {\n",
              "        text-align: right;\n",
              "    }\n",
              "</style>\n",
              "<table border=\"1\" class=\"dataframe\">\n",
              "  <thead>\n",
              "    <tr style=\"text-align: right;\">\n",
              "      <th></th>\n",
              "      <th>Survey response no.</th>\n",
              "      <th>0</th>\n",
              "      <th>1</th>\n",
              "      <th>2</th>\n",
              "      <th>3</th>\n",
              "      <th>4</th>\n",
              "      <th>5</th>\n",
              "    </tr>\n",
              "  </thead>\n",
              "  <tbody>\n",
              "    <tr>\n",
              "      <th>0</th>\n",
              "      <td>1</td>\n",
              "      <td>0.0</td>\n",
              "      <td>0.000000</td>\n",
              "      <td>0.009180</td>\n",
              "      <td>0.092335</td>\n",
              "      <td>0.173449</td>\n",
              "      <td>0.044649</td>\n",
              "    </tr>\n",
              "    <tr>\n",
              "      <th>1</th>\n",
              "      <td>2</td>\n",
              "      <td>0.0</td>\n",
              "      <td>0.000000</td>\n",
              "      <td>0.000000</td>\n",
              "      <td>0.131085</td>\n",
              "      <td>0.000000</td>\n",
              "      <td>0.174318</td>\n",
              "    </tr>\n",
              "    <tr>\n",
              "      <th>2</th>\n",
              "      <td>3</td>\n",
              "      <td>0.0</td>\n",
              "      <td>0.199607</td>\n",
              "      <td>0.000000</td>\n",
              "      <td>0.000195</td>\n",
              "      <td>0.016081</td>\n",
              "      <td>0.000000</td>\n",
              "    </tr>\n",
              "    <tr>\n",
              "      <th>3</th>\n",
              "      <td>4</td>\n",
              "      <td>0.0</td>\n",
              "      <td>0.000000</td>\n",
              "      <td>0.082839</td>\n",
              "      <td>0.139084</td>\n",
              "      <td>0.015157</td>\n",
              "      <td>0.030467</td>\n",
              "    </tr>\n",
              "    <tr>\n",
              "      <th>4</th>\n",
              "      <td>5</td>\n",
              "      <td>0.0</td>\n",
              "      <td>0.000000</td>\n",
              "      <td>0.218285</td>\n",
              "      <td>0.060488</td>\n",
              "      <td>0.000000</td>\n",
              "      <td>0.067027</td>\n",
              "    </tr>\n",
              "  </tbody>\n",
              "</table>\n",
              "</div>"
            ],
            "text/plain": [
              "   Survey response no.    0         1         2         3         4         5\n",
              "0                    1  0.0  0.000000  0.009180  0.092335  0.173449  0.044649\n",
              "1                    2  0.0  0.000000  0.000000  0.131085  0.000000  0.174318\n",
              "2                    3  0.0  0.199607  0.000000  0.000195  0.016081  0.000000\n",
              "3                    4  0.0  0.000000  0.082839  0.139084  0.015157  0.030467\n",
              "4                    5  0.0  0.000000  0.218285  0.060488  0.000000  0.067027"
            ]
          },
          "metadata": {
            "tags": []
          },
          "execution_count": 31
        }
      ]
    },
    {
      "cell_type": "code",
      "metadata": {
        "id": "OTEL2gzwffhs",
        "colab_type": "code",
        "outputId": "f02fbdbb-dbf4-4473-a875-617cfc33d362",
        "colab": {
          "base_uri": "https://localhost:8080/",
          "height": 410
        }
      },
      "source": [
        "#%% Topic modelling using NMF (Non-negative Matrix Factorization) for maintenance complaints\n",
        "number_of_topics = 6\n",
        "model_NMF_maint = NMF(n_components=number_of_topics, random_state=0, alpha=.01, l1_ratio=.9)\n",
        "model_NMF_maint.fit(tf_idf_maint)\n",
        "#apply this function to the model\n",
        "no_top_words = 10\n",
        "Topics_NMF_maint = display_topics(model_NMF_maint, tf_feature_names_maint, no_top_words)  \n",
        "export_csv = Topics_NMF_maint.to_csv ('NMF_Maint.csv', index = None, header=True)   \n",
        "Topics_NMF_maint"
      ],
      "execution_count": 0,
      "outputs": [
        {
          "output_type": "execute_result",
          "data": {
            "text/html": [
              "<div>\n",
              "<style scoped>\n",
              "    .dataframe tbody tr th:only-of-type {\n",
              "        vertical-align: middle;\n",
              "    }\n",
              "\n",
              "    .dataframe tbody tr th {\n",
              "        vertical-align: top;\n",
              "    }\n",
              "\n",
              "    .dataframe thead th {\n",
              "        text-align: right;\n",
              "    }\n",
              "</style>\n",
              "<table border=\"1\" class=\"dataframe\">\n",
              "  <thead>\n",
              "    <tr style=\"text-align: right;\">\n",
              "      <th></th>\n",
              "      <th>Topic 0 words</th>\n",
              "      <th>Topic 0 weights</th>\n",
              "      <th>Topic 1 words</th>\n",
              "      <th>Topic 1 weights</th>\n",
              "      <th>Topic 2 words</th>\n",
              "      <th>Topic 2 weights</th>\n",
              "      <th>Topic 3 words</th>\n",
              "      <th>Topic 3 weights</th>\n",
              "      <th>Topic 4 words</th>\n",
              "      <th>Topic 4 weights</th>\n",
              "      <th>Topic 5 words</th>\n",
              "      <th>Topic 5 weights</th>\n",
              "    </tr>\n",
              "  </thead>\n",
              "  <tbody>\n",
              "    <tr>\n",
              "      <th>0</th>\n",
              "      <td>floor</td>\n",
              "      <td>0.7</td>\n",
              "      <td>elevators</td>\n",
              "      <td>1.2</td>\n",
              "      <td>going</td>\n",
              "      <td>0.7</td>\n",
              "      <td>stairs</td>\n",
              "      <td>0.7</td>\n",
              "      <td>cold</td>\n",
              "      <td>0.8</td>\n",
              "      <td>would</td>\n",
              "      <td>0.8</td>\n",
              "    </tr>\n",
              "    <tr>\n",
              "      <th>1</th>\n",
              "      <td>soap</td>\n",
              "      <td>0.4</td>\n",
              "      <td>slow</td>\n",
              "      <td>0.9</td>\n",
              "      <td>people</td>\n",
              "      <td>0.3</td>\n",
              "      <td>cant</td>\n",
              "      <td>0.6</td>\n",
              "      <td>water</td>\n",
              "      <td>0.7</td>\n",
              "      <td>nice</td>\n",
              "      <td>0.5</td>\n",
              "    </tr>\n",
              "    <tr>\n",
              "      <th>2</th>\n",
              "      <td>bathrooms</td>\n",
              "      <td>0.4</td>\n",
              "      <td>stuck</td>\n",
              "      <td>0.2</td>\n",
              "      <td>building</td>\n",
              "      <td>0.3</td>\n",
              "      <td>use</td>\n",
              "      <td>0.6</td>\n",
              "      <td>sometimes</td>\n",
              "      <td>0.2</td>\n",
              "      <td>food</td>\n",
              "      <td>0.4</td>\n",
              "    </tr>\n",
              "    <tr>\n",
              "      <th>3</th>\n",
              "      <td>often</td>\n",
              "      <td>0.4</td>\n",
              "      <td>get</td>\n",
              "      <td>0.2</td>\n",
              "      <td>im</td>\n",
              "      <td>0.3</td>\n",
              "      <td>go</td>\n",
              "      <td>0.5</td>\n",
              "      <td>temperature</td>\n",
              "      <td>0.2</td>\n",
              "      <td>like</td>\n",
              "      <td>0.3</td>\n",
              "    </tr>\n",
              "    <tr>\n",
              "      <th>4</th>\n",
              "      <td>washrooms</td>\n",
              "      <td>0.3</td>\n",
              "      <td>people</td>\n",
              "      <td>0.2</td>\n",
              "      <td>lrt</td>\n",
              "      <td>0.3</td>\n",
              "      <td>floors</td>\n",
              "      <td>0.3</td>\n",
              "      <td>always</td>\n",
              "      <td>0.2</td>\n",
              "      <td>building</td>\n",
              "      <td>0.2</td>\n",
              "    </tr>\n",
              "    <tr>\n",
              "      <th>5</th>\n",
              "      <td>need</td>\n",
              "      <td>0.3</td>\n",
              "      <td>door</td>\n",
              "      <td>0.1</td>\n",
              "      <td>know</td>\n",
              "      <td>0.2</td>\n",
              "      <td>take</td>\n",
              "      <td>0.3</td>\n",
              "      <td>summer</td>\n",
              "      <td>0.2</td>\n",
              "      <td>buy</td>\n",
              "      <td>0.2</td>\n",
              "    </tr>\n",
              "    <tr>\n",
              "      <th>6</th>\n",
              "      <td>clean</td>\n",
              "      <td>0.3</td>\n",
              "      <td>doors</td>\n",
              "      <td>0.1</td>\n",
              "      <td>dont</td>\n",
              "      <td>0.2</td>\n",
              "      <td>elevator</td>\n",
              "      <td>0.2</td>\n",
              "      <td>hot</td>\n",
              "      <td>0.2</td>\n",
              "      <td>say</td>\n",
              "      <td>0.2</td>\n",
              "    </tr>\n",
              "    <tr>\n",
              "      <th>7</th>\n",
              "      <td>bathroom</td>\n",
              "      <td>0.3</td>\n",
              "      <td>little</td>\n",
              "      <td>0.1</td>\n",
              "      <td>construction</td>\n",
              "      <td>0.2</td>\n",
              "      <td>swipe</td>\n",
              "      <td>0.2</td>\n",
              "      <td>pretty</td>\n",
              "      <td>0.1</td>\n",
              "      <td>renovations</td>\n",
              "      <td>0.2</td>\n",
              "    </tr>\n",
              "    <tr>\n",
              "      <th>8</th>\n",
              "      <td>washroom</td>\n",
              "      <td>0.2</td>\n",
              "      <td>time</td>\n",
              "      <td>0.1</td>\n",
              "      <td>long</td>\n",
              "      <td>0.2</td>\n",
              "      <td>locked</td>\n",
              "      <td>0.2</td>\n",
              "      <td>find</td>\n",
              "      <td>0.1</td>\n",
              "      <td>choices</td>\n",
              "      <td>0.1</td>\n",
              "    </tr>\n",
              "    <tr>\n",
              "      <th>9</th>\n",
              "      <td>enough</td>\n",
              "      <td>0.2</td>\n",
              "      <td>come</td>\n",
              "      <td>0.1</td>\n",
              "      <td>parking</td>\n",
              "      <td>0.2</td>\n",
              "      <td>walk</td>\n",
              "      <td>0.2</td>\n",
              "      <td>get</td>\n",
              "      <td>0.1</td>\n",
              "      <td>helpful</td>\n",
              "      <td>0.1</td>\n",
              "    </tr>\n",
              "  </tbody>\n",
              "</table>\n",
              "</div>"
            ],
            "text/plain": [
              "  Topic 0 words Topic 0 weights  ... Topic 5 words Topic 5 weights\n",
              "0         floor             0.7  ...         would             0.8\n",
              "1          soap             0.4  ...          nice             0.5\n",
              "2     bathrooms             0.4  ...          food             0.4\n",
              "3         often             0.4  ...          like             0.3\n",
              "4     washrooms             0.3  ...      building             0.2\n",
              "5          need             0.3  ...           buy             0.2\n",
              "6         clean             0.3  ...           say             0.2\n",
              "7      bathroom             0.3  ...   renovations             0.2\n",
              "8      washroom             0.2  ...       choices             0.1\n",
              "9        enough             0.2  ...       helpful             0.1\n",
              "\n",
              "[10 rows x 12 columns]"
            ]
          },
          "metadata": {
            "tags": []
          },
          "execution_count": 45
        }
      ]
    },
    {
      "cell_type": "code",
      "metadata": {
        "id": "hbyuOu8Lffl6",
        "colab_type": "code",
        "outputId": "5d16a5aa-ed3f-4e2e-ed4b-d17ce29a118d",
        "colab": {
          "base_uri": "https://localhost:8080/",
          "height": 202
        }
      },
      "source": [
        "#Find the topics for each survey response\n",
        "Survey_Classification_NMF_maint = pd.DataFrame(model_NMF_maint.transform(tf_idf_maint))\n",
        "Survey_Classification_NMF_maint['Survey response no.'] = np.arange(1,len(survey_resp_maint)+1,1)\n",
        "Survey_Classification_NMF_maint = Survey_Classification_NMF_maint[['Survey response no.', 0, 1, 2, 3, 4, 5]]\n",
        "Survey_Classification_NMF_maint[0:5]"
      ],
      "execution_count": 0,
      "outputs": [
        {
          "output_type": "execute_result",
          "data": {
            "text/html": [
              "<div>\n",
              "<style scoped>\n",
              "    .dataframe tbody tr th:only-of-type {\n",
              "        vertical-align: middle;\n",
              "    }\n",
              "\n",
              "    .dataframe tbody tr th {\n",
              "        vertical-align: top;\n",
              "    }\n",
              "\n",
              "    .dataframe thead th {\n",
              "        text-align: right;\n",
              "    }\n",
              "</style>\n",
              "<table border=\"1\" class=\"dataframe\">\n",
              "  <thead>\n",
              "    <tr style=\"text-align: right;\">\n",
              "      <th></th>\n",
              "      <th>Survey response no.</th>\n",
              "      <th>0</th>\n",
              "      <th>1</th>\n",
              "      <th>2</th>\n",
              "      <th>3</th>\n",
              "      <th>4</th>\n",
              "      <th>5</th>\n",
              "    </tr>\n",
              "  </thead>\n",
              "  <tbody>\n",
              "    <tr>\n",
              "      <th>0</th>\n",
              "      <td>1</td>\n",
              "      <td>0.000000</td>\n",
              "      <td>0.00000</td>\n",
              "      <td>0.157118</td>\n",
              "      <td>0.000000</td>\n",
              "      <td>0.000000</td>\n",
              "      <td>0.007499</td>\n",
              "    </tr>\n",
              "    <tr>\n",
              "      <th>1</th>\n",
              "      <td>2</td>\n",
              "      <td>0.020163</td>\n",
              "      <td>0.00491</td>\n",
              "      <td>0.001976</td>\n",
              "      <td>0.000000</td>\n",
              "      <td>0.037001</td>\n",
              "      <td>0.038464</td>\n",
              "    </tr>\n",
              "    <tr>\n",
              "      <th>2</th>\n",
              "      <td>3</td>\n",
              "      <td>0.000000</td>\n",
              "      <td>0.00000</td>\n",
              "      <td>0.156019</td>\n",
              "      <td>0.031922</td>\n",
              "      <td>0.016838</td>\n",
              "      <td>0.012033</td>\n",
              "    </tr>\n",
              "    <tr>\n",
              "      <th>3</th>\n",
              "      <td>4</td>\n",
              "      <td>0.171878</td>\n",
              "      <td>0.00000</td>\n",
              "      <td>0.000000</td>\n",
              "      <td>0.000000</td>\n",
              "      <td>0.059314</td>\n",
              "      <td>0.000683</td>\n",
              "    </tr>\n",
              "    <tr>\n",
              "      <th>4</th>\n",
              "      <td>5</td>\n",
              "      <td>0.267989</td>\n",
              "      <td>0.00000</td>\n",
              "      <td>0.000000</td>\n",
              "      <td>0.014281</td>\n",
              "      <td>0.001633</td>\n",
              "      <td>0.000000</td>\n",
              "    </tr>\n",
              "  </tbody>\n",
              "</table>\n",
              "</div>"
            ],
            "text/plain": [
              "   Survey response no.         0        1  ...         3         4         5\n",
              "0                    1  0.000000  0.00000  ...  0.000000  0.000000  0.007499\n",
              "1                    2  0.020163  0.00491  ...  0.000000  0.037001  0.038464\n",
              "2                    3  0.000000  0.00000  ...  0.031922  0.016838  0.012033\n",
              "3                    4  0.171878  0.00000  ...  0.000000  0.059314  0.000683\n",
              "4                    5  0.267989  0.00000  ...  0.014281  0.001633  0.000000\n",
              "\n",
              "[5 rows x 7 columns]"
            ]
          },
          "metadata": {
            "tags": []
          },
          "execution_count": 33
        }
      ]
    }
  ]
}